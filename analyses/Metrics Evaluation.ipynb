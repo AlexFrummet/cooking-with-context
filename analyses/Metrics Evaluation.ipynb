{
 "cells": [
  {
   "cell_type": "markdown",
   "id": "457f2c77-3f83-4a76-b71d-2f56e4fa2912",
   "metadata": {},
   "source": [
    "# Metrics Evaluation"
   ]
  },
  {
   "cell_type": "code",
   "execution_count": 494,
   "id": "5ebed0e6-82b8-4d42-b2b9-ee32d958a182",
   "metadata": {},
   "outputs": [
    {
     "name": "stdout",
     "output_type": "stream",
     "text": [
      "/Users/alexanderfrummet/Documents/GitHub/QookAExperiments/context_representation_experiment/logs\n"
     ]
    }
   ],
   "source": [
    "%cd logs/\n"
   ]
  },
  {
   "cell_type": "code",
   "execution_count": 2,
   "id": "ed6f0a51-34e7-4d37-8760-86db1daf89b4",
   "metadata": {
    "tags": []
   },
   "outputs": [
    {
     "name": "stdout",
     "output_type": "stream",
     "text": [
      "Requirement already satisfied: pingouin in /Applications/anaconda3/envs/nlp_env/lib/python3.9/site-packages (0.5.3)\n",
      "Requirement already satisfied: matplotlib>=3.0.2 in /Applications/anaconda3/envs/nlp_env/lib/python3.9/site-packages (from pingouin) (3.6.2)\n",
      "Requirement already satisfied: scikit-learn in /Applications/anaconda3/envs/nlp_env/lib/python3.9/site-packages (from pingouin) (0.24.2)\n",
      "Requirement already satisfied: scipy>=1.7 in /Applications/anaconda3/envs/nlp_env/lib/python3.9/site-packages (from pingouin) (1.10.1)\n",
      "Requirement already satisfied: pandas-flavor>=0.2.0 in /Applications/anaconda3/envs/nlp_env/lib/python3.9/site-packages (from pingouin) (0.6.0)\n",
      "Requirement already satisfied: statsmodels>=0.13 in /Applications/anaconda3/envs/nlp_env/lib/python3.9/site-packages (from pingouin) (0.13.2)\n",
      "Requirement already satisfied: outdated in /Applications/anaconda3/envs/nlp_env/lib/python3.9/site-packages (from pingouin) (0.2.2)\n",
      "Requirement already satisfied: pandas>=1.0 in /Applications/anaconda3/envs/nlp_env/lib/python3.9/site-packages (from pingouin) (2.1.3)\n",
      "Requirement already satisfied: tabulate in /Applications/anaconda3/envs/nlp_env/lib/python3.9/site-packages (from pingouin) (0.8.9)\n",
      "Requirement already satisfied: numpy>=1.19 in /Applications/anaconda3/envs/nlp_env/lib/python3.9/site-packages (from pingouin) (1.23.5)\n",
      "Requirement already satisfied: seaborn>=0.11 in /Applications/anaconda3/envs/nlp_env/lib/python3.9/site-packages (from pingouin) (0.11.2)\n",
      "Requirement already satisfied: python-dateutil>=2.7 in /Applications/anaconda3/envs/nlp_env/lib/python3.9/site-packages (from matplotlib>=3.0.2->pingouin) (2.8.2)\n",
      "Requirement already satisfied: contourpy>=1.0.1 in /Applications/anaconda3/envs/nlp_env/lib/python3.9/site-packages (from matplotlib>=3.0.2->pingouin) (1.0.6)\n",
      "Requirement already satisfied: pillow>=6.2.0 in /Applications/anaconda3/envs/nlp_env/lib/python3.9/site-packages (from matplotlib>=3.0.2->pingouin) (9.2.0)\n",
      "Requirement already satisfied: cycler>=0.10 in /Applications/anaconda3/envs/nlp_env/lib/python3.9/site-packages (from matplotlib>=3.0.2->pingouin) (0.11.0)\n",
      "Requirement already satisfied: packaging>=20.0 in /Applications/anaconda3/envs/nlp_env/lib/python3.9/site-packages (from matplotlib>=3.0.2->pingouin) (21.3)\n",
      "Requirement already satisfied: fonttools>=4.22.0 in /Applications/anaconda3/envs/nlp_env/lib/python3.9/site-packages (from matplotlib>=3.0.2->pingouin) (4.28.5)\n",
      "Requirement already satisfied: pyparsing>=2.2.1 in /Applications/anaconda3/envs/nlp_env/lib/python3.9/site-packages (from matplotlib>=3.0.2->pingouin) (3.0.9)\n",
      "Requirement already satisfied: kiwisolver>=1.0.1 in /Applications/anaconda3/envs/nlp_env/lib/python3.9/site-packages (from matplotlib>=3.0.2->pingouin) (1.3.2)\n",
      "Requirement already satisfied: tzdata>=2022.1 in /Applications/anaconda3/envs/nlp_env/lib/python3.9/site-packages (from pandas>=1.0->pingouin) (2023.3)\n",
      "Requirement already satisfied: pytz>=2020.1 in /Applications/anaconda3/envs/nlp_env/lib/python3.9/site-packages (from pandas>=1.0->pingouin) (2022.1)\n",
      "Requirement already satisfied: xarray in /Applications/anaconda3/envs/nlp_env/lib/python3.9/site-packages (from pandas-flavor>=0.2.0->pingouin) (2023.11.0)\n",
      "Requirement already satisfied: patsy>=0.5.2 in /Applications/anaconda3/envs/nlp_env/lib/python3.9/site-packages (from statsmodels>=0.13->pingouin) (0.5.2)\n",
      "Requirement already satisfied: requests in /Applications/anaconda3/envs/nlp_env/lib/python3.9/site-packages (from outdated->pingouin) (2.31.0)\n",
      "Requirement already satisfied: littleutils in /Applications/anaconda3/envs/nlp_env/lib/python3.9/site-packages (from outdated->pingouin) (0.2.2)\n",
      "Requirement already satisfied: setuptools>=44 in /Applications/anaconda3/envs/nlp_env/lib/python3.9/site-packages (from outdated->pingouin) (63.4.1)\n",
      "Requirement already satisfied: threadpoolctl>=2.0.0 in /Applications/anaconda3/envs/nlp_env/lib/python3.9/site-packages (from scikit-learn->pingouin) (3.1.0)\n",
      "Requirement already satisfied: joblib>=0.11 in /Applications/anaconda3/envs/nlp_env/lib/python3.9/site-packages (from scikit-learn->pingouin) (1.1.0)\n",
      "Requirement already satisfied: six in /Applications/anaconda3/envs/nlp_env/lib/python3.9/site-packages (from patsy>=0.5.2->statsmodels>=0.13->pingouin) (1.16.0)\n",
      "Requirement already satisfied: certifi>=2017.4.17 in /Applications/anaconda3/envs/nlp_env/lib/python3.9/site-packages (from requests->outdated->pingouin) (2022.12.7)\n",
      "Requirement already satisfied: idna<4,>=2.5 in /Applications/anaconda3/envs/nlp_env/lib/python3.9/site-packages (from requests->outdated->pingouin) (3.4)\n",
      "Requirement already satisfied: urllib3<3,>=1.21.1 in /Applications/anaconda3/envs/nlp_env/lib/python3.9/site-packages (from requests->outdated->pingouin) (1.26.11)\n",
      "Requirement already satisfied: charset-normalizer<4,>=2 in /Applications/anaconda3/envs/nlp_env/lib/python3.9/site-packages (from requests->outdated->pingouin) (2.0.4)\n",
      "Requirement already satisfied: scikit-posthocs in /Applications/anaconda3/envs/nlp_env/lib/python3.9/site-packages (0.7.0)\n",
      "Requirement already satisfied: statsmodels in /Applications/anaconda3/envs/nlp_env/lib/python3.9/site-packages (from scikit-posthocs) (0.13.2)\n",
      "Requirement already satisfied: matplotlib in /Applications/anaconda3/envs/nlp_env/lib/python3.9/site-packages (from scikit-posthocs) (3.6.2)\n",
      "Requirement already satisfied: seaborn in /Applications/anaconda3/envs/nlp_env/lib/python3.9/site-packages (from scikit-posthocs) (0.11.2)\n",
      "Requirement already satisfied: scipy in /Applications/anaconda3/envs/nlp_env/lib/python3.9/site-packages (from scikit-posthocs) (1.10.1)\n",
      "Requirement already satisfied: pandas>=0.20.0 in /Applications/anaconda3/envs/nlp_env/lib/python3.9/site-packages (from scikit-posthocs) (2.1.3)\n",
      "Requirement already satisfied: numpy in /Applications/anaconda3/envs/nlp_env/lib/python3.9/site-packages (from scikit-posthocs) (1.23.5)\n",
      "Requirement already satisfied: python-dateutil>=2.8.2 in /Applications/anaconda3/envs/nlp_env/lib/python3.9/site-packages (from pandas>=0.20.0->scikit-posthocs) (2.8.2)\n",
      "Requirement already satisfied: tzdata>=2022.1 in /Applications/anaconda3/envs/nlp_env/lib/python3.9/site-packages (from pandas>=0.20.0->scikit-posthocs) (2023.3)\n",
      "Requirement already satisfied: pytz>=2020.1 in /Applications/anaconda3/envs/nlp_env/lib/python3.9/site-packages (from pandas>=0.20.0->scikit-posthocs) (2022.1)\n",
      "Requirement already satisfied: fonttools>=4.22.0 in /Applications/anaconda3/envs/nlp_env/lib/python3.9/site-packages (from matplotlib->scikit-posthocs) (4.28.5)\n",
      "Requirement already satisfied: packaging>=20.0 in /Applications/anaconda3/envs/nlp_env/lib/python3.9/site-packages (from matplotlib->scikit-posthocs) (21.3)\n",
      "Requirement already satisfied: pillow>=6.2.0 in /Applications/anaconda3/envs/nlp_env/lib/python3.9/site-packages (from matplotlib->scikit-posthocs) (9.2.0)\n",
      "Requirement already satisfied: cycler>=0.10 in /Applications/anaconda3/envs/nlp_env/lib/python3.9/site-packages (from matplotlib->scikit-posthocs) (0.11.0)\n",
      "Requirement already satisfied: pyparsing>=2.2.1 in /Applications/anaconda3/envs/nlp_env/lib/python3.9/site-packages (from matplotlib->scikit-posthocs) (3.0.9)\n",
      "Requirement already satisfied: kiwisolver>=1.0.1 in /Applications/anaconda3/envs/nlp_env/lib/python3.9/site-packages (from matplotlib->scikit-posthocs) (1.3.2)\n",
      "Requirement already satisfied: contourpy>=1.0.1 in /Applications/anaconda3/envs/nlp_env/lib/python3.9/site-packages (from matplotlib->scikit-posthocs) (1.0.6)\n",
      "Requirement already satisfied: patsy>=0.5.2 in /Applications/anaconda3/envs/nlp_env/lib/python3.9/site-packages (from statsmodels->scikit-posthocs) (0.5.2)\n",
      "Requirement already satisfied: six in /Applications/anaconda3/envs/nlp_env/lib/python3.9/site-packages (from patsy>=0.5.2->statsmodels->scikit-posthocs) (1.16.0)\n"
     ]
    }
   ],
   "source": [
    "!pip install pingouin\n",
    "!pip install scikit-posthocs"
   ]
  },
  {
   "cell_type": "code",
   "execution_count": 165,
   "id": "dbeb8d71-4b8d-4c09-9073-0a13b4b6f179",
   "metadata": {},
   "outputs": [],
   "source": [
    "import os\n",
    "import pandas as pd\n",
    "from pprint import pprint\n",
    "import numpy as np\n",
    "import pingouin as pg\n",
    "import pandas as pd\n",
    "import seaborn as sns\n",
    "import matplotlib.pyplot as plt\n",
    "from scipy import stats\n",
    "import scikit_posthocs as sp\n",
    "import statsmodels.api as sa\n"
   ]
  },
  {
   "cell_type": "code",
   "execution_count": 5,
   "id": "1cd2f6ce-cab8-43ab-8bfb-2cefa31ba9d1",
   "metadata": {},
   "outputs": [],
   "source": [
    "def create_metrics_table(base_dir, need_type, document_rep, query_rep, context_window, model_type):\n",
    "    path = os.path.join(base_dir, need_type, document_rep, query_rep, context_window, model_type)\n",
    "    \n",
    "    overall_metrics_df = pd.DataFrame()# Dictionary to store results for each fold\n",
    "    \n",
    "    for fold_folder in os.listdir(path):\n",
    "        fold_path = os.path.join(path, fold_folder)\n",
    "        \n",
    "        version_folders = os.listdir(fold_path)\n",
    "        version_folders = [folder for folder in version_folders if folder.startswith('version_') and folder != '.ipynb_checkpoints']\n",
    "        version_folders.sort(key=lambda x: int(x.split('_')[1]) if x.split('_')[1].isdigit() else -1)  # Sort by version number or keep non-numeric names at the end\n",
    "        \n",
    "        if not version_folders:\n",
    "            continue  # Skip if no valid version folders\n",
    "        \n",
    "        latest_version_folder = version_folders[-1]\n",
    "        version_path = os.path.join(fold_path, latest_version_folder)\n",
    "\n",
    "        metrics_file = os.path.join(version_path, 'test_qa_metrics.csv')\n",
    "        \n",
    "        if os.path.isfile(metrics_file):\n",
    "            metrics_df = pd.read_csv(metrics_file)\n",
    "            overall_metrics_df = pd.concat([overall_metrics_df, metrics_df], ignore_index=True)\n",
    "\n",
    "    overall_metrics_df['document_representation'] = document_rep\n",
    "    overall_metrics_df['context_window'] = context_window\n",
    "    overall_metrics_df['query_rep'] = query_rep\n",
    "    overall_metrics_df['model_type'] = model_type\n",
    "    return overall_metrics_df\n"
   ]
  },
  {
   "cell_type": "code",
   "execution_count": 472,
   "id": "e91c4303",
   "metadata": {},
   "outputs": [],
   "source": [
    "def compare_models(*columns, model_names=None):\n",
    "    if len(columns) != len(model_names):\n",
    "        raise ValueError(\"Number of columns and model names must match.\")\n",
    "    \n",
    "    # Perform one-way ANOVA test\n",
    "    all_rep = stats.f_oneway(*columns)\n",
    "    display(all_rep)\n",
    "\n",
    "    # Create DataFrame\n",
    "    data = {model_names[i]: column for i, column in enumerate(columns)}\n",
    "    all_rep_df = pd.DataFrame(data)\n",
    "    display(all_rep_df.describe())\n",
    "\n",
    "    # Reshape DataFrame for post-hoc analysis\n",
    "    all_rep_df = pd.melt(all_rep_df, var_name='model_type', value_name='value')\n",
    "\n",
    "    # Perform post-hoc Tukey's test\n",
    "    all_rep_posthoc = sp.posthoc_ttest(all_rep_df, val_col='value', group_col='model_type', p_adjust=\"holm\")\n",
    "    display(all_rep_posthoc)"
   ]
  },
  {
   "cell_type": "markdown",
   "id": "96dea958",
   "metadata": {},
   "source": [
    "# Evaluating the QookA Dataset\n",
    "In this section, the training results on the QookA dataset are reviewed and statistically analysed.\n"
   ]
  },
  {
   "cell_type": "markdown",
   "id": "c24edb99",
   "metadata": {},
   "source": [
    "## QookA: All Needs"
   ]
  },
  {
   "cell_type": "code",
   "execution_count": 495,
   "id": "1ad2f01b",
   "metadata": {},
   "outputs": [],
   "source": [
    "all_needs_qooka_t5_metrics = create_metrics_table('all_needs','qooka',  'document','prepend_context','n_0','t5')\n",
    "all_needs_qooka_monoqa_node_metrics = create_metrics_table('all_needs','qooka','node','prepend_context','n_0','monoqa')\n",
    "all_needs_qooka_monoqa_step_metrics = create_metrics_table('all_needs','qooka','step','prepend_context','n_0','monoqa')\n",
    "\n",
    "all_needs_qooka_t5_prepend_n2_metrics = create_metrics_table('all_needs','qooka', 'document','prepend_context','n_2','t5')\n",
    "all_needs_qooka_monoqa_prepend_n2_step_metrics = create_metrics_table('all_needs','qooka', 'step','prepend_context','n_2','monoqa')\n",
    "all_needs_qooka_monoqa_prepend_n2_node_metrics = create_metrics_table('all_needs','qooka', 'node', 'prepend_context', 'n_2', 'monoqa')\n",
    "\n",
    "all_needs_qooka_t5_quretec_n2_metrics = create_metrics_table('all_needs','qooka','document','quretec_expansion','n_2','t5')\n",
    "all_needs_qooka_monoqa_quretec_n2_step_metrics = create_metrics_table('all_needs','qooka','step','quretec_expansion','n_2','monoqa')\n",
    "all_needs_qooka_monoqa_quretec_n2_node_metrics = create_metrics_table('all_needs','qooka','node', 'quretec_expansion', 'n_2', 'monoqa')\n",
    "\n",
    "all_needs_qooka_t5_canard_n2_metrics = create_metrics_table('all_needs','qooka', 'document','canard_rewritten','n_2','t5')\n",
    "all_needs_qooka_monoqa_canard_n2_step_metrics = create_metrics_table('all_needs','qooka', 'step','canard_rewritten','n_2','monoqa')\n",
    "all_needs_qooka_monoqa_canard_n2_node_metrics = create_metrics_table('all_needs','qooka',  'node', 'canard_rewritten', 'n_2', 'monoqa')\n",
    "\n",
    "all_needs_qooka_t5_prepend_n3_metrics = create_metrics_table('all_needs','qooka', 'document','prepend_context','n_3','t5')\n",
    "all_needs_qooka_monoqa_prepend_n3_step_metrics = create_metrics_table('all_needs','qooka', 'step','prepend_context','n_3','monoqa')\n",
    "all_needs_qooka_monoqa_prepend_n3_node_metrics = create_metrics_table('all_needs','qooka',  'node', 'prepend_context', 'n_3', 'monoqa')\n",
    "\n",
    "all_needs_qooka_t5_quretec_n3_metrics = create_metrics_table('all_needs','qooka', 'document','quretec_expansion','n_3','t5')\n",
    "all_needs_qooka_monoqa_quretec_n3_step_metrics = create_metrics_table('all_needs','qooka','step','quretec_expansion','n_3','monoqa')\n",
    "all_needs_qooka_monoqa_quretec_n3_node_metrics = create_metrics_table('all_needs','qooka', 'node', 'quretec_expansion', 'n_3', 'monoqa')\n",
    "\n",
    "all_needs_qooka_t5_canard_n3_metrics = create_metrics_table('all_needs','qooka', 'document','canard_rewritten','n_3','t5')\n",
    "all_needs_qooka_monoqa_canard_n3_step_metrics = create_metrics_table('all_needs','qooka', 'step','canard_rewritten','n_3','monoqa')\n",
    "all_needs_qooka_monoqa_canard_n3_node_metrics = create_metrics_table('all_needs','qooka',  'node', 'canard_rewritten', 'n_3', 'monoqa')\n",
    "\n",
    "all_needs_qooka_t5_prepend_nall_metrics = create_metrics_table('all_needs','qooka', 'document','prepend_context','n_all','t5')\n",
    "all_needs_qooka_monoqa_prepend_nall_step_metrics = create_metrics_table('all_needs','qooka', 'step','prepend_context','n_all','monoqa')\n",
    "all_needs_qooka_monoqa_prepend_nall_node_metrics = create_metrics_table('all_needs','qooka', 'node','prepend_context','n_all','monoqa')\n",
    "\n",
    "all_needs_qooka_t5_quretec_nall_metrics = create_metrics_table('all_needs','qooka', 'document','quretec_expansion','n_all','t5')\n",
    "all_needs_qooka_monoqa_quretec_nall_step_metrics = create_metrics_table('all_needs','qooka', 'step','quretec_expansion','n_all','monoqa')\n",
    "all_needs_qooka_monoqa_quretec_nall_node_metrics = create_metrics_table('all_needs','qooka', 'node','quretec_expansion','n_all','monoqa')\n",
    "\n",
    "all_needs_qooka_t5_canard_nall_metrics = create_metrics_table('all_needs','qooka', 'document','canard_rewritten','n_all','t5')\n",
    "all_needs_qooka_monoqa_canard_nall_step_metrics = create_metrics_table('all_needs','qooka', 'step','canard_rewritten','n_all','monoqa')\n",
    "all_needs_qooka_monoqa_canard_nall_node_metrics = create_metrics_table('all_needs','qooka', 'node', 'canard_rewritten', 'n_all', 'monoqa')\n",
    "\n",
    "all_needs_qooka_fid_prepend_n0_step_metrics = create_metrics_table('all_needs', 'qooka', 'step', 'prepend_context', 'n_0', 'fid')\n",
    "all_needs_qooka_fid_prepend_n2_step_metrics = create_metrics_table('all_needs', 'qooka', 'step', 'prepend_context', 'n_2', 'fid')\n",
    "all_needs_qooka_fid_prepend_n3_step_metrics = create_metrics_table('all_needs', 'qooka', 'step', 'prepend_context', 'n_3', 'fid')\n",
    "all_needs_qooka_fid_prepend_nall_step_metrics = create_metrics_table('all_needs', 'qooka', 'step', 'prepend_context', 'n_all', 'fid')\n",
    "\n",
    "all_needs_qooka_fid_prepend_n0_node_metrics = create_metrics_table('all_needs', 'qooka', 'node', 'prepend_context', 'n_0', 'fid')\n",
    "all_needs_qooka_fid_prepend_n2_node_metrics = create_metrics_table('all_needs', 'qooka', 'node', 'prepend_context', 'n_2', 'fid')\n",
    "all_needs_qooka_fid_prepend_n3_node_metrics = create_metrics_table('all_needs', 'qooka', 'node', 'prepend_context', 'n_3', 'fid')\n",
    "all_needs_qooka_fid_prepend_nall_node_metrics = create_metrics_table('all_needs', 'qooka', 'node', 'prepend_context', 'n_all', 'fid')\n",
    "\n"
   ]
  },
  {
   "cell_type": "code",
   "execution_count": 496,
   "id": "89dd685b",
   "metadata": {},
   "outputs": [],
   "source": [
    "# Assuming create_metrics_table returns a DataFrame with 'test_qa_answer_f1' column\n",
    "# Adjust column names accordingly if needed\n",
    "\n",
    "# Concatenate the dataframes for n2 and n3 conditions\n",
    "n0_metrics = pd.concat([all_needs_qooka_t5_metrics, all_needs_qooka_monoqa_step_metrics, all_needs_qooka_monoqa_node_metrics])\n",
    "n2_metrics = pd.concat([\n",
    "    all_needs_qooka_t5_prepend_n2_metrics, all_needs_qooka_monoqa_prepend_n2_step_metrics, all_needs_qooka_monoqa_prepend_n2_node_metrics,\n",
    "    all_needs_qooka_t5_quretec_n2_metrics, all_needs_qooka_monoqa_quretec_n2_step_metrics, all_needs_qooka_monoqa_quretec_n2_node_metrics,\n",
    "    all_needs_qooka_t5_canard_n2_metrics, all_needs_qooka_monoqa_canard_n2_step_metrics, all_needs_qooka_monoqa_canard_n2_node_metrics,\n",
    "])\n",
    "\n",
    "n3_metrics = pd.concat([\n",
    "    all_needs_qooka_t5_prepend_n3_metrics, all_needs_qooka_monoqa_prepend_n3_step_metrics, all_needs_qooka_monoqa_prepend_n3_node_metrics,\n",
    "    all_needs_qooka_t5_quretec_n3_metrics,all_needs_qooka_monoqa_quretec_n3_step_metrics,all_needs_qooka_monoqa_quretec_n3_node_metrics,\n",
    "    all_needs_qooka_t5_canard_n3_metrics, all_needs_qooka_monoqa_canard_n3_step_metrics, all_needs_qooka_monoqa_canard_n3_node_metrics,\n",
    "])\n",
    "\n",
    "nall_metrics = pd.concat([\n",
    "    all_needs_qooka_t5_prepend_nall_metrics, all_needs_qooka_monoqa_prepend_nall_step_metrics, all_needs_qooka_monoqa_prepend_nall_node_metrics,\n",
    "    all_needs_qooka_t5_quretec_nall_metrics, all_needs_qooka_monoqa_quretec_nall_step_metrics, all_needs_qooka_monoqa_quretec_nall_node_metrics,\n",
    "    all_needs_qooka_t5_canard_nall_metrics, all_needs_qooka_monoqa_canard_nall_step_metrics, all_needs_qooka_monoqa_canard_nall_node_metrics\n",
    "])\n",
    "\n",
    "# Combine the data for plotting\n",
    "all_needs_qooka_combined_data = pd.concat([n0_metrics, n2_metrics, n3_metrics, nall_metrics])"
   ]
  },
  {
   "cell_type": "markdown",
   "id": "0a662b39",
   "metadata": {},
   "source": [
    "### Document Representation"
   ]
  },
  {
   "cell_type": "code",
   "execution_count": 497,
   "id": "ee8e5051",
   "metadata": {},
   "outputs": [
    {
     "data": {
      "text/html": [
       "<style type=\"text/css\">\n",
       "#T_85b49_row0_col0, #T_85b49_row0_col1 {\n",
       "  background-color: #eb6134;\n",
       "}\n",
       "</style>\n",
       "<table id=\"T_85b49\">\n",
       "  <thead>\n",
       "    <tr>\n",
       "      <th class=\"blank\" >&nbsp;</th>\n",
       "      <th class=\"blank level0\" >&nbsp;</th>\n",
       "      <th id=\"T_85b49_level0_col0\" class=\"col_heading level0 col0\" >test_qa_answer_f1</th>\n",
       "      <th id=\"T_85b49_level0_col1\" class=\"col_heading level0 col1\" >test_qa_sas</th>\n",
       "    </tr>\n",
       "    <tr>\n",
       "      <th class=\"index_name level0\" >context_window</th>\n",
       "      <th class=\"index_name level1\" >query_rep</th>\n",
       "      <th class=\"blank col0\" >&nbsp;</th>\n",
       "      <th class=\"blank col1\" >&nbsp;</th>\n",
       "    </tr>\n",
       "  </thead>\n",
       "  <tbody>\n",
       "    <tr>\n",
       "      <th id=\"T_85b49_level0_row0\" class=\"row_heading level0 row0\" >n_0</th>\n",
       "      <th id=\"T_85b49_level1_row0\" class=\"row_heading level1 row0\" >prepend_context</th>\n",
       "      <td id=\"T_85b49_row0_col0\" class=\"data row0 col0\" >0.501728</td>\n",
       "      <td id=\"T_85b49_row0_col1\" class=\"data row0 col1\" >0.573129</td>\n",
       "    </tr>\n",
       "    <tr>\n",
       "      <th id=\"T_85b49_level0_row1\" class=\"row_heading level0 row1\" rowspan=\"3\">n_2</th>\n",
       "      <th id=\"T_85b49_level1_row1\" class=\"row_heading level1 row1\" >canard_rewritten</th>\n",
       "      <td id=\"T_85b49_row1_col0\" class=\"data row1 col0\" >0.494195</td>\n",
       "      <td id=\"T_85b49_row1_col1\" class=\"data row1 col1\" >0.564435</td>\n",
       "    </tr>\n",
       "    <tr>\n",
       "      <th id=\"T_85b49_level1_row2\" class=\"row_heading level1 row2\" >prepend_context</th>\n",
       "      <td id=\"T_85b49_row2_col0\" class=\"data row2 col0\" >0.494657</td>\n",
       "      <td id=\"T_85b49_row2_col1\" class=\"data row2 col1\" >0.567226</td>\n",
       "    </tr>\n",
       "    <tr>\n",
       "      <th id=\"T_85b49_level1_row3\" class=\"row_heading level1 row3\" >quretec_expansion</th>\n",
       "      <td id=\"T_85b49_row3_col0\" class=\"data row3 col0\" >0.501352</td>\n",
       "      <td id=\"T_85b49_row3_col1\" class=\"data row3 col1\" >0.571228</td>\n",
       "    </tr>\n",
       "    <tr>\n",
       "      <th id=\"T_85b49_level0_row4\" class=\"row_heading level0 row4\" rowspan=\"3\">n_3</th>\n",
       "      <th id=\"T_85b49_level1_row4\" class=\"row_heading level1 row4\" >canard_rewritten</th>\n",
       "      <td id=\"T_85b49_row4_col0\" class=\"data row4 col0\" >0.494609</td>\n",
       "      <td id=\"T_85b49_row4_col1\" class=\"data row4 col1\" >0.563598</td>\n",
       "    </tr>\n",
       "    <tr>\n",
       "      <th id=\"T_85b49_level1_row5\" class=\"row_heading level1 row5\" >prepend_context</th>\n",
       "      <td id=\"T_85b49_row5_col0\" class=\"data row5 col0\" >0.488402</td>\n",
       "      <td id=\"T_85b49_row5_col1\" class=\"data row5 col1\" >0.564629</td>\n",
       "    </tr>\n",
       "    <tr>\n",
       "      <th id=\"T_85b49_level1_row6\" class=\"row_heading level1 row6\" >quretec_expansion</th>\n",
       "      <td id=\"T_85b49_row6_col0\" class=\"data row6 col0\" >0.498620</td>\n",
       "      <td id=\"T_85b49_row6_col1\" class=\"data row6 col1\" >0.571733</td>\n",
       "    </tr>\n",
       "    <tr>\n",
       "      <th id=\"T_85b49_level0_row7\" class=\"row_heading level0 row7\" rowspan=\"3\">n_all</th>\n",
       "      <th id=\"T_85b49_level1_row7\" class=\"row_heading level1 row7\" >canard_rewritten</th>\n",
       "      <td id=\"T_85b49_row7_col0\" class=\"data row7 col0\" >0.490039</td>\n",
       "      <td id=\"T_85b49_row7_col1\" class=\"data row7 col1\" >0.558412</td>\n",
       "    </tr>\n",
       "    <tr>\n",
       "      <th id=\"T_85b49_level1_row8\" class=\"row_heading level1 row8\" >prepend_context</th>\n",
       "      <td id=\"T_85b49_row8_col0\" class=\"data row8 col0\" >0.336421</td>\n",
       "      <td id=\"T_85b49_row8_col1\" class=\"data row8 col1\" >0.428706</td>\n",
       "    </tr>\n",
       "    <tr>\n",
       "      <th id=\"T_85b49_level1_row9\" class=\"row_heading level1 row9\" >quretec_expansion</th>\n",
       "      <td id=\"T_85b49_row9_col0\" class=\"data row9 col0\" >0.498615</td>\n",
       "      <td id=\"T_85b49_row9_col1\" class=\"data row9 col1\" >0.571868</td>\n",
       "    </tr>\n",
       "  </tbody>\n",
       "</table>\n"
      ],
      "text/plain": [
       "<pandas.io.formats.style.Styler at 0x7f7adb2a59a0>"
      ]
     },
     "execution_count": 497,
     "metadata": {},
     "output_type": "execute_result"
    }
   ],
   "source": [
    "all_needs_qooka_document_comparison = all_needs_qooka_combined_data[all_needs_qooka_combined_data['document_representation'] == 'document']\n",
    "all_needs_qooka_document_comparison.groupby(['context_window', 'query_rep']).mean(numeric_only=True).loc[:,['test_qa_answer_f1','test_qa_sas']].style.highlight_max(color='#eb6134')\n"
   ]
  },
  {
   "cell_type": "markdown",
   "id": "9ca74b98",
   "metadata": {},
   "source": [
    "### Step Representation\n",
    "#### MonoQA"
   ]
  },
  {
   "cell_type": "code",
   "execution_count": 498,
   "id": "d0086c1b",
   "metadata": {},
   "outputs": [
    {
     "data": {
      "text/html": [
       "<style type=\"text/css\">\n",
       "#T_2968a_row2_col0, #T_2968a_row2_col1 {\n",
       "  background-color: #eb6134;\n",
       "}\n",
       "</style>\n",
       "<table id=\"T_2968a\">\n",
       "  <thead>\n",
       "    <tr>\n",
       "      <th class=\"blank\" >&nbsp;</th>\n",
       "      <th class=\"blank level0\" >&nbsp;</th>\n",
       "      <th id=\"T_2968a_level0_col0\" class=\"col_heading level0 col0\" >test_qa_answer_f1</th>\n",
       "      <th id=\"T_2968a_level0_col1\" class=\"col_heading level0 col1\" >test_qa_sas</th>\n",
       "    </tr>\n",
       "    <tr>\n",
       "      <th class=\"index_name level0\" >context_window</th>\n",
       "      <th class=\"index_name level1\" >query_rep</th>\n",
       "      <th class=\"blank col0\" >&nbsp;</th>\n",
       "      <th class=\"blank col1\" >&nbsp;</th>\n",
       "    </tr>\n",
       "  </thead>\n",
       "  <tbody>\n",
       "    <tr>\n",
       "      <th id=\"T_2968a_level0_row0\" class=\"row_heading level0 row0\" >n_0</th>\n",
       "      <th id=\"T_2968a_level1_row0\" class=\"row_heading level1 row0\" >prepend_context</th>\n",
       "      <td id=\"T_2968a_row0_col0\" class=\"data row0 col0\" >0.612265</td>\n",
       "      <td id=\"T_2968a_row0_col1\" class=\"data row0 col1\" >0.657012</td>\n",
       "    </tr>\n",
       "    <tr>\n",
       "      <th id=\"T_2968a_level0_row1\" class=\"row_heading level0 row1\" rowspan=\"3\">n_2</th>\n",
       "      <th id=\"T_2968a_level1_row1\" class=\"row_heading level1 row1\" >canard_rewritten</th>\n",
       "      <td id=\"T_2968a_row1_col0\" class=\"data row1 col0\" >0.602983</td>\n",
       "      <td id=\"T_2968a_row1_col1\" class=\"data row1 col1\" >0.655471</td>\n",
       "    </tr>\n",
       "    <tr>\n",
       "      <th id=\"T_2968a_level1_row2\" class=\"row_heading level1 row2\" >prepend_context</th>\n",
       "      <td id=\"T_2968a_row2_col0\" class=\"data row2 col0\" >0.650329</td>\n",
       "      <td id=\"T_2968a_row2_col1\" class=\"data row2 col1\" >0.691133</td>\n",
       "    </tr>\n",
       "    <tr>\n",
       "      <th id=\"T_2968a_level1_row3\" class=\"row_heading level1 row3\" >quretec_expansion</th>\n",
       "      <td id=\"T_2968a_row3_col0\" class=\"data row3 col0\" >0.616926</td>\n",
       "      <td id=\"T_2968a_row3_col1\" class=\"data row3 col1\" >0.659806</td>\n",
       "    </tr>\n",
       "    <tr>\n",
       "      <th id=\"T_2968a_level0_row4\" class=\"row_heading level0 row4\" rowspan=\"3\">n_3</th>\n",
       "      <th id=\"T_2968a_level1_row4\" class=\"row_heading level1 row4\" >canard_rewritten</th>\n",
       "      <td id=\"T_2968a_row4_col0\" class=\"data row4 col0\" >0.605679</td>\n",
       "      <td id=\"T_2968a_row4_col1\" class=\"data row4 col1\" >0.657255</td>\n",
       "    </tr>\n",
       "    <tr>\n",
       "      <th id=\"T_2968a_level1_row5\" class=\"row_heading level1 row5\" >prepend_context</th>\n",
       "      <td id=\"T_2968a_row5_col0\" class=\"data row5 col0\" >0.644832</td>\n",
       "      <td id=\"T_2968a_row5_col1\" class=\"data row5 col1\" >0.687092</td>\n",
       "    </tr>\n",
       "    <tr>\n",
       "      <th id=\"T_2968a_level1_row6\" class=\"row_heading level1 row6\" >quretec_expansion</th>\n",
       "      <td id=\"T_2968a_row6_col0\" class=\"data row6 col0\" >0.619612</td>\n",
       "      <td id=\"T_2968a_row6_col1\" class=\"data row6 col1\" >0.664906</td>\n",
       "    </tr>\n",
       "    <tr>\n",
       "      <th id=\"T_2968a_level0_row7\" class=\"row_heading level0 row7\" rowspan=\"3\">n_all</th>\n",
       "      <th id=\"T_2968a_level1_row7\" class=\"row_heading level1 row7\" >canard_rewritten</th>\n",
       "      <td id=\"T_2968a_row7_col0\" class=\"data row7 col0\" >0.600211</td>\n",
       "      <td id=\"T_2968a_row7_col1\" class=\"data row7 col1\" >0.650115</td>\n",
       "    </tr>\n",
       "    <tr>\n",
       "      <th id=\"T_2968a_level1_row8\" class=\"row_heading level1 row8\" >prepend_context</th>\n",
       "      <td id=\"T_2968a_row8_col0\" class=\"data row8 col0\" >0.603119</td>\n",
       "      <td id=\"T_2968a_row8_col1\" class=\"data row8 col1\" >0.654997</td>\n",
       "    </tr>\n",
       "    <tr>\n",
       "      <th id=\"T_2968a_level1_row9\" class=\"row_heading level1 row9\" >quretec_expansion</th>\n",
       "      <td id=\"T_2968a_row9_col0\" class=\"data row9 col0\" >0.608352</td>\n",
       "      <td id=\"T_2968a_row9_col1\" class=\"data row9 col1\" >0.656456</td>\n",
       "    </tr>\n",
       "  </tbody>\n",
       "</table>\n"
      ],
      "text/plain": [
       "<pandas.io.formats.style.Styler at 0x7f7ad9930e50>"
      ]
     },
     "execution_count": 498,
     "metadata": {},
     "output_type": "execute_result"
    }
   ],
   "source": [
    "all_needs_qooka_step_comparison = all_needs_qooka_combined_data[all_needs_qooka_combined_data['document_representation'] == 'step']\n",
    "all_needs_qooka_step_comparison.groupby(['context_window', 'query_rep']).mean(numeric_only=True).loc[:,['test_qa_answer_f1','test_qa_sas']].style.highlight_max(color='#eb6134')\n"
   ]
  },
  {
   "cell_type": "markdown",
   "id": "053671c6",
   "metadata": {},
   "source": [
    "#### FiD"
   ]
  },
  {
   "cell_type": "code",
   "execution_count": 499,
   "id": "d04fbd6c",
   "metadata": {},
   "outputs": [
    {
     "data": {
      "text/plain": [
       "'FiD Step'"
      ]
     },
     "metadata": {},
     "output_type": "display_data"
    },
    {
     "data": {
      "text/html": [
       "<style type=\"text/css\">\n",
       "#T_19b7d_row1_col0, #T_19b7d_row1_col1 {\n",
       "  background-color: #eb6134;\n",
       "}\n",
       "</style>\n",
       "<table id=\"T_19b7d\">\n",
       "  <thead>\n",
       "    <tr>\n",
       "      <th class=\"blank level0\" >&nbsp;</th>\n",
       "      <th id=\"T_19b7d_level0_col0\" class=\"col_heading level0 col0\" >test_qa_answer_f1</th>\n",
       "      <th id=\"T_19b7d_level0_col1\" class=\"col_heading level0 col1\" >test_qa_sas</th>\n",
       "    </tr>\n",
       "    <tr>\n",
       "      <th class=\"index_name level0\" >context_window</th>\n",
       "      <th class=\"blank col0\" >&nbsp;</th>\n",
       "      <th class=\"blank col1\" >&nbsp;</th>\n",
       "    </tr>\n",
       "  </thead>\n",
       "  <tbody>\n",
       "    <tr>\n",
       "      <th id=\"T_19b7d_level0_row0\" class=\"row_heading level0 row0\" >n_0</th>\n",
       "      <td id=\"T_19b7d_row0_col0\" class=\"data row0 col0\" >0.652472</td>\n",
       "      <td id=\"T_19b7d_row0_col1\" class=\"data row0 col1\" >0.689430</td>\n",
       "    </tr>\n",
       "    <tr>\n",
       "      <th id=\"T_19b7d_level0_row1\" class=\"row_heading level0 row1\" >n_2</th>\n",
       "      <td id=\"T_19b7d_row1_col0\" class=\"data row1 col0\" >0.656582</td>\n",
       "      <td id=\"T_19b7d_row1_col1\" class=\"data row1 col1\" >0.699129</td>\n",
       "    </tr>\n",
       "    <tr>\n",
       "      <th id=\"T_19b7d_level0_row2\" class=\"row_heading level0 row2\" >n_3</th>\n",
       "      <td id=\"T_19b7d_row2_col0\" class=\"data row2 col0\" >0.630261</td>\n",
       "      <td id=\"T_19b7d_row2_col1\" class=\"data row2 col1\" >0.675609</td>\n",
       "    </tr>\n",
       "    <tr>\n",
       "      <th id=\"T_19b7d_level0_row3\" class=\"row_heading level0 row3\" >n_all</th>\n",
       "      <td id=\"T_19b7d_row3_col0\" class=\"data row3 col0\" >0.196806</td>\n",
       "      <td id=\"T_19b7d_row3_col1\" class=\"data row3 col1\" >0.284440</td>\n",
       "    </tr>\n",
       "  </tbody>\n",
       "</table>\n"
      ],
      "text/plain": [
       "<pandas.io.formats.style.Styler at 0x7f7aa8d18a30>"
      ]
     },
     "execution_count": 499,
     "metadata": {},
     "output_type": "execute_result"
    }
   ],
   "source": [
    "display('FiD Step')\n",
    "all_needs_qooka_step = pd.concat([all_needs_qooka_fid_prepend_n0_step_metrics, all_needs_qooka_fid_prepend_n2_step_metrics,\n",
    "                 all_needs_qooka_fid_prepend_n3_step_metrics, all_needs_qooka_fid_prepend_nall_step_metrics])\n",
    "all_needs_qooka_step.groupby(['context_window']).mean(numeric_only=True).loc[:,['test_qa_answer_f1','test_qa_sas']].style.highlight_max(color='#eb6134')\n"
   ]
  },
  {
   "cell_type": "markdown",
   "id": "27976ef1",
   "metadata": {},
   "source": [
    "### Node Representation\n",
    "#### MonoQA"
   ]
  },
  {
   "cell_type": "code",
   "execution_count": 500,
   "id": "cd681111",
   "metadata": {},
   "outputs": [
    {
     "data": {
      "text/html": [
       "<style type=\"text/css\">\n",
       "#T_e16cc_row2_col0, #T_e16cc_row2_col1 {\n",
       "  background-color: #eb6134;\n",
       "}\n",
       "</style>\n",
       "<table id=\"T_e16cc\">\n",
       "  <thead>\n",
       "    <tr>\n",
       "      <th class=\"blank\" >&nbsp;</th>\n",
       "      <th class=\"blank level0\" >&nbsp;</th>\n",
       "      <th id=\"T_e16cc_level0_col0\" class=\"col_heading level0 col0\" >test_qa_answer_f1</th>\n",
       "      <th id=\"T_e16cc_level0_col1\" class=\"col_heading level0 col1\" >test_qa_sas</th>\n",
       "    </tr>\n",
       "    <tr>\n",
       "      <th class=\"index_name level0\" >context_window</th>\n",
       "      <th class=\"index_name level1\" >query_rep</th>\n",
       "      <th class=\"blank col0\" >&nbsp;</th>\n",
       "      <th class=\"blank col1\" >&nbsp;</th>\n",
       "    </tr>\n",
       "  </thead>\n",
       "  <tbody>\n",
       "    <tr>\n",
       "      <th id=\"T_e16cc_level0_row0\" class=\"row_heading level0 row0\" >n_0</th>\n",
       "      <th id=\"T_e16cc_level1_row0\" class=\"row_heading level1 row0\" >prepend_context</th>\n",
       "      <td id=\"T_e16cc_row0_col0\" class=\"data row0 col0\" >0.622443</td>\n",
       "      <td id=\"T_e16cc_row0_col1\" class=\"data row0 col1\" >0.666252</td>\n",
       "    </tr>\n",
       "    <tr>\n",
       "      <th id=\"T_e16cc_level0_row1\" class=\"row_heading level0 row1\" rowspan=\"3\">n_2</th>\n",
       "      <th id=\"T_e16cc_level1_row1\" class=\"row_heading level1 row1\" >canard_rewritten</th>\n",
       "      <td id=\"T_e16cc_row1_col0\" class=\"data row1 col0\" >0.622798</td>\n",
       "      <td id=\"T_e16cc_row1_col1\" class=\"data row1 col1\" >0.672248</td>\n",
       "    </tr>\n",
       "    <tr>\n",
       "      <th id=\"T_e16cc_level1_row2\" class=\"row_heading level1 row2\" >prepend_context</th>\n",
       "      <td id=\"T_e16cc_row2_col0\" class=\"data row2 col0\" >0.666205</td>\n",
       "      <td id=\"T_e16cc_row2_col1\" class=\"data row2 col1\" >0.705092</td>\n",
       "    </tr>\n",
       "    <tr>\n",
       "      <th id=\"T_e16cc_level1_row3\" class=\"row_heading level1 row3\" >quretec_expansion</th>\n",
       "      <td id=\"T_e16cc_row3_col0\" class=\"data row3 col0\" >0.632172</td>\n",
       "      <td id=\"T_e16cc_row3_col1\" class=\"data row3 col1\" >0.678035</td>\n",
       "    </tr>\n",
       "    <tr>\n",
       "      <th id=\"T_e16cc_level0_row4\" class=\"row_heading level0 row4\" rowspan=\"3\">n_3</th>\n",
       "      <th id=\"T_e16cc_level1_row4\" class=\"row_heading level1 row4\" >canard_rewritten</th>\n",
       "      <td id=\"T_e16cc_row4_col0\" class=\"data row4 col0\" >0.618547</td>\n",
       "      <td id=\"T_e16cc_row4_col1\" class=\"data row4 col1\" >0.667431</td>\n",
       "    </tr>\n",
       "    <tr>\n",
       "      <th id=\"T_e16cc_level1_row5\" class=\"row_heading level1 row5\" >prepend_context</th>\n",
       "      <td id=\"T_e16cc_row5_col0\" class=\"data row5 col0\" >0.661824</td>\n",
       "      <td id=\"T_e16cc_row5_col1\" class=\"data row5 col1\" >0.700599</td>\n",
       "    </tr>\n",
       "    <tr>\n",
       "      <th id=\"T_e16cc_level1_row6\" class=\"row_heading level1 row6\" >quretec_expansion</th>\n",
       "      <td id=\"T_e16cc_row6_col0\" class=\"data row6 col0\" >0.628816</td>\n",
       "      <td id=\"T_e16cc_row6_col1\" class=\"data row6 col1\" >0.674545</td>\n",
       "    </tr>\n",
       "    <tr>\n",
       "      <th id=\"T_e16cc_level0_row7\" class=\"row_heading level0 row7\" rowspan=\"3\">n_all</th>\n",
       "      <th id=\"T_e16cc_level1_row7\" class=\"row_heading level1 row7\" >canard_rewritten</th>\n",
       "      <td id=\"T_e16cc_row7_col0\" class=\"data row7 col0\" >0.621513</td>\n",
       "      <td id=\"T_e16cc_row7_col1\" class=\"data row7 col1\" >0.667715</td>\n",
       "    </tr>\n",
       "    <tr>\n",
       "      <th id=\"T_e16cc_level1_row8\" class=\"row_heading level1 row8\" >prepend_context</th>\n",
       "      <td id=\"T_e16cc_row8_col0\" class=\"data row8 col0\" >0.643903</td>\n",
       "      <td id=\"T_e16cc_row8_col1\" class=\"data row8 col1\" >0.688344</td>\n",
       "    </tr>\n",
       "    <tr>\n",
       "      <th id=\"T_e16cc_level1_row9\" class=\"row_heading level1 row9\" >quretec_expansion</th>\n",
       "      <td id=\"T_e16cc_row9_col0\" class=\"data row9 col0\" >0.635460</td>\n",
       "      <td id=\"T_e16cc_row9_col1\" class=\"data row9 col1\" >0.678289</td>\n",
       "    </tr>\n",
       "  </tbody>\n",
       "</table>\n"
      ],
      "text/plain": [
       "<pandas.io.formats.style.Styler at 0x7f7aaed0f1c0>"
      ]
     },
     "execution_count": 500,
     "metadata": {},
     "output_type": "execute_result"
    }
   ],
   "source": [
    "all_needs_qooka_node_comparison = all_needs_qooka_combined_data[all_needs_qooka_combined_data['document_representation'] == 'node']\n",
    "all_needs_qooka_node_comparison.groupby(['context_window', 'query_rep']).mean(numeric_only=True).loc[:,['test_qa_answer_f1','test_qa_sas']].style.highlight_max(color='#eb6134')\n"
   ]
  },
  {
   "cell_type": "markdown",
   "id": "8ab70f48",
   "metadata": {},
   "source": [
    "#### FiD"
   ]
  },
  {
   "cell_type": "code",
   "execution_count": 501,
   "id": "ae1d6017",
   "metadata": {},
   "outputs": [
    {
     "data": {
      "text/plain": [
       "'FiD Node'"
      ]
     },
     "metadata": {},
     "output_type": "display_data"
    },
    {
     "data": {
      "text/html": [
       "<style type=\"text/css\">\n",
       "#T_e5355_row1_col0, #T_e5355_row1_col1 {\n",
       "  background-color: #eb6134;\n",
       "}\n",
       "</style>\n",
       "<table id=\"T_e5355\">\n",
       "  <thead>\n",
       "    <tr>\n",
       "      <th class=\"blank level0\" >&nbsp;</th>\n",
       "      <th id=\"T_e5355_level0_col0\" class=\"col_heading level0 col0\" >test_qa_answer_f1</th>\n",
       "      <th id=\"T_e5355_level0_col1\" class=\"col_heading level0 col1\" >test_qa_sas</th>\n",
       "    </tr>\n",
       "    <tr>\n",
       "      <th class=\"index_name level0\" >context_window</th>\n",
       "      <th class=\"blank col0\" >&nbsp;</th>\n",
       "      <th class=\"blank col1\" >&nbsp;</th>\n",
       "    </tr>\n",
       "  </thead>\n",
       "  <tbody>\n",
       "    <tr>\n",
       "      <th id=\"T_e5355_level0_row0\" class=\"row_heading level0 row0\" >n_0</th>\n",
       "      <td id=\"T_e5355_row0_col0\" class=\"data row0 col0\" >0.651528</td>\n",
       "      <td id=\"T_e5355_row0_col1\" class=\"data row0 col1\" >0.692844</td>\n",
       "    </tr>\n",
       "    <tr>\n",
       "      <th id=\"T_e5355_level0_row1\" class=\"row_heading level0 row1\" >n_2</th>\n",
       "      <td id=\"T_e5355_row1_col0\" class=\"data row1 col0\" >0.666355</td>\n",
       "      <td id=\"T_e5355_row1_col1\" class=\"data row1 col1\" >0.706956</td>\n",
       "    </tr>\n",
       "    <tr>\n",
       "      <th id=\"T_e5355_level0_row2\" class=\"row_heading level0 row2\" >n_3</th>\n",
       "      <td id=\"T_e5355_row2_col0\" class=\"data row2 col0\" >0.634457</td>\n",
       "      <td id=\"T_e5355_row2_col1\" class=\"data row2 col1\" >0.683664</td>\n",
       "    </tr>\n",
       "    <tr>\n",
       "      <th id=\"T_e5355_level0_row3\" class=\"row_heading level0 row3\" >n_all</th>\n",
       "      <td id=\"T_e5355_row3_col0\" class=\"data row3 col0\" >0.200181</td>\n",
       "      <td id=\"T_e5355_row3_col1\" class=\"data row3 col1\" >0.279277</td>\n",
       "    </tr>\n",
       "  </tbody>\n",
       "</table>\n"
      ],
      "text/plain": [
       "<pandas.io.formats.style.Styler at 0x7f7ad9e02dc0>"
      ]
     },
     "execution_count": 501,
     "metadata": {},
     "output_type": "execute_result"
    }
   ],
   "source": [
    "display('FiD Node')\n",
    "all_needs_qooka_node = pd.concat([all_needs_qooka_fid_prepend_n0_node_metrics, all_needs_qooka_fid_prepend_n2_node_metrics,\n",
    "                 all_needs_qooka_fid_prepend_n3_node_metrics, all_needs_qooka_fid_prepend_nall_node_metrics])\n",
    "all_needs_qooka_node.groupby(['context_window']).mean(numeric_only=True).loc[:,['test_qa_answer_f1','test_qa_sas']].style.highlight_max(color='#eb6134')\n"
   ]
  },
  {
   "cell_type": "markdown",
   "id": "3258bc48",
   "metadata": {},
   "source": [
    "## QookA: Competence Needs"
   ]
  },
  {
   "cell_type": "code",
   "execution_count": 502,
   "id": "2cb9d03c",
   "metadata": {},
   "outputs": [],
   "source": [
    "competence_needs_qooka_t5_metrics = create_metrics_table('competence_needs','qooka',  'document','prepend_context','n_0','t5')\n",
    "competence_needs_qooka_monoqa_node_metrics = create_metrics_table('competence_needs','qooka','node','prepend_context','n_0','monoqa')\n",
    "competence_needs_qooka_monoqa_step_metrics = create_metrics_table('competence_needs','qooka','step','prepend_context','n_0','monoqa')\n",
    "\n",
    "competence_needs_qooka_t5_prepend_n2_metrics = create_metrics_table('competence_needs','qooka', 'document','prepend_context','n_2','t5')\n",
    "competence_needs_qooka_monoqa_prepend_n2_step_metrics = create_metrics_table('competence_needs','qooka', 'step','prepend_context','n_2','monoqa')\n",
    "competence_needs_qooka_monoqa_prepend_n2_node_metrics = create_metrics_table('competence_needs','qooka', 'node', 'prepend_context', 'n_2', 'monoqa')\n",
    "\n",
    "competence_needs_qooka_t5_quretec_n2_metrics = create_metrics_table('competence_needs','qooka','document','quretec_expansion','n_2','t5')\n",
    "competence_needs_qooka_monoqa_quretec_n2_step_metrics = create_metrics_table('competence_needs','qooka','step','quretec_expansion','n_2','monoqa')\n",
    "competence_needs_qooka_monoqa_quretec_n2_node_metrics = create_metrics_table('competence_needs','qooka','node', 'quretec_expansion', 'n_2', 'monoqa')\n",
    "\n",
    "competence_needs_qooka_t5_canard_n2_metrics = create_metrics_table('competence_needs','qooka', 'document','canard_rewritten','n_2','t5')\n",
    "competence_needs_qooka_monoqa_canard_n2_step_metrics = create_metrics_table('competence_needs','qooka', 'step','canard_rewritten','n_2','monoqa')\n",
    "competence_needs_qooka_monoqa_canard_n2_node_metrics = create_metrics_table('competence_needs','qooka',  'node', 'canard_rewritten', 'n_2', 'monoqa')\n",
    "\n",
    "competence_needs_qooka_t5_prepend_n3_metrics = create_metrics_table('competence_needs','qooka', 'document','prepend_context','n_3','t5')\n",
    "competence_needs_qooka_monoqa_prepend_n3_step_metrics = create_metrics_table('competence_needs','qooka', 'step','prepend_context','n_3','monoqa')\n",
    "competence_needs_qooka_monoqa_prepend_n3_node_metrics = create_metrics_table('competence_needs','qooka',  'node', 'prepend_context', 'n_3', 'monoqa')\n",
    "\n",
    "competence_needs_qooka_t5_quretec_n3_metrics = create_metrics_table('competence_needs','qooka', 'document','quretec_expansion','n_3','t5')\n",
    "competence_needs_qooka_monoqa_quretec_n3_step_metrics = create_metrics_table('competence_needs','qooka','step','quretec_expansion','n_3','monoqa')\n",
    "competence_needs_qooka_monoqa_quretec_n3_node_metrics = create_metrics_table('competence_needs','qooka', 'node', 'quretec_expansion', 'n_3', 'monoqa')\n",
    "\n",
    "competence_needs_qooka_t5_canard_n3_metrics = create_metrics_table('competence_needs','qooka', 'document','canard_rewritten','n_3','t5')\n",
    "competence_needs_qooka_monoqa_canard_n3_step_metrics = create_metrics_table('competence_needs','qooka', 'step','canard_rewritten','n_3','monoqa')\n",
    "competence_needs_qooka_monoqa_canard_n3_node_metrics = create_metrics_table('competence_needs','qooka',  'node', 'canard_rewritten', 'n_3', 'monoqa')\n",
    "\n",
    "competence_needs_qooka_t5_prepend_nall_metrics = create_metrics_table('competence_needs','qooka', 'document','prepend_context','n_all','t5')\n",
    "competence_needs_qooka_monoqa_prepend_nall_step_metrics = create_metrics_table('competence_needs','qooka', 'step','prepend_context','n_all','monoqa')\n",
    "competence_needs_qooka_monoqa_prepend_nall_node_metrics = create_metrics_table('competence_needs','qooka', 'node','prepend_context','n_all','monoqa')\n",
    "\n",
    "competence_needs_qooka_t5_quretec_nall_metrics = create_metrics_table('competence_needs','qooka', 'document','quretec_expansion','n_all','t5')\n",
    "competence_needs_qooka_monoqa_quretec_nall_step_metrics = create_metrics_table('competence_needs','qooka', 'step','quretec_expansion','n_all','monoqa')\n",
    "competence_needs_qooka_monoqa_quretec_nall_node_metrics = create_metrics_table('competence_needs','qooka', 'node','quretec_expansion','n_all','monoqa')\n",
    "\n",
    "competence_needs_qooka_t5_canard_nall_metrics = create_metrics_table('competence_needs','qooka', 'document','canard_rewritten','n_all','t5')\n",
    "competence_needs_qooka_monoqa_canard_nall_step_metrics = create_metrics_table('competence_needs','qooka', 'step','canard_rewritten','n_all','monoqa')\n",
    "competence_needs_qooka_monoqa_canard_nall_node_metrics = create_metrics_table('competence_needs','qooka', 'node', 'canard_rewritten', 'n_all', 'monoqa')\n",
    "\n",
    "competence_needs_qooka_fid_prepend_n0_node_metrics = create_metrics_table('competence_needs', 'qooka', 'node', 'prepend_context', 'n_0', 'fid')\n",
    "competence_needs_qooka_fid_prepend_n2_node_metrics = create_metrics_table('competence_needs', 'qooka', 'node', 'prepend_context', 'n_2', 'fid')\n",
    "competence_needs_qooka_fid_prepend_n3_node_metrics = create_metrics_table('competence_needs', 'qooka', 'node', 'prepend_context', 'n_3', 'fid')\n",
    "competence_needs_qooka_fid_prepend_nall_node_metrics = create_metrics_table('competence_needs', 'qooka', 'node', 'prepend_context', 'n_all', 'fid')\n",
    "\n",
    "competence_needs_qooka_fid_prepend_n0_step_metrics = create_metrics_table('competence_needs', 'qooka', 'step', 'prepend_context', 'n_0', 'fid')\n",
    "competence_needs_qooka_fid_prepend_n2_step_metrics = create_metrics_table('competence_needs', 'qooka', 'step', 'prepend_context', 'n_2', 'fid')\n",
    "competence_needs_qooka_fid_prepend_n3_step_metrics = create_metrics_table('competence_needs', 'qooka', 'step', 'prepend_context', 'n_3', 'fid')\n",
    "competence_needs_qooka_fid_prepend_nall_step_metrics = create_metrics_table('competence_needs', 'qooka', 'step', 'prepend_context', 'n_all', 'fid')\n",
    "\n",
    "\n"
   ]
  },
  {
   "cell_type": "code",
   "execution_count": 503,
   "id": "87c2c8fc",
   "metadata": {},
   "outputs": [],
   "source": [
    "# Assuming create_metrics_table returns a DataFrame with 'test_qa_answer_f1' column\n",
    "# Adjust column names accordingly if needed\n",
    "\n",
    "# Concatenate the dataframes for n2 and n3 conditions\n",
    "n0_metrics = pd.concat([competence_needs_qooka_t5_metrics, competence_needs_qooka_monoqa_step_metrics, competence_needs_qooka_monoqa_node_metrics\n",
    "                        ])\n",
    "n2_metrics = pd.concat([\n",
    "    competence_needs_qooka_t5_prepend_n2_metrics, competence_needs_qooka_monoqa_prepend_n2_step_metrics,competence_needs_qooka_monoqa_prepend_n2_node_metrics,\n",
    "    competence_needs_qooka_t5_quretec_n2_metrics, competence_needs_qooka_monoqa_quretec_n2_step_metrics, competence_needs_qooka_monoqa_quretec_n2_node_metrics,\n",
    "    competence_needs_qooka_t5_canard_n2_metrics, competence_needs_qooka_monoqa_canard_n2_step_metrics, competence_needs_qooka_monoqa_canard_n2_node_metrics,\n",
    "])\n",
    "\n",
    "n3_metrics = pd.concat([\n",
    "    competence_needs_qooka_t5_prepend_n3_metrics, competence_needs_qooka_monoqa_prepend_n3_step_metrics, competence_needs_qooka_monoqa_prepend_n3_node_metrics,\n",
    "    competence_needs_qooka_t5_quretec_n3_metrics,competence_needs_qooka_monoqa_quretec_n3_step_metrics,competence_needs_qooka_monoqa_quretec_n3_node_metrics,\n",
    "    competence_needs_qooka_t5_canard_n3_metrics, competence_needs_qooka_monoqa_canard_n3_step_metrics, competence_needs_qooka_monoqa_canard_n3_node_metrics,\n",
    "])\n",
    "\n",
    "nall_metrics = pd.concat([\n",
    "    competence_needs_qooka_t5_prepend_nall_metrics, competence_needs_qooka_monoqa_prepend_nall_step_metrics, competence_needs_qooka_monoqa_prepend_nall_node_metrics,\n",
    "    competence_needs_qooka_t5_quretec_nall_metrics, competence_needs_qooka_monoqa_quretec_nall_step_metrics, competence_needs_qooka_monoqa_quretec_nall_node_metrics,\n",
    "    competence_needs_qooka_t5_canard_nall_metrics, competence_needs_qooka_monoqa_canard_nall_step_metrics, competence_needs_qooka_monoqa_canard_nall_node_metrics\n",
    "])\n",
    "\n",
    "# Combine the data for plotting\n",
    "competence_needs_qooka_combined_data = pd.concat([n0_metrics, n2_metrics, n3_metrics, nall_metrics])"
   ]
  },
  {
   "cell_type": "markdown",
   "id": "b9094ff8",
   "metadata": {},
   "source": [
    "### Document Representation"
   ]
  },
  {
   "cell_type": "code",
   "execution_count": 504,
   "id": "818489b5",
   "metadata": {},
   "outputs": [
    {
     "data": {
      "text/html": [
       "<style type=\"text/css\">\n",
       "#T_a2be3_row4_col0, #T_a2be3_row4_col1 {\n",
       "  background-color: #eb6134;\n",
       "}\n",
       "</style>\n",
       "<table id=\"T_a2be3\">\n",
       "  <thead>\n",
       "    <tr>\n",
       "      <th class=\"blank\" >&nbsp;</th>\n",
       "      <th class=\"blank level0\" >&nbsp;</th>\n",
       "      <th id=\"T_a2be3_level0_col0\" class=\"col_heading level0 col0\" >test_qa_answer_f1</th>\n",
       "      <th id=\"T_a2be3_level0_col1\" class=\"col_heading level0 col1\" >test_qa_sas</th>\n",
       "    </tr>\n",
       "    <tr>\n",
       "      <th class=\"index_name level0\" >context_window</th>\n",
       "      <th class=\"index_name level1\" >query_rep</th>\n",
       "      <th class=\"blank col0\" >&nbsp;</th>\n",
       "      <th class=\"blank col1\" >&nbsp;</th>\n",
       "    </tr>\n",
       "  </thead>\n",
       "  <tbody>\n",
       "    <tr>\n",
       "      <th id=\"T_a2be3_level0_row0\" class=\"row_heading level0 row0\" >n_0</th>\n",
       "      <th id=\"T_a2be3_level1_row0\" class=\"row_heading level1 row0\" >prepend_context</th>\n",
       "      <td id=\"T_a2be3_row0_col0\" class=\"data row0 col0\" >0.453382</td>\n",
       "      <td id=\"T_a2be3_row0_col1\" class=\"data row0 col1\" >0.552714</td>\n",
       "    </tr>\n",
       "    <tr>\n",
       "      <th id=\"T_a2be3_level0_row1\" class=\"row_heading level0 row1\" rowspan=\"3\">n_2</th>\n",
       "      <th id=\"T_a2be3_level1_row1\" class=\"row_heading level1 row1\" >canard_rewritten</th>\n",
       "      <td id=\"T_a2be3_row1_col0\" class=\"data row1 col0\" >0.448025</td>\n",
       "      <td id=\"T_a2be3_row1_col1\" class=\"data row1 col1\" >0.552194</td>\n",
       "    </tr>\n",
       "    <tr>\n",
       "      <th id=\"T_a2be3_level1_row2\" class=\"row_heading level1 row2\" >prepend_context</th>\n",
       "      <td id=\"T_a2be3_row2_col0\" class=\"data row2 col0\" >0.409424</td>\n",
       "      <td id=\"T_a2be3_row2_col1\" class=\"data row2 col1\" >0.515833</td>\n",
       "    </tr>\n",
       "    <tr>\n",
       "      <th id=\"T_a2be3_level1_row3\" class=\"row_heading level1 row3\" >quretec_expansion</th>\n",
       "      <td id=\"T_a2be3_row3_col0\" class=\"data row3 col0\" >0.456671</td>\n",
       "      <td id=\"T_a2be3_row3_col1\" class=\"data row3 col1\" >0.551310</td>\n",
       "    </tr>\n",
       "    <tr>\n",
       "      <th id=\"T_a2be3_level0_row4\" class=\"row_heading level0 row4\" rowspan=\"3\">n_3</th>\n",
       "      <th id=\"T_a2be3_level1_row4\" class=\"row_heading level1 row4\" >canard_rewritten</th>\n",
       "      <td id=\"T_a2be3_row4_col0\" class=\"data row4 col0\" >0.459523</td>\n",
       "      <td id=\"T_a2be3_row4_col1\" class=\"data row4 col1\" >0.558708</td>\n",
       "    </tr>\n",
       "    <tr>\n",
       "      <th id=\"T_a2be3_level1_row5\" class=\"row_heading level1 row5\" >prepend_context</th>\n",
       "      <td id=\"T_a2be3_row5_col0\" class=\"data row5 col0\" >0.409010</td>\n",
       "      <td id=\"T_a2be3_row5_col1\" class=\"data row5 col1\" >0.511443</td>\n",
       "    </tr>\n",
       "    <tr>\n",
       "      <th id=\"T_a2be3_level1_row6\" class=\"row_heading level1 row6\" >quretec_expansion</th>\n",
       "      <td id=\"T_a2be3_row6_col0\" class=\"data row6 col0\" >0.452798</td>\n",
       "      <td id=\"T_a2be3_row6_col1\" class=\"data row6 col1\" >0.551596</td>\n",
       "    </tr>\n",
       "    <tr>\n",
       "      <th id=\"T_a2be3_level0_row7\" class=\"row_heading level0 row7\" rowspan=\"3\">n_all</th>\n",
       "      <th id=\"T_a2be3_level1_row7\" class=\"row_heading level1 row7\" >canard_rewritten</th>\n",
       "      <td id=\"T_a2be3_row7_col0\" class=\"data row7 col0\" >0.453977</td>\n",
       "      <td id=\"T_a2be3_row7_col1\" class=\"data row7 col1\" >0.551987</td>\n",
       "    </tr>\n",
       "    <tr>\n",
       "      <th id=\"T_a2be3_level1_row8\" class=\"row_heading level1 row8\" >prepend_context</th>\n",
       "      <td id=\"T_a2be3_row8_col0\" class=\"data row8 col0\" >0.280330</td>\n",
       "      <td id=\"T_a2be3_row8_col1\" class=\"data row8 col1\" >0.393851</td>\n",
       "    </tr>\n",
       "    <tr>\n",
       "      <th id=\"T_a2be3_level1_row9\" class=\"row_heading level1 row9\" >quretec_expansion</th>\n",
       "      <td id=\"T_a2be3_row9_col0\" class=\"data row9 col0\" >0.443886</td>\n",
       "      <td id=\"T_a2be3_row9_col1\" class=\"data row9 col1\" >0.543449</td>\n",
       "    </tr>\n",
       "  </tbody>\n",
       "</table>\n"
      ],
      "text/plain": [
       "<pandas.io.formats.style.Styler at 0x7f7add4d1b80>"
      ]
     },
     "execution_count": 504,
     "metadata": {},
     "output_type": "execute_result"
    }
   ],
   "source": [
    "competence_needs_qooka_document_comparison = competence_needs_qooka_combined_data[competence_needs_qooka_combined_data['document_representation'] == 'document']\n",
    "competence_needs_qooka_document_comparison.groupby(['context_window', 'query_rep']).mean(numeric_only=True).loc[:,['test_qa_answer_f1','test_qa_sas']].style.highlight_max(color='#eb6134')\n"
   ]
  },
  {
   "cell_type": "markdown",
   "id": "535da345",
   "metadata": {},
   "source": [
    "### Step Representation"
   ]
  },
  {
   "cell_type": "markdown",
   "id": "fd5f9791",
   "metadata": {},
   "source": [
    "#### MonoQA"
   ]
  },
  {
   "cell_type": "code",
   "execution_count": 505,
   "id": "9e92845e",
   "metadata": {},
   "outputs": [
    {
     "data": {
      "text/html": [
       "<style type=\"text/css\">\n",
       "#T_fb297_row2_col0, #T_fb297_row2_col1 {\n",
       "  background-color: #eb6134;\n",
       "}\n",
       "</style>\n",
       "<table id=\"T_fb297\">\n",
       "  <thead>\n",
       "    <tr>\n",
       "      <th class=\"blank\" >&nbsp;</th>\n",
       "      <th class=\"blank level0\" >&nbsp;</th>\n",
       "      <th id=\"T_fb297_level0_col0\" class=\"col_heading level0 col0\" >test_qa_answer_f1</th>\n",
       "      <th id=\"T_fb297_level0_col1\" class=\"col_heading level0 col1\" >test_qa_sas</th>\n",
       "    </tr>\n",
       "    <tr>\n",
       "      <th class=\"index_name level0\" >context_window</th>\n",
       "      <th class=\"index_name level1\" >query_rep</th>\n",
       "      <th class=\"blank col0\" >&nbsp;</th>\n",
       "      <th class=\"blank col1\" >&nbsp;</th>\n",
       "    </tr>\n",
       "  </thead>\n",
       "  <tbody>\n",
       "    <tr>\n",
       "      <th id=\"T_fb297_level0_row0\" class=\"row_heading level0 row0\" >n_0</th>\n",
       "      <th id=\"T_fb297_level1_row0\" class=\"row_heading level1 row0\" >prepend_context</th>\n",
       "      <td id=\"T_fb297_row0_col0\" class=\"data row0 col0\" >0.625196</td>\n",
       "      <td id=\"T_fb297_row0_col1\" class=\"data row0 col1\" >0.686406</td>\n",
       "    </tr>\n",
       "    <tr>\n",
       "      <th id=\"T_fb297_level0_row1\" class=\"row_heading level0 row1\" rowspan=\"3\">n_2</th>\n",
       "      <th id=\"T_fb297_level1_row1\" class=\"row_heading level1 row1\" >canard_rewritten</th>\n",
       "      <td id=\"T_fb297_row1_col0\" class=\"data row1 col0\" >0.635772</td>\n",
       "      <td id=\"T_fb297_row1_col1\" class=\"data row1 col1\" >0.694873</td>\n",
       "    </tr>\n",
       "    <tr>\n",
       "      <th id=\"T_fb297_level1_row2\" class=\"row_heading level1 row2\" >prepend_context</th>\n",
       "      <td id=\"T_fb297_row2_col0\" class=\"data row2 col0\" >0.647325</td>\n",
       "      <td id=\"T_fb297_row2_col1\" class=\"data row2 col1\" >0.704707</td>\n",
       "    </tr>\n",
       "    <tr>\n",
       "      <th id=\"T_fb297_level1_row3\" class=\"row_heading level1 row3\" >quretec_expansion</th>\n",
       "      <td id=\"T_fb297_row3_col0\" class=\"data row3 col0\" >0.641062</td>\n",
       "      <td id=\"T_fb297_row3_col1\" class=\"data row3 col1\" >0.702081</td>\n",
       "    </tr>\n",
       "    <tr>\n",
       "      <th id=\"T_fb297_level0_row4\" class=\"row_heading level0 row4\" rowspan=\"3\">n_3</th>\n",
       "      <th id=\"T_fb297_level1_row4\" class=\"row_heading level1 row4\" >canard_rewritten</th>\n",
       "      <td id=\"T_fb297_row4_col0\" class=\"data row4 col0\" >0.630763</td>\n",
       "      <td id=\"T_fb297_row4_col1\" class=\"data row4 col1\" >0.693598</td>\n",
       "    </tr>\n",
       "    <tr>\n",
       "      <th id=\"T_fb297_level1_row5\" class=\"row_heading level1 row5\" >prepend_context</th>\n",
       "      <td id=\"T_fb297_row5_col0\" class=\"data row5 col0\" >0.638429</td>\n",
       "      <td id=\"T_fb297_row5_col1\" class=\"data row5 col1\" >0.696237</td>\n",
       "    </tr>\n",
       "    <tr>\n",
       "      <th id=\"T_fb297_level1_row6\" class=\"row_heading level1 row6\" >quretec_expansion</th>\n",
       "      <td id=\"T_fb297_row6_col0\" class=\"data row6 col0\" >0.626237</td>\n",
       "      <td id=\"T_fb297_row6_col1\" class=\"data row6 col1\" >0.692693</td>\n",
       "    </tr>\n",
       "    <tr>\n",
       "      <th id=\"T_fb297_level0_row7\" class=\"row_heading level0 row7\" rowspan=\"3\">n_all</th>\n",
       "      <th id=\"T_fb297_level1_row7\" class=\"row_heading level1 row7\" >canard_rewritten</th>\n",
       "      <td id=\"T_fb297_row7_col0\" class=\"data row7 col0\" >0.627329</td>\n",
       "      <td id=\"T_fb297_row7_col1\" class=\"data row7 col1\" >0.693162</td>\n",
       "    </tr>\n",
       "    <tr>\n",
       "      <th id=\"T_fb297_level1_row8\" class=\"row_heading level1 row8\" >prepend_context</th>\n",
       "      <td id=\"T_fb297_row8_col0\" class=\"data row8 col0\" >0.611581</td>\n",
       "      <td id=\"T_fb297_row8_col1\" class=\"data row8 col1\" >0.678528</td>\n",
       "    </tr>\n",
       "    <tr>\n",
       "      <th id=\"T_fb297_level1_row9\" class=\"row_heading level1 row9\" >quretec_expansion</th>\n",
       "      <td id=\"T_fb297_row9_col0\" class=\"data row9 col0\" >0.630821</td>\n",
       "      <td id=\"T_fb297_row9_col1\" class=\"data row9 col1\" >0.689187</td>\n",
       "    </tr>\n",
       "  </tbody>\n",
       "</table>\n"
      ],
      "text/plain": [
       "<pandas.io.formats.style.Styler at 0x7f7ae9cbb700>"
      ]
     },
     "execution_count": 505,
     "metadata": {},
     "output_type": "execute_result"
    }
   ],
   "source": [
    "competence_needs_qooka_step_comparison = competence_needs_qooka_combined_data[competence_needs_qooka_combined_data['document_representation'] == 'step']\n",
    "competence_needs_qooka_step_comparison.groupby(['context_window', 'query_rep']).mean(numeric_only=True).loc[:,['test_qa_answer_f1','test_qa_sas']].style.highlight_max(color='#eb6134')\n"
   ]
  },
  {
   "cell_type": "markdown",
   "id": "90dea53e",
   "metadata": {},
   "source": [
    "#### FiD"
   ]
  },
  {
   "cell_type": "code",
   "execution_count": 506,
   "id": "335392dc",
   "metadata": {},
   "outputs": [
    {
     "data": {
      "text/plain": [
       "'FiD - Step'"
      ]
     },
     "metadata": {},
     "output_type": "display_data"
    },
    {
     "data": {
      "text/html": [
       "<style type=\"text/css\">\n",
       "#T_ce6df_row0_col0, #T_ce6df_row1_col1 {\n",
       "  background-color: #eb6134;\n",
       "}\n",
       "</style>\n",
       "<table id=\"T_ce6df\">\n",
       "  <thead>\n",
       "    <tr>\n",
       "      <th class=\"blank level0\" >&nbsp;</th>\n",
       "      <th id=\"T_ce6df_level0_col0\" class=\"col_heading level0 col0\" >test_qa_answer_f1</th>\n",
       "      <th id=\"T_ce6df_level0_col1\" class=\"col_heading level0 col1\" >test_qa_sas</th>\n",
       "    </tr>\n",
       "    <tr>\n",
       "      <th class=\"index_name level0\" >context_window</th>\n",
       "      <th class=\"blank col0\" >&nbsp;</th>\n",
       "      <th class=\"blank col1\" >&nbsp;</th>\n",
       "    </tr>\n",
       "  </thead>\n",
       "  <tbody>\n",
       "    <tr>\n",
       "      <th id=\"T_ce6df_level0_row0\" class=\"row_heading level0 row0\" >n_0</th>\n",
       "      <td id=\"T_ce6df_row0_col0\" class=\"data row0 col0\" >0.629350</td>\n",
       "      <td id=\"T_ce6df_row0_col1\" class=\"data row0 col1\" >0.691972</td>\n",
       "    </tr>\n",
       "    <tr>\n",
       "      <th id=\"T_ce6df_level0_row1\" class=\"row_heading level0 row1\" >n_2</th>\n",
       "      <td id=\"T_ce6df_row1_col0\" class=\"data row1 col0\" >0.628788</td>\n",
       "      <td id=\"T_ce6df_row1_col1\" class=\"data row1 col1\" >0.692302</td>\n",
       "    </tr>\n",
       "    <tr>\n",
       "      <th id=\"T_ce6df_level0_row2\" class=\"row_heading level0 row2\" >n_3</th>\n",
       "      <td id=\"T_ce6df_row2_col0\" class=\"data row2 col0\" >0.594253</td>\n",
       "      <td id=\"T_ce6df_row2_col1\" class=\"data row2 col1\" >0.672700</td>\n",
       "    </tr>\n",
       "    <tr>\n",
       "      <th id=\"T_ce6df_level0_row3\" class=\"row_heading level0 row3\" >n_all</th>\n",
       "      <td id=\"T_ce6df_row3_col0\" class=\"data row3 col0\" >0.206224</td>\n",
       "      <td id=\"T_ce6df_row3_col1\" class=\"data row3 col1\" >0.299405</td>\n",
       "    </tr>\n",
       "  </tbody>\n",
       "</table>\n"
      ],
      "text/plain": [
       "<pandas.io.formats.style.Styler at 0x7f7aaa032340>"
      ]
     },
     "execution_count": 506,
     "metadata": {},
     "output_type": "execute_result"
    }
   ],
   "source": [
    "display('FiD - Step')\n",
    "competence_needs_qooka_step = pd.concat([competence_needs_qooka_fid_prepend_n0_step_metrics, competence_needs_qooka_fid_prepend_n2_step_metrics,\n",
    "                 competence_needs_qooka_fid_prepend_n3_step_metrics, competence_needs_qooka_fid_prepend_nall_step_metrics])\n",
    "competence_needs_qooka_step.groupby(['context_window']).mean(numeric_only=True).loc[:,['test_qa_answer_f1','test_qa_sas']].style.highlight_max(color='#eb6134')\n"
   ]
  },
  {
   "cell_type": "markdown",
   "id": "ad02055c",
   "metadata": {},
   "source": [
    "### Node Representation\n",
    "#### MonoQA"
   ]
  },
  {
   "cell_type": "code",
   "execution_count": 507,
   "id": "fe084f65",
   "metadata": {},
   "outputs": [
    {
     "data": {
      "text/html": [
       "<style type=\"text/css\">\n",
       "#T_45f7b_row2_col0, #T_45f7b_row2_col1 {\n",
       "  background-color: #eb6134;\n",
       "}\n",
       "</style>\n",
       "<table id=\"T_45f7b\">\n",
       "  <thead>\n",
       "    <tr>\n",
       "      <th class=\"blank\" >&nbsp;</th>\n",
       "      <th class=\"blank level0\" >&nbsp;</th>\n",
       "      <th id=\"T_45f7b_level0_col0\" class=\"col_heading level0 col0\" >test_qa_answer_f1</th>\n",
       "      <th id=\"T_45f7b_level0_col1\" class=\"col_heading level0 col1\" >test_qa_sas</th>\n",
       "    </tr>\n",
       "    <tr>\n",
       "      <th class=\"index_name level0\" >context_window</th>\n",
       "      <th class=\"index_name level1\" >query_rep</th>\n",
       "      <th class=\"blank col0\" >&nbsp;</th>\n",
       "      <th class=\"blank col1\" >&nbsp;</th>\n",
       "    </tr>\n",
       "  </thead>\n",
       "  <tbody>\n",
       "    <tr>\n",
       "      <th id=\"T_45f7b_level0_row0\" class=\"row_heading level0 row0\" >n_0</th>\n",
       "      <th id=\"T_45f7b_level1_row0\" class=\"row_heading level1 row0\" >prepend_context</th>\n",
       "      <td id=\"T_45f7b_row0_col0\" class=\"data row0 col0\" >0.622826</td>\n",
       "      <td id=\"T_45f7b_row0_col1\" class=\"data row0 col1\" >0.682250</td>\n",
       "    </tr>\n",
       "    <tr>\n",
       "      <th id=\"T_45f7b_level0_row1\" class=\"row_heading level0 row1\" rowspan=\"3\">n_2</th>\n",
       "      <th id=\"T_45f7b_level1_row1\" class=\"row_heading level1 row1\" >canard_rewritten</th>\n",
       "      <td id=\"T_45f7b_row1_col0\" class=\"data row1 col0\" >0.630274</td>\n",
       "      <td id=\"T_45f7b_row1_col1\" class=\"data row1 col1\" >0.689461</td>\n",
       "    </tr>\n",
       "    <tr>\n",
       "      <th id=\"T_45f7b_level1_row2\" class=\"row_heading level1 row2\" >prepend_context</th>\n",
       "      <td id=\"T_45f7b_row2_col0\" class=\"data row2 col0\" >0.655364</td>\n",
       "      <td id=\"T_45f7b_row2_col1\" class=\"data row2 col1\" >0.712381</td>\n",
       "    </tr>\n",
       "    <tr>\n",
       "      <th id=\"T_45f7b_level1_row3\" class=\"row_heading level1 row3\" >quretec_expansion</th>\n",
       "      <td id=\"T_45f7b_row3_col0\" class=\"data row3 col0\" >0.631920</td>\n",
       "      <td id=\"T_45f7b_row3_col1\" class=\"data row3 col1\" >0.699132</td>\n",
       "    </tr>\n",
       "    <tr>\n",
       "      <th id=\"T_45f7b_level0_row4\" class=\"row_heading level0 row4\" rowspan=\"3\">n_3</th>\n",
       "      <th id=\"T_45f7b_level1_row4\" class=\"row_heading level1 row4\" >canard_rewritten</th>\n",
       "      <td id=\"T_45f7b_row4_col0\" class=\"data row4 col0\" >0.626267</td>\n",
       "      <td id=\"T_45f7b_row4_col1\" class=\"data row4 col1\" >0.687737</td>\n",
       "    </tr>\n",
       "    <tr>\n",
       "      <th id=\"T_45f7b_level1_row5\" class=\"row_heading level1 row5\" >prepend_context</th>\n",
       "      <td id=\"T_45f7b_row5_col0\" class=\"data row5 col0\" >0.648440</td>\n",
       "      <td id=\"T_45f7b_row5_col1\" class=\"data row5 col1\" >0.703324</td>\n",
       "    </tr>\n",
       "    <tr>\n",
       "      <th id=\"T_45f7b_level1_row6\" class=\"row_heading level1 row6\" >quretec_expansion</th>\n",
       "      <td id=\"T_45f7b_row6_col0\" class=\"data row6 col0\" >0.636108</td>\n",
       "      <td id=\"T_45f7b_row6_col1\" class=\"data row6 col1\" >0.697882</td>\n",
       "    </tr>\n",
       "    <tr>\n",
       "      <th id=\"T_45f7b_level0_row7\" class=\"row_heading level0 row7\" rowspan=\"3\">n_all</th>\n",
       "      <th id=\"T_45f7b_level1_row7\" class=\"row_heading level1 row7\" >canard_rewritten</th>\n",
       "      <td id=\"T_45f7b_row7_col0\" class=\"data row7 col0\" >0.619559</td>\n",
       "      <td id=\"T_45f7b_row7_col1\" class=\"data row7 col1\" >0.681668</td>\n",
       "    </tr>\n",
       "    <tr>\n",
       "      <th id=\"T_45f7b_level1_row8\" class=\"row_heading level1 row8\" >prepend_context</th>\n",
       "      <td id=\"T_45f7b_row8_col0\" class=\"data row8 col0\" >0.627715</td>\n",
       "      <td id=\"T_45f7b_row8_col1\" class=\"data row8 col1\" >0.697806</td>\n",
       "    </tr>\n",
       "    <tr>\n",
       "      <th id=\"T_45f7b_level1_row9\" class=\"row_heading level1 row9\" >quretec_expansion</th>\n",
       "      <td id=\"T_45f7b_row9_col0\" class=\"data row9 col0\" >0.623346</td>\n",
       "      <td id=\"T_45f7b_row9_col1\" class=\"data row9 col1\" >0.685330</td>\n",
       "    </tr>\n",
       "  </tbody>\n",
       "</table>\n"
      ],
      "text/plain": [
       "<pandas.io.formats.style.Styler at 0x7f7a883f15b0>"
      ]
     },
     "execution_count": 507,
     "metadata": {},
     "output_type": "execute_result"
    }
   ],
   "source": [
    "competence_needs_qooka_node_comparison = competence_needs_qooka_combined_data[competence_needs_qooka_combined_data['document_representation'] == 'node']\n",
    "competence_needs_qooka_node_comparison.groupby(['context_window', 'query_rep']).mean(numeric_only=True).loc[:,['test_qa_answer_f1','test_qa_sas']].style.highlight_max(color='#eb6134')\n"
   ]
  },
  {
   "cell_type": "markdown",
   "id": "fc3dfe89",
   "metadata": {},
   "source": [
    "#### FiD"
   ]
  },
  {
   "cell_type": "code",
   "execution_count": 508,
   "id": "aa5af01d",
   "metadata": {},
   "outputs": [
    {
     "data": {
      "text/plain": [
       "'FiD - Node'"
      ]
     },
     "metadata": {},
     "output_type": "display_data"
    },
    {
     "data": {
      "text/html": [
       "<style type=\"text/css\">\n",
       "#T_ba0c9_row1_col0, #T_ba0c9_row1_col1 {\n",
       "  background-color: #eb6134;\n",
       "}\n",
       "</style>\n",
       "<table id=\"T_ba0c9\">\n",
       "  <thead>\n",
       "    <tr>\n",
       "      <th class=\"blank level0\" >&nbsp;</th>\n",
       "      <th id=\"T_ba0c9_level0_col0\" class=\"col_heading level0 col0\" >test_qa_answer_f1</th>\n",
       "      <th id=\"T_ba0c9_level0_col1\" class=\"col_heading level0 col1\" >test_qa_sas</th>\n",
       "    </tr>\n",
       "    <tr>\n",
       "      <th class=\"index_name level0\" >context_window</th>\n",
       "      <th class=\"blank col0\" >&nbsp;</th>\n",
       "      <th class=\"blank col1\" >&nbsp;</th>\n",
       "    </tr>\n",
       "  </thead>\n",
       "  <tbody>\n",
       "    <tr>\n",
       "      <th id=\"T_ba0c9_level0_row0\" class=\"row_heading level0 row0\" >n_0</th>\n",
       "      <td id=\"T_ba0c9_row0_col0\" class=\"data row0 col0\" >0.621579</td>\n",
       "      <td id=\"T_ba0c9_row0_col1\" class=\"data row0 col1\" >0.686394</td>\n",
       "    </tr>\n",
       "    <tr>\n",
       "      <th id=\"T_ba0c9_level0_row1\" class=\"row_heading level0 row1\" >n_2</th>\n",
       "      <td id=\"T_ba0c9_row1_col0\" class=\"data row1 col0\" >0.623469</td>\n",
       "      <td id=\"T_ba0c9_row1_col1\" class=\"data row1 col1\" >0.692063</td>\n",
       "    </tr>\n",
       "    <tr>\n",
       "      <th id=\"T_ba0c9_level0_row2\" class=\"row_heading level0 row2\" >n_3</th>\n",
       "      <td id=\"T_ba0c9_row2_col0\" class=\"data row2 col0\" >0.610516</td>\n",
       "      <td id=\"T_ba0c9_row2_col1\" class=\"data row2 col1\" >0.681065</td>\n",
       "    </tr>\n",
       "    <tr>\n",
       "      <th id=\"T_ba0c9_level0_row3\" class=\"row_heading level0 row3\" >n_all</th>\n",
       "      <td id=\"T_ba0c9_row3_col0\" class=\"data row3 col0\" >0.215037</td>\n",
       "      <td id=\"T_ba0c9_row3_col1\" class=\"data row3 col1\" >0.304464</td>\n",
       "    </tr>\n",
       "  </tbody>\n",
       "</table>\n"
      ],
      "text/plain": [
       "<pandas.io.formats.style.Styler at 0x7f7adb2d4550>"
      ]
     },
     "execution_count": 508,
     "metadata": {},
     "output_type": "execute_result"
    }
   ],
   "source": [
    "display('FiD - Node')\n",
    "competence_needs_qooka_node = pd.concat([competence_needs_qooka_fid_prepend_n0_node_metrics, competence_needs_qooka_fid_prepend_n2_node_metrics,\n",
    "                 competence_needs_qooka_fid_prepend_n3_node_metrics, competence_needs_qooka_fid_prepend_nall_node_metrics])\n",
    "competence_needs_qooka_node.groupby(['context_window']).mean(numeric_only=True).loc[:,['test_qa_answer_f1','test_qa_sas']].style.highlight_max(color='#eb6134')\n"
   ]
  },
  {
   "cell_type": "markdown",
   "id": "977ade3a",
   "metadata": {},
   "source": [
    "## QookA: Fact Needs"
   ]
  },
  {
   "cell_type": "code",
   "execution_count": 509,
   "id": "df877da7",
   "metadata": {},
   "outputs": [],
   "source": [
    "fact_needs_qooka_t5_metrics = create_metrics_table('fact_needs','qooka',  'document','prepend_context','n_0','t5')\n",
    "fact_needs_qooka_monoqa_node_metrics = create_metrics_table('fact_needs','qooka','node','prepend_context','n_0','monoqa')\n",
    "fact_needs_qooka_monoqa_step_metrics = create_metrics_table('fact_needs','qooka','step','prepend_context','n_0','monoqa')\n",
    "\n",
    "fact_needs_qooka_t5_prepend_n2_metrics = create_metrics_table('fact_needs','qooka', 'document','prepend_context','n_2','t5')\n",
    "fact_needs_qooka_monoqa_prepend_n2_step_metrics = create_metrics_table('fact_needs','qooka', 'step','prepend_context','n_2','monoqa')\n",
    "fact_needs_qooka_monoqa_prepend_n2_node_metrics = create_metrics_table('fact_needs','qooka', 'node', 'prepend_context', 'n_2', 'monoqa')\n",
    "\n",
    "fact_needs_qooka_t5_quretec_n2_metrics = create_metrics_table('fact_needs','qooka','document','quretec_expansion','n_2','t5')\n",
    "fact_needs_qooka_monoqa_quretec_n2_step_metrics = create_metrics_table('fact_needs','qooka','step','quretec_expansion','n_2','monoqa')\n",
    "fact_needs_qooka_monoqa_quretec_n2_node_metrics = create_metrics_table('fact_needs','qooka','node', 'quretec_expansion', 'n_2', 'monoqa')\n",
    "\n",
    "fact_needs_qooka_t5_canard_n2_metrics = create_metrics_table('fact_needs','qooka', 'document','canard_rewritten','n_2','t5')\n",
    "fact_needs_qooka_monoqa_canard_n2_step_metrics = create_metrics_table('fact_needs','qooka', 'step','canard_rewritten','n_2','monoqa')\n",
    "fact_needs_qooka_monoqa_canard_n2_node_metrics = create_metrics_table('fact_needs','qooka',  'node', 'canard_rewritten', 'n_2', 'monoqa')\n",
    "\n",
    "fact_needs_qooka_t5_prepend_n3_metrics = create_metrics_table('fact_needs','qooka', 'document','prepend_context','n_3','t5')\n",
    "fact_needs_qooka_monoqa_prepend_n3_step_metrics = create_metrics_table('fact_needs','qooka', 'step','prepend_context','n_3','monoqa')\n",
    "fact_needs_qooka_monoqa_prepend_n3_node_metrics = create_metrics_table('fact_needs','qooka',  'node', 'prepend_context', 'n_3', 'monoqa')\n",
    "\n",
    "fact_needs_qooka_t5_quretec_n3_metrics = create_metrics_table('fact_needs','qooka', 'document','quretec_expansion','n_3','t5')\n",
    "fact_needs_qooka_monoqa_quretec_n3_step_metrics = create_metrics_table('fact_needs','qooka','step','quretec_expansion','n_3','monoqa')\n",
    "fact_needs_qooka_monoqa_quretec_n3_node_metrics = create_metrics_table('fact_needs','qooka', 'node', 'quretec_expansion', 'n_3', 'monoqa')\n",
    "\n",
    "fact_needs_qooka_t5_canard_n3_metrics = create_metrics_table('fact_needs','qooka', 'document','canard_rewritten','n_3','t5')\n",
    "fact_needs_qooka_monoqa_canard_n3_step_metrics = create_metrics_table('fact_needs','qooka', 'step','canard_rewritten','n_3','monoqa')\n",
    "fact_needs_qooka_monoqa_canard_n3_node_metrics = create_metrics_table('fact_needs','qooka',  'node', 'canard_rewritten', 'n_3', 'monoqa')\n",
    "\n",
    "fact_needs_qooka_t5_prepend_nall_metrics = create_metrics_table('fact_needs','qooka', 'document','prepend_context','n_all','t5')\n",
    "fact_needs_qooka_monoqa_prepend_nall_step_metrics = create_metrics_table('fact_needs','qooka', 'step','prepend_context','n_all','monoqa')\n",
    "fact_needs_qooka_monoqa_prepend_nall_node_metrics = create_metrics_table('fact_needs','qooka', 'node','prepend_context','n_all','monoqa')\n",
    "\n",
    "fact_needs_qooka_t5_quretec_nall_metrics = create_metrics_table('fact_needs','qooka', 'document','quretec_expansion','n_all','t5')\n",
    "fact_needs_qooka_monoqa_quretec_nall_step_metrics = create_metrics_table('fact_needs','qooka', 'step','quretec_expansion','n_all','monoqa')\n",
    "fact_needs_qooka_monoqa_quretec_nall_node_metrics = create_metrics_table('fact_needs','qooka', 'node','quretec_expansion','n_all','monoqa')\n",
    "\n",
    "fact_needs_qooka_t5_canard_nall_metrics = create_metrics_table('fact_needs','qooka', 'document','canard_rewritten','n_all','t5')\n",
    "fact_needs_qooka_monoqa_canard_nall_step_metrics = create_metrics_table('fact_needs','qooka', 'step','canard_rewritten','n_all','monoqa')\n",
    "fact_needs_qooka_monoqa_canard_nall_node_metrics = create_metrics_table('fact_needs','qooka', 'node', 'canard_rewritten', 'n_all', 'monoqa')\n"
   ]
  },
  {
   "cell_type": "code",
   "execution_count": 510,
   "id": "c0f72cd9",
   "metadata": {},
   "outputs": [],
   "source": [
    "fact_needs_qooka_fid_prepend_n0_node_metrics = create_metrics_table('fact_needs', 'qooka', 'node', 'prepend_context', 'n_0', 'fid')\n",
    "fact_needs_qooka_fid_prepend_n2_node_metrics = create_metrics_table('fact_needs', 'qooka', 'node', 'prepend_context', 'n_2', 'fid')\n",
    "fact_needs_qooka_fid_prepend_n3_node_metrics = create_metrics_table('fact_needs', 'qooka', 'node', 'prepend_context', 'n_3', 'fid')\n",
    "fact_needs_qooka_fid_prepend_nall_node_metrics = create_metrics_table('fact_needs', 'qooka', 'node', 'prepend_context', 'n_all', 'fid')\n",
    "\n",
    "fact_needs_qooka_fid_prepend_n0_step_metrics = create_metrics_table('fact_needs', 'qooka', 'step', 'prepend_context', 'n_0', 'fid')\n",
    "fact_needs_qooka_fid_prepend_n2_step_metrics = create_metrics_table('fact_needs', 'qooka', 'step', 'prepend_context', 'n_2', 'fid')\n",
    "fact_needs_qooka_fid_prepend_n3_step_metrics = create_metrics_table('fact_needs', 'qooka', 'step', 'prepend_context', 'n_3', 'fid')\n",
    "fact_needs_qooka_fid_prepend_nall_step_metrics = create_metrics_table('fact_needs', 'qooka', 'step', 'prepend_context', 'n_all', 'fid')"
   ]
  },
  {
   "cell_type": "code",
   "execution_count": 511,
   "id": "9fe3436b",
   "metadata": {},
   "outputs": [],
   "source": [
    "# Assuming create_metrics_table returns a DataFrame with 'test_qa_answer_f1' column\n",
    "# Adjust column names accordingly if needed\n",
    "\n",
    "# Concatenate the dataframes for n2 and n3 conditions\n",
    "n0_metrics = pd.concat([fact_needs_qooka_t5_metrics, fact_needs_qooka_monoqa_step_metrics, fact_needs_qooka_monoqa_node_metrics])\n",
    "n2_metrics = pd.concat([\n",
    "    fact_needs_qooka_t5_prepend_n2_metrics, fact_needs_qooka_monoqa_prepend_n2_step_metrics, fact_needs_qooka_monoqa_prepend_n2_node_metrics,\n",
    "    fact_needs_qooka_t5_quretec_n2_metrics, fact_needs_qooka_monoqa_quretec_n2_step_metrics, fact_needs_qooka_monoqa_quretec_n2_node_metrics,\n",
    "    fact_needs_qooka_t5_canard_n2_metrics, fact_needs_qooka_monoqa_canard_n2_step_metrics, fact_needs_qooka_monoqa_canard_n2_node_metrics,\n",
    "])\n",
    "\n",
    "n3_metrics = pd.concat([\n",
    "    fact_needs_qooka_t5_prepend_n3_metrics, fact_needs_qooka_monoqa_prepend_n3_step_metrics, fact_needs_qooka_monoqa_prepend_n3_node_metrics,\n",
    "    fact_needs_qooka_t5_quretec_n3_metrics,fact_needs_qooka_monoqa_quretec_n3_step_metrics,fact_needs_qooka_monoqa_quretec_n3_node_metrics,\n",
    "    fact_needs_qooka_t5_canard_n3_metrics, fact_needs_qooka_monoqa_canard_n3_step_metrics, fact_needs_qooka_monoqa_canard_n3_node_metrics,\n",
    "])\n",
    "\n",
    "nall_metrics = pd.concat([\n",
    "    fact_needs_qooka_t5_prepend_nall_metrics, fact_needs_qooka_monoqa_prepend_nall_step_metrics, fact_needs_qooka_monoqa_prepend_nall_node_metrics,\n",
    "    fact_needs_qooka_t5_quretec_nall_metrics, fact_needs_qooka_monoqa_quretec_nall_step_metrics, fact_needs_qooka_monoqa_quretec_nall_node_metrics,\n",
    "    fact_needs_qooka_t5_canard_nall_metrics, fact_needs_qooka_monoqa_canard_nall_step_metrics, fact_needs_qooka_monoqa_canard_nall_node_metrics\n",
    "])\n",
    "\n",
    "# Combine the data for plotting\n",
    "fact_needs_qooka_combined_data = pd.concat([n0_metrics, n2_metrics, n3_metrics, nall_metrics])"
   ]
  },
  {
   "cell_type": "markdown",
   "id": "1b5323fe",
   "metadata": {},
   "source": [
    "### Document Representation"
   ]
  },
  {
   "cell_type": "code",
   "execution_count": 512,
   "id": "ed7d11ea",
   "metadata": {},
   "outputs": [
    {
     "data": {
      "text/html": [
       "<style type=\"text/css\">\n",
       "#T_f0778_row6_col0, #T_f0778_row6_col1 {\n",
       "  background-color: #eb6134;\n",
       "}\n",
       "</style>\n",
       "<table id=\"T_f0778\">\n",
       "  <thead>\n",
       "    <tr>\n",
       "      <th class=\"blank\" >&nbsp;</th>\n",
       "      <th class=\"blank level0\" >&nbsp;</th>\n",
       "      <th id=\"T_f0778_level0_col0\" class=\"col_heading level0 col0\" >test_qa_answer_f1</th>\n",
       "      <th id=\"T_f0778_level0_col1\" class=\"col_heading level0 col1\" >test_qa_sas</th>\n",
       "    </tr>\n",
       "    <tr>\n",
       "      <th class=\"index_name level0\" >context_window</th>\n",
       "      <th class=\"index_name level1\" >query_rep</th>\n",
       "      <th class=\"blank col0\" >&nbsp;</th>\n",
       "      <th class=\"blank col1\" >&nbsp;</th>\n",
       "    </tr>\n",
       "  </thead>\n",
       "  <tbody>\n",
       "    <tr>\n",
       "      <th id=\"T_f0778_level0_row0\" class=\"row_heading level0 row0\" >n_0</th>\n",
       "      <th id=\"T_f0778_level1_row0\" class=\"row_heading level1 row0\" >prepend_context</th>\n",
       "      <td id=\"T_f0778_row0_col0\" class=\"data row0 col0\" >0.562099</td>\n",
       "      <td id=\"T_f0778_row0_col1\" class=\"data row0 col1\" >0.597598</td>\n",
       "    </tr>\n",
       "    <tr>\n",
       "      <th id=\"T_f0778_level0_row1\" class=\"row_heading level0 row1\" rowspan=\"3\">n_2</th>\n",
       "      <th id=\"T_f0778_level1_row1\" class=\"row_heading level1 row1\" >canard_rewritten</th>\n",
       "      <td id=\"T_f0778_row1_col0\" class=\"data row1 col0\" >0.531890</td>\n",
       "      <td id=\"T_f0778_row1_col1\" class=\"data row1 col1\" >0.566101</td>\n",
       "    </tr>\n",
       "    <tr>\n",
       "      <th id=\"T_f0778_level1_row2\" class=\"row_heading level1 row2\" >prepend_context</th>\n",
       "      <td id=\"T_f0778_row2_col0\" class=\"data row2 col0\" >0.549803</td>\n",
       "      <td id=\"T_f0778_row2_col1\" class=\"data row2 col1\" >0.584576</td>\n",
       "    </tr>\n",
       "    <tr>\n",
       "      <th id=\"T_f0778_level1_row3\" class=\"row_heading level1 row3\" >quretec_expansion</th>\n",
       "      <td id=\"T_f0778_row3_col0\" class=\"data row3 col0\" >0.564722</td>\n",
       "      <td id=\"T_f0778_row3_col1\" class=\"data row3 col1\" >0.598527</td>\n",
       "    </tr>\n",
       "    <tr>\n",
       "      <th id=\"T_f0778_level0_row4\" class=\"row_heading level0 row4\" rowspan=\"3\">n_3</th>\n",
       "      <th id=\"T_f0778_level1_row4\" class=\"row_heading level1 row4\" >canard_rewritten</th>\n",
       "      <td id=\"T_f0778_row4_col0\" class=\"data row4 col0\" >0.539930</td>\n",
       "      <td id=\"T_f0778_row4_col1\" class=\"data row4 col1\" >0.570471</td>\n",
       "    </tr>\n",
       "    <tr>\n",
       "      <th id=\"T_f0778_level1_row5\" class=\"row_heading level1 row5\" >prepend_context</th>\n",
       "      <td id=\"T_f0778_row5_col0\" class=\"data row5 col0\" >0.552177</td>\n",
       "      <td id=\"T_f0778_row5_col1\" class=\"data row5 col1\" >0.588259</td>\n",
       "    </tr>\n",
       "    <tr>\n",
       "      <th id=\"T_f0778_level1_row6\" class=\"row_heading level1 row6\" >quretec_expansion</th>\n",
       "      <td id=\"T_f0778_row6_col0\" class=\"data row6 col0\" >0.568070</td>\n",
       "      <td id=\"T_f0778_row6_col1\" class=\"data row6 col1\" >0.600187</td>\n",
       "    </tr>\n",
       "    <tr>\n",
       "      <th id=\"T_f0778_level0_row7\" class=\"row_heading level0 row7\" rowspan=\"3\">n_all</th>\n",
       "      <th id=\"T_f0778_level1_row7\" class=\"row_heading level1 row7\" >canard_rewritten</th>\n",
       "      <td id=\"T_f0778_row7_col0\" class=\"data row7 col0\" >0.533898</td>\n",
       "      <td id=\"T_f0778_row7_col1\" class=\"data row7 col1\" >0.565306</td>\n",
       "    </tr>\n",
       "    <tr>\n",
       "      <th id=\"T_f0778_level1_row8\" class=\"row_heading level1 row8\" >prepend_context</th>\n",
       "      <td id=\"T_f0778_row8_col0\" class=\"data row8 col0\" >0.403198</td>\n",
       "      <td id=\"T_f0778_row8_col1\" class=\"data row8 col1\" >0.434643</td>\n",
       "    </tr>\n",
       "    <tr>\n",
       "      <th id=\"T_f0778_level1_row9\" class=\"row_heading level1 row9\" >quretec_expansion</th>\n",
       "      <td id=\"T_f0778_row9_col0\" class=\"data row9 col0\" >0.557085</td>\n",
       "      <td id=\"T_f0778_row9_col1\" class=\"data row9 col1\" >0.590707</td>\n",
       "    </tr>\n",
       "  </tbody>\n",
       "</table>\n"
      ],
      "text/plain": [
       "<pandas.io.formats.style.Styler at 0x7f7ae8a7fd30>"
      ]
     },
     "execution_count": 512,
     "metadata": {},
     "output_type": "execute_result"
    }
   ],
   "source": [
    "fact_needs_qooka_document_comparison = fact_needs_qooka_combined_data[fact_needs_qooka_combined_data['document_representation'] == 'document']\n",
    "fact_needs_qooka_document_comparison.groupby(['context_window', 'query_rep']).mean(numeric_only=True).loc[:,['test_qa_answer_f1','test_qa_sas']].style.highlight_max(color='#eb6134')\n"
   ]
  },
  {
   "cell_type": "markdown",
   "id": "4c0c4fbe",
   "metadata": {},
   "source": [
    "### Step Representation\n",
    "#### MonoQA"
   ]
  },
  {
   "cell_type": "code",
   "execution_count": 513,
   "id": "d21a9eb2",
   "metadata": {},
   "outputs": [
    {
     "data": {
      "text/html": [
       "<style type=\"text/css\">\n",
       "#T_8767d_row2_col1, #T_8767d_row3_col0 {\n",
       "  background-color: #eb6134;\n",
       "}\n",
       "</style>\n",
       "<table id=\"T_8767d\">\n",
       "  <thead>\n",
       "    <tr>\n",
       "      <th class=\"blank\" >&nbsp;</th>\n",
       "      <th class=\"blank level0\" >&nbsp;</th>\n",
       "      <th id=\"T_8767d_level0_col0\" class=\"col_heading level0 col0\" >test_qa_answer_f1</th>\n",
       "      <th id=\"T_8767d_level0_col1\" class=\"col_heading level0 col1\" >test_qa_sas</th>\n",
       "    </tr>\n",
       "    <tr>\n",
       "      <th class=\"index_name level0\" >context_window</th>\n",
       "      <th class=\"index_name level1\" >query_rep</th>\n",
       "      <th class=\"blank col0\" >&nbsp;</th>\n",
       "      <th class=\"blank col1\" >&nbsp;</th>\n",
       "    </tr>\n",
       "  </thead>\n",
       "  <tbody>\n",
       "    <tr>\n",
       "      <th id=\"T_8767d_level0_row0\" class=\"row_heading level0 row0\" >n_0</th>\n",
       "      <th id=\"T_8767d_level1_row0\" class=\"row_heading level1 row0\" >prepend_context</th>\n",
       "      <td id=\"T_8767d_row0_col0\" class=\"data row0 col0\" >0.611367</td>\n",
       "      <td id=\"T_8767d_row0_col1\" class=\"data row0 col1\" >0.637669</td>\n",
       "    </tr>\n",
       "    <tr>\n",
       "      <th id=\"T_8767d_level0_row1\" class=\"row_heading level0 row1\" rowspan=\"3\">n_2</th>\n",
       "      <th id=\"T_8767d_level1_row1\" class=\"row_heading level1 row1\" >canard_rewritten</th>\n",
       "      <td id=\"T_8767d_row1_col0\" class=\"data row1 col0\" >0.592785</td>\n",
       "      <td id=\"T_8767d_row1_col1\" class=\"data row1 col1\" >0.622061</td>\n",
       "    </tr>\n",
       "    <tr>\n",
       "      <th id=\"T_8767d_level1_row2\" class=\"row_heading level1 row2\" >prepend_context</th>\n",
       "      <td id=\"T_8767d_row2_col0\" class=\"data row2 col0\" >0.620069</td>\n",
       "      <td id=\"T_8767d_row2_col1\" class=\"data row2 col1\" >0.645594</td>\n",
       "    </tr>\n",
       "    <tr>\n",
       "      <th id=\"T_8767d_level1_row3\" class=\"row_heading level1 row3\" >quretec_expansion</th>\n",
       "      <td id=\"T_8767d_row3_col0\" class=\"data row3 col0\" >0.623266</td>\n",
       "      <td id=\"T_8767d_row3_col1\" class=\"data row3 col1\" >0.644188</td>\n",
       "    </tr>\n",
       "    <tr>\n",
       "      <th id=\"T_8767d_level0_row4\" class=\"row_heading level0 row4\" rowspan=\"3\">n_3</th>\n",
       "      <th id=\"T_8767d_level1_row4\" class=\"row_heading level1 row4\" >canard_rewritten</th>\n",
       "      <td id=\"T_8767d_row4_col0\" class=\"data row4 col0\" >0.578187</td>\n",
       "      <td id=\"T_8767d_row4_col1\" class=\"data row4 col1\" >0.609207</td>\n",
       "    </tr>\n",
       "    <tr>\n",
       "      <th id=\"T_8767d_level1_row5\" class=\"row_heading level1 row5\" >prepend_context</th>\n",
       "      <td id=\"T_8767d_row5_col0\" class=\"data row5 col0\" >0.611740</td>\n",
       "      <td id=\"T_8767d_row5_col1\" class=\"data row5 col1\" >0.637744</td>\n",
       "    </tr>\n",
       "    <tr>\n",
       "      <th id=\"T_8767d_level1_row6\" class=\"row_heading level1 row6\" >quretec_expansion</th>\n",
       "      <td id=\"T_8767d_row6_col0\" class=\"data row6 col0\" >0.623137</td>\n",
       "      <td id=\"T_8767d_row6_col1\" class=\"data row6 col1\" >0.645576</td>\n",
       "    </tr>\n",
       "    <tr>\n",
       "      <th id=\"T_8767d_level0_row7\" class=\"row_heading level0 row7\" rowspan=\"3\">n_all</th>\n",
       "      <th id=\"T_8767d_level1_row7\" class=\"row_heading level1 row7\" >canard_rewritten</th>\n",
       "      <td id=\"T_8767d_row7_col0\" class=\"data row7 col0\" >0.595936</td>\n",
       "      <td id=\"T_8767d_row7_col1\" class=\"data row7 col1\" >0.619672</td>\n",
       "    </tr>\n",
       "    <tr>\n",
       "      <th id=\"T_8767d_level1_row8\" class=\"row_heading level1 row8\" >prepend_context</th>\n",
       "      <td id=\"T_8767d_row8_col0\" class=\"data row8 col0\" >0.568778</td>\n",
       "      <td id=\"T_8767d_row8_col1\" class=\"data row8 col1\" >0.602103</td>\n",
       "    </tr>\n",
       "    <tr>\n",
       "      <th id=\"T_8767d_level1_row9\" class=\"row_heading level1 row9\" >quretec_expansion</th>\n",
       "      <td id=\"T_8767d_row9_col0\" class=\"data row9 col0\" >0.608296</td>\n",
       "      <td id=\"T_8767d_row9_col1\" class=\"data row9 col1\" >0.629604</td>\n",
       "    </tr>\n",
       "  </tbody>\n",
       "</table>\n"
      ],
      "text/plain": [
       "<pandas.io.formats.style.Styler at 0x7f7ae92f0ac0>"
      ]
     },
     "execution_count": 513,
     "metadata": {},
     "output_type": "execute_result"
    }
   ],
   "source": [
    "fact_needs_qooka_step_comparison = fact_needs_qooka_combined_data[fact_needs_qooka_combined_data['document_representation'] == 'step']\n",
    "fact_needs_qooka_step_comparison.groupby(['context_window', 'query_rep']).mean(numeric_only=True).loc[:,['test_qa_answer_f1','test_qa_sas']].style.highlight_max(color='#eb6134')\n"
   ]
  },
  {
   "cell_type": "markdown",
   "id": "e702cbd7",
   "metadata": {},
   "source": [
    "#### FiD"
   ]
  },
  {
   "cell_type": "code",
   "execution_count": 514,
   "id": "614419a1",
   "metadata": {},
   "outputs": [
    {
     "data": {
      "text/plain": [
       "'FiD - Step'"
      ]
     },
     "metadata": {},
     "output_type": "display_data"
    },
    {
     "data": {
      "text/html": [
       "<style type=\"text/css\">\n",
       "#T_db330_row0_col0, #T_db330_row0_col1 {\n",
       "  background-color: #eb6134;\n",
       "}\n",
       "</style>\n",
       "<table id=\"T_db330\">\n",
       "  <thead>\n",
       "    <tr>\n",
       "      <th class=\"blank level0\" >&nbsp;</th>\n",
       "      <th id=\"T_db330_level0_col0\" class=\"col_heading level0 col0\" >test_qa_answer_f1</th>\n",
       "      <th id=\"T_db330_level0_col1\" class=\"col_heading level0 col1\" >test_qa_sas</th>\n",
       "    </tr>\n",
       "    <tr>\n",
       "      <th class=\"index_name level0\" >context_window</th>\n",
       "      <th class=\"blank col0\" >&nbsp;</th>\n",
       "      <th class=\"blank col1\" >&nbsp;</th>\n",
       "    </tr>\n",
       "  </thead>\n",
       "  <tbody>\n",
       "    <tr>\n",
       "      <th id=\"T_db330_level0_row0\" class=\"row_heading level0 row0\" >n_0</th>\n",
       "      <td id=\"T_db330_row0_col0\" class=\"data row0 col0\" >0.663014</td>\n",
       "      <td id=\"T_db330_row0_col1\" class=\"data row0 col1\" >0.678037</td>\n",
       "    </tr>\n",
       "    <tr>\n",
       "      <th id=\"T_db330_level0_row1\" class=\"row_heading level0 row1\" >n_2</th>\n",
       "      <td id=\"T_db330_row1_col0\" class=\"data row1 col0\" >0.654914</td>\n",
       "      <td id=\"T_db330_row1_col1\" class=\"data row1 col1\" >0.676650</td>\n",
       "    </tr>\n",
       "    <tr>\n",
       "      <th id=\"T_db330_level0_row2\" class=\"row_heading level0 row2\" >n_3</th>\n",
       "      <td id=\"T_db330_row2_col0\" class=\"data row2 col0\" >0.626596</td>\n",
       "      <td id=\"T_db330_row2_col1\" class=\"data row2 col1\" >0.653403</td>\n",
       "    </tr>\n",
       "    <tr>\n",
       "      <th id=\"T_db330_level0_row3\" class=\"row_heading level0 row3\" >n_all</th>\n",
       "      <td id=\"T_db330_row3_col0\" class=\"data row3 col0\" >0.231813</td>\n",
       "      <td id=\"T_db330_row3_col1\" class=\"data row3 col1\" >0.255486</td>\n",
       "    </tr>\n",
       "  </tbody>\n",
       "</table>\n"
      ],
      "text/plain": [
       "<pandas.io.formats.style.Styler at 0x7f7aaa04eee0>"
      ]
     },
     "execution_count": 514,
     "metadata": {},
     "output_type": "execute_result"
    }
   ],
   "source": [
    "display('FiD - Step')\n",
    "fact_needs_qooka_step = pd.concat([fact_needs_qooka_fid_prepend_n0_step_metrics, fact_needs_qooka_fid_prepend_n2_step_metrics,\n",
    "                 fact_needs_qooka_fid_prepend_n3_step_metrics, fact_needs_qooka_fid_prepend_nall_step_metrics])\n",
    "fact_needs_qooka_step.groupby(['context_window']).mean(numeric_only=True).loc[:,['test_qa_answer_f1','test_qa_sas']].style.highlight_max(color='#eb6134')\n"
   ]
  },
  {
   "cell_type": "markdown",
   "id": "e7658c20",
   "metadata": {},
   "source": [
    "### Node Representation\n",
    "#### MonoQA"
   ]
  },
  {
   "cell_type": "code",
   "execution_count": 515,
   "id": "9af82729",
   "metadata": {},
   "outputs": [
    {
     "data": {
      "text/html": [
       "<style type=\"text/css\">\n",
       "#T_55c76_row2_col0, #T_55c76_row2_col1 {\n",
       "  background-color: #eb6134;\n",
       "}\n",
       "</style>\n",
       "<table id=\"T_55c76\">\n",
       "  <thead>\n",
       "    <tr>\n",
       "      <th class=\"blank\" >&nbsp;</th>\n",
       "      <th class=\"blank level0\" >&nbsp;</th>\n",
       "      <th id=\"T_55c76_level0_col0\" class=\"col_heading level0 col0\" >test_qa_answer_f1</th>\n",
       "      <th id=\"T_55c76_level0_col1\" class=\"col_heading level0 col1\" >test_qa_sas</th>\n",
       "    </tr>\n",
       "    <tr>\n",
       "      <th class=\"index_name level0\" >context_window</th>\n",
       "      <th class=\"index_name level1\" >query_rep</th>\n",
       "      <th class=\"blank col0\" >&nbsp;</th>\n",
       "      <th class=\"blank col1\" >&nbsp;</th>\n",
       "    </tr>\n",
       "  </thead>\n",
       "  <tbody>\n",
       "    <tr>\n",
       "      <th id=\"T_55c76_level0_row0\" class=\"row_heading level0 row0\" >n_0</th>\n",
       "      <th id=\"T_55c76_level1_row0\" class=\"row_heading level1 row0\" >prepend_context</th>\n",
       "      <td id=\"T_55c76_row0_col0\" class=\"data row0 col0\" >0.630317</td>\n",
       "      <td id=\"T_55c76_row0_col1\" class=\"data row0 col1\" >0.653355</td>\n",
       "    </tr>\n",
       "    <tr>\n",
       "      <th id=\"T_55c76_level0_row1\" class=\"row_heading level0 row1\" rowspan=\"3\">n_2</th>\n",
       "      <th id=\"T_55c76_level1_row1\" class=\"row_heading level1 row1\" >canard_rewritten</th>\n",
       "      <td id=\"T_55c76_row1_col0\" class=\"data row1 col0\" >0.610661</td>\n",
       "      <td id=\"T_55c76_row1_col1\" class=\"data row1 col1\" >0.633390</td>\n",
       "    </tr>\n",
       "    <tr>\n",
       "      <th id=\"T_55c76_level1_row2\" class=\"row_heading level1 row2\" >prepend_context</th>\n",
       "      <td id=\"T_55c76_row2_col0\" class=\"data row2 col0\" >0.667438</td>\n",
       "      <td id=\"T_55c76_row2_col1\" class=\"data row2 col1\" >0.685883</td>\n",
       "    </tr>\n",
       "    <tr>\n",
       "      <th id=\"T_55c76_level1_row3\" class=\"row_heading level1 row3\" >quretec_expansion</th>\n",
       "      <td id=\"T_55c76_row3_col0\" class=\"data row3 col0\" >0.634469</td>\n",
       "      <td id=\"T_55c76_row3_col1\" class=\"data row3 col1\" >0.659278</td>\n",
       "    </tr>\n",
       "    <tr>\n",
       "      <th id=\"T_55c76_level0_row4\" class=\"row_heading level0 row4\" rowspan=\"3\">n_3</th>\n",
       "      <th id=\"T_55c76_level1_row4\" class=\"row_heading level1 row4\" >canard_rewritten</th>\n",
       "      <td id=\"T_55c76_row4_col0\" class=\"data row4 col0\" >0.616872</td>\n",
       "      <td id=\"T_55c76_row4_col1\" class=\"data row4 col1\" >0.638071</td>\n",
       "    </tr>\n",
       "    <tr>\n",
       "      <th id=\"T_55c76_level1_row5\" class=\"row_heading level1 row5\" >prepend_context</th>\n",
       "      <td id=\"T_55c76_row5_col0\" class=\"data row5 col0\" >0.658643</td>\n",
       "      <td id=\"T_55c76_row5_col1\" class=\"data row5 col1\" >0.680454</td>\n",
       "    </tr>\n",
       "    <tr>\n",
       "      <th id=\"T_55c76_level1_row6\" class=\"row_heading level1 row6\" >quretec_expansion</th>\n",
       "      <td id=\"T_55c76_row6_col0\" class=\"data row6 col0\" >0.657217</td>\n",
       "      <td id=\"T_55c76_row6_col1\" class=\"data row6 col1\" >0.676630</td>\n",
       "    </tr>\n",
       "    <tr>\n",
       "      <th id=\"T_55c76_level0_row7\" class=\"row_heading level0 row7\" rowspan=\"3\">n_all</th>\n",
       "      <th id=\"T_55c76_level1_row7\" class=\"row_heading level1 row7\" >canard_rewritten</th>\n",
       "      <td id=\"T_55c76_row7_col0\" class=\"data row7 col0\" >0.604186</td>\n",
       "      <td id=\"T_55c76_row7_col1\" class=\"data row7 col1\" >0.629027</td>\n",
       "    </tr>\n",
       "    <tr>\n",
       "      <th id=\"T_55c76_level1_row8\" class=\"row_heading level1 row8\" >prepend_context</th>\n",
       "      <td id=\"T_55c76_row8_col0\" class=\"data row8 col0\" >0.634483</td>\n",
       "      <td id=\"T_55c76_row8_col1\" class=\"data row8 col1\" >0.660299</td>\n",
       "    </tr>\n",
       "    <tr>\n",
       "      <th id=\"T_55c76_level1_row9\" class=\"row_heading level1 row9\" >quretec_expansion</th>\n",
       "      <td id=\"T_55c76_row9_col0\" class=\"data row9 col0\" >0.631394</td>\n",
       "      <td id=\"T_55c76_row9_col1\" class=\"data row9 col1\" >0.650266</td>\n",
       "    </tr>\n",
       "  </tbody>\n",
       "</table>\n"
      ],
      "text/plain": [
       "<pandas.io.formats.style.Styler at 0x7f7abb0c48b0>"
      ]
     },
     "execution_count": 515,
     "metadata": {},
     "output_type": "execute_result"
    }
   ],
   "source": [
    "fact_needs_qooka_node_comparison = fact_needs_qooka_combined_data[fact_needs_qooka_combined_data['document_representation'] == 'node']\n",
    "fact_needs_qooka_node_comparison.groupby(['context_window', 'query_rep']).mean(numeric_only=True).loc[:,['test_qa_answer_f1','test_qa_sas']].style.highlight_max(color='#eb6134')\n"
   ]
  },
  {
   "cell_type": "markdown",
   "id": "69bfeec1",
   "metadata": {},
   "source": [
    "#### FiD"
   ]
  },
  {
   "cell_type": "code",
   "execution_count": 516,
   "id": "0124def5",
   "metadata": {},
   "outputs": [
    {
     "data": {
      "text/plain": [
       "'FiD - Node'"
      ]
     },
     "metadata": {},
     "output_type": "display_data"
    },
    {
     "data": {
      "text/html": [
       "<style type=\"text/css\">\n",
       "#T_1765d_row1_col0, #T_1765d_row1_col1 {\n",
       "  background-color: #eb6134;\n",
       "}\n",
       "</style>\n",
       "<table id=\"T_1765d\">\n",
       "  <thead>\n",
       "    <tr>\n",
       "      <th class=\"blank level0\" >&nbsp;</th>\n",
       "      <th id=\"T_1765d_level0_col0\" class=\"col_heading level0 col0\" >test_qa_answer_f1</th>\n",
       "      <th id=\"T_1765d_level0_col1\" class=\"col_heading level0 col1\" >test_qa_sas</th>\n",
       "    </tr>\n",
       "    <tr>\n",
       "      <th class=\"index_name level0\" >context_window</th>\n",
       "      <th class=\"blank col0\" >&nbsp;</th>\n",
       "      <th class=\"blank col1\" >&nbsp;</th>\n",
       "    </tr>\n",
       "  </thead>\n",
       "  <tbody>\n",
       "    <tr>\n",
       "      <th id=\"T_1765d_level0_row0\" class=\"row_heading level0 row0\" >n_0</th>\n",
       "      <td id=\"T_1765d_row0_col0\" class=\"data row0 col0\" >0.672076</td>\n",
       "      <td id=\"T_1765d_row0_col1\" class=\"data row0 col1\" >0.689669</td>\n",
       "    </tr>\n",
       "    <tr>\n",
       "      <th id=\"T_1765d_level0_row1\" class=\"row_heading level0 row1\" >n_2</th>\n",
       "      <td id=\"T_1765d_row1_col0\" class=\"data row1 col0\" >0.679863</td>\n",
       "      <td id=\"T_1765d_row1_col1\" class=\"data row1 col1\" >0.700400</td>\n",
       "    </tr>\n",
       "    <tr>\n",
       "      <th id=\"T_1765d_level0_row2\" class=\"row_heading level0 row2\" >n_3</th>\n",
       "      <td id=\"T_1765d_row2_col0\" class=\"data row2 col0\" >0.664522</td>\n",
       "      <td id=\"T_1765d_row2_col1\" class=\"data row2 col1\" >0.684111</td>\n",
       "    </tr>\n",
       "    <tr>\n",
       "      <th id=\"T_1765d_level0_row3\" class=\"row_heading level0 row3\" >n_all</th>\n",
       "      <td id=\"T_1765d_row3_col0\" class=\"data row3 col0\" >0.246844</td>\n",
       "      <td id=\"T_1765d_row3_col1\" class=\"data row3 col1\" >0.269515</td>\n",
       "    </tr>\n",
       "  </tbody>\n",
       "</table>\n"
      ],
      "text/plain": [
       "<pandas.io.formats.style.Styler at 0x7f7aecbc8fa0>"
      ]
     },
     "execution_count": 516,
     "metadata": {},
     "output_type": "execute_result"
    }
   ],
   "source": [
    "display('FiD - Node')\n",
    "fact_needs_qooka_node = pd.concat([fact_needs_qooka_fid_prepend_n0_node_metrics, \n",
    "                                   fact_needs_qooka_fid_prepend_n2_node_metrics,\n",
    "                 fact_needs_qooka_fid_prepend_n3_node_metrics, fact_needs_qooka_fid_prepend_nall_node_metrics])\n",
    "fact_needs_qooka_node.groupby(['context_window']).mean(numeric_only=True).loc[:,['test_qa_answer_f1','test_qa_sas']].style.highlight_max(color='#eb6134')\n"
   ]
  },
  {
   "cell_type": "markdown",
   "id": "0baaae31",
   "metadata": {},
   "source": [
    "## QookA: Identifying the best Document Representation\n",
    "We run ANOVAs for each info. need condition and take the best performing model of each model class (i.e., T5, MonoQA, FiD)"
   ]
  },
  {
   "cell_type": "markdown",
   "id": "2b59790b",
   "metadata": {},
   "source": [
    "### 1. Fact Needs\n",
    "For MonoQA: Quretec, n=2 (STEP) and prepend, n=2 (NODE)\n",
    "\n",
    "For FiD: prepend, n=0 (STEP), and prepend, n=2 (NODE)\n",
    "\n",
    "For T5: quretec, n=3"
   ]
  },
  {
   "cell_type": "code",
   "execution_count": 517,
   "id": "91a78d14",
   "metadata": {},
   "outputs": [
    {
     "data": {
      "text/plain": [
       "'Comparison with FiD models'"
      ]
     },
     "metadata": {},
     "output_type": "display_data"
    },
    {
     "data": {
      "text/plain": [
       "F_onewayResult(statistic=21.12601465975111, pvalue=7.697788527985553e-10)"
      ]
     },
     "metadata": {},
     "output_type": "display_data"
    },
    {
     "data": {
      "text/html": [
       "<div>\n",
       "<style scoped>\n",
       "    .dataframe tbody tr th:only-of-type {\n",
       "        vertical-align: middle;\n",
       "    }\n",
       "\n",
       "    .dataframe tbody tr th {\n",
       "        vertical-align: top;\n",
       "    }\n",
       "\n",
       "    .dataframe thead th {\n",
       "        text-align: right;\n",
       "    }\n",
       "</style>\n",
       "<table border=\"1\" class=\"dataframe\">\n",
       "  <thead>\n",
       "    <tr style=\"text-align: right;\">\n",
       "      <th></th>\n",
       "      <th>T5-Document</th>\n",
       "      <th>FiD-Step</th>\n",
       "      <th>FiD-Node</th>\n",
       "    </tr>\n",
       "  </thead>\n",
       "  <tbody>\n",
       "    <tr>\n",
       "      <th>count</th>\n",
       "      <td>1046.000000</td>\n",
       "      <td>1046.000000</td>\n",
       "      <td>1046.000000</td>\n",
       "    </tr>\n",
       "    <tr>\n",
       "      <th>mean</th>\n",
       "      <td>0.568070</td>\n",
       "      <td>0.663014</td>\n",
       "      <td>0.679863</td>\n",
       "    </tr>\n",
       "    <tr>\n",
       "      <th>std</th>\n",
       "      <td>0.436939</td>\n",
       "      <td>0.420897</td>\n",
       "      <td>0.414137</td>\n",
       "    </tr>\n",
       "    <tr>\n",
       "      <th>min</th>\n",
       "      <td>0.000000</td>\n",
       "      <td>0.000000</td>\n",
       "      <td>0.000000</td>\n",
       "    </tr>\n",
       "    <tr>\n",
       "      <th>25%</th>\n",
       "      <td>0.000000</td>\n",
       "      <td>0.250000</td>\n",
       "      <td>0.333333</td>\n",
       "    </tr>\n",
       "    <tr>\n",
       "      <th>50%</th>\n",
       "      <td>0.666667</td>\n",
       "      <td>1.000000</td>\n",
       "      <td>1.000000</td>\n",
       "    </tr>\n",
       "    <tr>\n",
       "      <th>75%</th>\n",
       "      <td>1.000000</td>\n",
       "      <td>1.000000</td>\n",
       "      <td>1.000000</td>\n",
       "    </tr>\n",
       "    <tr>\n",
       "      <th>max</th>\n",
       "      <td>1.000000</td>\n",
       "      <td>1.000000</td>\n",
       "      <td>1.000000</td>\n",
       "    </tr>\n",
       "  </tbody>\n",
       "</table>\n",
       "</div>"
      ],
      "text/plain": [
       "       T5-Document     FiD-Step     FiD-Node\n",
       "count  1046.000000  1046.000000  1046.000000\n",
       "mean      0.568070     0.663014     0.679863\n",
       "std       0.436939     0.420897     0.414137\n",
       "min       0.000000     0.000000     0.000000\n",
       "25%       0.000000     0.250000     0.333333\n",
       "50%       0.666667     1.000000     1.000000\n",
       "75%       1.000000     1.000000     1.000000\n",
       "max       1.000000     1.000000     1.000000"
      ]
     },
     "metadata": {},
     "output_type": "display_data"
    },
    {
     "data": {
      "text/html": [
       "<div>\n",
       "<style scoped>\n",
       "    .dataframe tbody tr th:only-of-type {\n",
       "        vertical-align: middle;\n",
       "    }\n",
       "\n",
       "    .dataframe tbody tr th {\n",
       "        vertical-align: top;\n",
       "    }\n",
       "\n",
       "    .dataframe thead th {\n",
       "        text-align: right;\n",
       "    }\n",
       "</style>\n",
       "<table border=\"1\" class=\"dataframe\">\n",
       "  <thead>\n",
       "    <tr style=\"text-align: right;\">\n",
       "      <th></th>\n",
       "      <th>T5-Document</th>\n",
       "      <th>FiD-Step</th>\n",
       "      <th>FiD-Node</th>\n",
       "    </tr>\n",
       "  </thead>\n",
       "  <tbody>\n",
       "    <tr>\n",
       "      <th>T5-Document</th>\n",
       "      <td>1.000000e+00</td>\n",
       "      <td>9.054135e-07</td>\n",
       "      <td>6.719332e-09</td>\n",
       "    </tr>\n",
       "    <tr>\n",
       "      <th>FiD-Step</th>\n",
       "      <td>9.054135e-07</td>\n",
       "      <td>1.000000e+00</td>\n",
       "      <td>3.561918e-01</td>\n",
       "    </tr>\n",
       "    <tr>\n",
       "      <th>FiD-Node</th>\n",
       "      <td>6.719332e-09</td>\n",
       "      <td>3.561918e-01</td>\n",
       "      <td>1.000000e+00</td>\n",
       "    </tr>\n",
       "  </tbody>\n",
       "</table>\n",
       "</div>"
      ],
      "text/plain": [
       "              T5-Document      FiD-Step      FiD-Node\n",
       "T5-Document  1.000000e+00  9.054135e-07  6.719332e-09\n",
       "FiD-Step     9.054135e-07  1.000000e+00  3.561918e-01\n",
       "FiD-Node     6.719332e-09  3.561918e-01  1.000000e+00"
      ]
     },
     "metadata": {},
     "output_type": "display_data"
    }
   ],
   "source": [
    "display('Comparison with FiD models')\n",
    "compare_models(fact_needs_qooka_t5_quretec_n3_metrics['test_qa_answer_f1'],\n",
    "               fact_needs_qooka_fid_prepend_n0_step_metrics['test_qa_answer_f1'],\n",
    "               fact_needs_qooka_fid_prepend_n2_node_metrics['test_qa_answer_f1'],\n",
    "               model_names=['T5-Document', 'FiD-Step', 'FiD-Node'])"
   ]
  },
  {
   "cell_type": "code",
   "execution_count": 518,
   "id": "bc63ca22",
   "metadata": {},
   "outputs": [
    {
     "data": {
      "text/html": [
       "<div>\n",
       "<style scoped>\n",
       "    .dataframe tbody tr th:only-of-type {\n",
       "        vertical-align: middle;\n",
       "    }\n",
       "\n",
       "    .dataframe tbody tr th {\n",
       "        vertical-align: top;\n",
       "    }\n",
       "\n",
       "    .dataframe thead th {\n",
       "        text-align: right;\n",
       "    }\n",
       "</style>\n",
       "<table border=\"1\" class=\"dataframe\">\n",
       "  <thead>\n",
       "    <tr style=\"text-align: right;\">\n",
       "      <th></th>\n",
       "      <th>T</th>\n",
       "      <th>dof</th>\n",
       "      <th>alternative</th>\n",
       "      <th>p-val</th>\n",
       "      <th>CI95%</th>\n",
       "      <th>cohen-d</th>\n",
       "      <th>BF10</th>\n",
       "      <th>power</th>\n",
       "    </tr>\n",
       "  </thead>\n",
       "  <tbody>\n",
       "    <tr>\n",
       "      <th>T-test</th>\n",
       "      <td>-1.303263</td>\n",
       "      <td>1045</td>\n",
       "      <td>two-sided</td>\n",
       "      <td>0.192772</td>\n",
       "      <td>[-0.04, 0.01]</td>\n",
       "      <td>0.040353</td>\n",
       "      <td>0.081</td>\n",
       "      <td>0.256444</td>\n",
       "    </tr>\n",
       "  </tbody>\n",
       "</table>\n",
       "</div>"
      ],
      "text/plain": [
       "               T   dof alternative     p-val          CI95%   cohen-d   BF10  \\\n",
       "T-test -1.303263  1045   two-sided  0.192772  [-0.04, 0.01]  0.040353  0.081   \n",
       "\n",
       "           power  \n",
       "T-test  0.256444  "
      ]
     },
     "execution_count": 518,
     "metadata": {},
     "output_type": "execute_result"
    }
   ],
   "source": [
    "pg.ttest(fact_needs_qooka_fid_prepend_n0_step_metrics['test_qa_answer_f1'],\n",
    "         fact_needs_qooka_fid_prepend_n2_node_metrics['test_qa_answer_f1'],\n",
    "         paired=True)"
   ]
  },
  {
   "cell_type": "code",
   "execution_count": 519,
   "id": "1ff7b324",
   "metadata": {},
   "outputs": [
    {
     "data": {
      "text/plain": [
       "'Comparison with MonoQA models'"
      ]
     },
     "metadata": {},
     "output_type": "display_data"
    },
    {
     "data": {
      "text/plain": [
       "F_onewayResult(statistic=14.195649945276033, pvalue=7.2888064871995e-07)"
      ]
     },
     "metadata": {},
     "output_type": "display_data"
    },
    {
     "data": {
      "text/html": [
       "<div>\n",
       "<style scoped>\n",
       "    .dataframe tbody tr th:only-of-type {\n",
       "        vertical-align: middle;\n",
       "    }\n",
       "\n",
       "    .dataframe tbody tr th {\n",
       "        vertical-align: top;\n",
       "    }\n",
       "\n",
       "    .dataframe thead th {\n",
       "        text-align: right;\n",
       "    }\n",
       "</style>\n",
       "<table border=\"1\" class=\"dataframe\">\n",
       "  <thead>\n",
       "    <tr style=\"text-align: right;\">\n",
       "      <th></th>\n",
       "      <th>T5-Document</th>\n",
       "      <th>MonoQA-Step</th>\n",
       "      <th>MonoQA-Node</th>\n",
       "    </tr>\n",
       "  </thead>\n",
       "  <tbody>\n",
       "    <tr>\n",
       "      <th>count</th>\n",
       "      <td>1046.000000</td>\n",
       "      <td>1046.000000</td>\n",
       "      <td>1046.000000</td>\n",
       "    </tr>\n",
       "    <tr>\n",
       "      <th>mean</th>\n",
       "      <td>0.568070</td>\n",
       "      <td>0.623266</td>\n",
       "      <td>0.667438</td>\n",
       "    </tr>\n",
       "    <tr>\n",
       "      <th>std</th>\n",
       "      <td>0.436939</td>\n",
       "      <td>0.427268</td>\n",
       "      <td>0.417648</td>\n",
       "    </tr>\n",
       "    <tr>\n",
       "      <th>min</th>\n",
       "      <td>0.000000</td>\n",
       "      <td>0.000000</td>\n",
       "      <td>0.000000</td>\n",
       "    </tr>\n",
       "    <tr>\n",
       "      <th>25%</th>\n",
       "      <td>0.000000</td>\n",
       "      <td>0.000000</td>\n",
       "      <td>0.250000</td>\n",
       "    </tr>\n",
       "    <tr>\n",
       "      <th>50%</th>\n",
       "      <td>0.666667</td>\n",
       "      <td>0.800000</td>\n",
       "      <td>1.000000</td>\n",
       "    </tr>\n",
       "    <tr>\n",
       "      <th>75%</th>\n",
       "      <td>1.000000</td>\n",
       "      <td>1.000000</td>\n",
       "      <td>1.000000</td>\n",
       "    </tr>\n",
       "    <tr>\n",
       "      <th>max</th>\n",
       "      <td>1.000000</td>\n",
       "      <td>1.000000</td>\n",
       "      <td>1.000000</td>\n",
       "    </tr>\n",
       "  </tbody>\n",
       "</table>\n",
       "</div>"
      ],
      "text/plain": [
       "       T5-Document  MonoQA-Step  MonoQA-Node\n",
       "count  1046.000000  1046.000000  1046.000000\n",
       "mean      0.568070     0.623266     0.667438\n",
       "std       0.436939     0.427268     0.417648\n",
       "min       0.000000     0.000000     0.000000\n",
       "25%       0.000000     0.000000     0.250000\n",
       "50%       0.666667     0.800000     1.000000\n",
       "75%       1.000000     1.000000     1.000000\n",
       "max       1.000000     1.000000     1.000000"
      ]
     },
     "metadata": {},
     "output_type": "display_data"
    },
    {
     "data": {
      "text/html": [
       "<div>\n",
       "<style scoped>\n",
       "    .dataframe tbody tr th:only-of-type {\n",
       "        vertical-align: middle;\n",
       "    }\n",
       "\n",
       "    .dataframe tbody tr th {\n",
       "        vertical-align: top;\n",
       "    }\n",
       "\n",
       "    .dataframe thead th {\n",
       "        text-align: right;\n",
       "    }\n",
       "</style>\n",
       "<table border=\"1\" class=\"dataframe\">\n",
       "  <thead>\n",
       "    <tr style=\"text-align: right;\">\n",
       "      <th></th>\n",
       "      <th>T5-Document</th>\n",
       "      <th>MonoQA-Step</th>\n",
       "      <th>MonoQA-Node</th>\n",
       "    </tr>\n",
       "  </thead>\n",
       "  <tbody>\n",
       "    <tr>\n",
       "      <th>T5-Document</th>\n",
       "      <td>1.000000e+00</td>\n",
       "      <td>0.007051</td>\n",
       "      <td>3.504377e-07</td>\n",
       "    </tr>\n",
       "    <tr>\n",
       "      <th>MonoQA-Step</th>\n",
       "      <td>7.051219e-03</td>\n",
       "      <td>1.000000</td>\n",
       "      <td>1.689029e-02</td>\n",
       "    </tr>\n",
       "    <tr>\n",
       "      <th>MonoQA-Node</th>\n",
       "      <td>3.504377e-07</td>\n",
       "      <td>0.016890</td>\n",
       "      <td>1.000000e+00</td>\n",
       "    </tr>\n",
       "  </tbody>\n",
       "</table>\n",
       "</div>"
      ],
      "text/plain": [
       "              T5-Document  MonoQA-Step   MonoQA-Node\n",
       "T5-Document  1.000000e+00     0.007051  3.504377e-07\n",
       "MonoQA-Step  7.051219e-03     1.000000  1.689029e-02\n",
       "MonoQA-Node  3.504377e-07     0.016890  1.000000e+00"
      ]
     },
     "metadata": {},
     "output_type": "display_data"
    }
   ],
   "source": [
    "display('Comparison with MonoQA models')\n",
    "compare_models(fact_needs_qooka_t5_quretec_n3_metrics['test_qa_answer_f1'],\n",
    "               fact_needs_qooka_monoqa_quretec_n2_step_metrics['test_qa_answer_f1'],\n",
    "               fact_needs_qooka_monoqa_prepend_n2_node_metrics['test_qa_answer_f1'],\n",
    "               model_names=['T5-Document', 'MonoQA-Step', 'MonoQA-Node'])"
   ]
  },
  {
   "cell_type": "markdown",
   "id": "1b8f057d",
   "metadata": {},
   "source": [
    "### 2. Competence Needs\n",
    "For MonoQA: prepend, n=2 (STEP) and prepend, n=2 (NODE)\n",
    "\n",
    "For FiD: prepend, n=2 (STEP), and prepend, n=2 (NODE)\n",
    "\n",
    "For T5: canard, n=3"
   ]
  },
  {
   "cell_type": "code",
   "execution_count": 520,
   "id": "4ed3df04",
   "metadata": {},
   "outputs": [
    {
     "data": {
      "text/plain": [
       "'Comparison with FiD models'"
      ]
     },
     "metadata": {},
     "output_type": "display_data"
    },
    {
     "data": {
      "text/plain": [
       "F_onewayResult(statistic=70.05199193733452, pvalue=1.75322632406246e-30)"
      ]
     },
     "metadata": {},
     "output_type": "display_data"
    },
    {
     "data": {
      "text/html": [
       "<div>\n",
       "<style scoped>\n",
       "    .dataframe tbody tr th:only-of-type {\n",
       "        vertical-align: middle;\n",
       "    }\n",
       "\n",
       "    .dataframe tbody tr th {\n",
       "        vertical-align: top;\n",
       "    }\n",
       "\n",
       "    .dataframe thead th {\n",
       "        text-align: right;\n",
       "    }\n",
       "</style>\n",
       "<table border=\"1\" class=\"dataframe\">\n",
       "  <thead>\n",
       "    <tr style=\"text-align: right;\">\n",
       "      <th></th>\n",
       "      <th>T5-Document</th>\n",
       "      <th>FiD-Step</th>\n",
       "      <th>FiD-Node</th>\n",
       "    </tr>\n",
       "  </thead>\n",
       "  <tbody>\n",
       "    <tr>\n",
       "      <th>count</th>\n",
       "      <td>1035.000000</td>\n",
       "      <td>1035.000000</td>\n",
       "      <td>1035.000000</td>\n",
       "    </tr>\n",
       "    <tr>\n",
       "      <th>mean</th>\n",
       "      <td>0.459523</td>\n",
       "      <td>0.628788</td>\n",
       "      <td>0.623469</td>\n",
       "    </tr>\n",
       "    <tr>\n",
       "      <th>std</th>\n",
       "      <td>0.379163</td>\n",
       "      <td>0.361794</td>\n",
       "      <td>0.368458</td>\n",
       "    </tr>\n",
       "    <tr>\n",
       "      <th>min</th>\n",
       "      <td>0.000000</td>\n",
       "      <td>0.000000</td>\n",
       "      <td>0.000000</td>\n",
       "    </tr>\n",
       "    <tr>\n",
       "      <th>25%</th>\n",
       "      <td>0.117647</td>\n",
       "      <td>0.272727</td>\n",
       "      <td>0.274295</td>\n",
       "    </tr>\n",
       "    <tr>\n",
       "      <th>50%</th>\n",
       "      <td>0.315789</td>\n",
       "      <td>0.714286</td>\n",
       "      <td>0.714286</td>\n",
       "    </tr>\n",
       "    <tr>\n",
       "      <th>75%</th>\n",
       "      <td>0.887482</td>\n",
       "      <td>1.000000</td>\n",
       "      <td>1.000000</td>\n",
       "    </tr>\n",
       "    <tr>\n",
       "      <th>max</th>\n",
       "      <td>1.000000</td>\n",
       "      <td>1.000000</td>\n",
       "      <td>1.000000</td>\n",
       "    </tr>\n",
       "  </tbody>\n",
       "</table>\n",
       "</div>"
      ],
      "text/plain": [
       "       T5-Document     FiD-Step     FiD-Node\n",
       "count  1035.000000  1035.000000  1035.000000\n",
       "mean      0.459523     0.628788     0.623469\n",
       "std       0.379163     0.361794     0.368458\n",
       "min       0.000000     0.000000     0.000000\n",
       "25%       0.117647     0.272727     0.274295\n",
       "50%       0.315789     0.714286     0.714286\n",
       "75%       0.887482     1.000000     1.000000\n",
       "max       1.000000     1.000000     1.000000"
      ]
     },
     "metadata": {},
     "output_type": "display_data"
    },
    {
     "data": {
      "text/html": [
       "<div>\n",
       "<style scoped>\n",
       "    .dataframe tbody tr th:only-of-type {\n",
       "        vertical-align: middle;\n",
       "    }\n",
       "\n",
       "    .dataframe tbody tr th {\n",
       "        vertical-align: top;\n",
       "    }\n",
       "\n",
       "    .dataframe thead th {\n",
       "        text-align: right;\n",
       "    }\n",
       "</style>\n",
       "<table border=\"1\" class=\"dataframe\">\n",
       "  <thead>\n",
       "    <tr style=\"text-align: right;\">\n",
       "      <th></th>\n",
       "      <th>T5-Document</th>\n",
       "      <th>FiD-Step</th>\n",
       "      <th>FiD-Node</th>\n",
       "    </tr>\n",
       "  </thead>\n",
       "  <tbody>\n",
       "    <tr>\n",
       "      <th>T5-Document</th>\n",
       "      <td>1.000000e+00</td>\n",
       "      <td>3.286883e-24</td>\n",
       "      <td>1.267638e-22</td>\n",
       "    </tr>\n",
       "    <tr>\n",
       "      <th>FiD-Step</th>\n",
       "      <td>3.286883e-24</td>\n",
       "      <td>1.000000e+00</td>\n",
       "      <td>7.403601e-01</td>\n",
       "    </tr>\n",
       "    <tr>\n",
       "      <th>FiD-Node</th>\n",
       "      <td>1.267638e-22</td>\n",
       "      <td>7.403601e-01</td>\n",
       "      <td>1.000000e+00</td>\n",
       "    </tr>\n",
       "  </tbody>\n",
       "</table>\n",
       "</div>"
      ],
      "text/plain": [
       "              T5-Document      FiD-Step      FiD-Node\n",
       "T5-Document  1.000000e+00  3.286883e-24  1.267638e-22\n",
       "FiD-Step     3.286883e-24  1.000000e+00  7.403601e-01\n",
       "FiD-Node     1.267638e-22  7.403601e-01  1.000000e+00"
      ]
     },
     "metadata": {},
     "output_type": "display_data"
    }
   ],
   "source": [
    "display('Comparison with FiD models')\n",
    "compare_models(competence_needs_qooka_t5_canard_n3_metrics['test_qa_answer_f1'],\n",
    "               competence_needs_qooka_fid_prepend_n2_step_metrics['test_qa_answer_f1'],\n",
    "               competence_needs_qooka_fid_prepend_n2_node_metrics['test_qa_answer_f1'],\n",
    "               model_names=['T5-Document', 'FiD-Step', 'FiD-Node'])\n"
   ]
  },
  {
   "cell_type": "code",
   "execution_count": 521,
   "id": "ab81ca4c",
   "metadata": {},
   "outputs": [
    {
     "data": {
      "text/plain": [
       "'Comparison with MonoQA models'"
      ]
     },
     "metadata": {},
     "output_type": "display_data"
    },
    {
     "data": {
      "text/plain": [
       "F_onewayResult(statistic=90.73374299001426, pvalue=5.0625903827953694e-39)"
      ]
     },
     "metadata": {},
     "output_type": "display_data"
    },
    {
     "data": {
      "text/html": [
       "<div>\n",
       "<style scoped>\n",
       "    .dataframe tbody tr th:only-of-type {\n",
       "        vertical-align: middle;\n",
       "    }\n",
       "\n",
       "    .dataframe tbody tr th {\n",
       "        vertical-align: top;\n",
       "    }\n",
       "\n",
       "    .dataframe thead th {\n",
       "        text-align: right;\n",
       "    }\n",
       "</style>\n",
       "<table border=\"1\" class=\"dataframe\">\n",
       "  <thead>\n",
       "    <tr style=\"text-align: right;\">\n",
       "      <th></th>\n",
       "      <th>T5-Document</th>\n",
       "      <th>MonoQA-Step</th>\n",
       "      <th>MonoQA-Node</th>\n",
       "    </tr>\n",
       "  </thead>\n",
       "  <tbody>\n",
       "    <tr>\n",
       "      <th>count</th>\n",
       "      <td>1035.000000</td>\n",
       "      <td>1035.000000</td>\n",
       "      <td>1035.000000</td>\n",
       "    </tr>\n",
       "    <tr>\n",
       "      <th>mean</th>\n",
       "      <td>0.459523</td>\n",
       "      <td>0.641062</td>\n",
       "      <td>0.655364</td>\n",
       "    </tr>\n",
       "    <tr>\n",
       "      <th>std</th>\n",
       "      <td>0.379163</td>\n",
       "      <td>0.374618</td>\n",
       "      <td>0.351823</td>\n",
       "    </tr>\n",
       "    <tr>\n",
       "      <th>min</th>\n",
       "      <td>0.000000</td>\n",
       "      <td>0.000000</td>\n",
       "      <td>0.000000</td>\n",
       "    </tr>\n",
       "    <tr>\n",
       "      <th>25%</th>\n",
       "      <td>0.117647</td>\n",
       "      <td>0.258065</td>\n",
       "      <td>0.326097</td>\n",
       "    </tr>\n",
       "    <tr>\n",
       "      <th>50%</th>\n",
       "      <td>0.315789</td>\n",
       "      <td>0.750000</td>\n",
       "      <td>0.736842</td>\n",
       "    </tr>\n",
       "    <tr>\n",
       "      <th>75%</th>\n",
       "      <td>0.887482</td>\n",
       "      <td>1.000000</td>\n",
       "      <td>1.000000</td>\n",
       "    </tr>\n",
       "    <tr>\n",
       "      <th>max</th>\n",
       "      <td>1.000000</td>\n",
       "      <td>1.000000</td>\n",
       "      <td>1.000000</td>\n",
       "    </tr>\n",
       "  </tbody>\n",
       "</table>\n",
       "</div>"
      ],
      "text/plain": [
       "       T5-Document  MonoQA-Step  MonoQA-Node\n",
       "count  1035.000000  1035.000000  1035.000000\n",
       "mean      0.459523     0.641062     0.655364\n",
       "std       0.379163     0.374618     0.351823\n",
       "min       0.000000     0.000000     0.000000\n",
       "25%       0.117647     0.258065     0.326097\n",
       "50%       0.315789     0.750000     0.736842\n",
       "75%       0.887482     1.000000     1.000000\n",
       "max       1.000000     1.000000     1.000000"
      ]
     },
     "metadata": {},
     "output_type": "display_data"
    },
    {
     "data": {
      "text/html": [
       "<div>\n",
       "<style scoped>\n",
       "    .dataframe tbody tr th:only-of-type {\n",
       "        vertical-align: middle;\n",
       "    }\n",
       "\n",
       "    .dataframe tbody tr th {\n",
       "        vertical-align: top;\n",
       "    }\n",
       "\n",
       "    .dataframe thead th {\n",
       "        text-align: right;\n",
       "    }\n",
       "</style>\n",
       "<table border=\"1\" class=\"dataframe\">\n",
       "  <thead>\n",
       "    <tr style=\"text-align: right;\">\n",
       "      <th></th>\n",
       "      <th>T5-Document</th>\n",
       "      <th>MonoQA-Step</th>\n",
       "      <th>MonoQA-Node</th>\n",
       "    </tr>\n",
       "  </thead>\n",
       "  <tbody>\n",
       "    <tr>\n",
       "      <th>T5-Document</th>\n",
       "      <td>1.000000e+00</td>\n",
       "      <td>6.756090e-27</td>\n",
       "      <td>1.549919e-32</td>\n",
       "    </tr>\n",
       "    <tr>\n",
       "      <th>MonoQA-Step</th>\n",
       "      <td>6.756090e-27</td>\n",
       "      <td>1.000000e+00</td>\n",
       "      <td>3.707279e-01</td>\n",
       "    </tr>\n",
       "    <tr>\n",
       "      <th>MonoQA-Node</th>\n",
       "      <td>1.549919e-32</td>\n",
       "      <td>3.707279e-01</td>\n",
       "      <td>1.000000e+00</td>\n",
       "    </tr>\n",
       "  </tbody>\n",
       "</table>\n",
       "</div>"
      ],
      "text/plain": [
       "              T5-Document   MonoQA-Step   MonoQA-Node\n",
       "T5-Document  1.000000e+00  6.756090e-27  1.549919e-32\n",
       "MonoQA-Step  6.756090e-27  1.000000e+00  3.707279e-01\n",
       "MonoQA-Node  1.549919e-32  3.707279e-01  1.000000e+00"
      ]
     },
     "metadata": {},
     "output_type": "display_data"
    }
   ],
   "source": [
    "display('Comparison with MonoQA models')\n",
    "compare_models(competence_needs_qooka_t5_canard_n3_metrics['test_qa_answer_f1'],\n",
    "               competence_needs_qooka_monoqa_quretec_n2_step_metrics['test_qa_answer_f1'],\n",
    "               competence_needs_qooka_monoqa_prepend_n2_node_metrics['test_qa_answer_f1'],\n",
    "               model_names=['T5-Document', 'MonoQA-Step', 'MonoQA-Node'])"
   ]
  },
  {
   "cell_type": "markdown",
   "id": "3bda4c1f",
   "metadata": {},
   "source": [
    "### 3. All Needs\n",
    "For MonoQA: prepend, n=2 (STEP) and prepend, n=2 (NODE)\n",
    "\n",
    "For FiD: prepend, n=2 (STEP), and prepend, n=2 (NODE)\n",
    "\n",
    "For T5: prepend, n=0"
   ]
  },
  {
   "cell_type": "code",
   "execution_count": 522,
   "id": "982aefd7",
   "metadata": {},
   "outputs": [
    {
     "data": {
      "text/plain": [
       "'Comparison with FiD models'"
      ]
     },
     "metadata": {},
     "output_type": "display_data"
    },
    {
     "data": {
      "text/plain": [
       "F_onewayResult(statistic=112.82640596970136, pvalue=7.333187073848104e-49)"
      ]
     },
     "metadata": {},
     "output_type": "display_data"
    },
    {
     "data": {
      "text/html": [
       "<div>\n",
       "<style scoped>\n",
       "    .dataframe tbody tr th:only-of-type {\n",
       "        vertical-align: middle;\n",
       "    }\n",
       "\n",
       "    .dataframe tbody tr th {\n",
       "        vertical-align: top;\n",
       "    }\n",
       "\n",
       "    .dataframe thead th {\n",
       "        text-align: right;\n",
       "    }\n",
       "</style>\n",
       "<table border=\"1\" class=\"dataframe\">\n",
       "  <thead>\n",
       "    <tr style=\"text-align: right;\">\n",
       "      <th></th>\n",
       "      <th>T5-Document</th>\n",
       "      <th>FiD-Step</th>\n",
       "      <th>FiD-Node</th>\n",
       "    </tr>\n",
       "  </thead>\n",
       "  <tbody>\n",
       "    <tr>\n",
       "      <th>count</th>\n",
       "      <td>2081.000000</td>\n",
       "      <td>2081.000000</td>\n",
       "      <td>2081.000000</td>\n",
       "    </tr>\n",
       "    <tr>\n",
       "      <th>mean</th>\n",
       "      <td>0.501728</td>\n",
       "      <td>0.656582</td>\n",
       "      <td>0.666355</td>\n",
       "    </tr>\n",
       "    <tr>\n",
       "      <th>std</th>\n",
       "      <td>0.411889</td>\n",
       "      <td>0.390752</td>\n",
       "      <td>0.386811</td>\n",
       "    </tr>\n",
       "    <tr>\n",
       "      <th>min</th>\n",
       "      <td>0.000000</td>\n",
       "      <td>0.000000</td>\n",
       "      <td>0.000000</td>\n",
       "    </tr>\n",
       "    <tr>\n",
       "      <th>25%</th>\n",
       "      <td>0.067797</td>\n",
       "      <td>0.285714</td>\n",
       "      <td>0.311111</td>\n",
       "    </tr>\n",
       "    <tr>\n",
       "      <th>50%</th>\n",
       "      <td>0.500000</td>\n",
       "      <td>0.846154</td>\n",
       "      <td>0.870968</td>\n",
       "    </tr>\n",
       "    <tr>\n",
       "      <th>75%</th>\n",
       "      <td>1.000000</td>\n",
       "      <td>1.000000</td>\n",
       "      <td>1.000000</td>\n",
       "    </tr>\n",
       "    <tr>\n",
       "      <th>max</th>\n",
       "      <td>1.000000</td>\n",
       "      <td>1.000000</td>\n",
       "      <td>1.000000</td>\n",
       "    </tr>\n",
       "  </tbody>\n",
       "</table>\n",
       "</div>"
      ],
      "text/plain": [
       "       T5-Document     FiD-Step     FiD-Node\n",
       "count  2081.000000  2081.000000  2081.000000\n",
       "mean      0.501728     0.656582     0.666355\n",
       "std       0.411889     0.390752     0.386811\n",
       "min       0.000000     0.000000     0.000000\n",
       "25%       0.067797     0.285714     0.311111\n",
       "50%       0.500000     0.846154     0.870968\n",
       "75%       1.000000     1.000000     1.000000\n",
       "max       1.000000     1.000000     1.000000"
      ]
     },
     "metadata": {},
     "output_type": "display_data"
    },
    {
     "data": {
      "text/html": [
       "<div>\n",
       "<style scoped>\n",
       "    .dataframe tbody tr th:only-of-type {\n",
       "        vertical-align: middle;\n",
       "    }\n",
       "\n",
       "    .dataframe tbody tr th {\n",
       "        vertical-align: top;\n",
       "    }\n",
       "\n",
       "    .dataframe thead th {\n",
       "        text-align: right;\n",
       "    }\n",
       "</style>\n",
       "<table border=\"1\" class=\"dataframe\">\n",
       "  <thead>\n",
       "    <tr style=\"text-align: right;\">\n",
       "      <th></th>\n",
       "      <th>T5-Document</th>\n",
       "      <th>FiD-Step</th>\n",
       "      <th>FiD-Node</th>\n",
       "    </tr>\n",
       "  </thead>\n",
       "  <tbody>\n",
       "    <tr>\n",
       "      <th>T5-Document</th>\n",
       "      <td>1.000000e+00</td>\n",
       "      <td>1.279154e-34</td>\n",
       "      <td>4.961015e-39</td>\n",
       "    </tr>\n",
       "    <tr>\n",
       "      <th>FiD-Step</th>\n",
       "      <td>1.279154e-34</td>\n",
       "      <td>1.000000e+00</td>\n",
       "      <td>4.174937e-01</td>\n",
       "    </tr>\n",
       "    <tr>\n",
       "      <th>FiD-Node</th>\n",
       "      <td>4.961015e-39</td>\n",
       "      <td>4.174937e-01</td>\n",
       "      <td>1.000000e+00</td>\n",
       "    </tr>\n",
       "  </tbody>\n",
       "</table>\n",
       "</div>"
      ],
      "text/plain": [
       "              T5-Document      FiD-Step      FiD-Node\n",
       "T5-Document  1.000000e+00  1.279154e-34  4.961015e-39\n",
       "FiD-Step     1.279154e-34  1.000000e+00  4.174937e-01\n",
       "FiD-Node     4.961015e-39  4.174937e-01  1.000000e+00"
      ]
     },
     "metadata": {},
     "output_type": "display_data"
    }
   ],
   "source": [
    "display('Comparison with FiD models')\n",
    "compare_models(all_needs_qooka_t5_metrics['test_qa_answer_f1'],\n",
    "               all_needs_qooka_fid_prepend_n2_step_metrics['test_qa_answer_f1'],\n",
    "               all_needs_qooka_fid_prepend_n2_node_metrics['test_qa_answer_f1'],\n",
    "               model_names=['T5-Document', 'FiD-Step', 'FiD-Node'])\n"
   ]
  },
  {
   "cell_type": "code",
   "execution_count": 523,
   "id": "e4b784a1",
   "metadata": {},
   "outputs": [
    {
     "data": {
      "text/plain": [
       "'Comparison with MonoQA models'"
      ]
     },
     "metadata": {},
     "output_type": "display_data"
    },
    {
     "data": {
      "text/plain": [
       "F_onewayResult(statistic=109.41948907231354, pvalue=1.9679423074486943e-47)"
      ]
     },
     "metadata": {},
     "output_type": "display_data"
    },
    {
     "data": {
      "text/html": [
       "<div>\n",
       "<style scoped>\n",
       "    .dataframe tbody tr th:only-of-type {\n",
       "        vertical-align: middle;\n",
       "    }\n",
       "\n",
       "    .dataframe tbody tr th {\n",
       "        vertical-align: top;\n",
       "    }\n",
       "\n",
       "    .dataframe thead th {\n",
       "        text-align: right;\n",
       "    }\n",
       "</style>\n",
       "<table border=\"1\" class=\"dataframe\">\n",
       "  <thead>\n",
       "    <tr style=\"text-align: right;\">\n",
       "      <th></th>\n",
       "      <th>T5-Document</th>\n",
       "      <th>MonoQA-Step</th>\n",
       "      <th>MonoQA-Node</th>\n",
       "    </tr>\n",
       "  </thead>\n",
       "  <tbody>\n",
       "    <tr>\n",
       "      <th>count</th>\n",
       "      <td>2081.000000</td>\n",
       "      <td>2081.000000</td>\n",
       "      <td>2081.000000</td>\n",
       "    </tr>\n",
       "    <tr>\n",
       "      <th>mean</th>\n",
       "      <td>0.501728</td>\n",
       "      <td>0.650329</td>\n",
       "      <td>0.666205</td>\n",
       "    </tr>\n",
       "    <tr>\n",
       "      <th>std</th>\n",
       "      <td>0.411889</td>\n",
       "      <td>0.391112</td>\n",
       "      <td>0.383421</td>\n",
       "    </tr>\n",
       "    <tr>\n",
       "      <th>min</th>\n",
       "      <td>0.000000</td>\n",
       "      <td>0.000000</td>\n",
       "      <td>0.000000</td>\n",
       "    </tr>\n",
       "    <tr>\n",
       "      <th>25%</th>\n",
       "      <td>0.067797</td>\n",
       "      <td>0.285714</td>\n",
       "      <td>0.333333</td>\n",
       "    </tr>\n",
       "    <tr>\n",
       "      <th>50%</th>\n",
       "      <td>0.500000</td>\n",
       "      <td>0.800000</td>\n",
       "      <td>0.823529</td>\n",
       "    </tr>\n",
       "    <tr>\n",
       "      <th>75%</th>\n",
       "      <td>1.000000</td>\n",
       "      <td>1.000000</td>\n",
       "      <td>1.000000</td>\n",
       "    </tr>\n",
       "    <tr>\n",
       "      <th>max</th>\n",
       "      <td>1.000000</td>\n",
       "      <td>1.000000</td>\n",
       "      <td>1.000000</td>\n",
       "    </tr>\n",
       "  </tbody>\n",
       "</table>\n",
       "</div>"
      ],
      "text/plain": [
       "       T5-Document  MonoQA-Step  MonoQA-Node\n",
       "count  2081.000000  2081.000000  2081.000000\n",
       "mean      0.501728     0.650329     0.666205\n",
       "std       0.411889     0.391112     0.383421\n",
       "min       0.000000     0.000000     0.000000\n",
       "25%       0.067797     0.285714     0.333333\n",
       "50%       0.500000     0.800000     0.823529\n",
       "75%       1.000000     1.000000     1.000000\n",
       "max       1.000000     1.000000     1.000000"
      ]
     },
     "metadata": {},
     "output_type": "display_data"
    },
    {
     "data": {
      "text/html": [
       "<div>\n",
       "<style scoped>\n",
       "    .dataframe tbody tr th:only-of-type {\n",
       "        vertical-align: middle;\n",
       "    }\n",
       "\n",
       "    .dataframe tbody tr th {\n",
       "        vertical-align: top;\n",
       "    }\n",
       "\n",
       "    .dataframe thead th {\n",
       "        text-align: right;\n",
       "    }\n",
       "</style>\n",
       "<table border=\"1\" class=\"dataframe\">\n",
       "  <thead>\n",
       "    <tr style=\"text-align: right;\">\n",
       "      <th></th>\n",
       "      <th>T5-Document</th>\n",
       "      <th>MonoQA-Step</th>\n",
       "      <th>MonoQA-Node</th>\n",
       "    </tr>\n",
       "  </thead>\n",
       "  <tbody>\n",
       "    <tr>\n",
       "      <th>T5-Document</th>\n",
       "      <td>1.000000e+00</td>\n",
       "      <td>5.229656e-32</td>\n",
       "      <td>2.874354e-39</td>\n",
       "    </tr>\n",
       "    <tr>\n",
       "      <th>MonoQA-Step</th>\n",
       "      <td>5.229656e-32</td>\n",
       "      <td>1.000000e+00</td>\n",
       "      <td>1.861441e-01</td>\n",
       "    </tr>\n",
       "    <tr>\n",
       "      <th>MonoQA-Node</th>\n",
       "      <td>2.874354e-39</td>\n",
       "      <td>1.861441e-01</td>\n",
       "      <td>1.000000e+00</td>\n",
       "    </tr>\n",
       "  </tbody>\n",
       "</table>\n",
       "</div>"
      ],
      "text/plain": [
       "              T5-Document   MonoQA-Step   MonoQA-Node\n",
       "T5-Document  1.000000e+00  5.229656e-32  2.874354e-39\n",
       "MonoQA-Step  5.229656e-32  1.000000e+00  1.861441e-01\n",
       "MonoQA-Node  2.874354e-39  1.861441e-01  1.000000e+00"
      ]
     },
     "metadata": {},
     "output_type": "display_data"
    }
   ],
   "source": [
    "display('Comparison with MonoQA models')\n",
    "compare_models(all_needs_qooka_t5_metrics['test_qa_answer_f1'],\n",
    "               all_needs_qooka_monoqa_prepend_n2_step_metrics['test_qa_answer_f1'],\n",
    "               all_needs_qooka_monoqa_prepend_n2_node_metrics['test_qa_answer_f1'],\n",
    "               model_names=['T5-Document', 'MonoQA-Step', 'MonoQA-Node'])"
   ]
  },
  {
   "cell_type": "markdown",
   "id": "94b394af",
   "metadata": {},
   "source": [
    "## QookA: Identifying the best Query Representation\n",
    "In this section, we want to identify the best performing query representation, i.e., Rewriting, Expansion or simply prepending previous turns."
   ]
  },
  {
   "cell_type": "markdown",
   "id": "8de64d98",
   "metadata": {},
   "source": [
    "### 1. Fact Needs"
   ]
  },
  {
   "cell_type": "code",
   "execution_count": 420,
   "id": "fce7d10b",
   "metadata": {},
   "outputs": [],
   "source": [
    "fact_needs_qooka_query_rep = fact_needs_qooka_combined_data.loc[fact_needs_qooka_combined_data['context_window'] != 'n_0']\n",
    "fact_qooka_canard = fact_needs_qooka_query_rep.loc[fact_needs_qooka_query_rep['query_rep']=='canard_rewritten']\n",
    "fact_qooka_quretec = fact_needs_qooka_query_rep.loc[fact_needs_qooka_query_rep['query_rep']=='quretec_expansion']\n",
    "fact_qooka_prepend = fact_needs_qooka_query_rep.loc[fact_needs_qooka_query_rep['query_rep']=='prepend_context']"
   ]
  },
  {
   "cell_type": "code",
   "execution_count": 421,
   "id": "2c408fbe",
   "metadata": {},
   "outputs": [
    {
     "data": {
      "text/plain": [
       "F_onewayResult(statistic=11.576325638623713, pvalue=9.430300271423006e-06)"
      ]
     },
     "metadata": {},
     "output_type": "display_data"
    },
    {
     "data": {
      "text/plain": [
       "canard     0.578260\n",
       "quretec    0.607517\n",
       "prepend    0.585148\n",
       "dtype: float64"
      ]
     },
     "metadata": {},
     "output_type": "display_data"
    },
    {
     "data": {
      "text/html": [
       "<div>\n",
       "<style scoped>\n",
       "    .dataframe tbody tr th:only-of-type {\n",
       "        vertical-align: middle;\n",
       "    }\n",
       "\n",
       "    .dataframe tbody tr th {\n",
       "        vertical-align: top;\n",
       "    }\n",
       "\n",
       "    .dataframe thead th {\n",
       "        text-align: right;\n",
       "    }\n",
       "</style>\n",
       "<table border=\"1\" class=\"dataframe\">\n",
       "  <thead>\n",
       "    <tr style=\"text-align: right;\">\n",
       "      <th></th>\n",
       "      <th>canard</th>\n",
       "      <th>quretec</th>\n",
       "      <th>prepend</th>\n",
       "    </tr>\n",
       "  </thead>\n",
       "  <tbody>\n",
       "    <tr>\n",
       "      <th>canard</th>\n",
       "      <td>1.000000</td>\n",
       "      <td>0.000013</td>\n",
       "      <td>0.280627</td>\n",
       "    </tr>\n",
       "    <tr>\n",
       "      <th>quretec</th>\n",
       "      <td>0.000013</td>\n",
       "      <td>1.000000</td>\n",
       "      <td>0.000831</td>\n",
       "    </tr>\n",
       "    <tr>\n",
       "      <th>prepend</th>\n",
       "      <td>0.280627</td>\n",
       "      <td>0.000831</td>\n",
       "      <td>1.000000</td>\n",
       "    </tr>\n",
       "  </tbody>\n",
       "</table>\n",
       "</div>"
      ],
      "text/plain": [
       "           canard   quretec   prepend\n",
       "canard   1.000000  0.000013  0.280627\n",
       "quretec  0.000013  1.000000  0.000831\n",
       "prepend  0.280627  0.000831  1.000000"
      ]
     },
     "metadata": {},
     "output_type": "display_data"
    }
   ],
   "source": [
    "compare_models(fact_qooka_canard['test_qa_answer_f1'],\n",
    "               fact_qooka_quretec['test_qa_answer_f1'],\n",
    "               fact_qooka_prepend['test_qa_answer_f1'],\n",
    "               model_names=['canard', 'quretec', 'prepend'])"
   ]
  },
  {
   "cell_type": "markdown",
   "id": "ffe2e638",
   "metadata": {},
   "source": [
    "### 2. Competence Needs"
   ]
  },
  {
   "cell_type": "code",
   "execution_count": 336,
   "id": "7419f1dd",
   "metadata": {},
   "outputs": [],
   "source": [
    "competence_needs_qooka_query_rep = competence_needs_qooka_combined_data.loc[competence_needs_qooka_combined_data['context_window'] != 'n_0']\n",
    "competence_qooka_canard = competence_needs_qooka_query_rep.loc[competence_needs_qooka_query_rep['query_rep']=='canard_rewritten']\n",
    "competence_qooka_quretec = competence_needs_qooka_query_rep.loc[competence_needs_qooka_query_rep['query_rep']=='quretec_expansion']\n",
    "competence_qooka_prepend = competence_needs_qooka_query_rep.loc[competence_needs_qooka_query_rep['query_rep']=='prepend_context']"
   ]
  },
  {
   "cell_type": "code",
   "execution_count": 337,
   "id": "64ddf6d0",
   "metadata": {},
   "outputs": [
    {
     "data": {
      "text/plain": [
       "F_onewayResult(statistic=11.431977492605501, pvalue=1.0893951291658725e-05)"
      ]
     },
     "metadata": {},
     "output_type": "display_data"
    },
    {
     "data": {
      "text/plain": [
       "canard     0.570165\n",
       "quretec    0.571427\n",
       "prepend    0.547513\n",
       "dtype: float64"
      ]
     },
     "metadata": {},
     "output_type": "display_data"
    },
    {
     "data": {
      "text/html": [
       "<div>\n",
       "<style scoped>\n",
       "    .dataframe tbody tr th:only-of-type {\n",
       "        vertical-align: middle;\n",
       "    }\n",
       "\n",
       "    .dataframe tbody tr th {\n",
       "        vertical-align: top;\n",
       "    }\n",
       "\n",
       "    .dataframe thead th {\n",
       "        text-align: right;\n",
       "    }\n",
       "</style>\n",
       "<table border=\"1\" class=\"dataframe\">\n",
       "  <thead>\n",
       "    <tr style=\"text-align: right;\">\n",
       "      <th></th>\n",
       "      <th>canard</th>\n",
       "      <th>quretec</th>\n",
       "      <th>prepend</th>\n",
       "    </tr>\n",
       "  </thead>\n",
       "  <tbody>\n",
       "    <tr>\n",
       "      <th>canard</th>\n",
       "      <td>1.000000</td>\n",
       "      <td>0.822573</td>\n",
       "      <td>0.000116</td>\n",
       "    </tr>\n",
       "    <tr>\n",
       "      <th>quretec</th>\n",
       "      <td>0.822573</td>\n",
       "      <td>1.000000</td>\n",
       "      <td>0.000064</td>\n",
       "    </tr>\n",
       "    <tr>\n",
       "      <th>prepend</th>\n",
       "      <td>0.000116</td>\n",
       "      <td>0.000064</td>\n",
       "      <td>1.000000</td>\n",
       "    </tr>\n",
       "  </tbody>\n",
       "</table>\n",
       "</div>"
      ],
      "text/plain": [
       "           canard   quretec   prepend\n",
       "canard   1.000000  0.822573  0.000116\n",
       "quretec  0.822573  1.000000  0.000064\n",
       "prepend  0.000116  0.000064  1.000000"
      ]
     },
     "metadata": {},
     "output_type": "display_data"
    }
   ],
   "source": [
    "compare_models(competence_qooka_canard['test_qa_answer_f1'],\n",
    "               competence_qooka_quretec['test_qa_answer_f1'],\n",
    "               competence_qooka_prepend['test_qa_answer_f1'],\n",
    "               model_names=['canard', 'quretec', 'prepend'])"
   ]
  },
  {
   "cell_type": "markdown",
   "id": "962fcbf3",
   "metadata": {},
   "source": [
    "### 3. All Needs"
   ]
  },
  {
   "cell_type": "code",
   "execution_count": 338,
   "id": "d228bc8e",
   "metadata": {},
   "outputs": [],
   "source": [
    "all_needs_qooka_query_rep = all_needs_qooka_combined_data.loc[all_needs_qooka_combined_data['context_window'] != 'n_0']\n",
    "all_needs_qooka_canard = all_needs_qooka_query_rep.loc[all_needs_qooka_query_rep['query_rep']=='canard_rewritten']\n",
    "all_needs_qooka_quretec = all_needs_qooka_query_rep.loc[all_needs_qooka_query_rep['query_rep']=='quretec_expansion']\n",
    "all_needs_qooka_prepend = all_needs_qooka_query_rep.loc[all_needs_qooka_query_rep['query_rep']=='prepend_context']"
   ]
  },
  {
   "cell_type": "code",
   "execution_count": 339,
   "id": "f24a28b4",
   "metadata": {},
   "outputs": [
    {
     "data": {
      "text/plain": [
       "F_onewayResult(statistic=2.7634243964050857, pvalue=0.06308397614495913)"
      ]
     },
     "metadata": {},
     "output_type": "display_data"
    },
    {
     "data": {
      "text/plain": [
       "canard     0.572286\n",
       "quretec    0.582214\n",
       "prepend    0.576632\n",
       "dtype: float64"
      ]
     },
     "metadata": {},
     "output_type": "display_data"
    },
    {
     "data": {
      "text/html": [
       "<div>\n",
       "<style scoped>\n",
       "    .dataframe tbody tr th:only-of-type {\n",
       "        vertical-align: middle;\n",
       "    }\n",
       "\n",
       "    .dataframe tbody tr th {\n",
       "        vertical-align: top;\n",
       "    }\n",
       "\n",
       "    .dataframe thead th {\n",
       "        text-align: right;\n",
       "    }\n",
       "</style>\n",
       "<table border=\"1\" class=\"dataframe\">\n",
       "  <thead>\n",
       "    <tr style=\"text-align: right;\">\n",
       "      <th></th>\n",
       "      <th>canard</th>\n",
       "      <th>quretec</th>\n",
       "      <th>prepend</th>\n",
       "    </tr>\n",
       "  </thead>\n",
       "  <tbody>\n",
       "    <tr>\n",
       "      <th>canard</th>\n",
       "      <td>1.000000</td>\n",
       "      <td>0.057627</td>\n",
       "      <td>0.372857</td>\n",
       "    </tr>\n",
       "    <tr>\n",
       "      <th>quretec</th>\n",
       "      <td>0.057627</td>\n",
       "      <td>1.000000</td>\n",
       "      <td>0.372857</td>\n",
       "    </tr>\n",
       "    <tr>\n",
       "      <th>prepend</th>\n",
       "      <td>0.372857</td>\n",
       "      <td>0.372857</td>\n",
       "      <td>1.000000</td>\n",
       "    </tr>\n",
       "  </tbody>\n",
       "</table>\n",
       "</div>"
      ],
      "text/plain": [
       "           canard   quretec   prepend\n",
       "canard   1.000000  0.057627  0.372857\n",
       "quretec  0.057627  1.000000  0.372857\n",
       "prepend  0.372857  0.372857  1.000000"
      ]
     },
     "metadata": {},
     "output_type": "display_data"
    }
   ],
   "source": [
    "compare_models(all_needs_qooka_canard['test_qa_answer_f1'],\n",
    "               all_needs_qooka_quretec['test_qa_answer_f1'],\n",
    "               all_needs_qooka_prepend['test_qa_answer_f1'],\n",
    "               model_names=['canard', 'quretec', 'prepend'])"
   ]
  },
  {
   "cell_type": "markdown",
   "id": "e1028da9",
   "metadata": {},
   "source": [
    "### 4. Best Query Representation over all experiments"
   ]
  },
  {
   "cell_type": "code",
   "execution_count": 486,
   "id": "8639fd5a",
   "metadata": {},
   "outputs": [],
   "source": [
    "all_qooka_combined_query_rep = pd.concat([fact_needs_qooka_combined_data, competence_needs_qooka_combined_data,\n",
    "                                all_needs_qooka_combined_data])\n",
    "all_qooka_combined_query_rep = all_qooka_combined_query_rep.loc[(all_qooka_combined_query_rep['context_window'] != 'n_0') ]\n",
    "all_qooka_combined_query_rep_canard = all_qooka_combined_query_rep.loc[all_qooka_combined_query_rep['query_rep']=='canard_rewritten']\n",
    "all_qooka_combined_query_rep_quretec = all_qooka_combined_query_rep.loc[all_qooka_combined_query_rep['query_rep']=='quretec_expansion']\n",
    "all_qooka_combined_query_rep_prepend = all_qooka_combined_query_rep.loc[all_qooka_combined_query_rep['query_rep']=='prepend_context']"
   ]
  },
  {
   "cell_type": "code",
   "execution_count": 488,
   "id": "b9d35509",
   "metadata": {},
   "outputs": [
    {
     "data": {
      "text/plain": [
       "F_onewayResult(statistic=13.656022908402443, pvalue=1.174857596349258e-06)"
      ]
     },
     "metadata": {},
     "output_type": "display_data"
    },
    {
     "data": {
      "text/html": [
       "<div>\n",
       "<style scoped>\n",
       "    .dataframe tbody tr th:only-of-type {\n",
       "        vertical-align: middle;\n",
       "    }\n",
       "\n",
       "    .dataframe tbody tr th {\n",
       "        vertical-align: top;\n",
       "    }\n",
       "\n",
       "    .dataframe thead th {\n",
       "        text-align: right;\n",
       "    }\n",
       "</style>\n",
       "<table border=\"1\" class=\"dataframe\">\n",
       "  <thead>\n",
       "    <tr style=\"text-align: right;\">\n",
       "      <th></th>\n",
       "      <th>canard</th>\n",
       "      <th>quretec</th>\n",
       "      <th>prepend</th>\n",
       "    </tr>\n",
       "  </thead>\n",
       "  <tbody>\n",
       "    <tr>\n",
       "      <th>count</th>\n",
       "      <td>37458.000000</td>\n",
       "      <td>37458.000000</td>\n",
       "      <td>37458.000000</td>\n",
       "    </tr>\n",
       "    <tr>\n",
       "      <th>mean</th>\n",
       "      <td>0.573260</td>\n",
       "      <td>0.585891</td>\n",
       "      <td>0.571531</td>\n",
       "    </tr>\n",
       "    <tr>\n",
       "      <th>std</th>\n",
       "      <td>0.412220</td>\n",
       "      <td>0.409252</td>\n",
       "      <td>0.410228</td>\n",
       "    </tr>\n",
       "    <tr>\n",
       "      <th>min</th>\n",
       "      <td>0.000000</td>\n",
       "      <td>0.000000</td>\n",
       "      <td>0.000000</td>\n",
       "    </tr>\n",
       "    <tr>\n",
       "      <th>25%</th>\n",
       "      <td>0.111111</td>\n",
       "      <td>0.129032</td>\n",
       "      <td>0.111111</td>\n",
       "    </tr>\n",
       "    <tr>\n",
       "      <th>50%</th>\n",
       "      <td>0.666667</td>\n",
       "      <td>0.666667</td>\n",
       "      <td>0.666667</td>\n",
       "    </tr>\n",
       "    <tr>\n",
       "      <th>75%</th>\n",
       "      <td>1.000000</td>\n",
       "      <td>1.000000</td>\n",
       "      <td>1.000000</td>\n",
       "    </tr>\n",
       "    <tr>\n",
       "      <th>max</th>\n",
       "      <td>1.000000</td>\n",
       "      <td>1.000000</td>\n",
       "      <td>1.000000</td>\n",
       "    </tr>\n",
       "  </tbody>\n",
       "</table>\n",
       "</div>"
      ],
      "text/plain": [
       "             canard       quretec       prepend\n",
       "count  37458.000000  37458.000000  37458.000000\n",
       "mean       0.573260      0.585891      0.571531\n",
       "std        0.412220      0.409252      0.410228\n",
       "min        0.000000      0.000000      0.000000\n",
       "25%        0.111111      0.129032      0.111111\n",
       "50%        0.666667      0.666667      0.666667\n",
       "75%        1.000000      1.000000      1.000000\n",
       "max        1.000000      1.000000      1.000000"
      ]
     },
     "metadata": {},
     "output_type": "display_data"
    },
    {
     "data": {
      "text/html": [
       "<div>\n",
       "<style scoped>\n",
       "    .dataframe tbody tr th:only-of-type {\n",
       "        vertical-align: middle;\n",
       "    }\n",
       "\n",
       "    .dataframe tbody tr th {\n",
       "        vertical-align: top;\n",
       "    }\n",
       "\n",
       "    .dataframe thead th {\n",
       "        text-align: right;\n",
       "    }\n",
       "</style>\n",
       "<table border=\"1\" class=\"dataframe\">\n",
       "  <thead>\n",
       "    <tr style=\"text-align: right;\">\n",
       "      <th></th>\n",
       "      <th>canard</th>\n",
       "      <th>quretec</th>\n",
       "      <th>prepend</th>\n",
       "    </tr>\n",
       "  </thead>\n",
       "  <tbody>\n",
       "    <tr>\n",
       "      <th>canard</th>\n",
       "      <td>1.000000</td>\n",
       "      <td>0.000051</td>\n",
       "      <td>0.565010</td>\n",
       "    </tr>\n",
       "    <tr>\n",
       "      <th>quretec</th>\n",
       "      <td>0.000051</td>\n",
       "      <td>1.000000</td>\n",
       "      <td>0.000005</td>\n",
       "    </tr>\n",
       "    <tr>\n",
       "      <th>prepend</th>\n",
       "      <td>0.565010</td>\n",
       "      <td>0.000005</td>\n",
       "      <td>1.000000</td>\n",
       "    </tr>\n",
       "  </tbody>\n",
       "</table>\n",
       "</div>"
      ],
      "text/plain": [
       "           canard   quretec   prepend\n",
       "canard   1.000000  0.000051  0.565010\n",
       "quretec  0.000051  1.000000  0.000005\n",
       "prepend  0.565010  0.000005  1.000000"
      ]
     },
     "metadata": {},
     "output_type": "display_data"
    }
   ],
   "source": [
    "compare_models(all_qooka_combined_query_rep_canard['test_qa_answer_f1'],\n",
    "               all_qooka_combined_query_rep_quretec['test_qa_answer_f1'],\n",
    "               all_qooka_combined_query_rep_prepend['test_qa_answer_f1'],\n",
    "               model_names=['canard', 'quretec', 'prepend'])"
   ]
  },
  {
   "cell_type": "markdown",
   "id": "5c4cb868",
   "metadata": {},
   "source": [
    "#### 4. Context Window Comparison With N=2"
   ]
  },
  {
   "cell_type": "code",
   "execution_count": 468,
   "id": "f61dfc80",
   "metadata": {},
   "outputs": [],
   "source": [
    "all_qooka_combined_window_based_rep = pd.concat([fact_needs_qooka_combined_data, competence_needs_qooka_combined_data,\n",
    "                                all_needs_qooka_combined_data])\n",
    "all_qooka_combined_window_based_rep = all_qooka_combined_window_based_rep.loc[(all_qooka_combined_window_based_rep['context_window'] == 'n_2')] #& (all_qooka_combined_window_based_rep['model_type'] != 'fid')]\n",
    "n2_qooka_canard = all_qooka_combined_window_based_rep.loc[all_qooka_combined_window_based_rep['query_rep']=='canard_rewritten']\n",
    "n2_qooka_quretec = all_qooka_combined_window_based_rep.loc[all_qooka_combined_window_based_rep['query_rep']=='quretec_expansion']\n",
    "n2_qooka_prepend = all_qooka_combined_window_based_rep.loc[all_qooka_combined_window_based_rep['query_rep']=='prepend_context']\n",
    "\n"
   ]
  },
  {
   "cell_type": "code",
   "execution_count": 473,
   "id": "4634e04f",
   "metadata": {},
   "outputs": [
    {
     "data": {
      "text/plain": [
       "F_onewayResult(statistic=10.466281058428637, pvalue=2.8564168069943796e-05)"
      ]
     },
     "metadata": {},
     "output_type": "display_data"
    },
    {
     "data": {
      "text/html": [
       "<div>\n",
       "<style scoped>\n",
       "    .dataframe tbody tr th:only-of-type {\n",
       "        vertical-align: middle;\n",
       "    }\n",
       "\n",
       "    .dataframe tbody tr th {\n",
       "        vertical-align: top;\n",
       "    }\n",
       "\n",
       "    .dataframe thead th {\n",
       "        text-align: right;\n",
       "    }\n",
       "</style>\n",
       "<table border=\"1\" class=\"dataframe\">\n",
       "  <thead>\n",
       "    <tr style=\"text-align: right;\">\n",
       "      <th></th>\n",
       "      <th>n2 - canard</th>\n",
       "      <th>n2 - quretec</th>\n",
       "      <th>n2 - prepend</th>\n",
       "    </tr>\n",
       "  </thead>\n",
       "  <tbody>\n",
       "    <tr>\n",
       "      <th>count</th>\n",
       "      <td>12486.000000</td>\n",
       "      <td>12486.000000</td>\n",
       "      <td>12486.000000</td>\n",
       "    </tr>\n",
       "    <tr>\n",
       "      <th>mean</th>\n",
       "      <td>0.574123</td>\n",
       "      <td>0.587792</td>\n",
       "      <td>0.597705</td>\n",
       "    </tr>\n",
       "    <tr>\n",
       "      <th>std</th>\n",
       "      <td>0.412208</td>\n",
       "      <td>0.409067</td>\n",
       "      <td>0.405655</td>\n",
       "    </tr>\n",
       "    <tr>\n",
       "      <th>min</th>\n",
       "      <td>0.000000</td>\n",
       "      <td>0.000000</td>\n",
       "      <td>0.000000</td>\n",
       "    </tr>\n",
       "    <tr>\n",
       "      <th>25%</th>\n",
       "      <td>0.111111</td>\n",
       "      <td>0.130435</td>\n",
       "      <td>0.153846</td>\n",
       "    </tr>\n",
       "    <tr>\n",
       "      <th>50%</th>\n",
       "      <td>0.666667</td>\n",
       "      <td>0.666667</td>\n",
       "      <td>0.687500</td>\n",
       "    </tr>\n",
       "    <tr>\n",
       "      <th>75%</th>\n",
       "      <td>1.000000</td>\n",
       "      <td>1.000000</td>\n",
       "      <td>1.000000</td>\n",
       "    </tr>\n",
       "    <tr>\n",
       "      <th>max</th>\n",
       "      <td>1.000000</td>\n",
       "      <td>1.000000</td>\n",
       "      <td>1.000000</td>\n",
       "    </tr>\n",
       "  </tbody>\n",
       "</table>\n",
       "</div>"
      ],
      "text/plain": [
       "        n2 - canard  n2 - quretec  n2 - prepend\n",
       "count  12486.000000  12486.000000  12486.000000\n",
       "mean       0.574123      0.587792      0.597705\n",
       "std        0.412208      0.409067      0.405655\n",
       "min        0.000000      0.000000      0.000000\n",
       "25%        0.111111      0.130435      0.153846\n",
       "50%        0.666667      0.666667      0.687500\n",
       "75%        1.000000      1.000000      1.000000\n",
       "max        1.000000      1.000000      1.000000"
      ]
     },
     "metadata": {},
     "output_type": "display_data"
    },
    {
     "data": {
      "text/html": [
       "<div>\n",
       "<style scoped>\n",
       "    .dataframe tbody tr th:only-of-type {\n",
       "        vertical-align: middle;\n",
       "    }\n",
       "\n",
       "    .dataframe tbody tr th {\n",
       "        vertical-align: top;\n",
       "    }\n",
       "\n",
       "    .dataframe thead th {\n",
       "        text-align: right;\n",
       "    }\n",
       "</style>\n",
       "<table border=\"1\" class=\"dataframe\">\n",
       "  <thead>\n",
       "    <tr style=\"text-align: right;\">\n",
       "      <th></th>\n",
       "      <th>n2 - canard</th>\n",
       "      <th>n2 - quretec</th>\n",
       "      <th>n2 - prepend</th>\n",
       "    </tr>\n",
       "  </thead>\n",
       "  <tbody>\n",
       "    <tr>\n",
       "      <th>n2 - canard</th>\n",
       "      <td>1.000000</td>\n",
       "      <td>0.017083</td>\n",
       "      <td>0.000016</td>\n",
       "    </tr>\n",
       "    <tr>\n",
       "      <th>n2 - quretec</th>\n",
       "      <td>0.017083</td>\n",
       "      <td>1.000000</td>\n",
       "      <td>0.054505</td>\n",
       "    </tr>\n",
       "    <tr>\n",
       "      <th>n2 - prepend</th>\n",
       "      <td>0.000016</td>\n",
       "      <td>0.054505</td>\n",
       "      <td>1.000000</td>\n",
       "    </tr>\n",
       "  </tbody>\n",
       "</table>\n",
       "</div>"
      ],
      "text/plain": [
       "              n2 - canard  n2 - quretec  n2 - prepend\n",
       "n2 - canard      1.000000      0.017083      0.000016\n",
       "n2 - quretec     0.017083      1.000000      0.054505\n",
       "n2 - prepend     0.000016      0.054505      1.000000"
      ]
     },
     "metadata": {},
     "output_type": "display_data"
    }
   ],
   "source": [
    "compare_models(n2_qooka_canard['test_qa_answer_f1'],\n",
    "               n2_qooka_quretec['test_qa_answer_f1'],\n",
    "               n2_qooka_prepend['test_qa_answer_f1'],\n",
    "               model_names=['n2 - canard', 'n2 - quretec', 'n2 - prepend'])"
   ]
  },
  {
   "cell_type": "markdown",
   "id": "491d0179",
   "metadata": {},
   "source": [
    "#### 5. Context Window Comparison With N=3"
   ]
  },
  {
   "cell_type": "code",
   "execution_count": 646,
   "id": "c3538654",
   "metadata": {},
   "outputs": [],
   "source": [
    "all_qooka_combined_window_based_rep = pd.concat([fact_needs_qooka_combined_data, competence_needs_qooka_combined_data,\n",
    "                                all_needs_qooka_combined_data])\n",
    "all_qooka_combined_window_based_rep = all_qooka_combined_window_based_rep.loc[all_qooka_combined_window_based_rep['context_window'] == 'n_3']\n",
    "n3_qooka_canard = all_qooka_combined_window_based_rep.loc[all_qooka_combined_window_based_rep['query_rep']=='canard_rewritten']\n",
    "n3_qooka_quretec = all_qooka_combined_window_based_rep.loc[all_qooka_combined_window_based_rep['query_rep']=='quretec_expansion']\n",
    "n3_qooka_prepend = all_qooka_combined_window_based_rep.loc[all_qooka_combined_window_based_rep['query_rep']=='prepend_context']\n",
    "\n"
   ]
  },
  {
   "cell_type": "code",
   "execution_count": 647,
   "id": "644cd576",
   "metadata": {},
   "outputs": [
    {
     "data": {
      "text/plain": [
       "F_onewayResult(statistic=6.887778830979248, pvalue=0.001021469997775644)"
      ]
     },
     "metadata": {},
     "output_type": "display_data"
    },
    {
     "data": {
      "text/html": [
       "<div>\n",
       "<style scoped>\n",
       "    .dataframe tbody tr th:only-of-type {\n",
       "        vertical-align: middle;\n",
       "    }\n",
       "\n",
       "    .dataframe tbody tr th {\n",
       "        vertical-align: top;\n",
       "    }\n",
       "\n",
       "    .dataframe thead th {\n",
       "        text-align: right;\n",
       "    }\n",
       "</style>\n",
       "<table border=\"1\" class=\"dataframe\">\n",
       "  <thead>\n",
       "    <tr style=\"text-align: right;\">\n",
       "      <th></th>\n",
       "      <th>n3 - canard</th>\n",
       "      <th>n3 - quretec</th>\n",
       "      <th>n3 - prepend</th>\n",
       "    </tr>\n",
       "  </thead>\n",
       "  <tbody>\n",
       "    <tr>\n",
       "      <th>count</th>\n",
       "      <td>12486.000000</td>\n",
       "      <td>12486.000000</td>\n",
       "      <td>12486.000000</td>\n",
       "    </tr>\n",
       "    <tr>\n",
       "      <th>mean</th>\n",
       "      <td>0.574109</td>\n",
       "      <td>0.588197</td>\n",
       "      <td>0.592435</td>\n",
       "    </tr>\n",
       "    <tr>\n",
       "      <th>std</th>\n",
       "      <td>0.411824</td>\n",
       "      <td>0.408108</td>\n",
       "      <td>0.405513</td>\n",
       "    </tr>\n",
       "    <tr>\n",
       "      <th>min</th>\n",
       "      <td>0.000000</td>\n",
       "      <td>0.000000</td>\n",
       "      <td>0.000000</td>\n",
       "    </tr>\n",
       "    <tr>\n",
       "      <th>25%</th>\n",
       "      <td>0.111111</td>\n",
       "      <td>0.135593</td>\n",
       "      <td>0.142857</td>\n",
       "    </tr>\n",
       "    <tr>\n",
       "      <th>50%</th>\n",
       "      <td>0.666667</td>\n",
       "      <td>0.666667</td>\n",
       "      <td>0.666667</td>\n",
       "    </tr>\n",
       "    <tr>\n",
       "      <th>75%</th>\n",
       "      <td>1.000000</td>\n",
       "      <td>1.000000</td>\n",
       "      <td>1.000000</td>\n",
       "    </tr>\n",
       "    <tr>\n",
       "      <th>max</th>\n",
       "      <td>1.000000</td>\n",
       "      <td>1.000000</td>\n",
       "      <td>1.000000</td>\n",
       "    </tr>\n",
       "  </tbody>\n",
       "</table>\n",
       "</div>"
      ],
      "text/plain": [
       "        n3 - canard  n3 - quretec  n3 - prepend\n",
       "count  12486.000000  12486.000000  12486.000000\n",
       "mean       0.574109      0.588197      0.592435\n",
       "std        0.411824      0.408108      0.405513\n",
       "min        0.000000      0.000000      0.000000\n",
       "25%        0.111111      0.135593      0.142857\n",
       "50%        0.666667      0.666667      0.666667\n",
       "75%        1.000000      1.000000      1.000000\n",
       "max        1.000000      1.000000      1.000000"
      ]
     },
     "metadata": {},
     "output_type": "display_data"
    },
    {
     "data": {
      "text/html": [
       "<div>\n",
       "<style scoped>\n",
       "    .dataframe tbody tr th:only-of-type {\n",
       "        vertical-align: middle;\n",
       "    }\n",
       "\n",
       "    .dataframe tbody tr th {\n",
       "        vertical-align: top;\n",
       "    }\n",
       "\n",
       "    .dataframe thead th {\n",
       "        text-align: right;\n",
       "    }\n",
       "</style>\n",
       "<table border=\"1\" class=\"dataframe\">\n",
       "  <thead>\n",
       "    <tr style=\"text-align: right;\">\n",
       "      <th></th>\n",
       "      <th>n3 - canard</th>\n",
       "      <th>n3 - quretec</th>\n",
       "      <th>n3 - prepend</th>\n",
       "    </tr>\n",
       "  </thead>\n",
       "  <tbody>\n",
       "    <tr>\n",
       "      <th>n3 - canard</th>\n",
       "      <td>1.000000</td>\n",
       "      <td>0.013257</td>\n",
       "      <td>0.001188</td>\n",
       "    </tr>\n",
       "    <tr>\n",
       "      <th>n3 - quretec</th>\n",
       "      <td>0.013257</td>\n",
       "      <td>1.000000</td>\n",
       "      <td>0.410431</td>\n",
       "    </tr>\n",
       "    <tr>\n",
       "      <th>n3 - prepend</th>\n",
       "      <td>0.001188</td>\n",
       "      <td>0.410431</td>\n",
       "      <td>1.000000</td>\n",
       "    </tr>\n",
       "  </tbody>\n",
       "</table>\n",
       "</div>"
      ],
      "text/plain": [
       "              n3 - canard  n3 - quretec  n3 - prepend\n",
       "n3 - canard      1.000000      0.013257      0.001188\n",
       "n3 - quretec     0.013257      1.000000      0.410431\n",
       "n3 - prepend     0.001188      0.410431      1.000000"
      ]
     },
     "metadata": {},
     "output_type": "display_data"
    }
   ],
   "source": [
    "compare_models(n3_qooka_canard['test_qa_answer_f1'],\n",
    "               n3_qooka_quretec['test_qa_answer_f1'],\n",
    "               n3_qooka_prepend['test_qa_answer_f1'],\n",
    "               model_names=['n3 - canard', 'n3 - quretec', 'n3 - prepend'])"
   ]
  },
  {
   "cell_type": "markdown",
   "id": "102b9f6f",
   "metadata": {},
   "source": [
    "#### 6. Context Window Comparison With N=All"
   ]
  },
  {
   "cell_type": "code",
   "execution_count": 648,
   "id": "e0c34cef",
   "metadata": {},
   "outputs": [],
   "source": [
    "all_qooka_combined_window_based_rep = pd.concat([fact_needs_qooka_combined_data, competence_needs_qooka_combined_data,\n",
    "                                all_needs_qooka_combined_data])\n",
    "all_qooka_combined_window_based_rep = all_qooka_combined_window_based_rep.loc[all_qooka_combined_window_based_rep['context_window'] == 'n_all']\n",
    "nall_qooka_canard = all_qooka_combined_window_based_rep.loc[all_qooka_combined_window_based_rep['query_rep']=='canard_rewritten']\n",
    "nall_qooka_quretec = all_qooka_combined_window_based_rep.loc[all_qooka_combined_window_based_rep['query_rep']=='quretec_expansion']\n",
    "nall_qooka_prepend = all_qooka_combined_window_based_rep.loc[all_qooka_combined_window_based_rep['query_rep']=='prepend_context']\n",
    "\n"
   ]
  },
  {
   "cell_type": "code",
   "execution_count": 649,
   "id": "233f6eb5",
   "metadata": {},
   "outputs": [
    {
     "data": {
      "text/plain": [
       "F_onewayResult(statistic=68.31496063882705, pvalue=2.4275707147869684e-30)"
      ]
     },
     "metadata": {},
     "output_type": "display_data"
    },
    {
     "data": {
      "text/html": [
       "<div>\n",
       "<style scoped>\n",
       "    .dataframe tbody tr th:only-of-type {\n",
       "        vertical-align: middle;\n",
       "    }\n",
       "\n",
       "    .dataframe tbody tr th {\n",
       "        vertical-align: top;\n",
       "    }\n",
       "\n",
       "    .dataframe thead th {\n",
       "        text-align: right;\n",
       "    }\n",
       "</style>\n",
       "<table border=\"1\" class=\"dataframe\">\n",
       "  <thead>\n",
       "    <tr style=\"text-align: right;\">\n",
       "      <th></th>\n",
       "      <th>nall - canard</th>\n",
       "      <th>nall - quretec</th>\n",
       "      <th>nall - prepend</th>\n",
       "    </tr>\n",
       "  </thead>\n",
       "  <tbody>\n",
       "    <tr>\n",
       "      <th>count</th>\n",
       "      <td>12486.000000</td>\n",
       "      <td>12486.000000</td>\n",
       "      <td>12486.000000</td>\n",
       "    </tr>\n",
       "    <tr>\n",
       "      <th>mean</th>\n",
       "      <td>0.571549</td>\n",
       "      <td>0.581684</td>\n",
       "      <td>0.524452</td>\n",
       "    </tr>\n",
       "    <tr>\n",
       "      <th>std</th>\n",
       "      <td>0.412656</td>\n",
       "      <td>0.410576</td>\n",
       "      <td>0.415394</td>\n",
       "    </tr>\n",
       "    <tr>\n",
       "      <th>min</th>\n",
       "      <td>0.000000</td>\n",
       "      <td>0.000000</td>\n",
       "      <td>0.000000</td>\n",
       "    </tr>\n",
       "    <tr>\n",
       "      <th>25%</th>\n",
       "      <td>0.109215</td>\n",
       "      <td>0.125000</td>\n",
       "      <td>0.054054</td>\n",
       "    </tr>\n",
       "    <tr>\n",
       "      <th>50%</th>\n",
       "      <td>0.666667</td>\n",
       "      <td>0.666667</td>\n",
       "      <td>0.571429</td>\n",
       "    </tr>\n",
       "    <tr>\n",
       "      <th>75%</th>\n",
       "      <td>1.000000</td>\n",
       "      <td>1.000000</td>\n",
       "      <td>1.000000</td>\n",
       "    </tr>\n",
       "    <tr>\n",
       "      <th>max</th>\n",
       "      <td>1.000000</td>\n",
       "      <td>1.000000</td>\n",
       "      <td>1.000000</td>\n",
       "    </tr>\n",
       "  </tbody>\n",
       "</table>\n",
       "</div>"
      ],
      "text/plain": [
       "       nall - canard  nall - quretec  nall - prepend\n",
       "count   12486.000000    12486.000000    12486.000000\n",
       "mean        0.571549        0.581684        0.524452\n",
       "std         0.412656        0.410576        0.415394\n",
       "min         0.000000        0.000000        0.000000\n",
       "25%         0.109215        0.125000        0.054054\n",
       "50%         0.666667        0.666667        0.571429\n",
       "75%         1.000000        1.000000        1.000000\n",
       "max         1.000000        1.000000        1.000000"
      ]
     },
     "metadata": {},
     "output_type": "display_data"
    },
    {
     "data": {
      "text/html": [
       "<div>\n",
       "<style scoped>\n",
       "    .dataframe tbody tr th:only-of-type {\n",
       "        vertical-align: middle;\n",
       "    }\n",
       "\n",
       "    .dataframe tbody tr th {\n",
       "        vertical-align: top;\n",
       "    }\n",
       "\n",
       "    .dataframe thead th {\n",
       "        text-align: right;\n",
       "    }\n",
       "</style>\n",
       "<table border=\"1\" class=\"dataframe\">\n",
       "  <thead>\n",
       "    <tr style=\"text-align: right;\">\n",
       "      <th></th>\n",
       "      <th>nall - canard</th>\n",
       "      <th>nall - quretec</th>\n",
       "      <th>nall - prepend</th>\n",
       "    </tr>\n",
       "  </thead>\n",
       "  <tbody>\n",
       "    <tr>\n",
       "      <th>nall - canard</th>\n",
       "      <td>1.000000e+00</td>\n",
       "      <td>5.173140e-02</td>\n",
       "      <td>5.392059e-19</td>\n",
       "    </tr>\n",
       "    <tr>\n",
       "      <th>nall - quretec</th>\n",
       "      <td>5.173140e-02</td>\n",
       "      <td>1.000000e+00</td>\n",
       "      <td>2.323599e-27</td>\n",
       "    </tr>\n",
       "    <tr>\n",
       "      <th>nall - prepend</th>\n",
       "      <td>5.392059e-19</td>\n",
       "      <td>2.323599e-27</td>\n",
       "      <td>1.000000e+00</td>\n",
       "    </tr>\n",
       "  </tbody>\n",
       "</table>\n",
       "</div>"
      ],
      "text/plain": [
       "                nall - canard  nall - quretec  nall - prepend\n",
       "nall - canard    1.000000e+00    5.173140e-02    5.392059e-19\n",
       "nall - quretec   5.173140e-02    1.000000e+00    2.323599e-27\n",
       "nall - prepend   5.392059e-19    2.323599e-27    1.000000e+00"
      ]
     },
     "metadata": {},
     "output_type": "display_data"
    }
   ],
   "source": [
    "compare_models(nall_qooka_canard['test_qa_answer_f1'],\n",
    "               nall_qooka_quretec['test_qa_answer_f1'],\n",
    "               nall_qooka_prepend['test_qa_answer_f1'],\n",
    "               model_names=['nall - canard', 'nall - quretec', 'nall - prepend'])"
   ]
  },
  {
   "cell_type": "markdown",
   "id": "0e308724",
   "metadata": {},
   "source": [
    "## QookA: Identifying the optimal Conversational Context Window"
   ]
  },
  {
   "cell_type": "markdown",
   "id": "93e6ce9b",
   "metadata": {},
   "source": [
    "### 1. Fact Needs"
   ]
  },
  {
   "cell_type": "code",
   "execution_count": 642,
   "id": "3633e620",
   "metadata": {},
   "outputs": [],
   "source": [
    "fact_needs_qooka_conv_window = fact_needs_qooka_combined_data.loc[fact_needs_qooka_combined_data['query_rep'] == 'prepend_context']\n",
    "fact_qooka_n_0 = fact_needs_qooka_conv_window.loc[fact_needs_qooka_conv_window['context_window']=='n_0']\n",
    "fact_qooka_n_2 = fact_needs_qooka_conv_window.loc[fact_needs_qooka_conv_window['context_window']=='n_2']\n",
    "fact_qooka_n_3 = fact_needs_qooka_conv_window.loc[fact_needs_qooka_conv_window['context_window']=='n_3']\n",
    "fact_qooka_n_all = fact_needs_qooka_conv_window.loc[fact_needs_qooka_conv_window['context_window']=='n_all']"
   ]
  },
  {
   "cell_type": "code",
   "execution_count": 643,
   "id": "4cec5915",
   "metadata": {},
   "outputs": [
    {
     "data": {
      "text/plain": [
       "F_onewayResult(statistic=21.59587222613966, pvalue=6.03795138704709e-14)"
      ]
     },
     "metadata": {},
     "output_type": "display_data"
    },
    {
     "data": {
      "text/html": [
       "<div>\n",
       "<style scoped>\n",
       "    .dataframe tbody tr th:only-of-type {\n",
       "        vertical-align: middle;\n",
       "    }\n",
       "\n",
       "    .dataframe tbody tr th {\n",
       "        vertical-align: top;\n",
       "    }\n",
       "\n",
       "    .dataframe thead th {\n",
       "        text-align: right;\n",
       "    }\n",
       "</style>\n",
       "<table border=\"1\" class=\"dataframe\">\n",
       "  <thead>\n",
       "    <tr style=\"text-align: right;\">\n",
       "      <th></th>\n",
       "      <th>n=0</th>\n",
       "      <th>n=2</th>\n",
       "      <th>n=3</th>\n",
       "      <th>n=all</th>\n",
       "    </tr>\n",
       "  </thead>\n",
       "  <tbody>\n",
       "    <tr>\n",
       "      <th>count</th>\n",
       "      <td>3138.000000</td>\n",
       "      <td>3138.000000</td>\n",
       "      <td>3138.000000</td>\n",
       "      <td>3138.000000</td>\n",
       "    </tr>\n",
       "    <tr>\n",
       "      <th>mean</th>\n",
       "      <td>0.601261</td>\n",
       "      <td>0.612437</td>\n",
       "      <td>0.607520</td>\n",
       "      <td>0.535486</td>\n",
       "    </tr>\n",
       "    <tr>\n",
       "      <th>std</th>\n",
       "      <td>0.434033</td>\n",
       "      <td>0.431078</td>\n",
       "      <td>0.429458</td>\n",
       "      <td>0.445129</td>\n",
       "    </tr>\n",
       "    <tr>\n",
       "      <th>min</th>\n",
       "      <td>0.000000</td>\n",
       "      <td>0.000000</td>\n",
       "      <td>0.000000</td>\n",
       "      <td>0.000000</td>\n",
       "    </tr>\n",
       "    <tr>\n",
       "      <th>25%</th>\n",
       "      <td>0.000000</td>\n",
       "      <td>0.000000</td>\n",
       "      <td>0.000000</td>\n",
       "      <td>0.000000</td>\n",
       "    </tr>\n",
       "    <tr>\n",
       "      <th>50%</th>\n",
       "      <td>0.800000</td>\n",
       "      <td>0.800000</td>\n",
       "      <td>0.800000</td>\n",
       "      <td>0.666667</td>\n",
       "    </tr>\n",
       "    <tr>\n",
       "      <th>75%</th>\n",
       "      <td>1.000000</td>\n",
       "      <td>1.000000</td>\n",
       "      <td>1.000000</td>\n",
       "      <td>1.000000</td>\n",
       "    </tr>\n",
       "    <tr>\n",
       "      <th>max</th>\n",
       "      <td>1.000000</td>\n",
       "      <td>1.000000</td>\n",
       "      <td>1.000000</td>\n",
       "      <td>1.000000</td>\n",
       "    </tr>\n",
       "  </tbody>\n",
       "</table>\n",
       "</div>"
      ],
      "text/plain": [
       "               n=0          n=2          n=3        n=all\n",
       "count  3138.000000  3138.000000  3138.000000  3138.000000\n",
       "mean      0.601261     0.612437     0.607520     0.535486\n",
       "std       0.434033     0.431078     0.429458     0.445129\n",
       "min       0.000000     0.000000     0.000000     0.000000\n",
       "25%       0.000000     0.000000     0.000000     0.000000\n",
       "50%       0.800000     0.800000     0.800000     0.666667\n",
       "75%       1.000000     1.000000     1.000000     1.000000\n",
       "max       1.000000     1.000000     1.000000     1.000000"
      ]
     },
     "metadata": {},
     "output_type": "display_data"
    },
    {
     "data": {
      "text/html": [
       "<div>\n",
       "<style scoped>\n",
       "    .dataframe tbody tr th:only-of-type {\n",
       "        vertical-align: middle;\n",
       "    }\n",
       "\n",
       "    .dataframe tbody tr th {\n",
       "        vertical-align: top;\n",
       "    }\n",
       "\n",
       "    .dataframe thead th {\n",
       "        text-align: right;\n",
       "    }\n",
       "</style>\n",
       "<table border=\"1\" class=\"dataframe\">\n",
       "  <thead>\n",
       "    <tr style=\"text-align: right;\">\n",
       "      <th></th>\n",
       "      <th>n=0</th>\n",
       "      <th>n=2</th>\n",
       "      <th>n=3</th>\n",
       "      <th>n=all</th>\n",
       "    </tr>\n",
       "  </thead>\n",
       "  <tbody>\n",
       "    <tr>\n",
       "      <th>n=0</th>\n",
       "      <td>1.000000e+00</td>\n",
       "      <td>9.184703e-01</td>\n",
       "      <td>1.000000e+00</td>\n",
       "      <td>1.303962e-08</td>\n",
       "    </tr>\n",
       "    <tr>\n",
       "      <th>n=2</th>\n",
       "      <td>9.184703e-01</td>\n",
       "      <td>1.000000e+00</td>\n",
       "      <td>1.000000e+00</td>\n",
       "      <td>2.305899e-11</td>\n",
       "    </tr>\n",
       "    <tr>\n",
       "      <th>n=3</th>\n",
       "      <td>1.000000e+00</td>\n",
       "      <td>1.000000e+00</td>\n",
       "      <td>1.000000e+00</td>\n",
       "      <td>3.693131e-10</td>\n",
       "    </tr>\n",
       "    <tr>\n",
       "      <th>n=all</th>\n",
       "      <td>1.303962e-08</td>\n",
       "      <td>2.305899e-11</td>\n",
       "      <td>3.693131e-10</td>\n",
       "      <td>1.000000e+00</td>\n",
       "    </tr>\n",
       "  </tbody>\n",
       "</table>\n",
       "</div>"
      ],
      "text/plain": [
       "                n=0           n=2           n=3         n=all\n",
       "n=0    1.000000e+00  9.184703e-01  1.000000e+00  1.303962e-08\n",
       "n=2    9.184703e-01  1.000000e+00  1.000000e+00  2.305899e-11\n",
       "n=3    1.000000e+00  1.000000e+00  1.000000e+00  3.693131e-10\n",
       "n=all  1.303962e-08  2.305899e-11  3.693131e-10  1.000000e+00"
      ]
     },
     "metadata": {},
     "output_type": "display_data"
    }
   ],
   "source": [
    "compare_models(fact_qooka_n_0['test_qa_answer_f1'],\n",
    "               fact_qooka_n_2['test_qa_answer_f1'],\n",
    "               fact_qooka_n_3['test_qa_answer_f1'],\n",
    "               fact_qooka_n_all['test_qa_answer_f1'],\n",
    "               model_names=['n=0', 'n=2', 'n=3', 'n=all'])"
   ]
  },
  {
   "cell_type": "markdown",
   "id": "aba3e8ed",
   "metadata": {},
   "source": [
    "### 2. Competence Needs"
   ]
  },
  {
   "cell_type": "code",
   "execution_count": 344,
   "id": "eece4b2e",
   "metadata": {},
   "outputs": [],
   "source": [
    "competence_needs_qooka_conv_window = competence_needs_qooka_combined_data.loc[competence_needs_qooka_combined_data['query_rep'] == 'prepend_context']\n",
    "competence_qooka_n_0 = competence_needs_qooka_conv_window.loc[competence_needs_qooka_conv_window['context_window']=='n_0']\n",
    "competence_qooka_n_2 = competence_needs_qooka_conv_window.loc[competence_needs_qooka_conv_window['context_window']=='n_2']\n",
    "competence_qooka_n_3 = competence_needs_qooka_conv_window.loc[competence_needs_qooka_conv_window['context_window']=='n_3']\n",
    "competence_qooka_n_all = competence_needs_qooka_conv_window.loc[competence_needs_qooka_conv_window['context_window']=='n_all']"
   ]
  },
  {
   "cell_type": "code",
   "execution_count": 345,
   "id": "6c7965f9",
   "metadata": {},
   "outputs": [
    {
     "data": {
      "text/plain": [
       "F_onewayResult(statistic=19.790364235986686, pvalue=8.576550994379468e-13)"
      ]
     },
     "metadata": {},
     "output_type": "display_data"
    },
    {
     "data": {
      "text/plain": [
       "n=0      0.567135\n",
       "n=2      0.570704\n",
       "n=3      0.565293\n",
       "n=all    0.506542\n",
       "dtype: float64"
      ]
     },
     "metadata": {},
     "output_type": "display_data"
    },
    {
     "data": {
      "text/html": [
       "<div>\n",
       "<style scoped>\n",
       "    .dataframe tbody tr th:only-of-type {\n",
       "        vertical-align: middle;\n",
       "    }\n",
       "\n",
       "    .dataframe tbody tr th {\n",
       "        vertical-align: top;\n",
       "    }\n",
       "\n",
       "    .dataframe thead th {\n",
       "        text-align: right;\n",
       "    }\n",
       "</style>\n",
       "<table border=\"1\" class=\"dataframe\">\n",
       "  <thead>\n",
       "    <tr style=\"text-align: right;\">\n",
       "      <th></th>\n",
       "      <th>n=0</th>\n",
       "      <th>n=2</th>\n",
       "      <th>n=3</th>\n",
       "      <th>n=all</th>\n",
       "    </tr>\n",
       "  </thead>\n",
       "  <tbody>\n",
       "    <tr>\n",
       "      <th>n=0</th>\n",
       "      <td>1.000000e+00</td>\n",
       "      <td>1.000000e+00</td>\n",
       "      <td>1.000000e+00</td>\n",
       "      <td>2.945732e-09</td>\n",
       "    </tr>\n",
       "    <tr>\n",
       "      <th>n=2</th>\n",
       "      <td>1.000000e+00</td>\n",
       "      <td>1.000000e+00</td>\n",
       "      <td>1.000000e+00</td>\n",
       "      <td>2.400979e-10</td>\n",
       "    </tr>\n",
       "    <tr>\n",
       "      <th>n=3</th>\n",
       "      <td>1.000000e+00</td>\n",
       "      <td>1.000000e+00</td>\n",
       "      <td>1.000000e+00</td>\n",
       "      <td>7.108823e-09</td>\n",
       "    </tr>\n",
       "    <tr>\n",
       "      <th>n=all</th>\n",
       "      <td>2.945732e-09</td>\n",
       "      <td>2.400979e-10</td>\n",
       "      <td>7.108823e-09</td>\n",
       "      <td>1.000000e+00</td>\n",
       "    </tr>\n",
       "  </tbody>\n",
       "</table>\n",
       "</div>"
      ],
      "text/plain": [
       "                n=0           n=2           n=3         n=all\n",
       "n=0    1.000000e+00  1.000000e+00  1.000000e+00  2.945732e-09\n",
       "n=2    1.000000e+00  1.000000e+00  1.000000e+00  2.400979e-10\n",
       "n=3    1.000000e+00  1.000000e+00  1.000000e+00  7.108823e-09\n",
       "n=all  2.945732e-09  2.400979e-10  7.108823e-09  1.000000e+00"
      ]
     },
     "metadata": {},
     "output_type": "display_data"
    }
   ],
   "source": [
    "compare_models(competence_qooka_n_0['test_qa_answer_f1'],\n",
    "               competence_qooka_n_2['test_qa_answer_f1'],\n",
    "               competence_qooka_n_3['test_qa_answer_f1'],\n",
    "               competence_qooka_n_all['test_qa_answer_f1'],\n",
    "               model_names=['n=0', 'n=2', 'n=3', 'n=all'])\n"
   ]
  },
  {
   "cell_type": "markdown",
   "id": "b46b9be8",
   "metadata": {},
   "source": [
    "### 3. All Needs"
   ]
  },
  {
   "cell_type": "code",
   "execution_count": 347,
   "id": "fba77f07",
   "metadata": {},
   "outputs": [],
   "source": [
    "all_needs_qooka_conv_window = all_needs_qooka_combined_data.loc[all_needs_qooka_combined_data['query_rep'] == 'prepend_context']\n",
    "all_qooka_n_0 = all_needs_qooka_conv_window.loc[all_needs_qooka_conv_window['context_window']=='n_0']\n",
    "all_qooka_n_2 = all_needs_qooka_conv_window.loc[all_needs_qooka_conv_window['context_window']=='n_2']\n",
    "all_qooka_n_3 = all_needs_qooka_conv_window.loc[all_needs_qooka_conv_window['context_window']=='n_3']\n",
    "all_qooka_n_all = all_needs_qooka_conv_window.loc[all_needs_qooka_conv_window['context_window']=='n_all']"
   ]
  },
  {
   "cell_type": "code",
   "execution_count": 348,
   "id": "b79bf6ed",
   "metadata": {},
   "outputs": [
    {
     "data": {
      "text/plain": [
       "F_onewayResult(statistic=44.93576249465498, pvalue=5.950294128668296e-29)"
      ]
     },
     "metadata": {},
     "output_type": "display_data"
    },
    {
     "data": {
      "text/plain": [
       "n=0      0.578812\n",
       "n=2      0.603730\n",
       "n=3      0.598353\n",
       "n=all    0.527814\n",
       "dtype: float64"
      ]
     },
     "metadata": {},
     "output_type": "display_data"
    },
    {
     "data": {
      "text/html": [
       "<div>\n",
       "<style scoped>\n",
       "    .dataframe tbody tr th:only-of-type {\n",
       "        vertical-align: middle;\n",
       "    }\n",
       "\n",
       "    .dataframe tbody tr th {\n",
       "        vertical-align: top;\n",
       "    }\n",
       "\n",
       "    .dataframe thead th {\n",
       "        text-align: right;\n",
       "    }\n",
       "</style>\n",
       "<table border=\"1\" class=\"dataframe\">\n",
       "  <thead>\n",
       "    <tr style=\"text-align: right;\">\n",
       "      <th></th>\n",
       "      <th>n=0</th>\n",
       "      <th>n=2</th>\n",
       "      <th>n=3</th>\n",
       "      <th>n=all</th>\n",
       "    </tr>\n",
       "  </thead>\n",
       "  <tbody>\n",
       "    <tr>\n",
       "      <th>n=0</th>\n",
       "      <td>1.000000e+00</td>\n",
       "      <td>1.880240e-03</td>\n",
       "      <td>1.444647e-02</td>\n",
       "      <td>2.140041e-11</td>\n",
       "    </tr>\n",
       "    <tr>\n",
       "      <th>n=2</th>\n",
       "      <td>1.880240e-03</td>\n",
       "      <td>1.000000e+00</td>\n",
       "      <td>4.559351e-01</td>\n",
       "      <td>2.907220e-24</td>\n",
       "    </tr>\n",
       "    <tr>\n",
       "      <th>n=3</th>\n",
       "      <td>1.444647e-02</td>\n",
       "      <td>4.559351e-01</td>\n",
       "      <td>1.000000e+00</td>\n",
       "      <td>3.225846e-21</td>\n",
       "    </tr>\n",
       "    <tr>\n",
       "      <th>n=all</th>\n",
       "      <td>2.140041e-11</td>\n",
       "      <td>2.907220e-24</td>\n",
       "      <td>3.225846e-21</td>\n",
       "      <td>1.000000e+00</td>\n",
       "    </tr>\n",
       "  </tbody>\n",
       "</table>\n",
       "</div>"
      ],
      "text/plain": [
       "                n=0           n=2           n=3         n=all\n",
       "n=0    1.000000e+00  1.880240e-03  1.444647e-02  2.140041e-11\n",
       "n=2    1.880240e-03  1.000000e+00  4.559351e-01  2.907220e-24\n",
       "n=3    1.444647e-02  4.559351e-01  1.000000e+00  3.225846e-21\n",
       "n=all  2.140041e-11  2.907220e-24  3.225846e-21  1.000000e+00"
      ]
     },
     "metadata": {},
     "output_type": "display_data"
    }
   ],
   "source": [
    "compare_models(all_qooka_n_0['test_qa_answer_f1'],\n",
    "               all_qooka_n_2['test_qa_answer_f1'],\n",
    "               all_qooka_n_3['test_qa_answer_f1'],\n",
    "               all_qooka_n_all['test_qa_answer_f1'],\n",
    "               model_names=['n=0', 'n=2', 'n=3', 'n=all'])\n"
   ]
  },
  {
   "cell_type": "markdown",
   "id": "e3e80bd6",
   "metadata": {},
   "source": [
    "### 4. Results for all experiments"
   ]
  },
  {
   "cell_type": "code",
   "execution_count": 644,
   "id": "ffa57647",
   "metadata": {},
   "outputs": [],
   "source": [
    "all_qooka_combined = pd.concat([fact_needs_qooka_combined_data, competence_needs_qooka_combined_data,\n",
    "                                all_needs_qooka_combined_data])\n",
    "all_qooka_combined = all_qooka_combined.loc[all_qooka_combined['query_rep'] == 'prepend_context']\n",
    "qooka_n_0 = all_qooka_combined.loc[all_qooka_combined['context_window']=='n_0']\n",
    "qooka_n_2 = all_qooka_combined.loc[all_qooka_combined['context_window']=='n_2']\n",
    "qooka_n_3 = all_qooka_combined.loc[all_qooka_combined['context_window']=='n_3']\n",
    "qooka_n_all = all_qooka_combined.loc[all_qooka_combined['context_window']=='n_all']\n"
   ]
  },
  {
   "cell_type": "code",
   "execution_count": 645,
   "id": "287dbfbe",
   "metadata": {},
   "outputs": [
    {
     "data": {
      "text/plain": [
       "F_onewayResult(statistic=84.77219854456678, pvalue=1.0500715018366393e-54)"
      ]
     },
     "metadata": {},
     "output_type": "display_data"
    },
    {
     "data": {
      "text/html": [
       "<div>\n",
       "<style scoped>\n",
       "    .dataframe tbody tr th:only-of-type {\n",
       "        vertical-align: middle;\n",
       "    }\n",
       "\n",
       "    .dataframe tbody tr th {\n",
       "        vertical-align: top;\n",
       "    }\n",
       "\n",
       "    .dataframe thead th {\n",
       "        text-align: right;\n",
       "    }\n",
       "</style>\n",
       "<table border=\"1\" class=\"dataframe\">\n",
       "  <thead>\n",
       "    <tr style=\"text-align: right;\">\n",
       "      <th></th>\n",
       "      <th>n=0</th>\n",
       "      <th>n=2</th>\n",
       "      <th>n=3</th>\n",
       "      <th>n=all</th>\n",
       "    </tr>\n",
       "  </thead>\n",
       "  <tbody>\n",
       "    <tr>\n",
       "      <th>count</th>\n",
       "      <td>12486.000000</td>\n",
       "      <td>12486.000000</td>\n",
       "      <td>12486.000000</td>\n",
       "      <td>12486.000000</td>\n",
       "    </tr>\n",
       "    <tr>\n",
       "      <th>mean</th>\n",
       "      <td>0.581550</td>\n",
       "      <td>0.597705</td>\n",
       "      <td>0.592435</td>\n",
       "      <td>0.524452</td>\n",
       "    </tr>\n",
       "    <tr>\n",
       "      <th>std</th>\n",
       "      <td>0.410932</td>\n",
       "      <td>0.405655</td>\n",
       "      <td>0.405513</td>\n",
       "      <td>0.415394</td>\n",
       "    </tr>\n",
       "    <tr>\n",
       "      <th>min</th>\n",
       "      <td>0.000000</td>\n",
       "      <td>0.000000</td>\n",
       "      <td>0.000000</td>\n",
       "      <td>0.000000</td>\n",
       "    </tr>\n",
       "    <tr>\n",
       "      <th>25%</th>\n",
       "      <td>0.122449</td>\n",
       "      <td>0.153846</td>\n",
       "      <td>0.142857</td>\n",
       "      <td>0.054054</td>\n",
       "    </tr>\n",
       "    <tr>\n",
       "      <th>50%</th>\n",
       "      <td>0.666667</td>\n",
       "      <td>0.687500</td>\n",
       "      <td>0.666667</td>\n",
       "      <td>0.571429</td>\n",
       "    </tr>\n",
       "    <tr>\n",
       "      <th>75%</th>\n",
       "      <td>1.000000</td>\n",
       "      <td>1.000000</td>\n",
       "      <td>1.000000</td>\n",
       "      <td>1.000000</td>\n",
       "    </tr>\n",
       "    <tr>\n",
       "      <th>max</th>\n",
       "      <td>1.000000</td>\n",
       "      <td>1.000000</td>\n",
       "      <td>1.000000</td>\n",
       "      <td>1.000000</td>\n",
       "    </tr>\n",
       "  </tbody>\n",
       "</table>\n",
       "</div>"
      ],
      "text/plain": [
       "                n=0           n=2           n=3         n=all\n",
       "count  12486.000000  12486.000000  12486.000000  12486.000000\n",
       "mean       0.581550      0.597705      0.592435      0.524452\n",
       "std        0.410932      0.405655      0.405513      0.415394\n",
       "min        0.000000      0.000000      0.000000      0.000000\n",
       "25%        0.122449      0.153846      0.142857      0.054054\n",
       "50%        0.666667      0.687500      0.666667      0.571429\n",
       "75%        1.000000      1.000000      1.000000      1.000000\n",
       "max        1.000000      1.000000      1.000000      1.000000"
      ]
     },
     "metadata": {},
     "output_type": "display_data"
    },
    {
     "data": {
      "text/html": [
       "<div>\n",
       "<style scoped>\n",
       "    .dataframe tbody tr th:only-of-type {\n",
       "        vertical-align: middle;\n",
       "    }\n",
       "\n",
       "    .dataframe tbody tr th {\n",
       "        vertical-align: top;\n",
       "    }\n",
       "\n",
       "    .dataframe thead th {\n",
       "        text-align: right;\n",
       "    }\n",
       "</style>\n",
       "<table border=\"1\" class=\"dataframe\">\n",
       "  <thead>\n",
       "    <tr style=\"text-align: right;\">\n",
       "      <th></th>\n",
       "      <th>n=0</th>\n",
       "      <th>n=2</th>\n",
       "      <th>n=3</th>\n",
       "      <th>n=all</th>\n",
       "    </tr>\n",
       "  </thead>\n",
       "  <tbody>\n",
       "    <tr>\n",
       "      <th>n=0</th>\n",
       "      <td>1.000000e+00</td>\n",
       "      <td>5.316407e-03</td>\n",
       "      <td>7.027956e-02</td>\n",
       "      <td>4.316438e-27</td>\n",
       "    </tr>\n",
       "    <tr>\n",
       "      <th>n=2</th>\n",
       "      <td>5.316407e-03</td>\n",
       "      <td>1.000000e+00</td>\n",
       "      <td>3.045929e-01</td>\n",
       "      <td>3.495640e-44</td>\n",
       "    </tr>\n",
       "    <tr>\n",
       "      <th>n=3</th>\n",
       "      <td>7.027956e-02</td>\n",
       "      <td>3.045929e-01</td>\n",
       "      <td>1.000000e+00</td>\n",
       "      <td>2.666162e-38</td>\n",
       "    </tr>\n",
       "    <tr>\n",
       "      <th>n=all</th>\n",
       "      <td>4.316438e-27</td>\n",
       "      <td>3.495640e-44</td>\n",
       "      <td>2.666162e-38</td>\n",
       "      <td>1.000000e+00</td>\n",
       "    </tr>\n",
       "  </tbody>\n",
       "</table>\n",
       "</div>"
      ],
      "text/plain": [
       "                n=0           n=2           n=3         n=all\n",
       "n=0    1.000000e+00  5.316407e-03  7.027956e-02  4.316438e-27\n",
       "n=2    5.316407e-03  1.000000e+00  3.045929e-01  3.495640e-44\n",
       "n=3    7.027956e-02  3.045929e-01  1.000000e+00  2.666162e-38\n",
       "n=all  4.316438e-27  3.495640e-44  2.666162e-38  1.000000e+00"
      ]
     },
     "metadata": {},
     "output_type": "display_data"
    }
   ],
   "source": [
    "compare_models(qooka_n_0['test_qa_answer_f1'],\n",
    "               qooka_n_2['test_qa_answer_f1'],\n",
    "               qooka_n_3['test_qa_answer_f1'],\n",
    "               qooka_n_all['test_qa_answer_f1'],\n",
    "               model_names=['n=0', 'n=2', 'n=3', 'n=all'])\n"
   ]
  },
  {
   "cell_type": "markdown",
   "id": "fdb7bf5d",
   "metadata": {},
   "source": [
    "# Evaluating the CookDial Dataset\n",
    "In this section, the training results on the CookDial dataset are reviewed and statistically analysed."
   ]
  },
  {
   "cell_type": "markdown",
   "id": "26ee5c43",
   "metadata": {},
   "source": [
    "## CookDial All Needs"
   ]
  },
  {
   "cell_type": "code",
   "execution_count": 576,
   "id": "61eccd70",
   "metadata": {},
   "outputs": [],
   "source": [
    "all_needs_cook_dial_t5_metrics = create_metrics_table('all_needs', 'cook_dial', 'document', 'prepend_context', 'n_0', 't5')\n",
    "all_needs_cook_dial_monoqa_node_metrics = create_metrics_table('all_needs', 'cook_dial', 'node', 'prepend_context', 'n_0', 'monoqa')\n",
    "all_needs_cook_dial_monoqa_step_metrics = create_metrics_table('all_needs', 'cook_dial', 'step', 'prepend_context', 'n_0', 'monoqa')\n",
    "\n",
    "\n",
    "\n",
    "all_needs_cook_dial_t5_prepend_n2_metrics = create_metrics_table('all_needs', 'cook_dial', 'document', 'prepend_context', 'n_2', 't5')\n",
    "all_needs_cook_dial_monoqa_prepend_n2_step_metrics = create_metrics_table('all_needs', 'cook_dial', 'step', 'prepend_context', 'n_2', 'monoqa')\n",
    "all_needs_cook_dial_monoqa_prepend_n2_node_metrics = create_metrics_table('all_needs', 'cook_dial', 'node', 'prepend_context', 'n_2', 'monoqa')\n",
    "\n",
    "all_needs_cook_dial_t5_quretec_n2_metrics = create_metrics_table('all_needs', 'cook_dial', 'document', 'quretec_expansion', 'n_2', 't5')\n",
    "all_needs_cook_dial_monoqa_quretec_n2_step_metrics = create_metrics_table('all_needs', 'cook_dial', 'step', 'quretec_expansion', 'n_2', 'monoqa')\n",
    "all_needs_cook_dial_monoqa_quretec_n2_node_metrics = create_metrics_table('all_needs', 'cook_dial', 'node', 'quretec_expansion', 'n_2', 'monoqa')\n",
    "\n",
    "all_needs_cook_dial_t5_canard_n2_metrics = create_metrics_table('all_needs', 'cook_dial', 'document', 'canard_rewritten', 'n_2', 't5')\n",
    "all_needs_cook_dial_monoqa_canard_n2_step_metrics = create_metrics_table('all_needs', 'cook_dial', 'step', 'canard_rewritten', 'n_2', 'monoqa')\n",
    "all_needs_cook_dial_monoqa_canard_n2_node_metrics = create_metrics_table('all_needs', 'cook_dial', 'node', 'canard_rewritten', 'n_2', 'monoqa')\n",
    "\n",
    "\n",
    "\n",
    "all_needs_cook_dial_t5_prepend_n3_metrics = create_metrics_table('all_needs', 'cook_dial', 'document', 'prepend_context', 'n_3', 't5')\n",
    "all_needs_cook_dial_monoqa_prepend_n3_step_metrics = create_metrics_table('all_needs', 'cook_dial', 'step', 'prepend_context', 'n_3', 'monoqa')\n",
    "all_needs_cook_dial_monoqa_prepend_n3_node_metrics = create_metrics_table('all_needs', 'cook_dial', 'node', 'prepend_context', 'n_3', 'monoqa')\n",
    "\n",
    "all_needs_cook_dial_t5_quretec_n3_metrics = create_metrics_table('all_needs', 'cook_dial', 'document', 'quretec_expansion', 'n_3', 't5')\n",
    "all_needs_cook_dial_monoqa_quretec_n3_step_metrics = create_metrics_table('all_needs', 'cook_dial', 'step', 'quretec_expansion', 'n_3', 'monoqa')\n",
    "all_needs_cook_dial_monoqa_quretec_n3_node_metrics = create_metrics_table('all_needs', 'cook_dial', 'node', 'quretec_expansion', 'n_3', 'monoqa')\n",
    "\n",
    "all_needs_cook_dial_t5_canard_n3_metrics = create_metrics_table('all_needs', 'cook_dial', 'document', 'canard_rewritten', 'n_3', 't5')\n",
    "all_needs_cook_dial_monoqa_canard_n3_step_metrics = create_metrics_table('all_needs', 'cook_dial', 'step', 'canard_rewritten', 'n_3', 'monoqa')\n",
    "all_needs_cook_dial_monoqa_canard_n3_node_metrics = create_metrics_table('all_needs', 'cook_dial', 'node', 'canard_rewritten', 'n_3', 'monoqa')\n",
    "\n",
    "\n",
    "\n",
    "all_needs_cook_dial_t5_prepend_nall_metrics = create_metrics_table('all_needs','cook_dial', 'document','prepend_context','n_all','t5')\n",
    "all_needs_cook_dial_monoqa_prepend_nall_step_metrics = create_metrics_table('all_needs','cook_dial', 'step','prepend_context','n_all','monoqa')\n",
    "all_needs_cook_dial_monoqa_prepend_nall_node_metrics = create_metrics_table('all_needs','cook_dial', 'node','prepend_context','n_all','monoqa')\n",
    "\n",
    "all_needs_cook_dial_t5_quretec_nall_metrics = create_metrics_table('all_needs','cook_dial', 'document','quretec_expansion','n_all','t5')\n",
    "all_needs_cook_dial_monoqa_quretec_nall_step_metrics = create_metrics_table('all_needs','cook_dial', 'step','quretec_expansion','n_all','monoqa')\n",
    "all_needs_cook_dial_monoqa_quretec_nall_node_metrics = create_metrics_table('all_needs','cook_dial', 'node','quretec_expansion','n_all','monoqa')\n",
    "\n",
    "all_needs_cook_dial_t5_canard_nall_metrics = create_metrics_table('all_needs','cook_dial', 'document','canard_rewritten','n_all','t5')\n",
    "all_needs_cook_dial_monoqa_canard_nall_step_metrics = create_metrics_table('all_needs','cook_dial', 'step','canard_rewritten','n_all','monoqa')\n",
    "all_needs_cook_dial_monoqa_canard_nall_node_metrics = create_metrics_table('all_needs','cook_dial', 'node', 'canard_rewritten', 'n_all', 'monoqa')\n",
    "\n",
    "all_needs_cook_dial_fid_prepend_n0_step_metrics = create_metrics_table('all_needs', 'cook_dial', 'step', 'prepend_context', 'n_0', 'fid')\n",
    "all_needs_cook_dial_fid_prepend_n2_step_metrics = create_metrics_table('all_needs', 'cook_dial', 'step', 'prepend_context', 'n_2', 'fid')\n",
    "all_needs_cook_dial_fid_prepend_n3_step_metrics = create_metrics_table('all_needs', 'cook_dial', 'step', 'prepend_context', 'n_3', 'fid')\n",
    "all_needs_cook_dial_fid_prepend_nall_step_metrics = create_metrics_table('all_needs', 'cook_dial', 'step', 'prepend_context', 'n_all', 'fid')\n",
    "\n",
    "all_needs_cook_dial_fid_prepend_n0_node_metrics = create_metrics_table('all_needs', 'cook_dial', 'node', 'prepend_context', 'n_0', 'fid')\n",
    "all_needs_cook_dial_fid_prepend_n2_node_metrics = create_metrics_table('all_needs', 'cook_dial', 'node', 'prepend_context', 'n_2', 'fid')\n",
    "all_needs_cook_dial_fid_prepend_n3_node_metrics = create_metrics_table('all_needs', 'cook_dial', 'node', 'prepend_context', 'n_3', 'fid')\n",
    "all_needs_cook_dial_fid_prepend_nall_node_metrics = create_metrics_table('all_needs', 'cook_dial', 'node', 'prepend_context', 'n_all', 'fid')\n"
   ]
  },
  {
   "cell_type": "code",
   "execution_count": 577,
   "id": "453b043f",
   "metadata": {},
   "outputs": [],
   "source": [
    "# Assuming create_metrics_table returns a DataFrame with 'test_qa_answer_f1' column\n",
    "# Adjust column names accordingly if needed\n",
    "\n",
    "# Concatenate the dataframes for n2 and n3 conditions\n",
    "n0_metrics = pd.concat([all_needs_cook_dial_t5_metrics, all_needs_cook_dial_monoqa_step_metrics, all_needs_cook_dial_monoqa_node_metrics])\n",
    "n2_metrics = pd.concat([\n",
    "    all_needs_cook_dial_t5_prepend_n2_metrics, all_needs_cook_dial_monoqa_prepend_n2_step_metrics, all_needs_cook_dial_monoqa_prepend_n2_node_metrics,\n",
    "    all_needs_cook_dial_t5_quretec_n2_metrics, all_needs_cook_dial_monoqa_quretec_n2_step_metrics, all_needs_cook_dial_monoqa_quretec_n2_node_metrics,\n",
    "    all_needs_cook_dial_t5_canard_n2_metrics, all_needs_cook_dial_monoqa_canard_n2_step_metrics, all_needs_cook_dial_monoqa_canard_n2_node_metrics,\n",
    "])\n",
    "\n",
    "n3_metrics = pd.concat([\n",
    "    all_needs_cook_dial_t5_prepend_n3_metrics, all_needs_cook_dial_monoqa_prepend_n3_step_metrics, all_needs_cook_dial_monoqa_prepend_n3_node_metrics,\n",
    "    all_needs_cook_dial_t5_quretec_n3_metrics,all_needs_cook_dial_monoqa_quretec_n3_step_metrics,all_needs_cook_dial_monoqa_quretec_n3_node_metrics,\n",
    "    all_needs_cook_dial_t5_canard_n3_metrics, all_needs_cook_dial_monoqa_canard_n3_step_metrics, all_needs_cook_dial_monoqa_canard_n3_node_metrics,\n",
    "])\n",
    "\n",
    "nall_metrics = pd.concat([\n",
    "    all_needs_cook_dial_t5_prepend_nall_metrics, all_needs_cook_dial_monoqa_prepend_nall_step_metrics, all_needs_cook_dial_monoqa_prepend_nall_node_metrics,\n",
    "    all_needs_cook_dial_t5_quretec_nall_metrics, all_needs_cook_dial_monoqa_quretec_nall_step_metrics, all_needs_cook_dial_monoqa_quretec_nall_node_metrics,\n",
    "    all_needs_cook_dial_t5_canard_nall_metrics, all_needs_cook_dial_monoqa_canard_nall_step_metrics, all_needs_cook_dial_monoqa_canard_nall_node_metrics\n",
    "])\n",
    "\n",
    "# Combine the data for plotting\n",
    "all_needs_cook_dial_combined_data = pd.concat([n0_metrics, n2_metrics, n3_metrics, nall_metrics])"
   ]
  },
  {
   "cell_type": "markdown",
   "id": "b74fc1cc",
   "metadata": {},
   "source": [
    "### Document Representation"
   ]
  },
  {
   "cell_type": "code",
   "execution_count": 578,
   "id": "0a015b2d",
   "metadata": {},
   "outputs": [
    {
     "data": {
      "text/plain": [
       "'DOCUMENT'"
      ]
     },
     "metadata": {},
     "output_type": "display_data"
    },
    {
     "data": {
      "text/html": [
       "<style type=\"text/css\">\n",
       "#T_7afa3_row5_col0, #T_7afa3_row5_col1 {\n",
       "  background-color: #eb6134;\n",
       "}\n",
       "</style>\n",
       "<table id=\"T_7afa3\">\n",
       "  <thead>\n",
       "    <tr>\n",
       "      <th class=\"blank\" >&nbsp;</th>\n",
       "      <th class=\"blank level0\" >&nbsp;</th>\n",
       "      <th id=\"T_7afa3_level0_col0\" class=\"col_heading level0 col0\" >test_qa_answer_f1</th>\n",
       "      <th id=\"T_7afa3_level0_col1\" class=\"col_heading level0 col1\" >test_qa_sas</th>\n",
       "    </tr>\n",
       "    <tr>\n",
       "      <th class=\"index_name level0\" >context_window</th>\n",
       "      <th class=\"index_name level1\" >query_rep</th>\n",
       "      <th class=\"blank col0\" >&nbsp;</th>\n",
       "      <th class=\"blank col1\" >&nbsp;</th>\n",
       "    </tr>\n",
       "  </thead>\n",
       "  <tbody>\n",
       "    <tr>\n",
       "      <th id=\"T_7afa3_level0_row0\" class=\"row_heading level0 row0\" >n_0</th>\n",
       "      <th id=\"T_7afa3_level1_row0\" class=\"row_heading level1 row0\" >prepend_context</th>\n",
       "      <td id=\"T_7afa3_row0_col0\" class=\"data row0 col0\" >0.468531</td>\n",
       "      <td id=\"T_7afa3_row0_col1\" class=\"data row0 col1\" >0.497046</td>\n",
       "    </tr>\n",
       "    <tr>\n",
       "      <th id=\"T_7afa3_level0_row1\" class=\"row_heading level0 row1\" rowspan=\"3\">n_2</th>\n",
       "      <th id=\"T_7afa3_level1_row1\" class=\"row_heading level1 row1\" >canard_rewritten</th>\n",
       "      <td id=\"T_7afa3_row1_col0\" class=\"data row1 col0\" >0.534502</td>\n",
       "      <td id=\"T_7afa3_row1_col1\" class=\"data row1 col1\" >0.555181</td>\n",
       "    </tr>\n",
       "    <tr>\n",
       "      <th id=\"T_7afa3_level1_row2\" class=\"row_heading level1 row2\" >prepend_context</th>\n",
       "      <td id=\"T_7afa3_row2_col0\" class=\"data row2 col0\" >0.613726</td>\n",
       "      <td id=\"T_7afa3_row2_col1\" class=\"data row2 col1\" >0.624508</td>\n",
       "    </tr>\n",
       "    <tr>\n",
       "      <th id=\"T_7afa3_level1_row3\" class=\"row_heading level1 row3\" >quretec_expansion</th>\n",
       "      <td id=\"T_7afa3_row3_col0\" class=\"data row3 col0\" >0.482098</td>\n",
       "      <td id=\"T_7afa3_row3_col1\" class=\"data row3 col1\" >0.506178</td>\n",
       "    </tr>\n",
       "    <tr>\n",
       "      <th id=\"T_7afa3_level0_row4\" class=\"row_heading level0 row4\" rowspan=\"3\">n_3</th>\n",
       "      <th id=\"T_7afa3_level1_row4\" class=\"row_heading level1 row4\" >canard_rewritten</th>\n",
       "      <td id=\"T_7afa3_row4_col0\" class=\"data row4 col0\" >0.530396</td>\n",
       "      <td id=\"T_7afa3_row4_col1\" class=\"data row4 col1\" >0.551595</td>\n",
       "    </tr>\n",
       "    <tr>\n",
       "      <th id=\"T_7afa3_level1_row5\" class=\"row_heading level1 row5\" >prepend_context</th>\n",
       "      <td id=\"T_7afa3_row5_col0\" class=\"data row5 col0\" >0.623511</td>\n",
       "      <td id=\"T_7afa3_row5_col1\" class=\"data row5 col1\" >0.632518</td>\n",
       "    </tr>\n",
       "    <tr>\n",
       "      <th id=\"T_7afa3_level1_row6\" class=\"row_heading level1 row6\" >quretec_expansion</th>\n",
       "      <td id=\"T_7afa3_row6_col0\" class=\"data row6 col0\" >0.477989</td>\n",
       "      <td id=\"T_7afa3_row6_col1\" class=\"data row6 col1\" >0.503011</td>\n",
       "    </tr>\n",
       "    <tr>\n",
       "      <th id=\"T_7afa3_level0_row7\" class=\"row_heading level0 row7\" rowspan=\"3\">n_all</th>\n",
       "      <th id=\"T_7afa3_level1_row7\" class=\"row_heading level1 row7\" >canard_rewritten</th>\n",
       "      <td id=\"T_7afa3_row7_col0\" class=\"data row7 col0\" >0.536065</td>\n",
       "      <td id=\"T_7afa3_row7_col1\" class=\"data row7 col1\" >0.555444</td>\n",
       "    </tr>\n",
       "    <tr>\n",
       "      <th id=\"T_7afa3_level1_row8\" class=\"row_heading level1 row8\" >prepend_context</th>\n",
       "      <td id=\"T_7afa3_row8_col0\" class=\"data row8 col0\" >0.525429</td>\n",
       "      <td id=\"T_7afa3_row8_col1\" class=\"data row8 col1\" >0.549467</td>\n",
       "    </tr>\n",
       "    <tr>\n",
       "      <th id=\"T_7afa3_level1_row9\" class=\"row_heading level1 row9\" >quretec_expansion</th>\n",
       "      <td id=\"T_7afa3_row9_col0\" class=\"data row9 col0\" >0.470673</td>\n",
       "      <td id=\"T_7afa3_row9_col1\" class=\"data row9 col1\" >0.497416</td>\n",
       "    </tr>\n",
       "  </tbody>\n",
       "</table>\n"
      ],
      "text/plain": [
       "<pandas.io.formats.style.Styler at 0x7f7a8a8583a0>"
      ]
     },
     "execution_count": 578,
     "metadata": {},
     "output_type": "execute_result"
    }
   ],
   "source": [
    "display(\"DOCUMENT\")\n",
    "all_needs_cook_dial_document_comparison = all_needs_cook_dial_combined_data[all_needs_cook_dial_combined_data['document_representation'] == 'document']\n",
    "all_needs_cook_dial_document_comparison.groupby(['context_window', 'query_rep']).mean(numeric_only=True).loc[:,['test_qa_answer_f1','test_qa_sas']].style.highlight_max(color='#eb6134')\n"
   ]
  },
  {
   "cell_type": "markdown",
   "id": "d6f2a27a",
   "metadata": {},
   "source": [
    "### Step Representation\n",
    "#### MonoQA"
   ]
  },
  {
   "cell_type": "code",
   "execution_count": 579,
   "id": "a7c70d5d",
   "metadata": {},
   "outputs": [
    {
     "data": {
      "text/plain": [
       "'MonoQA - STEP'"
      ]
     },
     "metadata": {},
     "output_type": "display_data"
    },
    {
     "data": {
      "text/html": [
       "<style type=\"text/css\">\n",
       "#T_e051b_row2_col0, #T_e051b_row2_col1 {\n",
       "  background-color: #eb6134;\n",
       "}\n",
       "</style>\n",
       "<table id=\"T_e051b\">\n",
       "  <thead>\n",
       "    <tr>\n",
       "      <th class=\"blank\" >&nbsp;</th>\n",
       "      <th class=\"blank level0\" >&nbsp;</th>\n",
       "      <th id=\"T_e051b_level0_col0\" class=\"col_heading level0 col0\" >test_qa_answer_f1</th>\n",
       "      <th id=\"T_e051b_level0_col1\" class=\"col_heading level0 col1\" >test_qa_sas</th>\n",
       "    </tr>\n",
       "    <tr>\n",
       "      <th class=\"index_name level0\" >context_window</th>\n",
       "      <th class=\"index_name level1\" >query_rep</th>\n",
       "      <th class=\"blank col0\" >&nbsp;</th>\n",
       "      <th class=\"blank col1\" >&nbsp;</th>\n",
       "    </tr>\n",
       "  </thead>\n",
       "  <tbody>\n",
       "    <tr>\n",
       "      <th id=\"T_e051b_level0_row0\" class=\"row_heading level0 row0\" >n_0</th>\n",
       "      <th id=\"T_e051b_level1_row0\" class=\"row_heading level1 row0\" >prepend_context</th>\n",
       "      <td id=\"T_e051b_row0_col0\" class=\"data row0 col0\" >0.298535</td>\n",
       "      <td id=\"T_e051b_row0_col1\" class=\"data row0 col1\" >0.353264</td>\n",
       "    </tr>\n",
       "    <tr>\n",
       "      <th id=\"T_e051b_level0_row1\" class=\"row_heading level0 row1\" rowspan=\"3\">n_2</th>\n",
       "      <th id=\"T_e051b_level1_row1\" class=\"row_heading level1 row1\" >canard_rewritten</th>\n",
       "      <td id=\"T_e051b_row1_col0\" class=\"data row1 col0\" >0.339279</td>\n",
       "      <td id=\"T_e051b_row1_col1\" class=\"data row1 col1\" >0.392905</td>\n",
       "    </tr>\n",
       "    <tr>\n",
       "      <th id=\"T_e051b_level1_row2\" class=\"row_heading level1 row2\" >prepend_context</th>\n",
       "      <td id=\"T_e051b_row2_col0\" class=\"data row2 col0\" >0.602311</td>\n",
       "      <td id=\"T_e051b_row2_col1\" class=\"data row2 col1\" >0.615042</td>\n",
       "    </tr>\n",
       "    <tr>\n",
       "      <th id=\"T_e051b_level1_row3\" class=\"row_heading level1 row3\" >quretec_expansion</th>\n",
       "      <td id=\"T_e051b_row3_col0\" class=\"data row3 col0\" >0.305439</td>\n",
       "      <td id=\"T_e051b_row3_col1\" class=\"data row3 col1\" >0.359016</td>\n",
       "    </tr>\n",
       "    <tr>\n",
       "      <th id=\"T_e051b_level0_row4\" class=\"row_heading level0 row4\" rowspan=\"3\">n_3</th>\n",
       "      <th id=\"T_e051b_level1_row4\" class=\"row_heading level1 row4\" >canard_rewritten</th>\n",
       "      <td id=\"T_e051b_row4_col0\" class=\"data row4 col0\" >0.329294</td>\n",
       "      <td id=\"T_e051b_row4_col1\" class=\"data row4 col1\" >0.378131</td>\n",
       "    </tr>\n",
       "    <tr>\n",
       "      <th id=\"T_e051b_level1_row5\" class=\"row_heading level1 row5\" >prepend_context</th>\n",
       "      <td id=\"T_e051b_row5_col0\" class=\"data row5 col0\" >0.598325</td>\n",
       "      <td id=\"T_e051b_row5_col1\" class=\"data row5 col1\" >0.611607</td>\n",
       "    </tr>\n",
       "    <tr>\n",
       "      <th id=\"T_e051b_level1_row6\" class=\"row_heading level1 row6\" >quretec_expansion</th>\n",
       "      <td id=\"T_e051b_row6_col0\" class=\"data row6 col0\" >0.305050</td>\n",
       "      <td id=\"T_e051b_row6_col1\" class=\"data row6 col1\" >0.356589</td>\n",
       "    </tr>\n",
       "    <tr>\n",
       "      <th id=\"T_e051b_level0_row7\" class=\"row_heading level0 row7\" rowspan=\"3\">n_all</th>\n",
       "      <th id=\"T_e051b_level1_row7\" class=\"row_heading level1 row7\" >canard_rewritten</th>\n",
       "      <td id=\"T_e051b_row7_col0\" class=\"data row7 col0\" >0.317507</td>\n",
       "      <td id=\"T_e051b_row7_col1\" class=\"data row7 col1\" >0.369712</td>\n",
       "    </tr>\n",
       "    <tr>\n",
       "      <th id=\"T_e051b_level1_row8\" class=\"row_heading level1 row8\" >prepend_context</th>\n",
       "      <td id=\"T_e051b_row8_col0\" class=\"data row8 col0\" >0.587305</td>\n",
       "      <td id=\"T_e051b_row8_col1\" class=\"data row8 col1\" >0.600865</td>\n",
       "    </tr>\n",
       "    <tr>\n",
       "      <th id=\"T_e051b_level1_row9\" class=\"row_heading level1 row9\" >quretec_expansion</th>\n",
       "      <td id=\"T_e051b_row9_col0\" class=\"data row9 col0\" >0.297156</td>\n",
       "      <td id=\"T_e051b_row9_col1\" class=\"data row9 col1\" >0.351306</td>\n",
       "    </tr>\n",
       "  </tbody>\n",
       "</table>\n"
      ],
      "text/plain": [
       "<pandas.io.formats.style.Styler at 0x7f7aa92ef2e0>"
      ]
     },
     "execution_count": 579,
     "metadata": {},
     "output_type": "execute_result"
    }
   ],
   "source": [
    "display(\"MonoQA - STEP\")\n",
    "all_needs_cook_dial_step_comparison = all_needs_cook_dial_combined_data[all_needs_cook_dial_combined_data['document_representation'] == 'step']\n",
    "all_needs_cook_dial_step_comparison.groupby(['context_window', 'query_rep']).mean(numeric_only=True).loc[:,['test_qa_answer_f1','test_qa_sas']].style.highlight_max(color='#eb6134')\n"
   ]
  },
  {
   "cell_type": "markdown",
   "id": "e4cc1f43",
   "metadata": {},
   "source": [
    "#### FiD"
   ]
  },
  {
   "cell_type": "code",
   "execution_count": 580,
   "id": "d07a02ef",
   "metadata": {},
   "outputs": [
    {
     "data": {
      "text/plain": [
       "'FiD - STEP'"
      ]
     },
     "metadata": {},
     "output_type": "display_data"
    },
    {
     "data": {
      "text/html": [
       "<style type=\"text/css\">\n",
       "#T_67e75_row2_col0, #T_67e75_row2_col1 {\n",
       "  background-color: #eb6134;\n",
       "}\n",
       "</style>\n",
       "<table id=\"T_67e75\">\n",
       "  <thead>\n",
       "    <tr>\n",
       "      <th class=\"blank level0\" >&nbsp;</th>\n",
       "      <th id=\"T_67e75_level0_col0\" class=\"col_heading level0 col0\" >test_qa_answer_f1</th>\n",
       "      <th id=\"T_67e75_level0_col1\" class=\"col_heading level0 col1\" >test_qa_sas</th>\n",
       "    </tr>\n",
       "    <tr>\n",
       "      <th class=\"index_name level0\" >context_window</th>\n",
       "      <th class=\"blank col0\" >&nbsp;</th>\n",
       "      <th class=\"blank col1\" >&nbsp;</th>\n",
       "    </tr>\n",
       "  </thead>\n",
       "  <tbody>\n",
       "    <tr>\n",
       "      <th id=\"T_67e75_level0_row0\" class=\"row_heading level0 row0\" >n_0</th>\n",
       "      <td id=\"T_67e75_row0_col0\" class=\"data row0 col0\" >0.489420</td>\n",
       "      <td id=\"T_67e75_row0_col1\" class=\"data row0 col1\" >0.509844</td>\n",
       "    </tr>\n",
       "    <tr>\n",
       "      <th id=\"T_67e75_level0_row1\" class=\"row_heading level0 row1\" >n_2</th>\n",
       "      <td id=\"T_67e75_row1_col0\" class=\"data row1 col0\" >0.716706</td>\n",
       "      <td id=\"T_67e75_row1_col1\" class=\"data row1 col1\" >0.716665</td>\n",
       "    </tr>\n",
       "    <tr>\n",
       "      <th id=\"T_67e75_level0_row2\" class=\"row_heading level0 row2\" >n_3</th>\n",
       "      <td id=\"T_67e75_row2_col0\" class=\"data row2 col0\" >0.722497</td>\n",
       "      <td id=\"T_67e75_row2_col1\" class=\"data row2 col1\" >0.722209</td>\n",
       "    </tr>\n",
       "    <tr>\n",
       "      <th id=\"T_67e75_level0_row3\" class=\"row_heading level0 row3\" >n_all</th>\n",
       "      <td id=\"T_67e75_row3_col0\" class=\"data row3 col0\" >0.387602</td>\n",
       "      <td id=\"T_67e75_row3_col1\" class=\"data row3 col1\" >0.408385</td>\n",
       "    </tr>\n",
       "  </tbody>\n",
       "</table>\n"
      ],
      "text/plain": [
       "<pandas.io.formats.style.Styler at 0x7f7a7ba02520>"
      ]
     },
     "execution_count": 580,
     "metadata": {},
     "output_type": "execute_result"
    }
   ],
   "source": [
    "display('FiD - STEP')\n",
    "all_needs_cook_dial_step = pd.concat([all_needs_cook_dial_fid_prepend_n0_step_metrics, all_needs_cook_dial_fid_prepend_n2_step_metrics,\n",
    "                 all_needs_cook_dial_fid_prepend_n3_step_metrics, all_needs_cook_dial_fid_prepend_nall_step_metrics])\n",
    "all_needs_cook_dial_step.groupby(['context_window']).mean(numeric_only=True).loc[:,['test_qa_answer_f1','test_qa_sas']].style.highlight_max(color='#eb6134')\n"
   ]
  },
  {
   "cell_type": "markdown",
   "id": "69b06a4a",
   "metadata": {},
   "source": [
    "### Node Representation\n",
    "#### MonoQA"
   ]
  },
  {
   "cell_type": "code",
   "execution_count": 581,
   "id": "867b4a0b",
   "metadata": {},
   "outputs": [
    {
     "data": {
      "text/plain": [
       "'MonoQA - NODE'"
      ]
     },
     "metadata": {},
     "output_type": "display_data"
    },
    {
     "data": {
      "text/html": [
       "<style type=\"text/css\">\n",
       "#T_e15fd_row2_col0, #T_e15fd_row2_col1 {\n",
       "  background-color: #eb6134;\n",
       "}\n",
       "</style>\n",
       "<table id=\"T_e15fd\">\n",
       "  <thead>\n",
       "    <tr>\n",
       "      <th class=\"blank\" >&nbsp;</th>\n",
       "      <th class=\"blank level0\" >&nbsp;</th>\n",
       "      <th id=\"T_e15fd_level0_col0\" class=\"col_heading level0 col0\" >test_qa_answer_f1</th>\n",
       "      <th id=\"T_e15fd_level0_col1\" class=\"col_heading level0 col1\" >test_qa_sas</th>\n",
       "    </tr>\n",
       "    <tr>\n",
       "      <th class=\"index_name level0\" >context_window</th>\n",
       "      <th class=\"index_name level1\" >query_rep</th>\n",
       "      <th class=\"blank col0\" >&nbsp;</th>\n",
       "      <th class=\"blank col1\" >&nbsp;</th>\n",
       "    </tr>\n",
       "  </thead>\n",
       "  <tbody>\n",
       "    <tr>\n",
       "      <th id=\"T_e15fd_level0_row0\" class=\"row_heading level0 row0\" >n_0</th>\n",
       "      <th id=\"T_e15fd_level1_row0\" class=\"row_heading level1 row0\" >prepend_context</th>\n",
       "      <td id=\"T_e15fd_row0_col0\" class=\"data row0 col0\" >0.356770</td>\n",
       "      <td id=\"T_e15fd_row0_col1\" class=\"data row0 col1\" >0.400589</td>\n",
       "    </tr>\n",
       "    <tr>\n",
       "      <th id=\"T_e15fd_level0_row1\" class=\"row_heading level0 row1\" rowspan=\"3\">n_2</th>\n",
       "      <th id=\"T_e15fd_level1_row1\" class=\"row_heading level1 row1\" >canard_rewritten</th>\n",
       "      <td id=\"T_e15fd_row1_col0\" class=\"data row1 col0\" >0.374429</td>\n",
       "      <td id=\"T_e15fd_row1_col1\" class=\"data row1 col1\" >0.417299</td>\n",
       "    </tr>\n",
       "    <tr>\n",
       "      <th id=\"T_e15fd_level1_row2\" class=\"row_heading level1 row2\" >prepend_context</th>\n",
       "      <td id=\"T_e15fd_row2_col0\" class=\"data row2 col0\" >0.638706</td>\n",
       "      <td id=\"T_e15fd_row2_col1\" class=\"data row2 col1\" >0.652501</td>\n",
       "    </tr>\n",
       "    <tr>\n",
       "      <th id=\"T_e15fd_level1_row3\" class=\"row_heading level1 row3\" >quretec_expansion</th>\n",
       "      <td id=\"T_e15fd_row3_col0\" class=\"data row3 col0\" >0.363566</td>\n",
       "      <td id=\"T_e15fd_row3_col1\" class=\"data row3 col1\" >0.407796</td>\n",
       "    </tr>\n",
       "    <tr>\n",
       "      <th id=\"T_e15fd_level0_row4\" class=\"row_heading level0 row4\" rowspan=\"3\">n_3</th>\n",
       "      <th id=\"T_e15fd_level1_row4\" class=\"row_heading level1 row4\" >canard_rewritten</th>\n",
       "      <td id=\"T_e15fd_row4_col0\" class=\"data row4 col0\" >0.376103</td>\n",
       "      <td id=\"T_e15fd_row4_col1\" class=\"data row4 col1\" >0.417777</td>\n",
       "    </tr>\n",
       "    <tr>\n",
       "      <th id=\"T_e15fd_level1_row5\" class=\"row_heading level1 row5\" >prepend_context</th>\n",
       "      <td id=\"T_e15fd_row5_col0\" class=\"data row5 col0\" >0.608495</td>\n",
       "      <td id=\"T_e15fd_row5_col1\" class=\"data row5 col1\" >0.625693</td>\n",
       "    </tr>\n",
       "    <tr>\n",
       "      <th id=\"T_e15fd_level1_row6\" class=\"row_heading level1 row6\" >quretec_expansion</th>\n",
       "      <td id=\"T_e15fd_row6_col0\" class=\"data row6 col0\" >0.357440</td>\n",
       "      <td id=\"T_e15fd_row6_col1\" class=\"data row6 col1\" >0.404163</td>\n",
       "    </tr>\n",
       "    <tr>\n",
       "      <th id=\"T_e15fd_level0_row7\" class=\"row_heading level0 row7\" rowspan=\"3\">n_all</th>\n",
       "      <th id=\"T_e15fd_level1_row7\" class=\"row_heading level1 row7\" >canard_rewritten</th>\n",
       "      <td id=\"T_e15fd_row7_col0\" class=\"data row7 col0\" >0.364295</td>\n",
       "      <td id=\"T_e15fd_row7_col1\" class=\"data row7 col1\" >0.404066</td>\n",
       "    </tr>\n",
       "    <tr>\n",
       "      <th id=\"T_e15fd_level1_row8\" class=\"row_heading level1 row8\" >prepend_context</th>\n",
       "      <td id=\"T_e15fd_row8_col0\" class=\"data row8 col0\" >0.632351</td>\n",
       "      <td id=\"T_e15fd_row8_col1\" class=\"data row8 col1\" >0.646185</td>\n",
       "    </tr>\n",
       "    <tr>\n",
       "      <th id=\"T_e15fd_level1_row9\" class=\"row_heading level1 row9\" >quretec_expansion</th>\n",
       "      <td id=\"T_e15fd_row9_col0\" class=\"data row9 col0\" >0.358228</td>\n",
       "      <td id=\"T_e15fd_row9_col1\" class=\"data row9 col1\" >0.401553</td>\n",
       "    </tr>\n",
       "  </tbody>\n",
       "</table>\n"
      ],
      "text/plain": [
       "<pandas.io.formats.style.Styler at 0x7f7aa8ffee80>"
      ]
     },
     "execution_count": 581,
     "metadata": {},
     "output_type": "execute_result"
    }
   ],
   "source": [
    "display(\"MonoQA - NODE\")\n",
    "all_needs_cook_dial_node_comparison = all_needs_cook_dial_combined_data[all_needs_cook_dial_combined_data['document_representation'] == 'node']\n",
    "all_needs_cook_dial_node_comparison.groupby(['context_window', 'query_rep']).mean(numeric_only=True).loc[:,['test_qa_answer_f1','test_qa_sas']].style.highlight_max(color='#eb6134')\n"
   ]
  },
  {
   "cell_type": "markdown",
   "id": "2f91b3c5",
   "metadata": {},
   "source": [
    "#### FiD"
   ]
  },
  {
   "cell_type": "code",
   "execution_count": 582,
   "id": "a3713951",
   "metadata": {},
   "outputs": [
    {
     "data": {
      "text/html": [
       "<style type=\"text/css\">\n",
       "#T_5dac5_row2_col0, #T_5dac5_row2_col1 {\n",
       "  background-color: #eb6134;\n",
       "}\n",
       "</style>\n",
       "<table id=\"T_5dac5\">\n",
       "  <thead>\n",
       "    <tr>\n",
       "      <th class=\"blank level0\" >&nbsp;</th>\n",
       "      <th id=\"T_5dac5_level0_col0\" class=\"col_heading level0 col0\" >test_qa_answer_f1</th>\n",
       "      <th id=\"T_5dac5_level0_col1\" class=\"col_heading level0 col1\" >test_qa_sas</th>\n",
       "    </tr>\n",
       "    <tr>\n",
       "      <th class=\"index_name level0\" >context_window</th>\n",
       "      <th class=\"blank col0\" >&nbsp;</th>\n",
       "      <th class=\"blank col1\" >&nbsp;</th>\n",
       "    </tr>\n",
       "  </thead>\n",
       "  <tbody>\n",
       "    <tr>\n",
       "      <th id=\"T_5dac5_level0_row0\" class=\"row_heading level0 row0\" >n_0</th>\n",
       "      <td id=\"T_5dac5_row0_col0\" class=\"data row0 col0\" >0.494551</td>\n",
       "      <td id=\"T_5dac5_row0_col1\" class=\"data row0 col1\" >0.515650</td>\n",
       "    </tr>\n",
       "    <tr>\n",
       "      <th id=\"T_5dac5_level0_row1\" class=\"row_heading level0 row1\" >n_2</th>\n",
       "      <td id=\"T_5dac5_row1_col0\" class=\"data row1 col0\" >0.702013</td>\n",
       "      <td id=\"T_5dac5_row1_col1\" class=\"data row1 col1\" >0.703435</td>\n",
       "    </tr>\n",
       "    <tr>\n",
       "      <th id=\"T_5dac5_level0_row2\" class=\"row_heading level0 row2\" >n_3</th>\n",
       "      <td id=\"T_5dac5_row2_col0\" class=\"data row2 col0\" >0.703575</td>\n",
       "      <td id=\"T_5dac5_row2_col1\" class=\"data row2 col1\" >0.704662</td>\n",
       "    </tr>\n",
       "    <tr>\n",
       "      <th id=\"T_5dac5_level0_row3\" class=\"row_heading level0 row3\" >n_all</th>\n",
       "      <td id=\"T_5dac5_row3_col0\" class=\"data row3 col0\" >0.364456</td>\n",
       "      <td id=\"T_5dac5_row3_col1\" class=\"data row3 col1\" >0.393714</td>\n",
       "    </tr>\n",
       "  </tbody>\n",
       "</table>\n"
      ],
      "text/plain": [
       "<pandas.io.formats.style.Styler at 0x7f7aa8273550>"
      ]
     },
     "execution_count": 582,
     "metadata": {},
     "output_type": "execute_result"
    }
   ],
   "source": [
    "all_needs_cook_dial_node = pd.concat([all_needs_cook_dial_fid_prepend_n0_node_metrics, all_needs_cook_dial_fid_prepend_n2_node_metrics,\n",
    "                 all_needs_cook_dial_fid_prepend_n3_node_metrics, all_needs_cook_dial_fid_prepend_nall_node_metrics])\n",
    "all_needs_cook_dial_node.groupby(['context_window']).mean(numeric_only=True).loc[:,['test_qa_answer_f1','test_qa_sas']].style.highlight_max(color='#eb6134')\n"
   ]
  },
  {
   "cell_type": "markdown",
   "id": "31cbd787",
   "metadata": {},
   "source": [
    "## CookDial Competence Needs"
   ]
  },
  {
   "cell_type": "code",
   "execution_count": 583,
   "id": "7a592a66",
   "metadata": {},
   "outputs": [],
   "source": [
    "competence_needs_cook_dial_t5_metrics = create_metrics_table('competence_needs','cook_dial',  'document','prepend_context','n_0','t5')\n",
    "competence_needs_cook_dial_monoqa_node_metrics = create_metrics_table('competence_needs','cook_dial','node','prepend_context','n_0','monoqa')\n",
    "competence_needs_cook_dial_monoqa_step_metrics = create_metrics_table('competence_needs','cook_dial','step','prepend_context','n_0','monoqa')\n",
    "\n",
    "competence_needs_cook_dial_t5_prepend_n2_metrics = create_metrics_table('competence_needs','cook_dial', 'document','prepend_context','n_2','t5')\n",
    "competence_needs_cook_dial_monoqa_prepend_n2_step_metrics = create_metrics_table('competence_needs','cook_dial', 'step','prepend_context','n_2','monoqa')\n",
    "competence_needs_cook_dial_monoqa_prepend_n2_node_metrics = create_metrics_table('competence_needs','cook_dial', 'node', 'prepend_context', 'n_2', 'monoqa')\n",
    "\n",
    "competence_needs_cook_dial_t5_quretec_n2_metrics = create_metrics_table('competence_needs','cook_dial','document','quretec_expansion','n_2','t5')\n",
    "competence_needs_cook_dial_monoqa_quretec_n2_step_metrics = create_metrics_table('competence_needs','cook_dial','step','quretec_expansion','n_2','monoqa')\n",
    "competence_needs_cook_dial_monoqa_quretec_n2_node_metrics = create_metrics_table('competence_needs','cook_dial','node', 'quretec_expansion', 'n_2', 'monoqa')\n",
    "\n",
    "competence_needs_cook_dial_t5_canard_n2_metrics = create_metrics_table('competence_needs','cook_dial', 'document','canard_rewritten','n_2','t5')\n",
    "competence_needs_cook_dial_monoqa_canard_n2_step_metrics = create_metrics_table('competence_needs','cook_dial', 'step','canard_rewritten','n_2','monoqa')\n",
    "competence_needs_cook_dial_monoqa_canard_n2_node_metrics = create_metrics_table('competence_needs','cook_dial',  'node', 'canard_rewritten', 'n_2', 'monoqa')\n",
    "\n",
    "competence_needs_cook_dial_t5_prepend_n3_metrics = create_metrics_table('competence_needs','cook_dial', 'document','prepend_context','n_3','t5')\n",
    "competence_needs_cook_dial_monoqa_prepend_n3_step_metrics = create_metrics_table('competence_needs','cook_dial', 'step','prepend_context','n_3','monoqa')\n",
    "competence_needs_cook_dial_monoqa_prepend_n3_node_metrics = create_metrics_table('competence_needs','cook_dial',  'node', 'prepend_context', 'n_3', 'monoqa')\n",
    "\n",
    "competence_needs_cook_dial_t5_quretec_n3_metrics = create_metrics_table('competence_needs','cook_dial', 'document','quretec_expansion','n_3','t5')\n",
    "competence_needs_cook_dial_monoqa_quretec_n3_step_metrics = create_metrics_table('competence_needs','cook_dial','step','quretec_expansion','n_3','monoqa')\n",
    "competence_needs_cook_dial_monoqa_quretec_n3_node_metrics = create_metrics_table('competence_needs','cook_dial', 'node', 'quretec_expansion', 'n_3', 'monoqa')\n",
    "\n",
    "competence_needs_cook_dial_t5_canard_n3_metrics = create_metrics_table('competence_needs','cook_dial', 'document','canard_rewritten','n_3','t5')\n",
    "competence_needs_cook_dial_monoqa_canard_n3_step_metrics = create_metrics_table('competence_needs','cook_dial', 'step','canard_rewritten','n_3','monoqa')\n",
    "competence_needs_cook_dial_monoqa_canard_n3_node_metrics = create_metrics_table('competence_needs','cook_dial',  'node', 'canard_rewritten', 'n_3', 'monoqa')\n",
    "\n",
    "competence_needs_cook_dial_t5_prepend_nall_metrics = create_metrics_table('competence_needs','cook_dial', 'document','prepend_context','n_all','t5')\n",
    "competence_needs_cook_dial_monoqa_prepend_nall_step_metrics = create_metrics_table('competence_needs','cook_dial', 'step','prepend_context','n_all','monoqa')\n",
    "competence_needs_cook_dial_monoqa_prepend_nall_node_metrics = create_metrics_table('competence_needs','cook_dial', 'node','prepend_context','n_all','monoqa')\n",
    "\n",
    "competence_needs_cook_dial_t5_quretec_nall_metrics = create_metrics_table('competence_needs','cook_dial', 'document','quretec_expansion','n_all','t5')\n",
    "competence_needs_cook_dial_monoqa_quretec_nall_step_metrics = create_metrics_table('competence_needs','cook_dial', 'step','quretec_expansion','n_all','monoqa')\n",
    "competence_needs_cook_dial_monoqa_quretec_nall_node_metrics = create_metrics_table('competence_needs','cook_dial', 'node','quretec_expansion','n_all','monoqa')\n",
    "\n",
    "competence_needs_cook_dial_t5_canard_nall_metrics = create_metrics_table('competence_needs','cook_dial', 'document','canard_rewritten','n_all','t5')\n",
    "competence_needs_cook_dial_monoqa_canard_nall_step_metrics = create_metrics_table('competence_needs','cook_dial', 'step','canard_rewritten','n_all','monoqa')\n",
    "competence_needs_cook_dial_monoqa_canard_nall_node_metrics = create_metrics_table('competence_needs','cook_dial', 'node', 'canard_rewritten', 'n_all', 'monoqa')\n",
    "\n",
    "competence_needs_cook_dial_fid_prepend_n0_node_metrics = create_metrics_table('competence_needs', 'cook_dial', 'node', 'prepend_context', 'n_0', 'fid')\n",
    "competence_needs_cook_dial_fid_prepend_n2_node_metrics = create_metrics_table('competence_needs', 'cook_dial', 'node', 'prepend_context', 'n_2', 'fid')\n",
    "competence_needs_cook_dial_fid_prepend_n3_node_metrics = create_metrics_table('competence_needs', 'cook_dial', 'node', 'prepend_context', 'n_3', 'fid')\n",
    "competence_needs_cook_dial_fid_prepend_nall_node_metrics = create_metrics_table('competence_needs', 'cook_dial', 'node', 'prepend_context', 'n_all', 'fid')\n",
    "\n",
    "competence_needs_cook_dial_fid_prepend_n0_step_metrics = create_metrics_table('competence_needs', 'cook_dial', 'step', 'prepend_context', 'n_0', 'fid')\n",
    "competence_needs_cook_dial_fid_prepend_n2_step_metrics = create_metrics_table('competence_needs', 'cook_dial', 'step', 'prepend_context', 'n_2', 'fid')\n",
    "competence_needs_cook_dial_fid_prepend_n3_step_metrics = create_metrics_table('competence_needs', 'cook_dial', 'step', 'prepend_context', 'n_3', 'fid')\n",
    "competence_needs_cook_dial_fid_prepend_nall_step_metrics = create_metrics_table('competence_needs', 'cook_dial', 'step', 'prepend_context', 'n_all', 'fid')\n",
    "\n"
   ]
  },
  {
   "cell_type": "code",
   "execution_count": 584,
   "id": "c498f1db",
   "metadata": {},
   "outputs": [],
   "source": [
    "# Assuming create_metrics_table returns a DataFrame with 'test_qa_answer_f1' column\n",
    "# Adjust column names accordingly if needed\n",
    "\n",
    "# Concatenate the dataframes for n2 and n3 conditions\n",
    "n0_metrics = pd.concat([competence_needs_cook_dial_t5_metrics, competence_needs_cook_dial_monoqa_step_metrics, competence_needs_cook_dial_monoqa_node_metrics\n",
    "                        ])\n",
    "n2_metrics = pd.concat([\n",
    "    competence_needs_cook_dial_t5_prepend_n2_metrics, competence_needs_cook_dial_monoqa_prepend_n2_step_metrics,competence_needs_cook_dial_monoqa_prepend_n2_node_metrics,\n",
    "    competence_needs_cook_dial_t5_quretec_n2_metrics, competence_needs_cook_dial_monoqa_quretec_n2_step_metrics, competence_needs_cook_dial_monoqa_quretec_n2_node_metrics,\n",
    "    competence_needs_cook_dial_t5_canard_n2_metrics, competence_needs_cook_dial_monoqa_canard_n2_step_metrics, competence_needs_cook_dial_monoqa_canard_n2_node_metrics,\n",
    "])\n",
    "\n",
    "n3_metrics = pd.concat([\n",
    "    competence_needs_cook_dial_t5_prepend_n3_metrics, competence_needs_cook_dial_monoqa_prepend_n3_step_metrics, competence_needs_cook_dial_monoqa_prepend_n3_node_metrics,\n",
    "    competence_needs_cook_dial_t5_quretec_n3_metrics,competence_needs_cook_dial_monoqa_quretec_n3_step_metrics,competence_needs_cook_dial_monoqa_quretec_n3_node_metrics,\n",
    "    competence_needs_cook_dial_t5_canard_n3_metrics, competence_needs_cook_dial_monoqa_canard_n3_step_metrics, competence_needs_cook_dial_monoqa_canard_n3_node_metrics,\n",
    "])\n",
    "\n",
    "nall_metrics = pd.concat([\n",
    "    competence_needs_cook_dial_t5_prepend_nall_metrics, competence_needs_cook_dial_monoqa_prepend_nall_step_metrics, competence_needs_cook_dial_monoqa_prepend_nall_node_metrics,\n",
    "    competence_needs_cook_dial_t5_quretec_nall_metrics, competence_needs_cook_dial_monoqa_quretec_nall_step_metrics, competence_needs_cook_dial_monoqa_quretec_nall_node_metrics,\n",
    "    competence_needs_cook_dial_t5_canard_nall_metrics, competence_needs_cook_dial_monoqa_canard_nall_step_metrics, competence_needs_cook_dial_monoqa_canard_nall_node_metrics\n",
    "])\n",
    "\n",
    "# Combine the data for plotting\n",
    "competence_needs_cook_dial_combined_data = pd.concat([n0_metrics, n2_metrics, n3_metrics, nall_metrics])"
   ]
  },
  {
   "cell_type": "markdown",
   "id": "601eecf8",
   "metadata": {},
   "source": [
    "### Document Representation"
   ]
  },
  {
   "cell_type": "code",
   "execution_count": 585,
   "id": "587d8bb6",
   "metadata": {},
   "outputs": [
    {
     "data": {
      "text/html": [
       "<style type=\"text/css\">\n",
       "#T_e927f_row2_col0, #T_e927f_row2_col1 {\n",
       "  background-color: #eb6134;\n",
       "}\n",
       "</style>\n",
       "<table id=\"T_e927f\">\n",
       "  <thead>\n",
       "    <tr>\n",
       "      <th class=\"blank\" >&nbsp;</th>\n",
       "      <th class=\"blank level0\" >&nbsp;</th>\n",
       "      <th id=\"T_e927f_level0_col0\" class=\"col_heading level0 col0\" >test_qa_answer_f1</th>\n",
       "      <th id=\"T_e927f_level0_col1\" class=\"col_heading level0 col1\" >test_qa_sas</th>\n",
       "    </tr>\n",
       "    <tr>\n",
       "      <th class=\"index_name level0\" >context_window</th>\n",
       "      <th class=\"index_name level1\" >query_rep</th>\n",
       "      <th class=\"blank col0\" >&nbsp;</th>\n",
       "      <th class=\"blank col1\" >&nbsp;</th>\n",
       "    </tr>\n",
       "  </thead>\n",
       "  <tbody>\n",
       "    <tr>\n",
       "      <th id=\"T_e927f_level0_row0\" class=\"row_heading level0 row0\" >n_0</th>\n",
       "      <th id=\"T_e927f_level1_row0\" class=\"row_heading level1 row0\" >prepend_context</th>\n",
       "      <td id=\"T_e927f_row0_col0\" class=\"data row0 col0\" >0.547464</td>\n",
       "      <td id=\"T_e927f_row0_col1\" class=\"data row0 col1\" >0.589577</td>\n",
       "    </tr>\n",
       "    <tr>\n",
       "      <th id=\"T_e927f_level0_row1\" class=\"row_heading level0 row1\" rowspan=\"3\">n_2</th>\n",
       "      <th id=\"T_e927f_level1_row1\" class=\"row_heading level1 row1\" >canard_rewritten</th>\n",
       "      <td id=\"T_e927f_row1_col0\" class=\"data row1 col0\" >0.638072</td>\n",
       "      <td id=\"T_e927f_row1_col1\" class=\"data row1 col1\" >0.665526</td>\n",
       "    </tr>\n",
       "    <tr>\n",
       "      <th id=\"T_e927f_level1_row2\" class=\"row_heading level1 row2\" >prepend_context</th>\n",
       "      <td id=\"T_e927f_row2_col0\" class=\"data row2 col0\" >0.737105</td>\n",
       "      <td id=\"T_e927f_row2_col1\" class=\"data row2 col1\" >0.756055</td>\n",
       "    </tr>\n",
       "    <tr>\n",
       "      <th id=\"T_e927f_level1_row3\" class=\"row_heading level1 row3\" >quretec_expansion</th>\n",
       "      <td id=\"T_e927f_row3_col0\" class=\"data row3 col0\" >0.556185</td>\n",
       "      <td id=\"T_e927f_row3_col1\" class=\"data row3 col1\" >0.595789</td>\n",
       "    </tr>\n",
       "    <tr>\n",
       "      <th id=\"T_e927f_level0_row4\" class=\"row_heading level0 row4\" rowspan=\"3\">n_3</th>\n",
       "      <th id=\"T_e927f_level1_row4\" class=\"row_heading level1 row4\" >canard_rewritten</th>\n",
       "      <td id=\"T_e927f_row4_col0\" class=\"data row4 col0\" >0.635271</td>\n",
       "      <td id=\"T_e927f_row4_col1\" class=\"data row4 col1\" >0.663447</td>\n",
       "    </tr>\n",
       "    <tr>\n",
       "      <th id=\"T_e927f_level1_row5\" class=\"row_heading level1 row5\" >prepend_context</th>\n",
       "      <td id=\"T_e927f_row5_col0\" class=\"data row5 col0\" >0.725665</td>\n",
       "      <td id=\"T_e927f_row5_col1\" class=\"data row5 col1\" >0.747140</td>\n",
       "    </tr>\n",
       "    <tr>\n",
       "      <th id=\"T_e927f_level1_row6\" class=\"row_heading level1 row6\" >quretec_expansion</th>\n",
       "      <td id=\"T_e927f_row6_col0\" class=\"data row6 col0\" >0.560067</td>\n",
       "      <td id=\"T_e927f_row6_col1\" class=\"data row6 col1\" >0.598901</td>\n",
       "    </tr>\n",
       "    <tr>\n",
       "      <th id=\"T_e927f_level0_row7\" class=\"row_heading level0 row7\" rowspan=\"3\">n_all</th>\n",
       "      <th id=\"T_e927f_level1_row7\" class=\"row_heading level1 row7\" >canard_rewritten</th>\n",
       "      <td id=\"T_e927f_row7_col0\" class=\"data row7 col0\" >0.647300</td>\n",
       "      <td id=\"T_e927f_row7_col1\" class=\"data row7 col1\" >0.675344</td>\n",
       "    </tr>\n",
       "    <tr>\n",
       "      <th id=\"T_e927f_level1_row8\" class=\"row_heading level1 row8\" >prepend_context</th>\n",
       "      <td id=\"T_e927f_row8_col0\" class=\"data row8 col0\" >0.573543</td>\n",
       "      <td id=\"T_e927f_row8_col1\" class=\"data row8 col1\" >0.614781</td>\n",
       "    </tr>\n",
       "    <tr>\n",
       "      <th id=\"T_e927f_level1_row9\" class=\"row_heading level1 row9\" >quretec_expansion</th>\n",
       "      <td id=\"T_e927f_row9_col0\" class=\"data row9 col0\" >0.558666</td>\n",
       "      <td id=\"T_e927f_row9_col1\" class=\"data row9 col1\" >0.598670</td>\n",
       "    </tr>\n",
       "  </tbody>\n",
       "</table>\n"
      ],
      "text/plain": [
       "<pandas.io.formats.style.Styler at 0x7f7ace02b970>"
      ]
     },
     "execution_count": 585,
     "metadata": {},
     "output_type": "execute_result"
    }
   ],
   "source": [
    "competence_needs_cook_dial_document_comparison = competence_needs_cook_dial_combined_data[competence_needs_cook_dial_combined_data['document_representation'] == 'document']\n",
    "competence_needs_cook_dial_document_comparison.groupby(['context_window', 'query_rep']).mean(numeric_only=True).loc[:,['test_qa_answer_f1','test_qa_sas']].style.highlight_max(color='#eb6134')\n"
   ]
  },
  {
   "cell_type": "markdown",
   "id": "358996f5",
   "metadata": {},
   "source": [
    "### Step Representation\n",
    "#### MonoQA"
   ]
  },
  {
   "cell_type": "code",
   "execution_count": 586,
   "id": "cc79c4dc",
   "metadata": {},
   "outputs": [
    {
     "data": {
      "text/html": [
       "<style type=\"text/css\">\n",
       "#T_191d3_row2_col1, #T_191d3_row8_col0 {\n",
       "  background-color: #eb6134;\n",
       "}\n",
       "</style>\n",
       "<table id=\"T_191d3\">\n",
       "  <thead>\n",
       "    <tr>\n",
       "      <th class=\"blank\" >&nbsp;</th>\n",
       "      <th class=\"blank level0\" >&nbsp;</th>\n",
       "      <th id=\"T_191d3_level0_col0\" class=\"col_heading level0 col0\" >test_qa_answer_f1</th>\n",
       "      <th id=\"T_191d3_level0_col1\" class=\"col_heading level0 col1\" >test_qa_sas</th>\n",
       "    </tr>\n",
       "    <tr>\n",
       "      <th class=\"index_name level0\" >context_window</th>\n",
       "      <th class=\"index_name level1\" >query_rep</th>\n",
       "      <th class=\"blank col0\" >&nbsp;</th>\n",
       "      <th class=\"blank col1\" >&nbsp;</th>\n",
       "    </tr>\n",
       "  </thead>\n",
       "  <tbody>\n",
       "    <tr>\n",
       "      <th id=\"T_191d3_level0_row0\" class=\"row_heading level0 row0\" >n_0</th>\n",
       "      <th id=\"T_191d3_level1_row0\" class=\"row_heading level1 row0\" >prepend_context</th>\n",
       "      <td id=\"T_191d3_row0_col0\" class=\"data row0 col0\" >0.329068</td>\n",
       "      <td id=\"T_191d3_row0_col1\" class=\"data row0 col1\" >0.405527</td>\n",
       "    </tr>\n",
       "    <tr>\n",
       "      <th id=\"T_191d3_level0_row1\" class=\"row_heading level0 row1\" rowspan=\"3\">n_2</th>\n",
       "      <th id=\"T_191d3_level1_row1\" class=\"row_heading level1 row1\" >canard_rewritten</th>\n",
       "      <td id=\"T_191d3_row1_col0\" class=\"data row1 col0\" >0.342377</td>\n",
       "      <td id=\"T_191d3_row1_col1\" class=\"data row1 col1\" >0.409356</td>\n",
       "    </tr>\n",
       "    <tr>\n",
       "      <th id=\"T_191d3_level1_row2\" class=\"row_heading level1 row2\" >prepend_context</th>\n",
       "      <td id=\"T_191d3_row2_col0\" class=\"data row2 col0\" >0.678765</td>\n",
       "      <td id=\"T_191d3_row2_col1\" class=\"data row2 col1\" >0.706235</td>\n",
       "    </tr>\n",
       "    <tr>\n",
       "      <th id=\"T_191d3_level1_row3\" class=\"row_heading level1 row3\" >quretec_expansion</th>\n",
       "      <td id=\"T_191d3_row3_col0\" class=\"data row3 col0\" >0.332253</td>\n",
       "      <td id=\"T_191d3_row3_col1\" class=\"data row3 col1\" >0.401150</td>\n",
       "    </tr>\n",
       "    <tr>\n",
       "      <th id=\"T_191d3_level0_row4\" class=\"row_heading level0 row4\" rowspan=\"3\">n_3</th>\n",
       "      <th id=\"T_191d3_level1_row4\" class=\"row_heading level1 row4\" >canard_rewritten</th>\n",
       "      <td id=\"T_191d3_row4_col0\" class=\"data row4 col0\" >0.348401</td>\n",
       "      <td id=\"T_191d3_row4_col1\" class=\"data row4 col1\" >0.420393</td>\n",
       "    </tr>\n",
       "    <tr>\n",
       "      <th id=\"T_191d3_level1_row5\" class=\"row_heading level1 row5\" >prepend_context</th>\n",
       "      <td id=\"T_191d3_row5_col0\" class=\"data row5 col0\" >0.659736</td>\n",
       "      <td id=\"T_191d3_row5_col1\" class=\"data row5 col1\" >0.689702</td>\n",
       "    </tr>\n",
       "    <tr>\n",
       "      <th id=\"T_191d3_level1_row6\" class=\"row_heading level1 row6\" >quretec_expansion</th>\n",
       "      <td id=\"T_191d3_row6_col0\" class=\"data row6 col0\" >0.327569</td>\n",
       "      <td id=\"T_191d3_row6_col1\" class=\"data row6 col1\" >0.397004</td>\n",
       "    </tr>\n",
       "    <tr>\n",
       "      <th id=\"T_191d3_level0_row7\" class=\"row_heading level0 row7\" rowspan=\"3\">n_all</th>\n",
       "      <th id=\"T_191d3_level1_row7\" class=\"row_heading level1 row7\" >canard_rewritten</th>\n",
       "      <td id=\"T_191d3_row7_col0\" class=\"data row7 col0\" >0.341568</td>\n",
       "      <td id=\"T_191d3_row7_col1\" class=\"data row7 col1\" >0.412440</td>\n",
       "    </tr>\n",
       "    <tr>\n",
       "      <th id=\"T_191d3_level1_row8\" class=\"row_heading level1 row8\" >prepend_context</th>\n",
       "      <td id=\"T_191d3_row8_col0\" class=\"data row8 col0\" >0.678895</td>\n",
       "      <td id=\"T_191d3_row8_col1\" class=\"data row8 col1\" >0.705787</td>\n",
       "    </tr>\n",
       "    <tr>\n",
       "      <th id=\"T_191d3_level1_row9\" class=\"row_heading level1 row9\" >quretec_expansion</th>\n",
       "      <td id=\"T_191d3_row9_col0\" class=\"data row9 col0\" >0.329314</td>\n",
       "      <td id=\"T_191d3_row9_col1\" class=\"data row9 col1\" >0.402319</td>\n",
       "    </tr>\n",
       "  </tbody>\n",
       "</table>\n"
      ],
      "text/plain": [
       "<pandas.io.formats.style.Styler at 0x7f7aa9a0b6a0>"
      ]
     },
     "execution_count": 586,
     "metadata": {},
     "output_type": "execute_result"
    }
   ],
   "source": [
    "competence_needs_cook_dial_step_comparison = competence_needs_cook_dial_combined_data[competence_needs_cook_dial_combined_data['document_representation'] == 'step']\n",
    "competence_needs_cook_dial_step_comparison.groupby(['context_window', 'query_rep']).mean(numeric_only=True).loc[:,['test_qa_answer_f1','test_qa_sas']].style.highlight_max(color='#eb6134')\n"
   ]
  },
  {
   "cell_type": "markdown",
   "id": "dc7369ba",
   "metadata": {},
   "source": [
    "#### FiD"
   ]
  },
  {
   "cell_type": "code",
   "execution_count": 587,
   "id": "32eb1252",
   "metadata": {},
   "outputs": [
    {
     "data": {
      "text/html": [
       "<style type=\"text/css\">\n",
       "#T_4fcf3_row2_col0, #T_4fcf3_row2_col1 {\n",
       "  background-color: #eb6134;\n",
       "}\n",
       "</style>\n",
       "<table id=\"T_4fcf3\">\n",
       "  <thead>\n",
       "    <tr>\n",
       "      <th class=\"blank level0\" >&nbsp;</th>\n",
       "      <th id=\"T_4fcf3_level0_col0\" class=\"col_heading level0 col0\" >test_qa_answer_f1</th>\n",
       "      <th id=\"T_4fcf3_level0_col1\" class=\"col_heading level0 col1\" >test_qa_sas</th>\n",
       "    </tr>\n",
       "    <tr>\n",
       "      <th class=\"index_name level0\" >context_window</th>\n",
       "      <th class=\"blank col0\" >&nbsp;</th>\n",
       "      <th class=\"blank col1\" >&nbsp;</th>\n",
       "    </tr>\n",
       "  </thead>\n",
       "  <tbody>\n",
       "    <tr>\n",
       "      <th id=\"T_4fcf3_level0_row0\" class=\"row_heading level0 row0\" >n_0</th>\n",
       "      <td id=\"T_4fcf3_row0_col0\" class=\"data row0 col0\" >0.556605</td>\n",
       "      <td id=\"T_4fcf3_row0_col1\" class=\"data row0 col1\" >0.598043</td>\n",
       "    </tr>\n",
       "    <tr>\n",
       "      <th id=\"T_4fcf3_level0_row1\" class=\"row_heading level0 row1\" >n_2</th>\n",
       "      <td id=\"T_4fcf3_row1_col0\" class=\"data row1 col0\" >0.767150</td>\n",
       "      <td id=\"T_4fcf3_row1_col1\" class=\"data row1 col1\" >0.776477</td>\n",
       "    </tr>\n",
       "    <tr>\n",
       "      <th id=\"T_4fcf3_level0_row2\" class=\"row_heading level0 row2\" >n_3</th>\n",
       "      <td id=\"T_4fcf3_row2_col0\" class=\"data row2 col0\" >0.769808</td>\n",
       "      <td id=\"T_4fcf3_row2_col1\" class=\"data row2 col1\" >0.778475</td>\n",
       "    </tr>\n",
       "    <tr>\n",
       "      <th id=\"T_4fcf3_level0_row3\" class=\"row_heading level0 row3\" >n_all</th>\n",
       "      <td id=\"T_4fcf3_row3_col0\" class=\"data row3 col0\" >0.356795</td>\n",
       "      <td id=\"T_4fcf3_row3_col1\" class=\"data row3 col1\" >0.423381</td>\n",
       "    </tr>\n",
       "  </tbody>\n",
       "</table>\n"
      ],
      "text/plain": [
       "<pandas.io.formats.style.Styler at 0x7f7acb412af0>"
      ]
     },
     "execution_count": 587,
     "metadata": {},
     "output_type": "execute_result"
    }
   ],
   "source": [
    "competence_needs_cook_dial_step = pd.concat([competence_needs_cook_dial_fid_prepend_n0_step_metrics, competence_needs_cook_dial_fid_prepend_n2_step_metrics,\n",
    "                 competence_needs_cook_dial_fid_prepend_n3_step_metrics, competence_needs_cook_dial_fid_prepend_nall_step_metrics])\n",
    "competence_needs_cook_dial_step.groupby(['context_window']).mean(numeric_only=True).loc[:,['test_qa_answer_f1','test_qa_sas']].style.highlight_max(color='#eb6134')\n"
   ]
  },
  {
   "cell_type": "markdown",
   "id": "bf9d5fd3",
   "metadata": {},
   "source": [
    "### Node Representation\n",
    "#### MonoQA"
   ]
  },
  {
   "cell_type": "code",
   "execution_count": 589,
   "id": "787d6a2b",
   "metadata": {},
   "outputs": [
    {
     "data": {
      "text/html": [
       "<style type=\"text/css\">\n",
       "#T_91505_row2_col0, #T_91505_row2_col1 {\n",
       "  background-color: #eb6134;\n",
       "}\n",
       "</style>\n",
       "<table id=\"T_91505\">\n",
       "  <thead>\n",
       "    <tr>\n",
       "      <th class=\"blank\" >&nbsp;</th>\n",
       "      <th class=\"blank level0\" >&nbsp;</th>\n",
       "      <th id=\"T_91505_level0_col0\" class=\"col_heading level0 col0\" >test_qa_answer_f1</th>\n",
       "      <th id=\"T_91505_level0_col1\" class=\"col_heading level0 col1\" >test_qa_sas</th>\n",
       "    </tr>\n",
       "    <tr>\n",
       "      <th class=\"index_name level0\" >context_window</th>\n",
       "      <th class=\"index_name level1\" >query_rep</th>\n",
       "      <th class=\"blank col0\" >&nbsp;</th>\n",
       "      <th class=\"blank col1\" >&nbsp;</th>\n",
       "    </tr>\n",
       "  </thead>\n",
       "  <tbody>\n",
       "    <tr>\n",
       "      <th id=\"T_91505_level0_row0\" class=\"row_heading level0 row0\" >n_0</th>\n",
       "      <th id=\"T_91505_level1_row0\" class=\"row_heading level1 row0\" >prepend_context</th>\n",
       "      <td id=\"T_91505_row0_col0\" class=\"data row0 col0\" >0.362609</td>\n",
       "      <td id=\"T_91505_row0_col1\" class=\"data row0 col1\" >0.434317</td>\n",
       "    </tr>\n",
       "    <tr>\n",
       "      <th id=\"T_91505_level0_row1\" class=\"row_heading level0 row1\" rowspan=\"3\">n_2</th>\n",
       "      <th id=\"T_91505_level1_row1\" class=\"row_heading level1 row1\" >canard_rewritten</th>\n",
       "      <td id=\"T_91505_row1_col0\" class=\"data row1 col0\" >0.359065</td>\n",
       "      <td id=\"T_91505_row1_col1\" class=\"data row1 col1\" >0.428696</td>\n",
       "    </tr>\n",
       "    <tr>\n",
       "      <th id=\"T_91505_level1_row2\" class=\"row_heading level1 row2\" >prepend_context</th>\n",
       "      <td id=\"T_91505_row2_col0\" class=\"data row2 col0\" >0.686090</td>\n",
       "      <td id=\"T_91505_row2_col1\" class=\"data row2 col1\" >0.713760</td>\n",
       "    </tr>\n",
       "    <tr>\n",
       "      <th id=\"T_91505_level1_row3\" class=\"row_heading level1 row3\" >quretec_expansion</th>\n",
       "      <td id=\"T_91505_row3_col0\" class=\"data row3 col0\" >0.340598</td>\n",
       "      <td id=\"T_91505_row3_col1\" class=\"data row3 col1\" >0.415261</td>\n",
       "    </tr>\n",
       "    <tr>\n",
       "      <th id=\"T_91505_level0_row4\" class=\"row_heading level0 row4\" rowspan=\"3\">n_3</th>\n",
       "      <th id=\"T_91505_level1_row4\" class=\"row_heading level1 row4\" >canard_rewritten</th>\n",
       "      <td id=\"T_91505_row4_col0\" class=\"data row4 col0\" >0.358756</td>\n",
       "      <td id=\"T_91505_row4_col1\" class=\"data row4 col1\" >0.426029</td>\n",
       "    </tr>\n",
       "    <tr>\n",
       "      <th id=\"T_91505_level1_row5\" class=\"row_heading level1 row5\" >prepend_context</th>\n",
       "      <td id=\"T_91505_row5_col0\" class=\"data row5 col0\" >0.650696</td>\n",
       "      <td id=\"T_91505_row5_col1\" class=\"data row5 col1\" >0.686254</td>\n",
       "    </tr>\n",
       "    <tr>\n",
       "      <th id=\"T_91505_level1_row6\" class=\"row_heading level1 row6\" >quretec_expansion</th>\n",
       "      <td id=\"T_91505_row6_col0\" class=\"data row6 col0\" >0.350927</td>\n",
       "      <td id=\"T_91505_row6_col1\" class=\"data row6 col1\" >0.422355</td>\n",
       "    </tr>\n",
       "    <tr>\n",
       "      <th id=\"T_91505_level0_row7\" class=\"row_heading level0 row7\" rowspan=\"3\">n_all</th>\n",
       "      <th id=\"T_91505_level1_row7\" class=\"row_heading level1 row7\" >canard_rewritten</th>\n",
       "      <td id=\"T_91505_row7_col0\" class=\"data row7 col0\" >0.359097</td>\n",
       "      <td id=\"T_91505_row7_col1\" class=\"data row7 col1\" >0.426867</td>\n",
       "    </tr>\n",
       "    <tr>\n",
       "      <th id=\"T_91505_level1_row8\" class=\"row_heading level1 row8\" >prepend_context</th>\n",
       "      <td id=\"T_91505_row8_col0\" class=\"data row8 col0\" >0.644092</td>\n",
       "      <td id=\"T_91505_row8_col1\" class=\"data row8 col1\" >0.677456</td>\n",
       "    </tr>\n",
       "    <tr>\n",
       "      <th id=\"T_91505_level1_row9\" class=\"row_heading level1 row9\" >quretec_expansion</th>\n",
       "      <td id=\"T_91505_row9_col0\" class=\"data row9 col0\" >0.351473</td>\n",
       "      <td id=\"T_91505_row9_col1\" class=\"data row9 col1\" >0.425052</td>\n",
       "    </tr>\n",
       "  </tbody>\n",
       "</table>\n"
      ],
      "text/plain": [
       "<pandas.io.formats.style.Styler at 0x7f7ace4a4d30>"
      ]
     },
     "execution_count": 589,
     "metadata": {},
     "output_type": "execute_result"
    }
   ],
   "source": [
    "competence_needs_cook_dial_node_comparison = competence_needs_cook_dial_combined_data[competence_needs_cook_dial_combined_data['document_representation'] == 'node']\n",
    "competence_needs_cook_dial_node_comparison.groupby(['context_window', 'query_rep']).mean(numeric_only=True).loc[:,['test_qa_answer_f1','test_qa_sas']].style.highlight_max(color='#eb6134')\n"
   ]
  },
  {
   "cell_type": "markdown",
   "id": "b35bb49b",
   "metadata": {},
   "source": [
    "#### FiD"
   ]
  },
  {
   "cell_type": "code",
   "execution_count": 590,
   "id": "e7fbd550",
   "metadata": {},
   "outputs": [
    {
     "data": {
      "text/html": [
       "<style type=\"text/css\">\n",
       "#T_333a1_row2_col0, #T_333a1_row2_col1 {\n",
       "  background-color: #eb6134;\n",
       "}\n",
       "</style>\n",
       "<table id=\"T_333a1\">\n",
       "  <thead>\n",
       "    <tr>\n",
       "      <th class=\"blank level0\" >&nbsp;</th>\n",
       "      <th id=\"T_333a1_level0_col0\" class=\"col_heading level0 col0\" >test_qa_answer_f1</th>\n",
       "      <th id=\"T_333a1_level0_col1\" class=\"col_heading level0 col1\" >test_qa_sas</th>\n",
       "    </tr>\n",
       "    <tr>\n",
       "      <th class=\"index_name level0\" >context_window</th>\n",
       "      <th class=\"blank col0\" >&nbsp;</th>\n",
       "      <th class=\"blank col1\" >&nbsp;</th>\n",
       "    </tr>\n",
       "  </thead>\n",
       "  <tbody>\n",
       "    <tr>\n",
       "      <th id=\"T_333a1_level0_row0\" class=\"row_heading level0 row0\" >n_0</th>\n",
       "      <td id=\"T_333a1_row0_col0\" class=\"data row0 col0\" >0.552998</td>\n",
       "      <td id=\"T_333a1_row0_col1\" class=\"data row0 col1\" >0.591802</td>\n",
       "    </tr>\n",
       "    <tr>\n",
       "      <th id=\"T_333a1_level0_row1\" class=\"row_heading level0 row1\" >n_2</th>\n",
       "      <td id=\"T_333a1_row1_col0\" class=\"data row1 col0\" >0.739964</td>\n",
       "      <td id=\"T_333a1_row1_col1\" class=\"data row1 col1\" >0.754778</td>\n",
       "    </tr>\n",
       "    <tr>\n",
       "      <th id=\"T_333a1_level0_row2\" class=\"row_heading level0 row2\" >n_3</th>\n",
       "      <td id=\"T_333a1_row2_col0\" class=\"data row2 col0\" >0.744112</td>\n",
       "      <td id=\"T_333a1_row2_col1\" class=\"data row2 col1\" >0.757832</td>\n",
       "    </tr>\n",
       "    <tr>\n",
       "      <th id=\"T_333a1_level0_row3\" class=\"row_heading level0 row3\" >n_all</th>\n",
       "      <td id=\"T_333a1_row3_col0\" class=\"data row3 col0\" >0.324948</td>\n",
       "      <td id=\"T_333a1_row3_col1\" class=\"data row3 col1\" >0.410315</td>\n",
       "    </tr>\n",
       "  </tbody>\n",
       "</table>\n"
      ],
      "text/plain": [
       "<pandas.io.formats.style.Styler at 0x7f7a7b620be0>"
      ]
     },
     "execution_count": 590,
     "metadata": {},
     "output_type": "execute_result"
    }
   ],
   "source": [
    "competence_needs_cook_dial_node = pd.concat([competence_needs_cook_dial_fid_prepend_n0_node_metrics, competence_needs_cook_dial_fid_prepend_n2_node_metrics,\n",
    "                 competence_needs_cook_dial_fid_prepend_n3_node_metrics, competence_needs_cook_dial_fid_prepend_nall_node_metrics])\n",
    "competence_needs_cook_dial_node.groupby(['context_window']).mean(numeric_only=True).loc[:,['test_qa_answer_f1','test_qa_sas']].style.highlight_max(color='#eb6134')\n"
   ]
  },
  {
   "cell_type": "markdown",
   "id": "a83e95a4",
   "metadata": {},
   "source": [
    "## CookDial Fact Needs"
   ]
  },
  {
   "cell_type": "code",
   "execution_count": 591,
   "id": "a4dcac61",
   "metadata": {},
   "outputs": [],
   "source": [
    "fact_needs_cook_dial_t5_metrics = create_metrics_table('fact_needs','cook_dial',  'document','prepend_context','n_0','t5')\n",
    "fact_needs_cook_dial_monoqa_node_metrics = create_metrics_table('fact_needs','cook_dial','node','prepend_context','n_0','monoqa')\n",
    "fact_needs_cook_dial_monoqa_step_metrics = create_metrics_table('fact_needs','cook_dial','step','prepend_context','n_0','monoqa')\n",
    "\n",
    "fact_needs_cook_dial_t5_prepend_n2_metrics = create_metrics_table('fact_needs','cook_dial', 'document','prepend_context','n_2','t5')\n",
    "fact_needs_cook_dial_monoqa_prepend_n2_step_metrics = create_metrics_table('fact_needs','cook_dial', 'step','prepend_context','n_2','monoqa')\n",
    "fact_needs_cook_dial_monoqa_prepend_n2_node_metrics = create_metrics_table('fact_needs','cook_dial', 'node', 'prepend_context', 'n_2', 'monoqa')\n",
    "\n",
    "fact_needs_cook_dial_t5_quretec_n2_metrics = create_metrics_table('fact_needs','cook_dial','document','quretec_expansion','n_2','t5')\n",
    "fact_needs_cook_dial_monoqa_quretec_n2_step_metrics = create_metrics_table('fact_needs','cook_dial','step','quretec_expansion','n_2','monoqa')\n",
    "fact_needs_cook_dial_monoqa_quretec_n2_node_metrics = create_metrics_table('fact_needs','cook_dial','node', 'quretec_expansion', 'n_2', 'monoqa')\n",
    "\n",
    "fact_needs_cook_dial_t5_canard_n2_metrics = create_metrics_table('fact_needs','cook_dial', 'document','canard_rewritten','n_2','t5')\n",
    "fact_needs_cook_dial_monoqa_canard_n2_step_metrics = create_metrics_table('fact_needs','cook_dial', 'step','canard_rewritten','n_2','monoqa')\n",
    "fact_needs_cook_dial_monoqa_canard_n2_node_metrics = create_metrics_table('fact_needs','cook_dial',  'node', 'canard_rewritten', 'n_2', 'monoqa')\n",
    "\n",
    "fact_needs_cook_dial_t5_prepend_n3_metrics = create_metrics_table('fact_needs','cook_dial', 'document','prepend_context','n_3','t5')\n",
    "fact_needs_cook_dial_monoqa_prepend_n3_step_metrics = create_metrics_table('fact_needs','cook_dial', 'step','prepend_context','n_3','monoqa')\n",
    "fact_needs_cook_dial_monoqa_prepend_n3_node_metrics = create_metrics_table('fact_needs','cook_dial',  'node', 'prepend_context', 'n_3', 'monoqa')\n",
    "\n",
    "fact_needs_cook_dial_t5_quretec_n3_metrics = create_metrics_table('fact_needs','cook_dial', 'document','quretec_expansion','n_3','t5')\n",
    "fact_needs_cook_dial_monoqa_quretec_n3_step_metrics = create_metrics_table('fact_needs','cook_dial','step','quretec_expansion','n_3','monoqa')\n",
    "fact_needs_cook_dial_monoqa_quretec_n3_node_metrics = create_metrics_table('fact_needs','cook_dial', 'node', 'quretec_expansion', 'n_3', 'monoqa')\n",
    "\n",
    "fact_needs_cook_dial_t5_canard_n3_metrics = create_metrics_table('fact_needs','cook_dial', 'document','canard_rewritten','n_3','t5')\n",
    "fact_needs_cook_dial_monoqa_canard_n3_step_metrics = create_metrics_table('fact_needs','cook_dial', 'step','canard_rewritten','n_3','monoqa')\n",
    "fact_needs_cook_dial_monoqa_canard_n3_node_metrics = create_metrics_table('fact_needs','cook_dial',  'node', 'canard_rewritten', 'n_3', 'monoqa')\n",
    "\n",
    "fact_needs_cook_dial_t5_prepend_nall_metrics = create_metrics_table('fact_needs','cook_dial', 'document','prepend_context','n_all','t5')\n",
    "fact_needs_cook_dial_monoqa_prepend_nall_step_metrics = create_metrics_table('fact_needs','cook_dial', 'step','prepend_context','n_all','monoqa')\n",
    "fact_needs_cook_dial_monoqa_prepend_nall_node_metrics = create_metrics_table('fact_needs','cook_dial', 'node','prepend_context','n_all','monoqa')\n",
    "\n",
    "fact_needs_cook_dial_t5_quretec_nall_metrics = create_metrics_table('fact_needs','cook_dial', 'document','quretec_expansion','n_all','t5')\n",
    "fact_needs_cook_dial_monoqa_quretec_nall_step_metrics = create_metrics_table('fact_needs','cook_dial', 'step','quretec_expansion','n_all','monoqa')\n",
    "fact_needs_cook_dial_monoqa_quretec_nall_node_metrics = create_metrics_table('fact_needs','cook_dial', 'node','quretec_expansion','n_all','monoqa')\n",
    "\n",
    "fact_needs_cook_dial_t5_canard_nall_metrics = create_metrics_table('fact_needs','cook_dial', 'document','canard_rewritten','n_all','t5')\n",
    "fact_needs_cook_dial_monoqa_canard_nall_step_metrics = create_metrics_table('fact_needs','cook_dial', 'step','canard_rewritten','n_all','monoqa')\n",
    "fact_needs_cook_dial_monoqa_canard_nall_node_metrics = create_metrics_table('fact_needs','cook_dial', 'node', 'canard_rewritten', 'n_all', 'monoqa')\n",
    "\n",
    "fact_needs_cook_dial_fid_prepend_n0_node_metrics = create_metrics_table('fact_needs', 'cook_dial', 'node', 'prepend_context', 'n_0', 'fid')\n",
    "fact_needs_cook_dial_fid_prepend_n2_node_metrics = create_metrics_table('fact_needs', 'cook_dial', 'node', 'prepend_context', 'n_2', 'fid')\n",
    "fact_needs_cook_dial_fid_prepend_n3_node_metrics = create_metrics_table('fact_needs', 'cook_dial', 'node', 'prepend_context', 'n_3', 'fid')\n",
    "fact_needs_cook_dial_fid_prepend_nall_node_metrics = create_metrics_table('fact_needs', 'cook_dial', 'node', 'prepend_context', 'n_all', 'fid')\n",
    "\n",
    "fact_needs_cook_dial_fid_prepend_n0_step_metrics = create_metrics_table('fact_needs', 'cook_dial', 'step', 'prepend_context', 'n_0', 'fid')\n",
    "fact_needs_cook_dial_fid_prepend_n2_step_metrics = create_metrics_table('fact_needs', 'cook_dial', 'step', 'prepend_context', 'n_2', 'fid')\n",
    "fact_needs_cook_dial_fid_prepend_n3_step_metrics = create_metrics_table('fact_needs', 'cook_dial', 'step', 'prepend_context', 'n_3', 'fid')\n",
    "fact_needs_cook_dial_fid_prepend_nall_step_metrics = create_metrics_table('fact_needs', 'cook_dial', 'step', 'prepend_context', 'n_all', 'fid')\n"
   ]
  },
  {
   "cell_type": "code",
   "execution_count": 592,
   "id": "52dffda8",
   "metadata": {},
   "outputs": [],
   "source": [
    "# Assuming create_metrics_table returns a DataFrame with 'test_qa_answer_f1' column\n",
    "# Adjust column names accordingly if needed\n",
    "\n",
    "# Concatenate the dataframes for n2 and n3 conditions\n",
    "n0_metrics = pd.concat([fact_needs_cook_dial_t5_metrics, fact_needs_cook_dial_monoqa_step_metrics, fact_needs_cook_dial_monoqa_node_metrics\n",
    "                        ])\n",
    "n2_metrics = pd.concat([\n",
    "    fact_needs_cook_dial_t5_prepend_n2_metrics, fact_needs_cook_dial_monoqa_prepend_n2_step_metrics,fact_needs_cook_dial_monoqa_prepend_n2_node_metrics,\n",
    "    fact_needs_cook_dial_t5_quretec_n2_metrics, fact_needs_cook_dial_monoqa_quretec_n2_step_metrics, fact_needs_cook_dial_monoqa_quretec_n2_node_metrics,\n",
    "    fact_needs_cook_dial_t5_canard_n2_metrics, fact_needs_cook_dial_monoqa_canard_n2_step_metrics, fact_needs_cook_dial_monoqa_canard_n2_node_metrics,\n",
    "])\n",
    "\n",
    "n3_metrics = pd.concat([\n",
    "    fact_needs_cook_dial_t5_prepend_n3_metrics, fact_needs_cook_dial_monoqa_prepend_n3_step_metrics, fact_needs_cook_dial_monoqa_prepend_n3_node_metrics,\n",
    "    fact_needs_cook_dial_t5_quretec_n3_metrics,fact_needs_cook_dial_monoqa_quretec_n3_step_metrics,fact_needs_cook_dial_monoqa_quretec_n3_node_metrics,\n",
    "    fact_needs_cook_dial_t5_canard_n3_metrics, fact_needs_cook_dial_monoqa_canard_n3_step_metrics, fact_needs_cook_dial_monoqa_canard_n3_node_metrics,\n",
    "])\n",
    "\n",
    "nall_metrics = pd.concat([\n",
    "    fact_needs_cook_dial_t5_prepend_nall_metrics, fact_needs_cook_dial_monoqa_prepend_nall_step_metrics, fact_needs_cook_dial_monoqa_prepend_nall_node_metrics,\n",
    "    fact_needs_cook_dial_t5_quretec_nall_metrics, fact_needs_cook_dial_monoqa_quretec_nall_step_metrics, fact_needs_cook_dial_monoqa_quretec_nall_node_metrics,\n",
    "    fact_needs_cook_dial_t5_canard_nall_metrics, fact_needs_cook_dial_monoqa_canard_nall_step_metrics, fact_needs_cook_dial_monoqa_canard_nall_node_metrics\n",
    "])\n",
    "\n",
    "# Combine the data for plotting\n",
    "fact_needs_cook_dial_combined_data = pd.concat([n0_metrics, n2_metrics, n3_metrics, nall_metrics])"
   ]
  },
  {
   "cell_type": "markdown",
   "id": "15123768",
   "metadata": {},
   "source": [
    "#### Document Representation"
   ]
  },
  {
   "cell_type": "code",
   "execution_count": 593,
   "id": "190be3a0",
   "metadata": {},
   "outputs": [
    {
     "data": {
      "text/html": [
       "<style type=\"text/css\">\n",
       "#T_398b7_row2_col0, #T_398b7_row2_col1 {\n",
       "  background-color: #eb6134;\n",
       "}\n",
       "</style>\n",
       "<table id=\"T_398b7\">\n",
       "  <thead>\n",
       "    <tr>\n",
       "      <th class=\"blank\" >&nbsp;</th>\n",
       "      <th class=\"blank level0\" >&nbsp;</th>\n",
       "      <th id=\"T_398b7_level0_col0\" class=\"col_heading level0 col0\" >test_qa_answer_f1</th>\n",
       "      <th id=\"T_398b7_level0_col1\" class=\"col_heading level0 col1\" >test_qa_sas</th>\n",
       "    </tr>\n",
       "    <tr>\n",
       "      <th class=\"index_name level0\" >context_window</th>\n",
       "      <th class=\"index_name level1\" >query_rep</th>\n",
       "      <th class=\"blank col0\" >&nbsp;</th>\n",
       "      <th class=\"blank col1\" >&nbsp;</th>\n",
       "    </tr>\n",
       "  </thead>\n",
       "  <tbody>\n",
       "    <tr>\n",
       "      <th id=\"T_398b7_level0_row0\" class=\"row_heading level0 row0\" >n_0</th>\n",
       "      <th id=\"T_398b7_level1_row0\" class=\"row_heading level1 row0\" >prepend_context</th>\n",
       "      <td id=\"T_398b7_row0_col0\" class=\"data row0 col0\" >0.411609</td>\n",
       "      <td id=\"T_398b7_row0_col1\" class=\"data row0 col1\" >0.378921</td>\n",
       "    </tr>\n",
       "    <tr>\n",
       "      <th id=\"T_398b7_level0_row1\" class=\"row_heading level0 row1\" rowspan=\"3\">n_2</th>\n",
       "      <th id=\"T_398b7_level1_row1\" class=\"row_heading level1 row1\" >canard_rewritten</th>\n",
       "      <td id=\"T_398b7_row1_col0\" class=\"data row1 col0\" >0.472492</td>\n",
       "      <td id=\"T_398b7_row1_col1\" class=\"data row1 col1\" >0.442995</td>\n",
       "    </tr>\n",
       "    <tr>\n",
       "      <th id=\"T_398b7_level1_row2\" class=\"row_heading level1 row2\" >prepend_context</th>\n",
       "      <td id=\"T_398b7_row2_col0\" class=\"data row2 col0\" >0.483940</td>\n",
       "      <td id=\"T_398b7_row2_col1\" class=\"data row2 col1\" >0.450118</td>\n",
       "    </tr>\n",
       "    <tr>\n",
       "      <th id=\"T_398b7_level1_row3\" class=\"row_heading level1 row3\" >quretec_expansion</th>\n",
       "      <td id=\"T_398b7_row3_col0\" class=\"data row3 col0\" >0.413038</td>\n",
       "      <td id=\"T_398b7_row3_col1\" class=\"data row3 col1\" >0.382643</td>\n",
       "    </tr>\n",
       "    <tr>\n",
       "      <th id=\"T_398b7_level0_row4\" class=\"row_heading level0 row4\" rowspan=\"3\">n_3</th>\n",
       "      <th id=\"T_398b7_level1_row4\" class=\"row_heading level1 row4\" >canard_rewritten</th>\n",
       "      <td id=\"T_398b7_row4_col0\" class=\"data row4 col0\" >0.475055</td>\n",
       "      <td id=\"T_398b7_row4_col1\" class=\"data row4 col1\" >0.449286</td>\n",
       "    </tr>\n",
       "    <tr>\n",
       "      <th id=\"T_398b7_level1_row5\" class=\"row_heading level1 row5\" >prepend_context</th>\n",
       "      <td id=\"T_398b7_row5_col0\" class=\"data row5 col0\" >0.463842</td>\n",
       "      <td id=\"T_398b7_row5_col1\" class=\"data row5 col1\" >0.430109</td>\n",
       "    </tr>\n",
       "    <tr>\n",
       "      <th id=\"T_398b7_level1_row6\" class=\"row_heading level1 row6\" >quretec_expansion</th>\n",
       "      <td id=\"T_398b7_row6_col0\" class=\"data row6 col0\" >0.422554</td>\n",
       "      <td id=\"T_398b7_row6_col1\" class=\"data row6 col1\" >0.394090</td>\n",
       "    </tr>\n",
       "    <tr>\n",
       "      <th id=\"T_398b7_level0_row7\" class=\"row_heading level0 row7\" rowspan=\"3\">n_all</th>\n",
       "      <th id=\"T_398b7_level1_row7\" class=\"row_heading level1 row7\" >canard_rewritten</th>\n",
       "      <td id=\"T_398b7_row7_col0\" class=\"data row7 col0\" >0.452534</td>\n",
       "      <td id=\"T_398b7_row7_col1\" class=\"data row7 col1\" >0.422578</td>\n",
       "    </tr>\n",
       "    <tr>\n",
       "      <th id=\"T_398b7_level1_row8\" class=\"row_heading level1 row8\" >prepend_context</th>\n",
       "      <td id=\"T_398b7_row8_col0\" class=\"data row8 col0\" >0.469419</td>\n",
       "      <td id=\"T_398b7_row8_col1\" class=\"data row8 col1\" >0.436760</td>\n",
       "    </tr>\n",
       "    <tr>\n",
       "      <th id=\"T_398b7_level1_row9\" class=\"row_heading level1 row9\" >quretec_expansion</th>\n",
       "      <td id=\"T_398b7_row9_col0\" class=\"data row9 col0\" >0.419235</td>\n",
       "      <td id=\"T_398b7_row9_col1\" class=\"data row9 col1\" >0.390638</td>\n",
       "    </tr>\n",
       "  </tbody>\n",
       "</table>\n"
      ],
      "text/plain": [
       "<pandas.io.formats.style.Styler at 0x7f7ace295e20>"
      ]
     },
     "execution_count": 593,
     "metadata": {},
     "output_type": "execute_result"
    }
   ],
   "source": [
    "fact_needs_cook_dial_document_comparison = fact_needs_cook_dial_combined_data[fact_needs_cook_dial_combined_data['document_representation'] == 'document']\n",
    "fact_needs_cook_dial_document_comparison.groupby(['context_window', 'query_rep']).mean(numeric_only=True).loc[:,['test_qa_answer_f1','test_qa_sas']].style.highlight_max(color='#eb6134')\n"
   ]
  },
  {
   "cell_type": "markdown",
   "id": "46842c01",
   "metadata": {},
   "source": [
    "### Step Representation\n",
    "#### MonoQA"
   ]
  },
  {
   "cell_type": "code",
   "execution_count": 594,
   "id": "5e408130",
   "metadata": {},
   "outputs": [
    {
     "data": {
      "text/html": [
       "<style type=\"text/css\">\n",
       "#T_6bfa3_row2_col0, #T_6bfa3_row2_col1 {\n",
       "  background-color: #eb6134;\n",
       "}\n",
       "</style>\n",
       "<table id=\"T_6bfa3\">\n",
       "  <thead>\n",
       "    <tr>\n",
       "      <th class=\"blank\" >&nbsp;</th>\n",
       "      <th class=\"blank level0\" >&nbsp;</th>\n",
       "      <th id=\"T_6bfa3_level0_col0\" class=\"col_heading level0 col0\" >test_qa_answer_f1</th>\n",
       "      <th id=\"T_6bfa3_level0_col1\" class=\"col_heading level0 col1\" >test_qa_sas</th>\n",
       "    </tr>\n",
       "    <tr>\n",
       "      <th class=\"index_name level0\" >context_window</th>\n",
       "      <th class=\"index_name level1\" >query_rep</th>\n",
       "      <th class=\"blank col0\" >&nbsp;</th>\n",
       "      <th class=\"blank col1\" >&nbsp;</th>\n",
       "    </tr>\n",
       "  </thead>\n",
       "  <tbody>\n",
       "    <tr>\n",
       "      <th id=\"T_6bfa3_level0_row0\" class=\"row_heading level0 row0\" >n_0</th>\n",
       "      <th id=\"T_6bfa3_level1_row0\" class=\"row_heading level1 row0\" >prepend_context</th>\n",
       "      <td id=\"T_6bfa3_row0_col0\" class=\"data row0 col0\" >0.358714</td>\n",
       "      <td id=\"T_6bfa3_row0_col1\" class=\"data row0 col1\" >0.339510</td>\n",
       "    </tr>\n",
       "    <tr>\n",
       "      <th id=\"T_6bfa3_level0_row1\" class=\"row_heading level0 row1\" rowspan=\"3\">n_2</th>\n",
       "      <th id=\"T_6bfa3_level1_row1\" class=\"row_heading level1 row1\" >canard_rewritten</th>\n",
       "      <td id=\"T_6bfa3_row1_col0\" class=\"data row1 col0\" >0.438739</td>\n",
       "      <td id=\"T_6bfa3_row1_col1\" class=\"data row1 col1\" >0.418217</td>\n",
       "    </tr>\n",
       "    <tr>\n",
       "      <th id=\"T_6bfa3_level1_row2\" class=\"row_heading level1 row2\" >prepend_context</th>\n",
       "      <td id=\"T_6bfa3_row2_col0\" class=\"data row2 col0\" >0.539035</td>\n",
       "      <td id=\"T_6bfa3_row2_col1\" class=\"data row2 col1\" >0.508915</td>\n",
       "    </tr>\n",
       "    <tr>\n",
       "      <th id=\"T_6bfa3_level1_row3\" class=\"row_heading level1 row3\" >quretec_expansion</th>\n",
       "      <td id=\"T_6bfa3_row3_col0\" class=\"data row3 col0\" >0.359223</td>\n",
       "      <td id=\"T_6bfa3_row3_col1\" class=\"data row3 col1\" >0.339797</td>\n",
       "    </tr>\n",
       "    <tr>\n",
       "      <th id=\"T_6bfa3_level0_row4\" class=\"row_heading level0 row4\" rowspan=\"3\">n_3</th>\n",
       "      <th id=\"T_6bfa3_level1_row4\" class=\"row_heading level1 row4\" >canard_rewritten</th>\n",
       "      <td id=\"T_6bfa3_row4_col0\" class=\"data row4 col0\" >0.454023</td>\n",
       "      <td id=\"T_6bfa3_row4_col1\" class=\"data row4 col1\" >0.438024</td>\n",
       "    </tr>\n",
       "    <tr>\n",
       "      <th id=\"T_6bfa3_level1_row5\" class=\"row_heading level1 row5\" >prepend_context</th>\n",
       "      <td id=\"T_6bfa3_row5_col0\" class=\"data row5 col0\" >0.530731</td>\n",
       "      <td id=\"T_6bfa3_row5_col1\" class=\"data row5 col1\" >0.498353</td>\n",
       "    </tr>\n",
       "    <tr>\n",
       "      <th id=\"T_6bfa3_level1_row6\" class=\"row_heading level1 row6\" >quretec_expansion</th>\n",
       "      <td id=\"T_6bfa3_row6_col0\" class=\"data row6 col0\" >0.354997</td>\n",
       "      <td id=\"T_6bfa3_row6_col1\" class=\"data row6 col1\" >0.333170</td>\n",
       "    </tr>\n",
       "    <tr>\n",
       "      <th id=\"T_6bfa3_level0_row7\" class=\"row_heading level0 row7\" rowspan=\"3\">n_all</th>\n",
       "      <th id=\"T_6bfa3_level1_row7\" class=\"row_heading level1 row7\" >canard_rewritten</th>\n",
       "      <td id=\"T_6bfa3_row7_col0\" class=\"data row7 col0\" >0.434166</td>\n",
       "      <td id=\"T_6bfa3_row7_col1\" class=\"data row7 col1\" >0.413427</td>\n",
       "    </tr>\n",
       "    <tr>\n",
       "      <th id=\"T_6bfa3_level1_row8\" class=\"row_heading level1 row8\" >prepend_context</th>\n",
       "      <td id=\"T_6bfa3_row8_col0\" class=\"data row8 col0\" >0.525956</td>\n",
       "      <td id=\"T_6bfa3_row8_col1\" class=\"data row8 col1\" >0.496267</td>\n",
       "    </tr>\n",
       "    <tr>\n",
       "      <th id=\"T_6bfa3_level1_row9\" class=\"row_heading level1 row9\" >quretec_expansion</th>\n",
       "      <td id=\"T_6bfa3_row9_col0\" class=\"data row9 col0\" >0.348875</td>\n",
       "      <td id=\"T_6bfa3_row9_col1\" class=\"data row9 col1\" >0.324882</td>\n",
       "    </tr>\n",
       "  </tbody>\n",
       "</table>\n"
      ],
      "text/plain": [
       "<pandas.io.formats.style.Styler at 0x7f7aa8217d90>"
      ]
     },
     "execution_count": 594,
     "metadata": {},
     "output_type": "execute_result"
    }
   ],
   "source": [
    "fact_needs_cook_dial_step_comparison = fact_needs_cook_dial_combined_data[fact_needs_cook_dial_combined_data['document_representation'] == 'step']\n",
    "fact_needs_cook_dial_step_comparison.groupby(['context_window', 'query_rep']).mean(numeric_only=True).loc[:,['test_qa_answer_f1','test_qa_sas']].style.highlight_max(color='#eb6134')\n"
   ]
  },
  {
   "cell_type": "markdown",
   "id": "4f15886d",
   "metadata": {},
   "source": [
    "#### FiD "
   ]
  },
  {
   "cell_type": "code",
   "execution_count": 595,
   "id": "c05a3a82",
   "metadata": {},
   "outputs": [
    {
     "data": {
      "text/plain": [
       "'FiD - STEP'"
      ]
     },
     "metadata": {},
     "output_type": "display_data"
    },
    {
     "data": {
      "text/html": [
       "<style type=\"text/css\">\n",
       "#T_3b755_row1_col0, #T_3b755_row1_col1 {\n",
       "  background-color: #eb6134;\n",
       "}\n",
       "</style>\n",
       "<table id=\"T_3b755\">\n",
       "  <thead>\n",
       "    <tr>\n",
       "      <th class=\"blank level0\" >&nbsp;</th>\n",
       "      <th id=\"T_3b755_level0_col0\" class=\"col_heading level0 col0\" >test_qa_answer_f1</th>\n",
       "      <th id=\"T_3b755_level0_col1\" class=\"col_heading level0 col1\" >test_qa_sas</th>\n",
       "    </tr>\n",
       "    <tr>\n",
       "      <th class=\"index_name level0\" >context_window</th>\n",
       "      <th class=\"blank col0\" >&nbsp;</th>\n",
       "      <th class=\"blank col1\" >&nbsp;</th>\n",
       "    </tr>\n",
       "  </thead>\n",
       "  <tbody>\n",
       "    <tr>\n",
       "      <th id=\"T_3b755_level0_row0\" class=\"row_heading level0 row0\" >n_0</th>\n",
       "      <td id=\"T_3b755_row0_col0\" class=\"data row0 col0\" >0.494520</td>\n",
       "      <td id=\"T_3b755_row0_col1\" class=\"data row0 col1\" >0.460704</td>\n",
       "    </tr>\n",
       "    <tr>\n",
       "      <th id=\"T_3b755_level0_row1\" class=\"row_heading level0 row1\" >n_2</th>\n",
       "      <td id=\"T_3b755_row1_col0\" class=\"data row1 col0\" >0.688228</td>\n",
       "      <td id=\"T_3b755_row1_col1\" class=\"data row1 col1\" >0.654173</td>\n",
       "    </tr>\n",
       "    <tr>\n",
       "      <th id=\"T_3b755_level0_row2\" class=\"row_heading level0 row2\" >n_3</th>\n",
       "      <td id=\"T_3b755_row2_col0\" class=\"data row2 col0\" >0.678566</td>\n",
       "      <td id=\"T_3b755_row2_col1\" class=\"data row2 col1\" >0.644901</td>\n",
       "    </tr>\n",
       "    <tr>\n",
       "      <th id=\"T_3b755_level0_row3\" class=\"row_heading level0 row3\" >n_all</th>\n",
       "      <td id=\"T_3b755_row3_col0\" class=\"data row3 col0\" >0.604886</td>\n",
       "      <td id=\"T_3b755_row3_col1\" class=\"data row3 col1\" >0.575459</td>\n",
       "    </tr>\n",
       "  </tbody>\n",
       "</table>\n"
      ],
      "text/plain": [
       "<pandas.io.formats.style.Styler at 0x7f7a7b79f850>"
      ]
     },
     "execution_count": 595,
     "metadata": {},
     "output_type": "execute_result"
    }
   ],
   "source": [
    "display('FiD - STEP')\n",
    "fact_needs_cook_dial_step = pd.concat([fact_needs_cook_dial_fid_prepend_n0_step_metrics,fact_needs_cook_dial_fid_prepend_n2_step_metrics,\n",
    "                 fact_needs_cook_dial_fid_prepend_n3_step_metrics, fact_needs_cook_dial_fid_prepend_nall_step_metrics])\n",
    "fact_needs_cook_dial_step.groupby(['context_window']).mean(numeric_only=True).loc[:,['test_qa_answer_f1','test_qa_sas']].style.highlight_max(color='#eb6134')\n"
   ]
  },
  {
   "cell_type": "markdown",
   "id": "a3379efb",
   "metadata": {},
   "source": [
    "### Node Representation\n",
    "#### MonoQA"
   ]
  },
  {
   "cell_type": "code",
   "execution_count": 596,
   "id": "55dce18d",
   "metadata": {},
   "outputs": [
    {
     "data": {
      "text/plain": [
       "'MonoQA - Node'"
      ]
     },
     "metadata": {},
     "output_type": "display_data"
    },
    {
     "data": {
      "text/html": [
       "<style type=\"text/css\">\n",
       "#T_9aa69_row2_col0, #T_9aa69_row8_col1 {\n",
       "  background-color: #eb6134;\n",
       "}\n",
       "</style>\n",
       "<table id=\"T_9aa69\">\n",
       "  <thead>\n",
       "    <tr>\n",
       "      <th class=\"blank\" >&nbsp;</th>\n",
       "      <th class=\"blank level0\" >&nbsp;</th>\n",
       "      <th id=\"T_9aa69_level0_col0\" class=\"col_heading level0 col0\" >test_qa_answer_f1</th>\n",
       "      <th id=\"T_9aa69_level0_col1\" class=\"col_heading level0 col1\" >test_qa_sas</th>\n",
       "    </tr>\n",
       "    <tr>\n",
       "      <th class=\"index_name level0\" >context_window</th>\n",
       "      <th class=\"index_name level1\" >query_rep</th>\n",
       "      <th class=\"blank col0\" >&nbsp;</th>\n",
       "      <th class=\"blank col1\" >&nbsp;</th>\n",
       "    </tr>\n",
       "  </thead>\n",
       "  <tbody>\n",
       "    <tr>\n",
       "      <th id=\"T_9aa69_level0_row0\" class=\"row_heading level0 row0\" >n_0</th>\n",
       "      <th id=\"T_9aa69_level1_row0\" class=\"row_heading level1 row0\" >prepend_context</th>\n",
       "      <td id=\"T_9aa69_row0_col0\" class=\"data row0 col0\" >0.471594</td>\n",
       "      <td id=\"T_9aa69_row0_col1\" class=\"data row0 col1\" >0.446097</td>\n",
       "    </tr>\n",
       "    <tr>\n",
       "      <th id=\"T_9aa69_level0_row1\" class=\"row_heading level0 row1\" rowspan=\"3\">n_2</th>\n",
       "      <th id=\"T_9aa69_level1_row1\" class=\"row_heading level1 row1\" >canard_rewritten</th>\n",
       "      <td id=\"T_9aa69_row1_col0\" class=\"data row1 col0\" >0.541819</td>\n",
       "      <td id=\"T_9aa69_row1_col1\" class=\"data row1 col1\" >0.515355</td>\n",
       "    </tr>\n",
       "    <tr>\n",
       "      <th id=\"T_9aa69_level1_row2\" class=\"row_heading level1 row2\" >prepend_context</th>\n",
       "      <td id=\"T_9aa69_row2_col0\" class=\"data row2 col0\" >0.669190</td>\n",
       "      <td id=\"T_9aa69_row2_col1\" class=\"data row2 col1\" >0.636157</td>\n",
       "    </tr>\n",
       "    <tr>\n",
       "      <th id=\"T_9aa69_level1_row3\" class=\"row_heading level1 row3\" >quretec_expansion</th>\n",
       "      <td id=\"T_9aa69_row3_col0\" class=\"data row3 col0\" >0.458404</td>\n",
       "      <td id=\"T_9aa69_row3_col1\" class=\"data row3 col1\" >0.434888</td>\n",
       "    </tr>\n",
       "    <tr>\n",
       "      <th id=\"T_9aa69_level0_row4\" class=\"row_heading level0 row4\" rowspan=\"3\">n_3</th>\n",
       "      <th id=\"T_9aa69_level1_row4\" class=\"row_heading level1 row4\" >canard_rewritten</th>\n",
       "      <td id=\"T_9aa69_row4_col0\" class=\"data row4 col0\" >0.523345</td>\n",
       "      <td id=\"T_9aa69_row4_col1\" class=\"data row4 col1\" >0.495226</td>\n",
       "    </tr>\n",
       "    <tr>\n",
       "      <th id=\"T_9aa69_level1_row5\" class=\"row_heading level1 row5\" >prepend_context</th>\n",
       "      <td id=\"T_9aa69_row5_col0\" class=\"data row5 col0\" >0.658787</td>\n",
       "      <td id=\"T_9aa69_row5_col1\" class=\"data row5 col1\" >0.622699</td>\n",
       "    </tr>\n",
       "    <tr>\n",
       "      <th id=\"T_9aa69_level1_row6\" class=\"row_heading level1 row6\" >quretec_expansion</th>\n",
       "      <td id=\"T_9aa69_row6_col0\" class=\"data row6 col0\" >0.469400</td>\n",
       "      <td id=\"T_9aa69_row6_col1\" class=\"data row6 col1\" >0.449664</td>\n",
       "    </tr>\n",
       "    <tr>\n",
       "      <th id=\"T_9aa69_level0_row7\" class=\"row_heading level0 row7\" rowspan=\"3\">n_all</th>\n",
       "      <th id=\"T_9aa69_level1_row7\" class=\"row_heading level1 row7\" >canard_rewritten</th>\n",
       "      <td id=\"T_9aa69_row7_col0\" class=\"data row7 col0\" >0.511463</td>\n",
       "      <td id=\"T_9aa69_row7_col1\" class=\"data row7 col1\" >0.487210</td>\n",
       "    </tr>\n",
       "    <tr>\n",
       "      <th id=\"T_9aa69_level1_row8\" class=\"row_heading level1 row8\" >prepend_context</th>\n",
       "      <td id=\"T_9aa69_row8_col0\" class=\"data row8 col0\" >0.667568</td>\n",
       "      <td id=\"T_9aa69_row8_col1\" class=\"data row8 col1\" >0.638446</td>\n",
       "    </tr>\n",
       "    <tr>\n",
       "      <th id=\"T_9aa69_level1_row9\" class=\"row_heading level1 row9\" >quretec_expansion</th>\n",
       "      <td id=\"T_9aa69_row9_col0\" class=\"data row9 col0\" >0.460663</td>\n",
       "      <td id=\"T_9aa69_row9_col1\" class=\"data row9 col1\" >0.440275</td>\n",
       "    </tr>\n",
       "  </tbody>\n",
       "</table>\n"
      ],
      "text/plain": [
       "<pandas.io.formats.style.Styler at 0x7f7ad94b5ca0>"
      ]
     },
     "execution_count": 596,
     "metadata": {},
     "output_type": "execute_result"
    }
   ],
   "source": [
    "display('MonoQA - Node')\n",
    "fact_needs_cook_dial_node_comparison = fact_needs_cook_dial_combined_data[fact_needs_cook_dial_combined_data['document_representation'] == 'node']\n",
    "fact_needs_cook_dial_node_comparison.groupby(['context_window', 'query_rep']).mean(numeric_only=True).loc[:,['test_qa_answer_f1','test_qa_sas']].style.highlight_max(color='#eb6134')\n"
   ]
  },
  {
   "cell_type": "markdown",
   "id": "cc452248",
   "metadata": {},
   "source": [
    "#### FiD"
   ]
  },
  {
   "cell_type": "code",
   "execution_count": 597,
   "id": "c222f78a",
   "metadata": {},
   "outputs": [
    {
     "data": {
      "text/plain": [
       "'FiD - NODE'"
      ]
     },
     "metadata": {},
     "output_type": "display_data"
    },
    {
     "data": {
      "text/html": [
       "<style type=\"text/css\">\n",
       "#T_6c6c6_row2_col0, #T_6c6c6_row2_col1 {\n",
       "  background-color: #eb6134;\n",
       "}\n",
       "</style>\n",
       "<table id=\"T_6c6c6\">\n",
       "  <thead>\n",
       "    <tr>\n",
       "      <th class=\"blank level0\" >&nbsp;</th>\n",
       "      <th id=\"T_6c6c6_level0_col0\" class=\"col_heading level0 col0\" >test_qa_answer_f1</th>\n",
       "      <th id=\"T_6c6c6_level0_col1\" class=\"col_heading level0 col1\" >test_qa_sas</th>\n",
       "    </tr>\n",
       "    <tr>\n",
       "      <th class=\"index_name level0\" >context_window</th>\n",
       "      <th class=\"blank col0\" >&nbsp;</th>\n",
       "      <th class=\"blank col1\" >&nbsp;</th>\n",
       "    </tr>\n",
       "  </thead>\n",
       "  <tbody>\n",
       "    <tr>\n",
       "      <th id=\"T_6c6c6_level0_row0\" class=\"row_heading level0 row0\" >n_0</th>\n",
       "      <td id=\"T_6c6c6_row0_col0\" class=\"data row0 col0\" >0.474002</td>\n",
       "      <td id=\"T_6c6c6_row0_col1\" class=\"data row0 col1\" >0.442386</td>\n",
       "    </tr>\n",
       "    <tr>\n",
       "      <th id=\"T_6c6c6_level0_row1\" class=\"row_heading level0 row1\" >n_2</th>\n",
       "      <td id=\"T_6c6c6_row1_col0\" class=\"data row1 col0\" >0.684746</td>\n",
       "      <td id=\"T_6c6c6_row1_col1\" class=\"data row1 col1\" >0.652215</td>\n",
       "    </tr>\n",
       "    <tr>\n",
       "      <th id=\"T_6c6c6_level0_row2\" class=\"row_heading level0 row2\" >n_3</th>\n",
       "      <td id=\"T_6c6c6_row2_col0\" class=\"data row2 col0\" >0.685574</td>\n",
       "      <td id=\"T_6c6c6_row2_col1\" class=\"data row2 col1\" >0.654839</td>\n",
       "    </tr>\n",
       "    <tr>\n",
       "      <th id=\"T_6c6c6_level0_row3\" class=\"row_heading level0 row3\" >n_all</th>\n",
       "      <td id=\"T_6c6c6_row3_col0\" class=\"data row3 col0\" >0.598556</td>\n",
       "      <td id=\"T_6c6c6_row3_col1\" class=\"data row3 col1\" >0.569525</td>\n",
       "    </tr>\n",
       "  </tbody>\n",
       "</table>\n"
      ],
      "text/plain": [
       "<pandas.io.formats.style.Styler at 0x7f7ae938adf0>"
      ]
     },
     "execution_count": 597,
     "metadata": {},
     "output_type": "execute_result"
    }
   ],
   "source": [
    "display('FiD - NODE')\n",
    "fact_needs_cook_dial_node = pd.concat([fact_needs_cook_dial_fid_prepend_n0_node_metrics, fact_needs_cook_dial_fid_prepend_n2_node_metrics,\n",
    "                 fact_needs_cook_dial_fid_prepend_n3_node_metrics, fact_needs_cook_dial_fid_prepend_nall_node_metrics])\n",
    "fact_needs_cook_dial_node.groupby(['context_window']).mean(numeric_only=True).loc[:,['test_qa_answer_f1','test_qa_sas']].style.highlight_max(color='#eb6134')\n"
   ]
  },
  {
   "cell_type": "markdown",
   "id": "7390dd67",
   "metadata": {},
   "source": [
    "## CookDial: Identifying the best Document Representation\n",
    "We run ANOVAs for each info. need condition and take the best performing model of each model class (i.e., T5, MonoQA, FiD)"
   ]
  },
  {
   "cell_type": "markdown",
   "id": "08c75ac4",
   "metadata": {},
   "source": [
    "### 1. Fact Needs\n",
    "For MonoQA: prepend, n=2 (STEP) and prepend, n=2 (NODE)\n",
    "\n",
    "For FiD: prepend, n=2 (STEP), and prepend, n=3 (NODE)\n",
    "\n",
    "For T5: prepend, n=2"
   ]
  },
  {
   "cell_type": "code",
   "execution_count": 635,
   "id": "bffd4f07",
   "metadata": {},
   "outputs": [
    {
     "data": {
      "text/plain": [
       "'Comparison with FiD models'"
      ]
     },
     "metadata": {},
     "output_type": "display_data"
    },
    {
     "data": {
      "text/plain": [
       "F_onewayResult(statistic=85.64866652662934, pvalue=4.434010742134975e-37)"
      ]
     },
     "metadata": {},
     "output_type": "display_data"
    },
    {
     "data": {
      "text/html": [
       "<div>\n",
       "<style scoped>\n",
       "    .dataframe tbody tr th:only-of-type {\n",
       "        vertical-align: middle;\n",
       "    }\n",
       "\n",
       "    .dataframe tbody tr th {\n",
       "        vertical-align: top;\n",
       "    }\n",
       "\n",
       "    .dataframe thead th {\n",
       "        text-align: right;\n",
       "    }\n",
       "</style>\n",
       "<table border=\"1\" class=\"dataframe\">\n",
       "  <thead>\n",
       "    <tr style=\"text-align: right;\">\n",
       "      <th></th>\n",
       "      <th>T5-Document</th>\n",
       "      <th>FiD-Step</th>\n",
       "      <th>FiD-Node</th>\n",
       "    </tr>\n",
       "  </thead>\n",
       "  <tbody>\n",
       "    <tr>\n",
       "      <th>count</th>\n",
       "      <td>1222.000000</td>\n",
       "      <td>1222.000000</td>\n",
       "      <td>1222.000000</td>\n",
       "    </tr>\n",
       "    <tr>\n",
       "      <th>mean</th>\n",
       "      <td>0.483940</td>\n",
       "      <td>0.688228</td>\n",
       "      <td>0.685574</td>\n",
       "    </tr>\n",
       "    <tr>\n",
       "      <th>std</th>\n",
       "      <td>0.454947</td>\n",
       "      <td>0.434464</td>\n",
       "      <td>0.438256</td>\n",
       "    </tr>\n",
       "    <tr>\n",
       "      <th>min</th>\n",
       "      <td>0.000000</td>\n",
       "      <td>0.000000</td>\n",
       "      <td>0.000000</td>\n",
       "    </tr>\n",
       "    <tr>\n",
       "      <th>25%</th>\n",
       "      <td>0.000000</td>\n",
       "      <td>0.200000</td>\n",
       "      <td>0.181818</td>\n",
       "    </tr>\n",
       "    <tr>\n",
       "      <th>50%</th>\n",
       "      <td>0.285714</td>\n",
       "      <td>1.000000</td>\n",
       "      <td>1.000000</td>\n",
       "    </tr>\n",
       "    <tr>\n",
       "      <th>75%</th>\n",
       "      <td>1.000000</td>\n",
       "      <td>1.000000</td>\n",
       "      <td>1.000000</td>\n",
       "    </tr>\n",
       "    <tr>\n",
       "      <th>max</th>\n",
       "      <td>1.000000</td>\n",
       "      <td>1.000000</td>\n",
       "      <td>1.000000</td>\n",
       "    </tr>\n",
       "  </tbody>\n",
       "</table>\n",
       "</div>"
      ],
      "text/plain": [
       "       T5-Document     FiD-Step     FiD-Node\n",
       "count  1222.000000  1222.000000  1222.000000\n",
       "mean      0.483940     0.688228     0.685574\n",
       "std       0.454947     0.434464     0.438256\n",
       "min       0.000000     0.000000     0.000000\n",
       "25%       0.000000     0.200000     0.181818\n",
       "50%       0.285714     1.000000     1.000000\n",
       "75%       1.000000     1.000000     1.000000\n",
       "max       1.000000     1.000000     1.000000"
      ]
     },
     "metadata": {},
     "output_type": "display_data"
    },
    {
     "data": {
      "text/html": [
       "<div>\n",
       "<style scoped>\n",
       "    .dataframe tbody tr th:only-of-type {\n",
       "        vertical-align: middle;\n",
       "    }\n",
       "\n",
       "    .dataframe tbody tr th {\n",
       "        vertical-align: top;\n",
       "    }\n",
       "\n",
       "    .dataframe thead th {\n",
       "        text-align: right;\n",
       "    }\n",
       "</style>\n",
       "<table border=\"1\" class=\"dataframe\">\n",
       "  <thead>\n",
       "    <tr style=\"text-align: right;\">\n",
       "      <th></th>\n",
       "      <th>T5-Document</th>\n",
       "      <th>FiD-Step</th>\n",
       "      <th>FiD-Node</th>\n",
       "    </tr>\n",
       "  </thead>\n",
       "  <tbody>\n",
       "    <tr>\n",
       "      <th>T5-Document</th>\n",
       "      <td>1.000000e+00</td>\n",
       "      <td>1.151848e-28</td>\n",
       "      <td>6.222420e-28</td>\n",
       "    </tr>\n",
       "    <tr>\n",
       "      <th>FiD-Step</th>\n",
       "      <td>1.151848e-28</td>\n",
       "      <td>1.000000e+00</td>\n",
       "      <td>8.805175e-01</td>\n",
       "    </tr>\n",
       "    <tr>\n",
       "      <th>FiD-Node</th>\n",
       "      <td>6.222420e-28</td>\n",
       "      <td>8.805175e-01</td>\n",
       "      <td>1.000000e+00</td>\n",
       "    </tr>\n",
       "  </tbody>\n",
       "</table>\n",
       "</div>"
      ],
      "text/plain": [
       "              T5-Document      FiD-Step      FiD-Node\n",
       "T5-Document  1.000000e+00  1.151848e-28  6.222420e-28\n",
       "FiD-Step     1.151848e-28  1.000000e+00  8.805175e-01\n",
       "FiD-Node     6.222420e-28  8.805175e-01  1.000000e+00"
      ]
     },
     "metadata": {},
     "output_type": "display_data"
    }
   ],
   "source": [
    "display('Comparison with FiD models')\n",
    "compare_models(fact_needs_cook_dial_t5_prepend_n2_metrics['test_qa_answer_f1'],\n",
    "               fact_needs_cook_dial_fid_prepend_n2_step_metrics['test_qa_answer_f1'],\n",
    "               fact_needs_cook_dial_fid_prepend_n3_node_metrics['test_qa_answer_f1'],\n",
    "               model_names=['T5-Document', 'FiD-Step', 'FiD-Node'])"
   ]
  },
  {
   "cell_type": "code",
   "execution_count": 636,
   "id": "6630bfc4",
   "metadata": {},
   "outputs": [
    {
     "data": {
      "text/plain": [
       "'Comparison with MonoQA models'"
      ]
     },
     "metadata": {},
     "output_type": "display_data"
    },
    {
     "data": {
      "text/plain": [
       "F_onewayResult(statistic=54.11785728082539, pvalue=6.877967708396998e-24)"
      ]
     },
     "metadata": {},
     "output_type": "display_data"
    },
    {
     "data": {
      "text/html": [
       "<div>\n",
       "<style scoped>\n",
       "    .dataframe tbody tr th:only-of-type {\n",
       "        vertical-align: middle;\n",
       "    }\n",
       "\n",
       "    .dataframe tbody tr th {\n",
       "        vertical-align: top;\n",
       "    }\n",
       "\n",
       "    .dataframe thead th {\n",
       "        text-align: right;\n",
       "    }\n",
       "</style>\n",
       "<table border=\"1\" class=\"dataframe\">\n",
       "  <thead>\n",
       "    <tr style=\"text-align: right;\">\n",
       "      <th></th>\n",
       "      <th>T5-Document</th>\n",
       "      <th>MonoQA-Step</th>\n",
       "      <th>MonoQA-Node</th>\n",
       "    </tr>\n",
       "  </thead>\n",
       "  <tbody>\n",
       "    <tr>\n",
       "      <th>count</th>\n",
       "      <td>1222.000000</td>\n",
       "      <td>1222.000000</td>\n",
       "      <td>1222.000000</td>\n",
       "    </tr>\n",
       "    <tr>\n",
       "      <th>mean</th>\n",
       "      <td>0.483940</td>\n",
       "      <td>0.539035</td>\n",
       "      <td>0.669190</td>\n",
       "    </tr>\n",
       "    <tr>\n",
       "      <th>std</th>\n",
       "      <td>0.454947</td>\n",
       "      <td>0.459953</td>\n",
       "      <td>0.440967</td>\n",
       "    </tr>\n",
       "    <tr>\n",
       "      <th>min</th>\n",
       "      <td>0.000000</td>\n",
       "      <td>0.000000</td>\n",
       "      <td>0.000000</td>\n",
       "    </tr>\n",
       "    <tr>\n",
       "      <th>25%</th>\n",
       "      <td>0.000000</td>\n",
       "      <td>0.000000</td>\n",
       "      <td>0.142857</td>\n",
       "    </tr>\n",
       "    <tr>\n",
       "      <th>50%</th>\n",
       "      <td>0.285714</td>\n",
       "      <td>0.571429</td>\n",
       "      <td>1.000000</td>\n",
       "    </tr>\n",
       "    <tr>\n",
       "      <th>75%</th>\n",
       "      <td>1.000000</td>\n",
       "      <td>1.000000</td>\n",
       "      <td>1.000000</td>\n",
       "    </tr>\n",
       "    <tr>\n",
       "      <th>max</th>\n",
       "      <td>1.000000</td>\n",
       "      <td>1.000000</td>\n",
       "      <td>1.000000</td>\n",
       "    </tr>\n",
       "  </tbody>\n",
       "</table>\n",
       "</div>"
      ],
      "text/plain": [
       "       T5-Document  MonoQA-Step  MonoQA-Node\n",
       "count  1222.000000  1222.000000  1222.000000\n",
       "mean      0.483940     0.539035     0.669190\n",
       "std       0.454947     0.459953     0.440967\n",
       "min       0.000000     0.000000     0.000000\n",
       "25%       0.000000     0.000000     0.142857\n",
       "50%       0.285714     0.571429     1.000000\n",
       "75%       1.000000     1.000000     1.000000\n",
       "max       1.000000     1.000000     1.000000"
      ]
     },
     "metadata": {},
     "output_type": "display_data"
    },
    {
     "data": {
      "text/html": [
       "<div>\n",
       "<style scoped>\n",
       "    .dataframe tbody tr th:only-of-type {\n",
       "        vertical-align: middle;\n",
       "    }\n",
       "\n",
       "    .dataframe tbody tr th {\n",
       "        vertical-align: top;\n",
       "    }\n",
       "\n",
       "    .dataframe thead th {\n",
       "        text-align: right;\n",
       "    }\n",
       "</style>\n",
       "<table border=\"1\" class=\"dataframe\">\n",
       "  <thead>\n",
       "    <tr style=\"text-align: right;\">\n",
       "      <th></th>\n",
       "      <th>T5-Document</th>\n",
       "      <th>MonoQA-Step</th>\n",
       "      <th>MonoQA-Node</th>\n",
       "    </tr>\n",
       "  </thead>\n",
       "  <tbody>\n",
       "    <tr>\n",
       "      <th>T5-Document</th>\n",
       "      <td>1.000000e+00</td>\n",
       "      <td>2.939079e-03</td>\n",
       "      <td>1.450429e-23</td>\n",
       "    </tr>\n",
       "    <tr>\n",
       "      <th>MonoQA-Step</th>\n",
       "      <td>2.939079e-03</td>\n",
       "      <td>1.000000e+00</td>\n",
       "      <td>2.442527e-12</td>\n",
       "    </tr>\n",
       "    <tr>\n",
       "      <th>MonoQA-Node</th>\n",
       "      <td>1.450429e-23</td>\n",
       "      <td>2.442527e-12</td>\n",
       "      <td>1.000000e+00</td>\n",
       "    </tr>\n",
       "  </tbody>\n",
       "</table>\n",
       "</div>"
      ],
      "text/plain": [
       "              T5-Document   MonoQA-Step   MonoQA-Node\n",
       "T5-Document  1.000000e+00  2.939079e-03  1.450429e-23\n",
       "MonoQA-Step  2.939079e-03  1.000000e+00  2.442527e-12\n",
       "MonoQA-Node  1.450429e-23  2.442527e-12  1.000000e+00"
      ]
     },
     "metadata": {},
     "output_type": "display_data"
    }
   ],
   "source": [
    "display('Comparison with MonoQA models')\n",
    "compare_models(fact_needs_cook_dial_t5_prepend_n2_metrics['test_qa_answer_f1'],\n",
    "               fact_needs_cook_dial_monoqa_prepend_n2_step_metrics['test_qa_answer_f1'],\n",
    "               fact_needs_cook_dial_monoqa_prepend_n2_node_metrics['test_qa_answer_f1'],\n",
    "               model_names=['T5-Document', 'MonoQA-Step', 'MonoQA-Node'])"
   ]
  },
  {
   "cell_type": "markdown",
   "id": "db47a8da",
   "metadata": {},
   "source": [
    "### 2. Competence Needs\n",
    "For MonoQA: prepend, n=all (STEP) and prepend, n=2 (NODE)\n",
    "\n",
    "For FiD: prepend, n=3 (STEP), and prepend, n=3 (NODE)\n",
    "\n",
    "For T5: prepend, n=2"
   ]
  },
  {
   "cell_type": "code",
   "execution_count": 641,
   "id": "88a9f1d0",
   "metadata": {},
   "outputs": [
    {
     "data": {
      "text/plain": [
       "'Comparison with FiD models'"
      ]
     },
     "metadata": {},
     "output_type": "display_data"
    },
    {
     "data": {
      "text/plain": [
       "F_onewayResult(statistic=4.322997879632654, pvalue=0.013294435103076787)"
      ]
     },
     "metadata": {},
     "output_type": "display_data"
    },
    {
     "data": {
      "text/html": [
       "<div>\n",
       "<style scoped>\n",
       "    .dataframe tbody tr th:only-of-type {\n",
       "        vertical-align: middle;\n",
       "    }\n",
       "\n",
       "    .dataframe tbody tr th {\n",
       "        vertical-align: top;\n",
       "    }\n",
       "\n",
       "    .dataframe thead th {\n",
       "        text-align: right;\n",
       "    }\n",
       "</style>\n",
       "<table border=\"1\" class=\"dataframe\">\n",
       "  <thead>\n",
       "    <tr style=\"text-align: right;\">\n",
       "      <th></th>\n",
       "      <th>T5-Document</th>\n",
       "      <th>FiD-Step</th>\n",
       "      <th>FiD-Node</th>\n",
       "    </tr>\n",
       "  </thead>\n",
       "  <tbody>\n",
       "    <tr>\n",
       "      <th>count</th>\n",
       "      <td>2406.000000</td>\n",
       "      <td>2406.000000</td>\n",
       "      <td>2406.000000</td>\n",
       "    </tr>\n",
       "    <tr>\n",
       "      <th>mean</th>\n",
       "      <td>0.737105</td>\n",
       "      <td>0.769808</td>\n",
       "      <td>0.744112</td>\n",
       "    </tr>\n",
       "    <tr>\n",
       "      <th>std</th>\n",
       "      <td>0.414856</td>\n",
       "      <td>0.395070</td>\n",
       "      <td>0.408467</td>\n",
       "    </tr>\n",
       "    <tr>\n",
       "      <th>min</th>\n",
       "      <td>0.000000</td>\n",
       "      <td>0.000000</td>\n",
       "      <td>0.000000</td>\n",
       "    </tr>\n",
       "    <tr>\n",
       "      <th>25%</th>\n",
       "      <td>0.187500</td>\n",
       "      <td>0.666667</td>\n",
       "      <td>0.210526</td>\n",
       "    </tr>\n",
       "    <tr>\n",
       "      <th>50%</th>\n",
       "      <td>1.000000</td>\n",
       "      <td>1.000000</td>\n",
       "      <td>1.000000</td>\n",
       "    </tr>\n",
       "    <tr>\n",
       "      <th>75%</th>\n",
       "      <td>1.000000</td>\n",
       "      <td>1.000000</td>\n",
       "      <td>1.000000</td>\n",
       "    </tr>\n",
       "    <tr>\n",
       "      <th>max</th>\n",
       "      <td>1.000000</td>\n",
       "      <td>1.000000</td>\n",
       "      <td>1.000000</td>\n",
       "    </tr>\n",
       "  </tbody>\n",
       "</table>\n",
       "</div>"
      ],
      "text/plain": [
       "       T5-Document     FiD-Step     FiD-Node\n",
       "count  2406.000000  2406.000000  2406.000000\n",
       "mean      0.737105     0.769808     0.744112\n",
       "std       0.414856     0.395070     0.408467\n",
       "min       0.000000     0.000000     0.000000\n",
       "25%       0.187500     0.666667     0.210526\n",
       "50%       1.000000     1.000000     1.000000\n",
       "75%       1.000000     1.000000     1.000000\n",
       "max       1.000000     1.000000     1.000000"
      ]
     },
     "metadata": {},
     "output_type": "display_data"
    },
    {
     "data": {
      "text/html": [
       "<div>\n",
       "<style scoped>\n",
       "    .dataframe tbody tr th:only-of-type {\n",
       "        vertical-align: middle;\n",
       "    }\n",
       "\n",
       "    .dataframe tbody tr th {\n",
       "        vertical-align: top;\n",
       "    }\n",
       "\n",
       "    .dataframe thead th {\n",
       "        text-align: right;\n",
       "    }\n",
       "</style>\n",
       "<table border=\"1\" class=\"dataframe\">\n",
       "  <thead>\n",
       "    <tr style=\"text-align: right;\">\n",
       "      <th></th>\n",
       "      <th>T5-Document</th>\n",
       "      <th>FiD-Step</th>\n",
       "      <th>FiD-Node</th>\n",
       "    </tr>\n",
       "  </thead>\n",
       "  <tbody>\n",
       "    <tr>\n",
       "      <th>T5-Document</th>\n",
       "      <td>1.000000</td>\n",
       "      <td>0.015386</td>\n",
       "      <td>0.554997</td>\n",
       "    </tr>\n",
       "    <tr>\n",
       "      <th>FiD-Step</th>\n",
       "      <td>0.015386</td>\n",
       "      <td>1.000000</td>\n",
       "      <td>0.053197</td>\n",
       "    </tr>\n",
       "    <tr>\n",
       "      <th>FiD-Node</th>\n",
       "      <td>0.554997</td>\n",
       "      <td>0.053197</td>\n",
       "      <td>1.000000</td>\n",
       "    </tr>\n",
       "  </tbody>\n",
       "</table>\n",
       "</div>"
      ],
      "text/plain": [
       "             T5-Document  FiD-Step  FiD-Node\n",
       "T5-Document     1.000000  0.015386  0.554997\n",
       "FiD-Step        0.015386  1.000000  0.053197\n",
       "FiD-Node        0.554997  0.053197  1.000000"
      ]
     },
     "metadata": {},
     "output_type": "display_data"
    }
   ],
   "source": [
    "display('Comparison with FiD models')\n",
    "compare_models(competence_needs_cook_dial_t5_prepend_n2_metrics['test_qa_answer_f1'],\n",
    "               competence_needs_cook_dial_fid_prepend_n3_step_metrics['test_qa_answer_f1'],\n",
    "               competence_needs_cook_dial_fid_prepend_n3_node_metrics['test_qa_answer_f1'],\n",
    "               model_names=['T5-Document', 'FiD-Step', 'FiD-Node'])\n"
   ]
  },
  {
   "cell_type": "code",
   "execution_count": 637,
   "id": "95b61b6a",
   "metadata": {},
   "outputs": [
    {
     "data": {
      "text/plain": [
       "'Comparison with MonoQA models'"
      ]
     },
     "metadata": {},
     "output_type": "display_data"
    },
    {
     "data": {
      "text/plain": [
       "F_onewayResult(statistic=13.056059298256677, pvalue=2.1880708929945795e-06)"
      ]
     },
     "metadata": {},
     "output_type": "display_data"
    },
    {
     "data": {
      "text/html": [
       "<div>\n",
       "<style scoped>\n",
       "    .dataframe tbody tr th:only-of-type {\n",
       "        vertical-align: middle;\n",
       "    }\n",
       "\n",
       "    .dataframe tbody tr th {\n",
       "        vertical-align: top;\n",
       "    }\n",
       "\n",
       "    .dataframe thead th {\n",
       "        text-align: right;\n",
       "    }\n",
       "</style>\n",
       "<table border=\"1\" class=\"dataframe\">\n",
       "  <thead>\n",
       "    <tr style=\"text-align: right;\">\n",
       "      <th></th>\n",
       "      <th>T5-Document</th>\n",
       "      <th>MonoQA-Step</th>\n",
       "      <th>MonoQA-Node</th>\n",
       "    </tr>\n",
       "  </thead>\n",
       "  <tbody>\n",
       "    <tr>\n",
       "      <th>count</th>\n",
       "      <td>2406.000000</td>\n",
       "      <td>2406.000000</td>\n",
       "      <td>2406.000000</td>\n",
       "    </tr>\n",
       "    <tr>\n",
       "      <th>mean</th>\n",
       "      <td>0.737105</td>\n",
       "      <td>0.678895</td>\n",
       "      <td>0.686090</td>\n",
       "    </tr>\n",
       "    <tr>\n",
       "      <th>std</th>\n",
       "      <td>0.414856</td>\n",
       "      <td>0.439456</td>\n",
       "      <td>0.437658</td>\n",
       "    </tr>\n",
       "    <tr>\n",
       "      <th>min</th>\n",
       "      <td>0.000000</td>\n",
       "      <td>0.000000</td>\n",
       "      <td>0.000000</td>\n",
       "    </tr>\n",
       "    <tr>\n",
       "      <th>25%</th>\n",
       "      <td>0.187500</td>\n",
       "      <td>0.125000</td>\n",
       "      <td>0.133333</td>\n",
       "    </tr>\n",
       "    <tr>\n",
       "      <th>50%</th>\n",
       "      <td>1.000000</td>\n",
       "      <td>1.000000</td>\n",
       "      <td>1.000000</td>\n",
       "    </tr>\n",
       "    <tr>\n",
       "      <th>75%</th>\n",
       "      <td>1.000000</td>\n",
       "      <td>1.000000</td>\n",
       "      <td>1.000000</td>\n",
       "    </tr>\n",
       "    <tr>\n",
       "      <th>max</th>\n",
       "      <td>1.000000</td>\n",
       "      <td>1.000000</td>\n",
       "      <td>1.000000</td>\n",
       "    </tr>\n",
       "  </tbody>\n",
       "</table>\n",
       "</div>"
      ],
      "text/plain": [
       "       T5-Document  MonoQA-Step  MonoQA-Node\n",
       "count  2406.000000  2406.000000  2406.000000\n",
       "mean      0.737105     0.678895     0.686090\n",
       "std       0.414856     0.439456     0.437658\n",
       "min       0.000000     0.000000     0.000000\n",
       "25%       0.187500     0.125000     0.133333\n",
       "50%       1.000000     1.000000     1.000000\n",
       "75%       1.000000     1.000000     1.000000\n",
       "max       1.000000     1.000000     1.000000"
      ]
     },
     "metadata": {},
     "output_type": "display_data"
    },
    {
     "data": {
      "text/html": [
       "<div>\n",
       "<style scoped>\n",
       "    .dataframe tbody tr th:only-of-type {\n",
       "        vertical-align: middle;\n",
       "    }\n",
       "\n",
       "    .dataframe tbody tr th {\n",
       "        vertical-align: top;\n",
       "    }\n",
       "\n",
       "    .dataframe thead th {\n",
       "        text-align: right;\n",
       "    }\n",
       "</style>\n",
       "<table border=\"1\" class=\"dataframe\">\n",
       "  <thead>\n",
       "    <tr style=\"text-align: right;\">\n",
       "      <th></th>\n",
       "      <th>T5-Document</th>\n",
       "      <th>MonoQA-Step</th>\n",
       "      <th>MonoQA-Node</th>\n",
       "    </tr>\n",
       "  </thead>\n",
       "  <tbody>\n",
       "    <tr>\n",
       "      <th>T5-Document</th>\n",
       "      <td>1.000000</td>\n",
       "      <td>0.000007</td>\n",
       "      <td>0.000068</td>\n",
       "    </tr>\n",
       "    <tr>\n",
       "      <th>MonoQA-Step</th>\n",
       "      <td>0.000007</td>\n",
       "      <td>1.000000</td>\n",
       "      <td>0.569367</td>\n",
       "    </tr>\n",
       "    <tr>\n",
       "      <th>MonoQA-Node</th>\n",
       "      <td>0.000068</td>\n",
       "      <td>0.569367</td>\n",
       "      <td>1.000000</td>\n",
       "    </tr>\n",
       "  </tbody>\n",
       "</table>\n",
       "</div>"
      ],
      "text/plain": [
       "             T5-Document  MonoQA-Step  MonoQA-Node\n",
       "T5-Document     1.000000     0.000007     0.000068\n",
       "MonoQA-Step     0.000007     1.000000     0.569367\n",
       "MonoQA-Node     0.000068     0.569367     1.000000"
      ]
     },
     "metadata": {},
     "output_type": "display_data"
    }
   ],
   "source": [
    "display('Comparison with MonoQA models')\n",
    "compare_models(competence_needs_cook_dial_t5_prepend_n2_metrics['test_qa_answer_f1'],\n",
    "               competence_needs_cook_dial_monoqa_prepend_nall_step_metrics['test_qa_answer_f1'],\n",
    "               competence_needs_cook_dial_monoqa_prepend_n2_node_metrics['test_qa_answer_f1'],\n",
    "               model_names=['T5-Document', 'MonoQA-Step', 'MonoQA-Node'])"
   ]
  },
  {
   "cell_type": "markdown",
   "id": "fcaecbd4",
   "metadata": {},
   "source": [
    "### 3. All Needs\n",
    "For MonoQA: prepend, n=2 (STEP) and prepend, n=2 (NODE)\n",
    "\n",
    "For FiD: prepend, n=3 (STEP), and prepend, n=3 (NODE)\n",
    "\n",
    "For T5: prepend, n=3"
   ]
  },
  {
   "cell_type": "code",
   "execution_count": 638,
   "id": "4cba8cf1",
   "metadata": {},
   "outputs": [
    {
     "data": {
      "text/plain": [
       "'Comparison with FiD models'"
      ]
     },
     "metadata": {},
     "output_type": "display_data"
    },
    {
     "data": {
      "text/plain": [
       "F_onewayResult(statistic=53.43724728655438, pvalue=8.04879679806951e-24)"
      ]
     },
     "metadata": {},
     "output_type": "display_data"
    },
    {
     "data": {
      "text/html": [
       "<div>\n",
       "<style scoped>\n",
       "    .dataframe tbody tr th:only-of-type {\n",
       "        vertical-align: middle;\n",
       "    }\n",
       "\n",
       "    .dataframe tbody tr th {\n",
       "        vertical-align: top;\n",
       "    }\n",
       "\n",
       "    .dataframe thead th {\n",
       "        text-align: right;\n",
       "    }\n",
       "</style>\n",
       "<table border=\"1\" class=\"dataframe\">\n",
       "  <thead>\n",
       "    <tr style=\"text-align: right;\">\n",
       "      <th></th>\n",
       "      <th>T5-Document</th>\n",
       "      <th>FiD-Step</th>\n",
       "      <th>FiD-Node</th>\n",
       "    </tr>\n",
       "  </thead>\n",
       "  <tbody>\n",
       "    <tr>\n",
       "      <th>count</th>\n",
       "      <td>3628.000000</td>\n",
       "      <td>3628.000000</td>\n",
       "      <td>3628.000000</td>\n",
       "    </tr>\n",
       "    <tr>\n",
       "      <th>mean</th>\n",
       "      <td>0.623511</td>\n",
       "      <td>0.722497</td>\n",
       "      <td>0.703575</td>\n",
       "    </tr>\n",
       "    <tr>\n",
       "      <th>std</th>\n",
       "      <td>0.451150</td>\n",
       "      <td>0.419699</td>\n",
       "      <td>0.427417</td>\n",
       "    </tr>\n",
       "    <tr>\n",
       "      <th>min</th>\n",
       "      <td>0.000000</td>\n",
       "      <td>0.000000</td>\n",
       "      <td>0.000000</td>\n",
       "    </tr>\n",
       "    <tr>\n",
       "      <th>25%</th>\n",
       "      <td>0.100000</td>\n",
       "      <td>0.205172</td>\n",
       "      <td>0.181818</td>\n",
       "    </tr>\n",
       "    <tr>\n",
       "      <th>50%</th>\n",
       "      <td>1.000000</td>\n",
       "      <td>1.000000</td>\n",
       "      <td>1.000000</td>\n",
       "    </tr>\n",
       "    <tr>\n",
       "      <th>75%</th>\n",
       "      <td>1.000000</td>\n",
       "      <td>1.000000</td>\n",
       "      <td>1.000000</td>\n",
       "    </tr>\n",
       "    <tr>\n",
       "      <th>max</th>\n",
       "      <td>1.000000</td>\n",
       "      <td>1.000000</td>\n",
       "      <td>1.000000</td>\n",
       "    </tr>\n",
       "  </tbody>\n",
       "</table>\n",
       "</div>"
      ],
      "text/plain": [
       "       T5-Document     FiD-Step     FiD-Node\n",
       "count  3628.000000  3628.000000  3628.000000\n",
       "mean      0.623511     0.722497     0.703575\n",
       "std       0.451150     0.419699     0.427417\n",
       "min       0.000000     0.000000     0.000000\n",
       "25%       0.100000     0.205172     0.181818\n",
       "50%       1.000000     1.000000     1.000000\n",
       "75%       1.000000     1.000000     1.000000\n",
       "max       1.000000     1.000000     1.000000"
      ]
     },
     "metadata": {},
     "output_type": "display_data"
    },
    {
     "data": {
      "text/html": [
       "<div>\n",
       "<style scoped>\n",
       "    .dataframe tbody tr th:only-of-type {\n",
       "        vertical-align: middle;\n",
       "    }\n",
       "\n",
       "    .dataframe tbody tr th {\n",
       "        vertical-align: top;\n",
       "    }\n",
       "\n",
       "    .dataframe thead th {\n",
       "        text-align: right;\n",
       "    }\n",
       "</style>\n",
       "<table border=\"1\" class=\"dataframe\">\n",
       "  <thead>\n",
       "    <tr style=\"text-align: right;\">\n",
       "      <th></th>\n",
       "      <th>T5-Document</th>\n",
       "      <th>FiD-Step</th>\n",
       "      <th>FiD-Node</th>\n",
       "    </tr>\n",
       "  </thead>\n",
       "  <tbody>\n",
       "    <tr>\n",
       "      <th>T5-Document</th>\n",
       "      <td>1.000000e+00</td>\n",
       "      <td>1.553829e-21</td>\n",
       "      <td>1.933972e-14</td>\n",
       "    </tr>\n",
       "    <tr>\n",
       "      <th>FiD-Step</th>\n",
       "      <td>1.553829e-21</td>\n",
       "      <td>1.000000e+00</td>\n",
       "      <td>5.713150e-02</td>\n",
       "    </tr>\n",
       "    <tr>\n",
       "      <th>FiD-Node</th>\n",
       "      <td>1.933972e-14</td>\n",
       "      <td>5.713150e-02</td>\n",
       "      <td>1.000000e+00</td>\n",
       "    </tr>\n",
       "  </tbody>\n",
       "</table>\n",
       "</div>"
      ],
      "text/plain": [
       "              T5-Document      FiD-Step      FiD-Node\n",
       "T5-Document  1.000000e+00  1.553829e-21  1.933972e-14\n",
       "FiD-Step     1.553829e-21  1.000000e+00  5.713150e-02\n",
       "FiD-Node     1.933972e-14  5.713150e-02  1.000000e+00"
      ]
     },
     "metadata": {},
     "output_type": "display_data"
    }
   ],
   "source": [
    "display('Comparison with FiD models')\n",
    "compare_models(all_needs_cook_dial_t5_prepend_n3_metrics['test_qa_answer_f1'],\n",
    "               all_needs_cook_dial_fid_prepend_n3_step_metrics['test_qa_answer_f1'],\n",
    "               all_needs_cook_dial_fid_prepend_n3_node_metrics['test_qa_answer_f1'],\n",
    "               model_names=['T5-Document', 'FiD-Step', 'FiD-Node'])\n"
   ]
  },
  {
   "cell_type": "code",
   "execution_count": 640,
   "id": "21a407c6",
   "metadata": {},
   "outputs": [
    {
     "data": {
      "text/plain": [
       "'Comparison with MonoQA models'"
      ]
     },
     "metadata": {},
     "output_type": "display_data"
    },
    {
     "data": {
      "text/plain": [
       "F_onewayResult(statistic=5.910311062055814, pvalue=0.002720055378793048)"
      ]
     },
     "metadata": {},
     "output_type": "display_data"
    },
    {
     "data": {
      "text/html": [
       "<div>\n",
       "<style scoped>\n",
       "    .dataframe tbody tr th:only-of-type {\n",
       "        vertical-align: middle;\n",
       "    }\n",
       "\n",
       "    .dataframe tbody tr th {\n",
       "        vertical-align: top;\n",
       "    }\n",
       "\n",
       "    .dataframe thead th {\n",
       "        text-align: right;\n",
       "    }\n",
       "</style>\n",
       "<table border=\"1\" class=\"dataframe\">\n",
       "  <thead>\n",
       "    <tr style=\"text-align: right;\">\n",
       "      <th></th>\n",
       "      <th>T5-Document</th>\n",
       "      <th>MonoQA-Step</th>\n",
       "      <th>MonoQA-Node</th>\n",
       "    </tr>\n",
       "  </thead>\n",
       "  <tbody>\n",
       "    <tr>\n",
       "      <th>count</th>\n",
       "      <td>3628.000000</td>\n",
       "      <td>3628.000000</td>\n",
       "      <td>3628.000000</td>\n",
       "    </tr>\n",
       "    <tr>\n",
       "      <th>mean</th>\n",
       "      <td>0.623511</td>\n",
       "      <td>0.602311</td>\n",
       "      <td>0.638706</td>\n",
       "    </tr>\n",
       "    <tr>\n",
       "      <th>std</th>\n",
       "      <td>0.451150</td>\n",
       "      <td>0.456804</td>\n",
       "      <td>0.450719</td>\n",
       "    </tr>\n",
       "    <tr>\n",
       "      <th>min</th>\n",
       "      <td>0.000000</td>\n",
       "      <td>0.000000</td>\n",
       "      <td>0.000000</td>\n",
       "    </tr>\n",
       "    <tr>\n",
       "      <th>25%</th>\n",
       "      <td>0.100000</td>\n",
       "      <td>0.083333</td>\n",
       "      <td>0.105263</td>\n",
       "    </tr>\n",
       "    <tr>\n",
       "      <th>50%</th>\n",
       "      <td>1.000000</td>\n",
       "      <td>1.000000</td>\n",
       "      <td>1.000000</td>\n",
       "    </tr>\n",
       "    <tr>\n",
       "      <th>75%</th>\n",
       "      <td>1.000000</td>\n",
       "      <td>1.000000</td>\n",
       "      <td>1.000000</td>\n",
       "    </tr>\n",
       "    <tr>\n",
       "      <th>max</th>\n",
       "      <td>1.000000</td>\n",
       "      <td>1.000000</td>\n",
       "      <td>1.000000</td>\n",
       "    </tr>\n",
       "  </tbody>\n",
       "</table>\n",
       "</div>"
      ],
      "text/plain": [
       "       T5-Document  MonoQA-Step  MonoQA-Node\n",
       "count  3628.000000  3628.000000  3628.000000\n",
       "mean      0.623511     0.602311     0.638706\n",
       "std       0.451150     0.456804     0.450719\n",
       "min       0.000000     0.000000     0.000000\n",
       "25%       0.100000     0.083333     0.105263\n",
       "50%       1.000000     1.000000     1.000000\n",
       "75%       1.000000     1.000000     1.000000\n",
       "max       1.000000     1.000000     1.000000"
      ]
     },
     "metadata": {},
     "output_type": "display_data"
    },
    {
     "data": {
      "text/html": [
       "<div>\n",
       "<style scoped>\n",
       "    .dataframe tbody tr th:only-of-type {\n",
       "        vertical-align: middle;\n",
       "    }\n",
       "\n",
       "    .dataframe tbody tr th {\n",
       "        vertical-align: top;\n",
       "    }\n",
       "\n",
       "    .dataframe thead th {\n",
       "        text-align: right;\n",
       "    }\n",
       "</style>\n",
       "<table border=\"1\" class=\"dataframe\">\n",
       "  <thead>\n",
       "    <tr style=\"text-align: right;\">\n",
       "      <th></th>\n",
       "      <th>T5-Document</th>\n",
       "      <th>MonoQA-Step</th>\n",
       "      <th>MonoQA-Node</th>\n",
       "    </tr>\n",
       "  </thead>\n",
       "  <tbody>\n",
       "    <tr>\n",
       "      <th>T5-Document</th>\n",
       "      <td>1.000000</td>\n",
       "      <td>0.093487</td>\n",
       "      <td>0.151298</td>\n",
       "    </tr>\n",
       "    <tr>\n",
       "      <th>MonoQA-Step</th>\n",
       "      <td>0.093487</td>\n",
       "      <td>1.000000</td>\n",
       "      <td>0.001917</td>\n",
       "    </tr>\n",
       "    <tr>\n",
       "      <th>MonoQA-Node</th>\n",
       "      <td>0.151298</td>\n",
       "      <td>0.001917</td>\n",
       "      <td>1.000000</td>\n",
       "    </tr>\n",
       "  </tbody>\n",
       "</table>\n",
       "</div>"
      ],
      "text/plain": [
       "             T5-Document  MonoQA-Step  MonoQA-Node\n",
       "T5-Document     1.000000     0.093487     0.151298\n",
       "MonoQA-Step     0.093487     1.000000     0.001917\n",
       "MonoQA-Node     0.151298     0.001917     1.000000"
      ]
     },
     "metadata": {},
     "output_type": "display_data"
    }
   ],
   "source": [
    "display('Comparison with MonoQA models')\n",
    "compare_models(all_needs_cook_dial_t5_prepend_n3_metrics['test_qa_answer_f1'],\n",
    "               all_needs_cook_dial_monoqa_prepend_n2_step_metrics['test_qa_answer_f1'],\n",
    "               all_needs_cook_dial_monoqa_prepend_n2_node_metrics['test_qa_answer_f1'],\n",
    "               model_names=['T5-Document', 'MonoQA-Step', 'MonoQA-Node'])"
   ]
  },
  {
   "cell_type": "markdown",
   "id": "466a7912",
   "metadata": {},
   "source": [
    "## CookDial: Identifying the best query representation"
   ]
  },
  {
   "cell_type": "markdown",
   "id": "60e17e31",
   "metadata": {},
   "source": [
    "### 1. Fact Needs"
   ]
  },
  {
   "cell_type": "code",
   "execution_count": 606,
   "id": "9286276b",
   "metadata": {},
   "outputs": [],
   "source": [
    "fact_needs_cookdial_query_rep = fact_needs_cook_dial_combined_data.loc[fact_needs_cook_dial_combined_data['context_window'] != 'n_0']\n",
    "fact_cookdial_canard = fact_needs_cookdial_query_rep.loc[fact_needs_cookdial_query_rep['query_rep']=='canard_rewritten']\n",
    "fact_cookdial_quretec = fact_needs_cookdial_query_rep.loc[fact_needs_cookdial_query_rep['query_rep']=='quretec_expansion']\n",
    "fact_cookdial_prepend = fact_needs_cookdial_query_rep.loc[fact_needs_cookdial_query_rep['query_rep']=='prepend_context']"
   ]
  },
  {
   "cell_type": "code",
   "execution_count": 607,
   "id": "11c08be3",
   "metadata": {},
   "outputs": [
    {
     "data": {
      "text/plain": [
       "F_onewayResult(statistic=277.53038200771033, pvalue=2.9702289520276896e-120)"
      ]
     },
     "metadata": {},
     "output_type": "display_data"
    },
    {
     "data": {
      "text/html": [
       "<div>\n",
       "<style scoped>\n",
       "    .dataframe tbody tr th:only-of-type {\n",
       "        vertical-align: middle;\n",
       "    }\n",
       "\n",
       "    .dataframe tbody tr th {\n",
       "        vertical-align: top;\n",
       "    }\n",
       "\n",
       "    .dataframe thead th {\n",
       "        text-align: right;\n",
       "    }\n",
       "</style>\n",
       "<table border=\"1\" class=\"dataframe\">\n",
       "  <thead>\n",
       "    <tr style=\"text-align: right;\">\n",
       "      <th></th>\n",
       "      <th>canard</th>\n",
       "      <th>quretec</th>\n",
       "      <th>prepend</th>\n",
       "    </tr>\n",
       "  </thead>\n",
       "  <tbody>\n",
       "    <tr>\n",
       "      <th>count</th>\n",
       "      <td>10998.000000</td>\n",
       "      <td>10998.000000</td>\n",
       "      <td>10998.000000</td>\n",
       "    </tr>\n",
       "    <tr>\n",
       "      <th>mean</th>\n",
       "      <td>0.478182</td>\n",
       "      <td>0.411821</td>\n",
       "      <td>0.556496</td>\n",
       "    </tr>\n",
       "    <tr>\n",
       "      <th>std</th>\n",
       "      <td>0.460907</td>\n",
       "      <td>0.447550</td>\n",
       "      <td>0.459098</td>\n",
       "    </tr>\n",
       "    <tr>\n",
       "      <th>min</th>\n",
       "      <td>0.000000</td>\n",
       "      <td>0.000000</td>\n",
       "      <td>0.000000</td>\n",
       "    </tr>\n",
       "    <tr>\n",
       "      <th>25%</th>\n",
       "      <td>0.000000</td>\n",
       "      <td>0.000000</td>\n",
       "      <td>0.000000</td>\n",
       "    </tr>\n",
       "    <tr>\n",
       "      <th>50%</th>\n",
       "      <td>0.285714</td>\n",
       "      <td>0.200000</td>\n",
       "      <td>0.750000</td>\n",
       "    </tr>\n",
       "    <tr>\n",
       "      <th>75%</th>\n",
       "      <td>1.000000</td>\n",
       "      <td>1.000000</td>\n",
       "      <td>1.000000</td>\n",
       "    </tr>\n",
       "    <tr>\n",
       "      <th>max</th>\n",
       "      <td>1.000000</td>\n",
       "      <td>1.000000</td>\n",
       "      <td>1.000000</td>\n",
       "    </tr>\n",
       "  </tbody>\n",
       "</table>\n",
       "</div>"
      ],
      "text/plain": [
       "             canard       quretec       prepend\n",
       "count  10998.000000  10998.000000  10998.000000\n",
       "mean       0.478182      0.411821      0.556496\n",
       "std        0.460907      0.447550      0.459098\n",
       "min        0.000000      0.000000      0.000000\n",
       "25%        0.000000      0.000000      0.000000\n",
       "50%        0.285714      0.200000      0.750000\n",
       "75%        1.000000      1.000000      1.000000\n",
       "max        1.000000      1.000000      1.000000"
      ]
     },
     "metadata": {},
     "output_type": "display_data"
    },
    {
     "data": {
      "text/html": [
       "<div>\n",
       "<style scoped>\n",
       "    .dataframe tbody tr th:only-of-type {\n",
       "        vertical-align: middle;\n",
       "    }\n",
       "\n",
       "    .dataframe tbody tr th {\n",
       "        vertical-align: top;\n",
       "    }\n",
       "\n",
       "    .dataframe thead th {\n",
       "        text-align: right;\n",
       "    }\n",
       "</style>\n",
       "<table border=\"1\" class=\"dataframe\">\n",
       "  <thead>\n",
       "    <tr style=\"text-align: right;\">\n",
       "      <th></th>\n",
       "      <th>canard</th>\n",
       "      <th>quretec</th>\n",
       "      <th>prepend</th>\n",
       "    </tr>\n",
       "  </thead>\n",
       "  <tbody>\n",
       "    <tr>\n",
       "      <th>canard</th>\n",
       "      <td>1.000000e+00</td>\n",
       "      <td>2.827472e-27</td>\n",
       "      <td>4.123841e-36</td>\n",
       "    </tr>\n",
       "    <tr>\n",
       "      <th>quretec</th>\n",
       "      <td>2.827472e-27</td>\n",
       "      <td>1.000000e+00</td>\n",
       "      <td>8.514355e-122</td>\n",
       "    </tr>\n",
       "    <tr>\n",
       "      <th>prepend</th>\n",
       "      <td>4.123841e-36</td>\n",
       "      <td>8.514355e-122</td>\n",
       "      <td>1.000000e+00</td>\n",
       "    </tr>\n",
       "  </tbody>\n",
       "</table>\n",
       "</div>"
      ],
      "text/plain": [
       "               canard        quretec        prepend\n",
       "canard   1.000000e+00   2.827472e-27   4.123841e-36\n",
       "quretec  2.827472e-27   1.000000e+00  8.514355e-122\n",
       "prepend  4.123841e-36  8.514355e-122   1.000000e+00"
      ]
     },
     "metadata": {},
     "output_type": "display_data"
    }
   ],
   "source": [
    "compare_models(fact_cookdial_canard['test_qa_answer_f1'],\n",
    "               fact_cookdial_quretec['test_qa_answer_f1'],\n",
    "               fact_cookdial_prepend['test_qa_answer_f1'],\n",
    "               model_names=['canard', 'quretec', 'prepend'])"
   ]
  },
  {
   "cell_type": "markdown",
   "id": "2bbf21b3",
   "metadata": {},
   "source": [
    "### 2. Competence Needs"
   ]
  },
  {
   "cell_type": "code",
   "execution_count": 608,
   "id": "a7e67d09",
   "metadata": {},
   "outputs": [],
   "source": [
    "competence_needs_cookdial_query_rep = competence_needs_cook_dial_combined_data.loc[competence_needs_cook_dial_combined_data['context_window'] != 'n_0']\n",
    "competence_cookdial_canard = competence_needs_cookdial_query_rep.loc[competence_needs_cookdial_query_rep['query_rep']=='canard_rewritten']\n",
    "competence_cookdial_quretec = competence_needs_cookdial_query_rep.loc[competence_needs_cookdial_query_rep['query_rep']=='quretec_expansion']\n",
    "competence_cookdial_prepend = competence_needs_cookdial_query_rep.loc[competence_needs_cookdial_query_rep['query_rep']=='prepend_context']"
   ]
  },
  {
   "cell_type": "code",
   "execution_count": 609,
   "id": "521a1054",
   "metadata": {},
   "outputs": [
    {
     "data": {
      "text/plain": [
       "F_onewayResult(statistic=2160.081595617618, pvalue=0.0)"
      ]
     },
     "metadata": {},
     "output_type": "display_data"
    },
    {
     "data": {
      "text/html": [
       "<div>\n",
       "<style scoped>\n",
       "    .dataframe tbody tr th:only-of-type {\n",
       "        vertical-align: middle;\n",
       "    }\n",
       "\n",
       "    .dataframe tbody tr th {\n",
       "        vertical-align: top;\n",
       "    }\n",
       "\n",
       "    .dataframe thead th {\n",
       "        text-align: right;\n",
       "    }\n",
       "</style>\n",
       "<table border=\"1\" class=\"dataframe\">\n",
       "  <thead>\n",
       "    <tr style=\"text-align: right;\">\n",
       "      <th></th>\n",
       "      <th>canard</th>\n",
       "      <th>quretec</th>\n",
       "      <th>prepend</th>\n",
       "    </tr>\n",
       "  </thead>\n",
       "  <tbody>\n",
       "    <tr>\n",
       "      <th>count</th>\n",
       "      <td>21654.000000</td>\n",
       "      <td>21654.000000</td>\n",
       "      <td>21654.00000</td>\n",
       "    </tr>\n",
       "    <tr>\n",
       "      <th>mean</th>\n",
       "      <td>0.447767</td>\n",
       "      <td>0.411895</td>\n",
       "      <td>0.67051</td>\n",
       "    </tr>\n",
       "    <tr>\n",
       "      <th>std</th>\n",
       "      <td>0.449340</td>\n",
       "      <td>0.441387</td>\n",
       "      <td>0.44004</td>\n",
       "    </tr>\n",
       "    <tr>\n",
       "      <th>min</th>\n",
       "      <td>0.000000</td>\n",
       "      <td>0.000000</td>\n",
       "      <td>0.00000</td>\n",
       "    </tr>\n",
       "    <tr>\n",
       "      <th>25%</th>\n",
       "      <td>0.064516</td>\n",
       "      <td>0.000000</td>\n",
       "      <td>0.12500</td>\n",
       "    </tr>\n",
       "    <tr>\n",
       "      <th>50%</th>\n",
       "      <td>0.176471</td>\n",
       "      <td>0.153846</td>\n",
       "      <td>1.00000</td>\n",
       "    </tr>\n",
       "    <tr>\n",
       "      <th>75%</th>\n",
       "      <td>1.000000</td>\n",
       "      <td>1.000000</td>\n",
       "      <td>1.00000</td>\n",
       "    </tr>\n",
       "    <tr>\n",
       "      <th>max</th>\n",
       "      <td>1.000000</td>\n",
       "      <td>1.000000</td>\n",
       "      <td>1.00000</td>\n",
       "    </tr>\n",
       "  </tbody>\n",
       "</table>\n",
       "</div>"
      ],
      "text/plain": [
       "             canard       quretec      prepend\n",
       "count  21654.000000  21654.000000  21654.00000\n",
       "mean       0.447767      0.411895      0.67051\n",
       "std        0.449340      0.441387      0.44004\n",
       "min        0.000000      0.000000      0.00000\n",
       "25%        0.064516      0.000000      0.12500\n",
       "50%        0.176471      0.153846      1.00000\n",
       "75%        1.000000      1.000000      1.00000\n",
       "max        1.000000      1.000000      1.00000"
      ]
     },
     "metadata": {},
     "output_type": "display_data"
    },
    {
     "data": {
      "text/html": [
       "<div>\n",
       "<style scoped>\n",
       "    .dataframe tbody tr th:only-of-type {\n",
       "        vertical-align: middle;\n",
       "    }\n",
       "\n",
       "    .dataframe tbody tr th {\n",
       "        vertical-align: top;\n",
       "    }\n",
       "\n",
       "    .dataframe thead th {\n",
       "        text-align: right;\n",
       "    }\n",
       "</style>\n",
       "<table border=\"1\" class=\"dataframe\">\n",
       "  <thead>\n",
       "    <tr style=\"text-align: right;\">\n",
       "      <th></th>\n",
       "      <th>canard</th>\n",
       "      <th>quretec</th>\n",
       "      <th>prepend</th>\n",
       "    </tr>\n",
       "  </thead>\n",
       "  <tbody>\n",
       "    <tr>\n",
       "      <th>canard</th>\n",
       "      <td>1.000000e+00</td>\n",
       "      <td>5.410529e-17</td>\n",
       "      <td>0.0</td>\n",
       "    </tr>\n",
       "    <tr>\n",
       "      <th>quretec</th>\n",
       "      <td>5.410529e-17</td>\n",
       "      <td>1.000000e+00</td>\n",
       "      <td>0.0</td>\n",
       "    </tr>\n",
       "    <tr>\n",
       "      <th>prepend</th>\n",
       "      <td>0.000000e+00</td>\n",
       "      <td>0.000000e+00</td>\n",
       "      <td>1.0</td>\n",
       "    </tr>\n",
       "  </tbody>\n",
       "</table>\n",
       "</div>"
      ],
      "text/plain": [
       "               canard       quretec  prepend\n",
       "canard   1.000000e+00  5.410529e-17      0.0\n",
       "quretec  5.410529e-17  1.000000e+00      0.0\n",
       "prepend  0.000000e+00  0.000000e+00      1.0"
      ]
     },
     "metadata": {},
     "output_type": "display_data"
    }
   ],
   "source": [
    "compare_models(competence_cookdial_canard['test_qa_answer_f1'],\n",
    "               competence_cookdial_quretec['test_qa_answer_f1'],\n",
    "               competence_cookdial_prepend['test_qa_answer_f1'],\n",
    "               model_names=['canard', 'quretec', 'prepend'])"
   ]
  },
  {
   "cell_type": "markdown",
   "id": "33262de1",
   "metadata": {},
   "source": [
    "### 3. All Needs"
   ]
  },
  {
   "cell_type": "code",
   "execution_count": 655,
   "id": "291a1e02",
   "metadata": {},
   "outputs": [],
   "source": [
    "all_needs_cookdial_query_rep = all_needs_cook_dial_combined_data.loc[all_needs_cook_dial_combined_data['context_window'] != 'n_0']\n",
    "all_needs_cookdial_canard = all_needs_cookdial_query_rep.loc[all_needs_cookdial_query_rep['query_rep']=='canard_rewritten']\n",
    "all_needs_cookdial_quretec = all_needs_cookdial_query_rep.loc[all_needs_cookdial_query_rep['query_rep']=='quretec_expansion']\n",
    "all_needs_cookdial_prepend = all_needs_cookdial_query_rep.loc[all_needs_cookdial_query_rep['query_rep']=='prepend_context']"
   ]
  },
  {
   "cell_type": "code",
   "execution_count": 656,
   "id": "8945027e",
   "metadata": {},
   "outputs": [
    {
     "data": {
      "text/plain": [
       "F_onewayResult(statistic=2424.4777620481273, pvalue=0.0)"
      ]
     },
     "metadata": {},
     "output_type": "display_data"
    },
    {
     "data": {
      "text/html": [
       "<div>\n",
       "<style scoped>\n",
       "    .dataframe tbody tr th:only-of-type {\n",
       "        vertical-align: middle;\n",
       "    }\n",
       "\n",
       "    .dataframe tbody tr th {\n",
       "        vertical-align: top;\n",
       "    }\n",
       "\n",
       "    .dataframe thead th {\n",
       "        text-align: right;\n",
       "    }\n",
       "</style>\n",
       "<table border=\"1\" class=\"dataframe\">\n",
       "  <thead>\n",
       "    <tr style=\"text-align: right;\">\n",
       "      <th></th>\n",
       "      <th>canard</th>\n",
       "      <th>quretec</th>\n",
       "      <th>prepend</th>\n",
       "    </tr>\n",
       "  </thead>\n",
       "  <tbody>\n",
       "    <tr>\n",
       "      <th>count</th>\n",
       "      <td>32652.000000</td>\n",
       "      <td>32652.000000</td>\n",
       "      <td>32652.000000</td>\n",
       "    </tr>\n",
       "    <tr>\n",
       "      <th>mean</th>\n",
       "      <td>0.411319</td>\n",
       "      <td>0.379738</td>\n",
       "      <td>0.603351</td>\n",
       "    </tr>\n",
       "    <tr>\n",
       "      <th>std</th>\n",
       "      <td>0.443425</td>\n",
       "      <td>0.433131</td>\n",
       "      <td>0.455540</td>\n",
       "    </tr>\n",
       "    <tr>\n",
       "      <th>min</th>\n",
       "      <td>0.000000</td>\n",
       "      <td>0.000000</td>\n",
       "      <td>0.000000</td>\n",
       "    </tr>\n",
       "    <tr>\n",
       "      <th>25%</th>\n",
       "      <td>0.000000</td>\n",
       "      <td>0.000000</td>\n",
       "      <td>0.086957</td>\n",
       "    </tr>\n",
       "    <tr>\n",
       "      <th>50%</th>\n",
       "      <td>0.166667</td>\n",
       "      <td>0.148148</td>\n",
       "      <td>1.000000</td>\n",
       "    </tr>\n",
       "    <tr>\n",
       "      <th>75%</th>\n",
       "      <td>1.000000</td>\n",
       "      <td>1.000000</td>\n",
       "      <td>1.000000</td>\n",
       "    </tr>\n",
       "    <tr>\n",
       "      <th>max</th>\n",
       "      <td>1.000000</td>\n",
       "      <td>1.000000</td>\n",
       "      <td>1.000000</td>\n",
       "    </tr>\n",
       "  </tbody>\n",
       "</table>\n",
       "</div>"
      ],
      "text/plain": [
       "             canard       quretec       prepend\n",
       "count  32652.000000  32652.000000  32652.000000\n",
       "mean       0.411319      0.379738      0.603351\n",
       "std        0.443425      0.433131      0.455540\n",
       "min        0.000000      0.000000      0.000000\n",
       "25%        0.000000      0.000000      0.086957\n",
       "50%        0.166667      0.148148      1.000000\n",
       "75%        1.000000      1.000000      1.000000\n",
       "max        1.000000      1.000000      1.000000"
      ]
     },
     "metadata": {},
     "output_type": "display_data"
    },
    {
     "data": {
      "text/html": [
       "<div>\n",
       "<style scoped>\n",
       "    .dataframe tbody tr th:only-of-type {\n",
       "        vertical-align: middle;\n",
       "    }\n",
       "\n",
       "    .dataframe tbody tr th {\n",
       "        vertical-align: top;\n",
       "    }\n",
       "\n",
       "    .dataframe thead th {\n",
       "        text-align: right;\n",
       "    }\n",
       "</style>\n",
       "<table border=\"1\" class=\"dataframe\">\n",
       "  <thead>\n",
       "    <tr style=\"text-align: right;\">\n",
       "      <th></th>\n",
       "      <th>canard</th>\n",
       "      <th>quretec</th>\n",
       "      <th>prepend</th>\n",
       "    </tr>\n",
       "  </thead>\n",
       "  <tbody>\n",
       "    <tr>\n",
       "      <th>canard</th>\n",
       "      <td>1.000000e+00</td>\n",
       "      <td>3.469494e-20</td>\n",
       "      <td>0.0</td>\n",
       "    </tr>\n",
       "    <tr>\n",
       "      <th>quretec</th>\n",
       "      <td>3.469494e-20</td>\n",
       "      <td>1.000000e+00</td>\n",
       "      <td>0.0</td>\n",
       "    </tr>\n",
       "    <tr>\n",
       "      <th>prepend</th>\n",
       "      <td>0.000000e+00</td>\n",
       "      <td>0.000000e+00</td>\n",
       "      <td>1.0</td>\n",
       "    </tr>\n",
       "  </tbody>\n",
       "</table>\n",
       "</div>"
      ],
      "text/plain": [
       "               canard       quretec  prepend\n",
       "canard   1.000000e+00  3.469494e-20      0.0\n",
       "quretec  3.469494e-20  1.000000e+00      0.0\n",
       "prepend  0.000000e+00  0.000000e+00      1.0"
      ]
     },
     "metadata": {},
     "output_type": "display_data"
    }
   ],
   "source": [
    "compare_models(all_needs_cookdial_canard['test_qa_answer_f1'],\n",
    "               all_needs_cookdial_quretec['test_qa_answer_f1'],\n",
    "               all_needs_cookdial_prepend['test_qa_answer_f1'],\n",
    "               model_names=['canard', 'quretec', 'prepend'])"
   ]
  },
  {
   "cell_type": "markdown",
   "id": "b5d3cc2d",
   "metadata": {},
   "source": [
    "### Best Query Representation over all experiments"
   ]
  },
  {
   "cell_type": "code",
   "execution_count": 612,
   "id": "8ba14891",
   "metadata": {},
   "outputs": [],
   "source": [
    "all_cookdial_combined = pd.concat([fact_needs_cook_dial_combined_data, competence_needs_cook_dial_combined_data,\n",
    "                                all_needs_cook_dial_combined_data])\n",
    "all_cookdial_combined = all_cookdial_combined.loc[all_cookdial_combined['context_window'] != 'n_0']\n",
    "cookdial_canard = all_cookdial_combined.loc[all_cookdial_combined['query_rep']=='canard_rewritten']\n",
    "cookdial_quretec = all_cookdial_combined.loc[all_cookdial_combined['query_rep']=='quretec_expansion']\n",
    "cookdial_prepend = all_cookdial_combined.loc[all_cookdial_combined['query_rep']=='prepend_context']"
   ]
  },
  {
   "cell_type": "markdown",
   "id": "8aa31d2b",
   "metadata": {},
   "source": [
    "#### Context Window Comparison With N=2"
   ]
  },
  {
   "cell_type": "code",
   "execution_count": 658,
   "id": "3d55b10e",
   "metadata": {},
   "outputs": [],
   "source": [
    "all_cookdial_combined = pd.concat([fact_needs_cook_dial_combined_data, competence_needs_cook_dial_combined_data,\n",
    "                                all_needs_cook_dial_combined_data])\n",
    "all_cookdial_combined = all_cookdial_combined.loc[all_cookdial_combined['context_window'] == 'n_2']\n",
    "n2_cookdial_canard = all_cookdial_combined.loc[all_cookdial_combined['query_rep']=='canard_rewritten']\n",
    "n2_cookdial_quretec = all_cookdial_combined.loc[all_cookdial_combined['query_rep']=='quretec_expansion']\n",
    "n2_cookdial_prepend = all_cookdial_combined.loc[all_cookdial_combined['query_rep']=='prepend_context']"
   ]
  },
  {
   "cell_type": "code",
   "execution_count": 659,
   "id": "9f2574f6",
   "metadata": {},
   "outputs": [
    {
     "data": {
      "text/plain": [
       "F_onewayResult(statistic=1799.1864027229371, pvalue=0.0)"
      ]
     },
     "metadata": {},
     "output_type": "display_data"
    },
    {
     "data": {
      "text/html": [
       "<div>\n",
       "<style scoped>\n",
       "    .dataframe tbody tr th:only-of-type {\n",
       "        vertical-align: middle;\n",
       "    }\n",
       "\n",
       "    .dataframe tbody tr th {\n",
       "        vertical-align: top;\n",
       "    }\n",
       "\n",
       "    .dataframe thead th {\n",
       "        text-align: right;\n",
       "    }\n",
       "</style>\n",
       "<table border=\"1\" class=\"dataframe\">\n",
       "  <thead>\n",
       "    <tr style=\"text-align: right;\">\n",
       "      <th></th>\n",
       "      <th>n2 - canard</th>\n",
       "      <th>n2 - quretec</th>\n",
       "      <th>n2 - prepend</th>\n",
       "    </tr>\n",
       "  </thead>\n",
       "  <tbody>\n",
       "    <tr>\n",
       "      <th>count</th>\n",
       "      <td>21768.000000</td>\n",
       "      <td>21768.000000</td>\n",
       "      <td>21768.000000</td>\n",
       "    </tr>\n",
       "    <tr>\n",
       "      <th>mean</th>\n",
       "      <td>0.437661</td>\n",
       "      <td>0.396781</td>\n",
       "      <td>0.636446</td>\n",
       "    </tr>\n",
       "    <tr>\n",
       "      <th>std</th>\n",
       "      <td>0.449093</td>\n",
       "      <td>0.438422</td>\n",
       "      <td>0.450252</td>\n",
       "    </tr>\n",
       "    <tr>\n",
       "      <th>min</th>\n",
       "      <td>0.000000</td>\n",
       "      <td>0.000000</td>\n",
       "      <td>0.000000</td>\n",
       "    </tr>\n",
       "    <tr>\n",
       "      <th>25%</th>\n",
       "      <td>0.000000</td>\n",
       "      <td>0.000000</td>\n",
       "      <td>0.105263</td>\n",
       "    </tr>\n",
       "    <tr>\n",
       "      <th>50%</th>\n",
       "      <td>0.181818</td>\n",
       "      <td>0.160000</td>\n",
       "      <td>1.000000</td>\n",
       "    </tr>\n",
       "    <tr>\n",
       "      <th>75%</th>\n",
       "      <td>1.000000</td>\n",
       "      <td>1.000000</td>\n",
       "      <td>1.000000</td>\n",
       "    </tr>\n",
       "    <tr>\n",
       "      <th>max</th>\n",
       "      <td>1.000000</td>\n",
       "      <td>1.000000</td>\n",
       "      <td>1.000000</td>\n",
       "    </tr>\n",
       "  </tbody>\n",
       "</table>\n",
       "</div>"
      ],
      "text/plain": [
       "        n2 - canard  n2 - quretec  n2 - prepend\n",
       "count  21768.000000  21768.000000  21768.000000\n",
       "mean       0.437661      0.396781      0.636446\n",
       "std        0.449093      0.438422      0.450252\n",
       "min        0.000000      0.000000      0.000000\n",
       "25%        0.000000      0.000000      0.105263\n",
       "50%        0.181818      0.160000      1.000000\n",
       "75%        1.000000      1.000000      1.000000\n",
       "max        1.000000      1.000000      1.000000"
      ]
     },
     "metadata": {},
     "output_type": "display_data"
    },
    {
     "data": {
      "text/html": [
       "<div>\n",
       "<style scoped>\n",
       "    .dataframe tbody tr th:only-of-type {\n",
       "        vertical-align: middle;\n",
       "    }\n",
       "\n",
       "    .dataframe tbody tr th {\n",
       "        vertical-align: top;\n",
       "    }\n",
       "\n",
       "    .dataframe thead th {\n",
       "        text-align: right;\n",
       "    }\n",
       "</style>\n",
       "<table border=\"1\" class=\"dataframe\">\n",
       "  <thead>\n",
       "    <tr style=\"text-align: right;\">\n",
       "      <th></th>\n",
       "      <th>n2 - canard</th>\n",
       "      <th>n2 - quretec</th>\n",
       "      <th>n2 - prepend</th>\n",
       "    </tr>\n",
       "  </thead>\n",
       "  <tbody>\n",
       "    <tr>\n",
       "      <th>n2 - canard</th>\n",
       "      <td>1.000000e+00</td>\n",
       "      <td>7.623834e-22</td>\n",
       "      <td>0.0</td>\n",
       "    </tr>\n",
       "    <tr>\n",
       "      <th>n2 - quretec</th>\n",
       "      <td>7.623834e-22</td>\n",
       "      <td>1.000000e+00</td>\n",
       "      <td>0.0</td>\n",
       "    </tr>\n",
       "    <tr>\n",
       "      <th>n2 - prepend</th>\n",
       "      <td>0.000000e+00</td>\n",
       "      <td>0.000000e+00</td>\n",
       "      <td>1.0</td>\n",
       "    </tr>\n",
       "  </tbody>\n",
       "</table>\n",
       "</div>"
      ],
      "text/plain": [
       "               n2 - canard  n2 - quretec  n2 - prepend\n",
       "n2 - canard   1.000000e+00  7.623834e-22           0.0\n",
       "n2 - quretec  7.623834e-22  1.000000e+00           0.0\n",
       "n2 - prepend  0.000000e+00  0.000000e+00           1.0"
      ]
     },
     "metadata": {},
     "output_type": "display_data"
    }
   ],
   "source": [
    "compare_models(n2_cookdial_canard['test_qa_answer_f1'],\n",
    "               n2_cookdial_quretec['test_qa_answer_f1'],\n",
    "               n2_cookdial_prepend['test_qa_answer_f1'],\n",
    "               model_names=['n2 - canard', 'n2 - quretec', 'n2 - prepend'])"
   ]
  },
  {
   "cell_type": "markdown",
   "id": "9f2851a4",
   "metadata": {},
   "source": [
    "#### Context Window Comparison With N=3"
   ]
  },
  {
   "cell_type": "code",
   "execution_count": 660,
   "id": "62e0f801",
   "metadata": {},
   "outputs": [],
   "source": [
    "all_cookdial_combined = pd.concat([fact_needs_cook_dial_combined_data, competence_needs_cook_dial_combined_data,\n",
    "                                all_needs_cook_dial_combined_data])\n",
    "all_cookdial_combined = all_cookdial_combined.loc[all_cookdial_combined['context_window'] == 'n_3']\n",
    "n3_cookdial_canard = all_cookdial_combined.loc[all_cookdial_combined['query_rep']=='canard_rewritten']\n",
    "n3_cookdial_quretec = all_cookdial_combined.loc[all_cookdial_combined['query_rep']=='quretec_expansion']\n",
    "n3_cookdial_prepend = all_cookdial_combined.loc[all_cookdial_combined['query_rep']=='prepend_context']"
   ]
  },
  {
   "cell_type": "code",
   "execution_count": 661,
   "id": "fb1ae105",
   "metadata": {},
   "outputs": [
    {
     "data": {
      "text/plain": [
       "F_onewayResult(statistic=1588.708155394065, pvalue=0.0)"
      ]
     },
     "metadata": {},
     "output_type": "display_data"
    },
    {
     "data": {
      "text/html": [
       "<div>\n",
       "<style scoped>\n",
       "    .dataframe tbody tr th:only-of-type {\n",
       "        vertical-align: middle;\n",
       "    }\n",
       "\n",
       "    .dataframe tbody tr th {\n",
       "        vertical-align: top;\n",
       "    }\n",
       "\n",
       "    .dataframe thead th {\n",
       "        text-align: right;\n",
       "    }\n",
       "</style>\n",
       "<table border=\"1\" class=\"dataframe\">\n",
       "  <thead>\n",
       "    <tr style=\"text-align: right;\">\n",
       "      <th></th>\n",
       "      <th>n3 - canard</th>\n",
       "      <th>n3 - quretec</th>\n",
       "      <th>n3 - prepend</th>\n",
       "    </tr>\n",
       "  </thead>\n",
       "  <tbody>\n",
       "    <tr>\n",
       "      <th>count</th>\n",
       "      <td>21768.000000</td>\n",
       "      <td>21768.000000</td>\n",
       "      <td>21768.000000</td>\n",
       "    </tr>\n",
       "    <tr>\n",
       "      <th>mean</th>\n",
       "      <td>0.435878</td>\n",
       "      <td>0.396978</td>\n",
       "      <td>0.622919</td>\n",
       "    </tr>\n",
       "    <tr>\n",
       "      <th>std</th>\n",
       "      <td>0.449419</td>\n",
       "      <td>0.439109</td>\n",
       "      <td>0.452742</td>\n",
       "    </tr>\n",
       "    <tr>\n",
       "      <th>min</th>\n",
       "      <td>0.000000</td>\n",
       "      <td>0.000000</td>\n",
       "      <td>0.000000</td>\n",
       "    </tr>\n",
       "    <tr>\n",
       "      <th>25%</th>\n",
       "      <td>0.000000</td>\n",
       "      <td>0.000000</td>\n",
       "      <td>0.095238</td>\n",
       "    </tr>\n",
       "    <tr>\n",
       "      <th>50%</th>\n",
       "      <td>0.181818</td>\n",
       "      <td>0.160000</td>\n",
       "      <td>1.000000</td>\n",
       "    </tr>\n",
       "    <tr>\n",
       "      <th>75%</th>\n",
       "      <td>1.000000</td>\n",
       "      <td>1.000000</td>\n",
       "      <td>1.000000</td>\n",
       "    </tr>\n",
       "    <tr>\n",
       "      <th>max</th>\n",
       "      <td>1.000000</td>\n",
       "      <td>1.000000</td>\n",
       "      <td>1.000000</td>\n",
       "    </tr>\n",
       "  </tbody>\n",
       "</table>\n",
       "</div>"
      ],
      "text/plain": [
       "        n3 - canard  n3 - quretec  n3 - prepend\n",
       "count  21768.000000  21768.000000  21768.000000\n",
       "mean       0.435878      0.396978      0.622919\n",
       "std        0.449419      0.439109      0.452742\n",
       "min        0.000000      0.000000      0.000000\n",
       "25%        0.000000      0.000000      0.095238\n",
       "50%        0.181818      0.160000      1.000000\n",
       "75%        1.000000      1.000000      1.000000\n",
       "max        1.000000      1.000000      1.000000"
      ]
     },
     "metadata": {},
     "output_type": "display_data"
    },
    {
     "data": {
      "text/html": [
       "<div>\n",
       "<style scoped>\n",
       "    .dataframe tbody tr th:only-of-type {\n",
       "        vertical-align: middle;\n",
       "    }\n",
       "\n",
       "    .dataframe tbody tr th {\n",
       "        vertical-align: top;\n",
       "    }\n",
       "\n",
       "    .dataframe thead th {\n",
       "        text-align: right;\n",
       "    }\n",
       "</style>\n",
       "<table border=\"1\" class=\"dataframe\">\n",
       "  <thead>\n",
       "    <tr style=\"text-align: right;\">\n",
       "      <th></th>\n",
       "      <th>n3 - canard</th>\n",
       "      <th>n3 - quretec</th>\n",
       "      <th>n3 - prepend</th>\n",
       "    </tr>\n",
       "  </thead>\n",
       "  <tbody>\n",
       "    <tr>\n",
       "      <th>n3 - canard</th>\n",
       "      <td>1.000000e+00</td>\n",
       "      <td>6.855010e-20</td>\n",
       "      <td>0.0</td>\n",
       "    </tr>\n",
       "    <tr>\n",
       "      <th>n3 - quretec</th>\n",
       "      <td>6.855010e-20</td>\n",
       "      <td>1.000000e+00</td>\n",
       "      <td>0.0</td>\n",
       "    </tr>\n",
       "    <tr>\n",
       "      <th>n3 - prepend</th>\n",
       "      <td>0.000000e+00</td>\n",
       "      <td>0.000000e+00</td>\n",
       "      <td>1.0</td>\n",
       "    </tr>\n",
       "  </tbody>\n",
       "</table>\n",
       "</div>"
      ],
      "text/plain": [
       "               n3 - canard  n3 - quretec  n3 - prepend\n",
       "n3 - canard   1.000000e+00  6.855010e-20           0.0\n",
       "n3 - quretec  6.855010e-20  1.000000e+00           0.0\n",
       "n3 - prepend  0.000000e+00  0.000000e+00           1.0"
      ]
     },
     "metadata": {},
     "output_type": "display_data"
    }
   ],
   "source": [
    "compare_models(n3_cookdial_canard['test_qa_answer_f1'],\n",
    "               n3_cookdial_quretec['test_qa_answer_f1'],\n",
    "               n3_cookdial_prepend['test_qa_answer_f1'],\n",
    "               model_names=['n3 - canard', 'n3 - quretec', 'n3 - prepend'])"
   ]
  },
  {
   "cell_type": "markdown",
   "id": "6dacd7c5",
   "metadata": {},
   "source": [
    "#### Context Window Comparison With N=All"
   ]
  },
  {
   "cell_type": "code",
   "execution_count": 662,
   "id": "538a6c14",
   "metadata": {},
   "outputs": [],
   "source": [
    "all_cookdial_combined = pd.concat([fact_needs_cook_dial_combined_data, competence_needs_cook_dial_combined_data,\n",
    "                                all_needs_cook_dial_combined_data])\n",
    "all_cookdial_combined = all_cookdial_combined.loc[all_cookdial_combined['context_window'] == 'n_all']\n",
    "nall_cookdial_canard = all_cookdial_combined.loc[all_cookdial_combined['query_rep']=='canard_rewritten']\n",
    "nall_cookdial_quretec = all_cookdial_combined.loc[all_cookdial_combined['query_rep']=='quretec_expansion']\n",
    "nall_cookdial_prepend = all_cookdial_combined.loc[all_cookdial_combined['query_rep']=='prepend_context']"
   ]
  },
  {
   "cell_type": "code",
   "execution_count": 663,
   "id": "d58b597e",
   "metadata": {},
   "outputs": [
    {
     "data": {
      "text/plain": [
       "F_onewayResult(statistic=1235.0782657424836, pvalue=0.0)"
      ]
     },
     "metadata": {},
     "output_type": "display_data"
    },
    {
     "data": {
      "text/html": [
       "<div>\n",
       "<style scoped>\n",
       "    .dataframe tbody tr th:only-of-type {\n",
       "        vertical-align: middle;\n",
       "    }\n",
       "\n",
       "    .dataframe tbody tr th {\n",
       "        vertical-align: top;\n",
       "    }\n",
       "\n",
       "    .dataframe thead th {\n",
       "        text-align: right;\n",
       "    }\n",
       "</style>\n",
       "<table border=\"1\" class=\"dataframe\">\n",
       "  <thead>\n",
       "    <tr style=\"text-align: right;\">\n",
       "      <th></th>\n",
       "      <th>nall - canard</th>\n",
       "      <th>nall - quretec</th>\n",
       "      <th>nall - prepend</th>\n",
       "    </tr>\n",
       "  </thead>\n",
       "  <tbody>\n",
       "    <tr>\n",
       "      <th>count</th>\n",
       "      <td>21768.000000</td>\n",
       "      <td>21768.000000</td>\n",
       "      <td>21768.000000</td>\n",
       "    </tr>\n",
       "    <tr>\n",
       "      <th>mean</th>\n",
       "      <td>0.430457</td>\n",
       "      <td>0.393652</td>\n",
       "      <td>0.593823</td>\n",
       "    </tr>\n",
       "    <tr>\n",
       "      <th>std</th>\n",
       "      <td>0.448746</td>\n",
       "      <td>0.438340</td>\n",
       "      <td>0.454654</td>\n",
       "    </tr>\n",
       "    <tr>\n",
       "      <th>min</th>\n",
       "      <td>0.000000</td>\n",
       "      <td>0.000000</td>\n",
       "      <td>0.000000</td>\n",
       "    </tr>\n",
       "    <tr>\n",
       "      <th>25%</th>\n",
       "      <td>0.000000</td>\n",
       "      <td>0.000000</td>\n",
       "      <td>0.086957</td>\n",
       "    </tr>\n",
       "    <tr>\n",
       "      <th>50%</th>\n",
       "      <td>0.181818</td>\n",
       "      <td>0.153846</td>\n",
       "      <td>1.000000</td>\n",
       "    </tr>\n",
       "    <tr>\n",
       "      <th>75%</th>\n",
       "      <td>1.000000</td>\n",
       "      <td>1.000000</td>\n",
       "      <td>1.000000</td>\n",
       "    </tr>\n",
       "    <tr>\n",
       "      <th>max</th>\n",
       "      <td>1.000000</td>\n",
       "      <td>1.000000</td>\n",
       "      <td>1.000000</td>\n",
       "    </tr>\n",
       "  </tbody>\n",
       "</table>\n",
       "</div>"
      ],
      "text/plain": [
       "       nall - canard  nall - quretec  nall - prepend\n",
       "count   21768.000000    21768.000000    21768.000000\n",
       "mean        0.430457        0.393652        0.593823\n",
       "std         0.448746        0.438340        0.454654\n",
       "min         0.000000        0.000000        0.000000\n",
       "25%         0.000000        0.000000        0.086957\n",
       "50%         0.181818        0.153846        1.000000\n",
       "75%         1.000000        1.000000        1.000000\n",
       "max         1.000000        1.000000        1.000000"
      ]
     },
     "metadata": {},
     "output_type": "display_data"
    },
    {
     "data": {
      "text/html": [
       "<div>\n",
       "<style scoped>\n",
       "    .dataframe tbody tr th:only-of-type {\n",
       "        vertical-align: middle;\n",
       "    }\n",
       "\n",
       "    .dataframe tbody tr th {\n",
       "        vertical-align: top;\n",
       "    }\n",
       "\n",
       "    .dataframe thead th {\n",
       "        text-align: right;\n",
       "    }\n",
       "</style>\n",
       "<table border=\"1\" class=\"dataframe\">\n",
       "  <thead>\n",
       "    <tr style=\"text-align: right;\">\n",
       "      <th></th>\n",
       "      <th>nall - canard</th>\n",
       "      <th>nall - quretec</th>\n",
       "      <th>nall - prepend</th>\n",
       "    </tr>\n",
       "  </thead>\n",
       "  <tbody>\n",
       "    <tr>\n",
       "      <th>nall - canard</th>\n",
       "      <td>1.000000e+00</td>\n",
       "      <td>5.038305e-18</td>\n",
       "      <td>2.785051e-306</td>\n",
       "    </tr>\n",
       "    <tr>\n",
       "      <th>nall - quretec</th>\n",
       "      <td>5.038305e-18</td>\n",
       "      <td>1.000000e+00</td>\n",
       "      <td>0.000000e+00</td>\n",
       "    </tr>\n",
       "    <tr>\n",
       "      <th>nall - prepend</th>\n",
       "      <td>2.785051e-306</td>\n",
       "      <td>0.000000e+00</td>\n",
       "      <td>1.000000e+00</td>\n",
       "    </tr>\n",
       "  </tbody>\n",
       "</table>\n",
       "</div>"
      ],
      "text/plain": [
       "                nall - canard  nall - quretec  nall - prepend\n",
       "nall - canard    1.000000e+00    5.038305e-18   2.785051e-306\n",
       "nall - quretec   5.038305e-18    1.000000e+00    0.000000e+00\n",
       "nall - prepend  2.785051e-306    0.000000e+00    1.000000e+00"
      ]
     },
     "metadata": {},
     "output_type": "display_data"
    }
   ],
   "source": [
    "compare_models(nall_cookdial_canard['test_qa_answer_f1'],\n",
    "               nall_cookdial_quretec['test_qa_answer_f1'],\n",
    "               nall_cookdial_prepend['test_qa_answer_f1'],\n",
    "               model_names=['nall - canard', 'nall - quretec', 'nall - prepend'])"
   ]
  },
  {
   "cell_type": "markdown",
   "id": "d20d1872",
   "metadata": {},
   "source": [
    "## CookDial: Identifying the optimal Conversational Context Window"
   ]
  },
  {
   "cell_type": "markdown",
   "id": "0ed0f28f",
   "metadata": {},
   "source": [
    "### 1. Fact Needs"
   ]
  },
  {
   "cell_type": "code",
   "execution_count": 614,
   "id": "ba0c73ff",
   "metadata": {},
   "outputs": [],
   "source": [
    "fact_needs_cookdial_conv_window = fact_needs_cook_dial_combined_data.loc[fact_needs_cook_dial_combined_data['query_rep'] == 'prepend_context']\n",
    "fact_cookdial_n_0 = fact_needs_cookdial_conv_window.loc[fact_needs_cookdial_conv_window['context_window']=='n_0']\n",
    "fact_cookdial_n_2 = fact_needs_cookdial_conv_window.loc[fact_needs_cookdial_conv_window['context_window']=='n_2']\n",
    "fact_cookdial_n_3 = fact_needs_cookdial_conv_window.loc[fact_needs_cookdial_conv_window['context_window']=='n_3']\n",
    "fact_cookdial_n_all = fact_needs_cookdial_conv_window.loc[fact_needs_cookdial_conv_window['context_window']=='n_all']"
   ]
  },
  {
   "cell_type": "code",
   "execution_count": 615,
   "id": "c3f9baff",
   "metadata": {},
   "outputs": [
    {
     "data": {
      "text/plain": [
       "F_onewayResult(statistic=90.09396834685292, pvalue=9.099257147076099e-58)"
      ]
     },
     "metadata": {},
     "output_type": "display_data"
    },
    {
     "data": {
      "text/html": [
       "<div>\n",
       "<style scoped>\n",
       "    .dataframe tbody tr th:only-of-type {\n",
       "        vertical-align: middle;\n",
       "    }\n",
       "\n",
       "    .dataframe tbody tr th {\n",
       "        vertical-align: top;\n",
       "    }\n",
       "\n",
       "    .dataframe thead th {\n",
       "        text-align: right;\n",
       "    }\n",
       "</style>\n",
       "<table border=\"1\" class=\"dataframe\">\n",
       "  <thead>\n",
       "    <tr style=\"text-align: right;\">\n",
       "      <th></th>\n",
       "      <th>n=0</th>\n",
       "      <th>n=2</th>\n",
       "      <th>n=3</th>\n",
       "      <th>n=all</th>\n",
       "    </tr>\n",
       "  </thead>\n",
       "  <tbody>\n",
       "    <tr>\n",
       "      <th>count</th>\n",
       "      <td>3666.000000</td>\n",
       "      <td>3666.000000</td>\n",
       "      <td>3666.000000</td>\n",
       "      <td>3666.000000</td>\n",
       "    </tr>\n",
       "    <tr>\n",
       "      <th>mean</th>\n",
       "      <td>0.413972</td>\n",
       "      <td>0.564055</td>\n",
       "      <td>0.551120</td>\n",
       "      <td>0.554314</td>\n",
       "    </tr>\n",
       "    <tr>\n",
       "      <th>std</th>\n",
       "      <td>0.446259</td>\n",
       "      <td>0.458532</td>\n",
       "      <td>0.458984</td>\n",
       "      <td>0.459803</td>\n",
       "    </tr>\n",
       "    <tr>\n",
       "      <th>min</th>\n",
       "      <td>0.000000</td>\n",
       "      <td>0.000000</td>\n",
       "      <td>0.000000</td>\n",
       "      <td>0.000000</td>\n",
       "    </tr>\n",
       "    <tr>\n",
       "      <th>25%</th>\n",
       "      <td>0.000000</td>\n",
       "      <td>0.000000</td>\n",
       "      <td>0.000000</td>\n",
       "      <td>0.000000</td>\n",
       "    </tr>\n",
       "    <tr>\n",
       "      <th>50%</th>\n",
       "      <td>0.200000</td>\n",
       "      <td>1.000000</td>\n",
       "      <td>0.666667</td>\n",
       "      <td>0.750000</td>\n",
       "    </tr>\n",
       "    <tr>\n",
       "      <th>75%</th>\n",
       "      <td>1.000000</td>\n",
       "      <td>1.000000</td>\n",
       "      <td>1.000000</td>\n",
       "      <td>1.000000</td>\n",
       "    </tr>\n",
       "    <tr>\n",
       "      <th>max</th>\n",
       "      <td>1.000000</td>\n",
       "      <td>1.000000</td>\n",
       "      <td>1.000000</td>\n",
       "      <td>1.000000</td>\n",
       "    </tr>\n",
       "  </tbody>\n",
       "</table>\n",
       "</div>"
      ],
      "text/plain": [
       "               n=0          n=2          n=3        n=all\n",
       "count  3666.000000  3666.000000  3666.000000  3666.000000\n",
       "mean      0.413972     0.564055     0.551120     0.554314\n",
       "std       0.446259     0.458532     0.458984     0.459803\n",
       "min       0.000000     0.000000     0.000000     0.000000\n",
       "25%       0.000000     0.000000     0.000000     0.000000\n",
       "50%       0.200000     1.000000     0.666667     0.750000\n",
       "75%       1.000000     1.000000     1.000000     1.000000\n",
       "max       1.000000     1.000000     1.000000     1.000000"
      ]
     },
     "metadata": {},
     "output_type": "display_data"
    },
    {
     "data": {
      "text/html": [
       "<div>\n",
       "<style scoped>\n",
       "    .dataframe tbody tr th:only-of-type {\n",
       "        vertical-align: middle;\n",
       "    }\n",
       "\n",
       "    .dataframe tbody tr th {\n",
       "        vertical-align: top;\n",
       "    }\n",
       "\n",
       "    .dataframe thead th {\n",
       "        text-align: right;\n",
       "    }\n",
       "</style>\n",
       "<table border=\"1\" class=\"dataframe\">\n",
       "  <thead>\n",
       "    <tr style=\"text-align: right;\">\n",
       "      <th></th>\n",
       "      <th>n=0</th>\n",
       "      <th>n=2</th>\n",
       "      <th>n=3</th>\n",
       "      <th>n=all</th>\n",
       "    </tr>\n",
       "  </thead>\n",
       "  <tbody>\n",
       "    <tr>\n",
       "      <th>n=0</th>\n",
       "      <td>1.000000e+00</td>\n",
       "      <td>2.111135e-44</td>\n",
       "      <td>1.858423e-37</td>\n",
       "      <td>5.532118e-39</td>\n",
       "    </tr>\n",
       "    <tr>\n",
       "      <th>n=2</th>\n",
       "      <td>2.111135e-44</td>\n",
       "      <td>1.000000e+00</td>\n",
       "      <td>6.822071e-01</td>\n",
       "      <td>7.275622e-01</td>\n",
       "    </tr>\n",
       "    <tr>\n",
       "      <th>n=3</th>\n",
       "      <td>1.858423e-37</td>\n",
       "      <td>6.822071e-01</td>\n",
       "      <td>1.000000e+00</td>\n",
       "      <td>7.659299e-01</td>\n",
       "    </tr>\n",
       "    <tr>\n",
       "      <th>n=all</th>\n",
       "      <td>5.532118e-39</td>\n",
       "      <td>7.275622e-01</td>\n",
       "      <td>7.659299e-01</td>\n",
       "      <td>1.000000e+00</td>\n",
       "    </tr>\n",
       "  </tbody>\n",
       "</table>\n",
       "</div>"
      ],
      "text/plain": [
       "                n=0           n=2           n=3         n=all\n",
       "n=0    1.000000e+00  2.111135e-44  1.858423e-37  5.532118e-39\n",
       "n=2    2.111135e-44  1.000000e+00  6.822071e-01  7.275622e-01\n",
       "n=3    1.858423e-37  6.822071e-01  1.000000e+00  7.659299e-01\n",
       "n=all  5.532118e-39  7.275622e-01  7.659299e-01  1.000000e+00"
      ]
     },
     "metadata": {},
     "output_type": "display_data"
    }
   ],
   "source": [
    "compare_models(fact_cookdial_n_0['test_qa_answer_f1'],\n",
    "               fact_cookdial_n_2['test_qa_answer_f1'],\n",
    "               fact_cookdial_n_3['test_qa_answer_f1'],\n",
    "               fact_cookdial_n_all['test_qa_answer_f1'],\n",
    "               model_names=['n=0', 'n=2', 'n=3', 'n=all'])"
   ]
  },
  {
   "cell_type": "markdown",
   "id": "a744c2d3",
   "metadata": {},
   "source": [
    "### 2. Competence Needs"
   ]
  },
  {
   "cell_type": "code",
   "execution_count": 616,
   "id": "5371a356",
   "metadata": {},
   "outputs": [],
   "source": [
    "competence_needs_cookdial_conv_window = competence_needs_cook_dial_combined_data.loc[competence_needs_cook_dial_combined_data['query_rep'] == 'prepend_context']\n",
    "competence_cookdial_n_0 = competence_needs_cookdial_conv_window.loc[competence_needs_cookdial_conv_window['context_window']=='n_0']\n",
    "competence_cookdial_n_2 = competence_needs_cookdial_conv_window.loc[competence_needs_cookdial_conv_window['context_window']=='n_2']\n",
    "competence_cookdial_n_3 = competence_needs_cookdial_conv_window.loc[competence_needs_cookdial_conv_window['context_window']=='n_3']\n",
    "competence_cookdial_n_all = competence_needs_cookdial_conv_window.loc[competence_needs_cookdial_conv_window['context_window']=='n_all']"
   ]
  },
  {
   "cell_type": "code",
   "execution_count": 617,
   "id": "d878f261",
   "metadata": {},
   "outputs": [
    {
     "data": {
      "text/plain": [
       "F_onewayResult(statistic=649.818409793832, pvalue=0.0)"
      ]
     },
     "metadata": {},
     "output_type": "display_data"
    },
    {
     "data": {
      "text/html": [
       "<div>\n",
       "<style scoped>\n",
       "    .dataframe tbody tr th:only-of-type {\n",
       "        vertical-align: middle;\n",
       "    }\n",
       "\n",
       "    .dataframe tbody tr th {\n",
       "        vertical-align: top;\n",
       "    }\n",
       "\n",
       "    .dataframe thead th {\n",
       "        text-align: right;\n",
       "    }\n",
       "</style>\n",
       "<table border=\"1\" class=\"dataframe\">\n",
       "  <thead>\n",
       "    <tr style=\"text-align: right;\">\n",
       "      <th></th>\n",
       "      <th>n=0</th>\n",
       "      <th>n=2</th>\n",
       "      <th>n=3</th>\n",
       "      <th>n=all</th>\n",
       "    </tr>\n",
       "  </thead>\n",
       "  <tbody>\n",
       "    <tr>\n",
       "      <th>count</th>\n",
       "      <td>7218.000000</td>\n",
       "      <td>7218.000000</td>\n",
       "      <td>7218.000000</td>\n",
       "      <td>7218.000000</td>\n",
       "    </tr>\n",
       "    <tr>\n",
       "      <th>mean</th>\n",
       "      <td>0.413047</td>\n",
       "      <td>0.700653</td>\n",
       "      <td>0.678699</td>\n",
       "      <td>0.632177</td>\n",
       "    </tr>\n",
       "    <tr>\n",
       "      <th>std</th>\n",
       "      <td>0.440451</td>\n",
       "      <td>0.431546</td>\n",
       "      <td>0.439046</td>\n",
       "      <td>0.446676</td>\n",
       "    </tr>\n",
       "    <tr>\n",
       "      <th>min</th>\n",
       "      <td>0.000000</td>\n",
       "      <td>0.000000</td>\n",
       "      <td>0.000000</td>\n",
       "      <td>0.000000</td>\n",
       "    </tr>\n",
       "    <tr>\n",
       "      <th>25%</th>\n",
       "      <td>0.000000</td>\n",
       "      <td>0.148148</td>\n",
       "      <td>0.125000</td>\n",
       "      <td>0.111111</td>\n",
       "    </tr>\n",
       "    <tr>\n",
       "      <th>50%</th>\n",
       "      <td>0.160000</td>\n",
       "      <td>1.000000</td>\n",
       "      <td>1.000000</td>\n",
       "      <td>1.000000</td>\n",
       "    </tr>\n",
       "    <tr>\n",
       "      <th>75%</th>\n",
       "      <td>1.000000</td>\n",
       "      <td>1.000000</td>\n",
       "      <td>1.000000</td>\n",
       "      <td>1.000000</td>\n",
       "    </tr>\n",
       "    <tr>\n",
       "      <th>max</th>\n",
       "      <td>1.000000</td>\n",
       "      <td>1.000000</td>\n",
       "      <td>1.000000</td>\n",
       "      <td>1.000000</td>\n",
       "    </tr>\n",
       "  </tbody>\n",
       "</table>\n",
       "</div>"
      ],
      "text/plain": [
       "               n=0          n=2          n=3        n=all\n",
       "count  7218.000000  7218.000000  7218.000000  7218.000000\n",
       "mean      0.413047     0.700653     0.678699     0.632177\n",
       "std       0.440451     0.431546     0.439046     0.446676\n",
       "min       0.000000     0.000000     0.000000     0.000000\n",
       "25%       0.000000     0.148148     0.125000     0.111111\n",
       "50%       0.160000     1.000000     1.000000     1.000000\n",
       "75%       1.000000     1.000000     1.000000     1.000000\n",
       "max       1.000000     1.000000     1.000000     1.000000"
      ]
     },
     "metadata": {},
     "output_type": "display_data"
    },
    {
     "data": {
      "text/html": [
       "<div>\n",
       "<style scoped>\n",
       "    .dataframe tbody tr th:only-of-type {\n",
       "        vertical-align: middle;\n",
       "    }\n",
       "\n",
       "    .dataframe tbody tr th {\n",
       "        vertical-align: top;\n",
       "    }\n",
       "\n",
       "    .dataframe thead th {\n",
       "        text-align: right;\n",
       "    }\n",
       "</style>\n",
       "<table border=\"1\" class=\"dataframe\">\n",
       "  <thead>\n",
       "    <tr style=\"text-align: right;\">\n",
       "      <th></th>\n",
       "      <th>n=0</th>\n",
       "      <th>n=2</th>\n",
       "      <th>n=3</th>\n",
       "      <th>n=all</th>\n",
       "    </tr>\n",
       "  </thead>\n",
       "  <tbody>\n",
       "    <tr>\n",
       "      <th>n=0</th>\n",
       "      <td>1.000000e+00</td>\n",
       "      <td>0.000000e+00</td>\n",
       "      <td>2.346482e-275</td>\n",
       "      <td>2.499609e-187</td>\n",
       "    </tr>\n",
       "    <tr>\n",
       "      <th>n=2</th>\n",
       "      <td>0.000000e+00</td>\n",
       "      <td>1.000000e+00</td>\n",
       "      <td>2.451513e-03</td>\n",
       "      <td>2.566466e-20</td>\n",
       "    </tr>\n",
       "    <tr>\n",
       "      <th>n=3</th>\n",
       "      <td>2.346482e-275</td>\n",
       "      <td>2.451513e-03</td>\n",
       "      <td>1.000000e+00</td>\n",
       "      <td>5.721872e-10</td>\n",
       "    </tr>\n",
       "    <tr>\n",
       "      <th>n=all</th>\n",
       "      <td>2.499609e-187</td>\n",
       "      <td>2.566466e-20</td>\n",
       "      <td>5.721872e-10</td>\n",
       "      <td>1.000000e+00</td>\n",
       "    </tr>\n",
       "  </tbody>\n",
       "</table>\n",
       "</div>"
      ],
      "text/plain": [
       "                 n=0           n=2            n=3          n=all\n",
       "n=0     1.000000e+00  0.000000e+00  2.346482e-275  2.499609e-187\n",
       "n=2     0.000000e+00  1.000000e+00   2.451513e-03   2.566466e-20\n",
       "n=3    2.346482e-275  2.451513e-03   1.000000e+00   5.721872e-10\n",
       "n=all  2.499609e-187  2.566466e-20   5.721872e-10   1.000000e+00"
      ]
     },
     "metadata": {},
     "output_type": "display_data"
    }
   ],
   "source": [
    "compare_models(competence_cookdial_n_0['test_qa_answer_f1'],\n",
    "               competence_cookdial_n_2['test_qa_answer_f1'],\n",
    "               competence_cookdial_n_3['test_qa_answer_f1'],\n",
    "               competence_cookdial_n_all['test_qa_answer_f1'],\n",
    "               model_names=['n=0', 'n=2', 'n=3', 'n=all'])\n"
   ]
  },
  {
   "cell_type": "markdown",
   "id": "b920d68f",
   "metadata": {},
   "source": [
    "### 3. All Needs"
   ]
  },
  {
   "cell_type": "code",
   "execution_count": 618,
   "id": "246138a7",
   "metadata": {},
   "outputs": [],
   "source": [
    "all_needs_cookdial_conv_window = all_needs_cook_dial_combined_data.loc[all_needs_cook_dial_combined_data['query_rep'] == 'prepend_context']\n",
    "all_cookdial_n_0 = all_needs_cookdial_conv_window.loc[all_needs_cookdial_conv_window['context_window']=='n_0']\n",
    "all_cookdial_n_2 = all_needs_cookdial_conv_window.loc[all_needs_cookdial_conv_window['context_window']=='n_2']\n",
    "all_cookdial_n_3 = all_needs_cookdial_conv_window.loc[all_needs_cookdial_conv_window['context_window']=='n_3']\n",
    "all_cookdial_n_all = all_needs_cookdial_conv_window.loc[all_needs_cookdial_conv_window['context_window']=='n_all']"
   ]
  },
  {
   "cell_type": "code",
   "execution_count": 619,
   "id": "e0526293",
   "metadata": {},
   "outputs": [
    {
     "data": {
      "text/plain": [
       "F_onewayResult(statistic=718.1905886668186, pvalue=0.0)"
      ]
     },
     "metadata": {},
     "output_type": "display_data"
    },
    {
     "data": {
      "text/html": [
       "<div>\n",
       "<style scoped>\n",
       "    .dataframe tbody tr th:only-of-type {\n",
       "        vertical-align: middle;\n",
       "    }\n",
       "\n",
       "    .dataframe tbody tr th {\n",
       "        vertical-align: top;\n",
       "    }\n",
       "\n",
       "    .dataframe thead th {\n",
       "        text-align: right;\n",
       "    }\n",
       "</style>\n",
       "<table border=\"1\" class=\"dataframe\">\n",
       "  <thead>\n",
       "    <tr style=\"text-align: right;\">\n",
       "      <th></th>\n",
       "      <th>n=0</th>\n",
       "      <th>n=2</th>\n",
       "      <th>n=3</th>\n",
       "      <th>n=all</th>\n",
       "    </tr>\n",
       "  </thead>\n",
       "  <tbody>\n",
       "    <tr>\n",
       "      <th>count</th>\n",
       "      <td>10884.000000</td>\n",
       "      <td>10884.000000</td>\n",
       "      <td>10884.000000</td>\n",
       "      <td>10884.000000</td>\n",
       "    </tr>\n",
       "    <tr>\n",
       "      <th>mean</th>\n",
       "      <td>0.374612</td>\n",
       "      <td>0.618247</td>\n",
       "      <td>0.610110</td>\n",
       "      <td>0.581695</td>\n",
       "    </tr>\n",
       "    <tr>\n",
       "      <th>std</th>\n",
       "      <td>0.431222</td>\n",
       "      <td>0.454244</td>\n",
       "      <td>0.455227</td>\n",
       "      <td>0.456380</td>\n",
       "    </tr>\n",
       "    <tr>\n",
       "      <th>min</th>\n",
       "      <td>0.000000</td>\n",
       "      <td>0.000000</td>\n",
       "      <td>0.000000</td>\n",
       "      <td>0.000000</td>\n",
       "    </tr>\n",
       "    <tr>\n",
       "      <th>25%</th>\n",
       "      <td>0.000000</td>\n",
       "      <td>0.090909</td>\n",
       "      <td>0.086957</td>\n",
       "      <td>0.080000</td>\n",
       "    </tr>\n",
       "    <tr>\n",
       "      <th>50%</th>\n",
       "      <td>0.142857</td>\n",
       "      <td>1.000000</td>\n",
       "      <td>1.000000</td>\n",
       "      <td>1.000000</td>\n",
       "    </tr>\n",
       "    <tr>\n",
       "      <th>75%</th>\n",
       "      <td>1.000000</td>\n",
       "      <td>1.000000</td>\n",
       "      <td>1.000000</td>\n",
       "      <td>1.000000</td>\n",
       "    </tr>\n",
       "    <tr>\n",
       "      <th>max</th>\n",
       "      <td>1.000000</td>\n",
       "      <td>1.000000</td>\n",
       "      <td>1.000000</td>\n",
       "      <td>1.000000</td>\n",
       "    </tr>\n",
       "  </tbody>\n",
       "</table>\n",
       "</div>"
      ],
      "text/plain": [
       "                n=0           n=2           n=3         n=all\n",
       "count  10884.000000  10884.000000  10884.000000  10884.000000\n",
       "mean       0.374612      0.618247      0.610110      0.581695\n",
       "std        0.431222      0.454244      0.455227      0.456380\n",
       "min        0.000000      0.000000      0.000000      0.000000\n",
       "25%        0.000000      0.090909      0.086957      0.080000\n",
       "50%        0.142857      1.000000      1.000000      1.000000\n",
       "75%        1.000000      1.000000      1.000000      1.000000\n",
       "max        1.000000      1.000000      1.000000      1.000000"
      ]
     },
     "metadata": {},
     "output_type": "display_data"
    },
    {
     "data": {
      "text/html": [
       "<div>\n",
       "<style scoped>\n",
       "    .dataframe tbody tr th:only-of-type {\n",
       "        vertical-align: middle;\n",
       "    }\n",
       "\n",
       "    .dataframe tbody tr th {\n",
       "        vertical-align: top;\n",
       "    }\n",
       "\n",
       "    .dataframe thead th {\n",
       "        text-align: right;\n",
       "    }\n",
       "</style>\n",
       "<table border=\"1\" class=\"dataframe\">\n",
       "  <thead>\n",
       "    <tr style=\"text-align: right;\">\n",
       "      <th></th>\n",
       "      <th>n=0</th>\n",
       "      <th>n=2</th>\n",
       "      <th>n=3</th>\n",
       "      <th>n=all</th>\n",
       "    </tr>\n",
       "  </thead>\n",
       "  <tbody>\n",
       "    <tr>\n",
       "      <th>n=0</th>\n",
       "      <td>1.000000e+00</td>\n",
       "      <td>0.000000e+00</td>\n",
       "      <td>0.000000</td>\n",
       "      <td>4.378689e-252</td>\n",
       "    </tr>\n",
       "    <tr>\n",
       "      <th>n=2</th>\n",
       "      <td>0.000000e+00</td>\n",
       "      <td>1.000000e+00</td>\n",
       "      <td>0.186842</td>\n",
       "      <td>9.670934e-09</td>\n",
       "    </tr>\n",
       "    <tr>\n",
       "      <th>n=3</th>\n",
       "      <td>0.000000e+00</td>\n",
       "      <td>1.868424e-01</td>\n",
       "      <td>1.000000</td>\n",
       "      <td>8.540954e-06</td>\n",
       "    </tr>\n",
       "    <tr>\n",
       "      <th>n=all</th>\n",
       "      <td>4.378689e-252</td>\n",
       "      <td>9.670934e-09</td>\n",
       "      <td>0.000009</td>\n",
       "      <td>1.000000e+00</td>\n",
       "    </tr>\n",
       "  </tbody>\n",
       "</table>\n",
       "</div>"
      ],
      "text/plain": [
       "                 n=0           n=2       n=3          n=all\n",
       "n=0     1.000000e+00  0.000000e+00  0.000000  4.378689e-252\n",
       "n=2     0.000000e+00  1.000000e+00  0.186842   9.670934e-09\n",
       "n=3     0.000000e+00  1.868424e-01  1.000000   8.540954e-06\n",
       "n=all  4.378689e-252  9.670934e-09  0.000009   1.000000e+00"
      ]
     },
     "metadata": {},
     "output_type": "display_data"
    }
   ],
   "source": [
    "compare_models(all_cookdial_n_0['test_qa_answer_f1'],\n",
    "               all_cookdial_n_2['test_qa_answer_f1'],\n",
    "               all_cookdial_n_3['test_qa_answer_f1'],\n",
    "               all_cookdial_n_all['test_qa_answer_f1'],\n",
    "               model_names=['n=0', 'n=2', 'n=3', 'n=all'])\n"
   ]
  },
  {
   "cell_type": "markdown",
   "id": "59db23c9",
   "metadata": {},
   "source": [
    "### 4. All need types combined"
   ]
  },
  {
   "cell_type": "code",
   "execution_count": 650,
   "id": "150d0dd5",
   "metadata": {},
   "outputs": [],
   "source": [
    "all_cookdial_combined = pd.concat([fact_needs_cook_dial_combined_data, competence_needs_cook_dial_combined_data,\n",
    "                                all_needs_cook_dial_combined_data])\n",
    "all_combined_cookdial_conv_window = all_cookdial_combined.loc[all_cookdial_combined['query_rep'] == 'prepend_context']\n",
    "all_combined_cookdial_n_0 = all_combined_cookdial_conv_window.loc[all_combined_cookdial_conv_window['context_window']=='n_0']\n",
    "all_combined_cookdial_n_2 = all_combined_cookdial_conv_window.loc[all_combined_cookdial_conv_window['context_window']=='n_2']\n",
    "all_combined_cookdial_n_3 = all_combined_cookdial_conv_window.loc[all_combined_cookdial_conv_window['context_window']=='n_3']\n",
    "all_combined_cookdial_n_all = all_combined_cookdial_conv_window.loc[all_combined_cookdial_conv_window['context_window']=='n_all']"
   ]
  },
  {
   "cell_type": "code",
   "execution_count": 651,
   "id": "de5282c8",
   "metadata": {},
   "outputs": [
    {
     "data": {
      "text/plain": [
       "F_onewayResult(statistic=1386.8594566115587, pvalue=0.0)"
      ]
     },
     "metadata": {},
     "output_type": "display_data"
    },
    {
     "data": {
      "text/html": [
       "<div>\n",
       "<style scoped>\n",
       "    .dataframe tbody tr th:only-of-type {\n",
       "        vertical-align: middle;\n",
       "    }\n",
       "\n",
       "    .dataframe tbody tr th {\n",
       "        vertical-align: top;\n",
       "    }\n",
       "\n",
       "    .dataframe thead th {\n",
       "        text-align: right;\n",
       "    }\n",
       "</style>\n",
       "<table border=\"1\" class=\"dataframe\">\n",
       "  <thead>\n",
       "    <tr style=\"text-align: right;\">\n",
       "      <th></th>\n",
       "      <th>n=0</th>\n",
       "      <th>n=2</th>\n",
       "      <th>n=3</th>\n",
       "      <th>n=all</th>\n",
       "    </tr>\n",
       "  </thead>\n",
       "  <tbody>\n",
       "    <tr>\n",
       "      <th>count</th>\n",
       "      <td>21768.000000</td>\n",
       "      <td>21768.000000</td>\n",
       "      <td>21768.000000</td>\n",
       "      <td>21768.000000</td>\n",
       "    </tr>\n",
       "    <tr>\n",
       "      <th>mean</th>\n",
       "      <td>0.393985</td>\n",
       "      <td>0.636446</td>\n",
       "      <td>0.622919</td>\n",
       "      <td>0.593823</td>\n",
       "    </tr>\n",
       "    <tr>\n",
       "      <th>std</th>\n",
       "      <td>0.437264</td>\n",
       "      <td>0.450252</td>\n",
       "      <td>0.452742</td>\n",
       "      <td>0.454654</td>\n",
       "    </tr>\n",
       "    <tr>\n",
       "      <th>min</th>\n",
       "      <td>0.000000</td>\n",
       "      <td>0.000000</td>\n",
       "      <td>0.000000</td>\n",
       "      <td>0.000000</td>\n",
       "    </tr>\n",
       "    <tr>\n",
       "      <th>25%</th>\n",
       "      <td>0.000000</td>\n",
       "      <td>0.105263</td>\n",
       "      <td>0.095238</td>\n",
       "      <td>0.086957</td>\n",
       "    </tr>\n",
       "    <tr>\n",
       "      <th>50%</th>\n",
       "      <td>0.153846</td>\n",
       "      <td>1.000000</td>\n",
       "      <td>1.000000</td>\n",
       "      <td>1.000000</td>\n",
       "    </tr>\n",
       "    <tr>\n",
       "      <th>75%</th>\n",
       "      <td>1.000000</td>\n",
       "      <td>1.000000</td>\n",
       "      <td>1.000000</td>\n",
       "      <td>1.000000</td>\n",
       "    </tr>\n",
       "    <tr>\n",
       "      <th>max</th>\n",
       "      <td>1.000000</td>\n",
       "      <td>1.000000</td>\n",
       "      <td>1.000000</td>\n",
       "      <td>1.000000</td>\n",
       "    </tr>\n",
       "  </tbody>\n",
       "</table>\n",
       "</div>"
      ],
      "text/plain": [
       "                n=0           n=2           n=3         n=all\n",
       "count  21768.000000  21768.000000  21768.000000  21768.000000\n",
       "mean       0.393985      0.636446      0.622919      0.593823\n",
       "std        0.437264      0.450252      0.452742      0.454654\n",
       "min        0.000000      0.000000      0.000000      0.000000\n",
       "25%        0.000000      0.105263      0.095238      0.086957\n",
       "50%        0.153846      1.000000      1.000000      1.000000\n",
       "75%        1.000000      1.000000      1.000000      1.000000\n",
       "max        1.000000      1.000000      1.000000      1.000000"
      ]
     },
     "metadata": {},
     "output_type": "display_data"
    },
    {
     "data": {
      "text/html": [
       "<div>\n",
       "<style scoped>\n",
       "    .dataframe tbody tr th:only-of-type {\n",
       "        vertical-align: middle;\n",
       "    }\n",
       "\n",
       "    .dataframe tbody tr th {\n",
       "        vertical-align: top;\n",
       "    }\n",
       "\n",
       "    .dataframe thead th {\n",
       "        text-align: right;\n",
       "    }\n",
       "</style>\n",
       "<table border=\"1\" class=\"dataframe\">\n",
       "  <thead>\n",
       "    <tr style=\"text-align: right;\">\n",
       "      <th></th>\n",
       "      <th>n=0</th>\n",
       "      <th>n=2</th>\n",
       "      <th>n=3</th>\n",
       "      <th>n=all</th>\n",
       "    </tr>\n",
       "  </thead>\n",
       "  <tbody>\n",
       "    <tr>\n",
       "      <th>n=0</th>\n",
       "      <td>1.0</td>\n",
       "      <td>0.000000e+00</td>\n",
       "      <td>0.000000e+00</td>\n",
       "      <td>0.000000e+00</td>\n",
       "    </tr>\n",
       "    <tr>\n",
       "      <th>n=2</th>\n",
       "      <td>0.0</td>\n",
       "      <td>1.000000e+00</td>\n",
       "      <td>1.775737e-03</td>\n",
       "      <td>2.707769e-22</td>\n",
       "    </tr>\n",
       "    <tr>\n",
       "      <th>n=3</th>\n",
       "      <td>0.0</td>\n",
       "      <td>1.775737e-03</td>\n",
       "      <td>1.000000e+00</td>\n",
       "      <td>4.501634e-11</td>\n",
       "    </tr>\n",
       "    <tr>\n",
       "      <th>n=all</th>\n",
       "      <td>0.0</td>\n",
       "      <td>2.707769e-22</td>\n",
       "      <td>4.501634e-11</td>\n",
       "      <td>1.000000e+00</td>\n",
       "    </tr>\n",
       "  </tbody>\n",
       "</table>\n",
       "</div>"
      ],
      "text/plain": [
       "       n=0           n=2           n=3         n=all\n",
       "n=0    1.0  0.000000e+00  0.000000e+00  0.000000e+00\n",
       "n=2    0.0  1.000000e+00  1.775737e-03  2.707769e-22\n",
       "n=3    0.0  1.775737e-03  1.000000e+00  4.501634e-11\n",
       "n=all  0.0  2.707769e-22  4.501634e-11  1.000000e+00"
      ]
     },
     "metadata": {},
     "output_type": "display_data"
    }
   ],
   "source": [
    "compare_models(all_combined_cookdial_n_0['test_qa_answer_f1'],\n",
    "               all_combined_cookdial_n_2['test_qa_answer_f1'],\n",
    "               all_combined_cookdial_n_3['test_qa_answer_f1'],\n",
    "               all_combined_cookdial_n_all['test_qa_answer_f1'],\n",
    "               model_names=['n=0', 'n=2', 'n=3', 'n=all'])\n"
   ]
  },
  {
   "cell_type": "markdown",
   "id": "59064574",
   "metadata": {},
   "source": [
    "## Query Representation Visualisation"
   ]
  },
  {
   "cell_type": "code",
   "execution_count": 622,
   "id": "1a87d4d0",
   "metadata": {},
   "outputs": [],
   "source": [
    "all_qooka_combined = pd.concat([fact_needs_qooka_combined_data, competence_needs_qooka_combined_data,\n",
    "                                all_needs_qooka_combined_data])\n",
    "#all_qooka_combined = all_qooka_combined.loc[all_qooka_combined['context_window'] != 'n_0']\n",
    "all_qooka_combined['dataset'] = 'QookA'"
   ]
  },
  {
   "cell_type": "code",
   "execution_count": 623,
   "id": "67aefe90",
   "metadata": {},
   "outputs": [],
   "source": [
    "all_cookdial_combined = pd.concat([fact_needs_cook_dial_combined_data, competence_needs_cook_dial_combined_data,\n",
    "                                all_needs_cook_dial_combined_data])\n",
    "#all_cookdial_combined = all_cookdial_combined.loc[all_cookdial_combined['context_window'] != 'n_0']\n",
    "all_cookdial_combined['dataset'] = 'CookDial'"
   ]
  },
  {
   "cell_type": "code",
   "execution_count": 624,
   "id": "aea7fc3d",
   "metadata": {},
   "outputs": [],
   "source": [
    "all_datasets_query_representation = pd.concat([all_qooka_combined, all_cookdial_combined])"
   ]
  },
  {
   "cell_type": "code",
   "execution_count": 634,
   "id": "ab4c7a7d",
   "metadata": {},
   "outputs": [
    {
     "data": {
      "image/png": "[encoded data removed]",
      "text/plain": [
       "<Figure size 1200x600 with 2 Axes>"
      ]
     },
     "metadata": {},
     "output_type": "display_data"
    }
   ],
   "source": [
    "import seaborn as sns\n",
    "import matplotlib.pyplot as plt\n",
    "\n",
    "# Assuming all_qooka_combined and all_cookdial_combined are defined and loaded with data\n",
    "no_fid_all_qooka = all_qooka_combined.loc[all_qooka_combined['model_type'] != 'fid']\n",
    "no_fid_all_cookdial = all_cookdial_combined.loc[all_cookdial_combined['model_type'] != 'fid']\n",
    "# Your provided code for reshaping data\n",
    "tidy_data_qooka = no_fid_all_qooka.melt(id_vars=['query_rep', 'context_window'], value_vars=['test_qa_answer_f1'])\n",
    "tidy_data_cookdial = no_fid_all_cookdial.melt(id_vars=['query_rep', 'context_window'], value_vars=['test_qa_answer_f1'])\n",
    "\n",
    "# Create subplots\n",
    "fig, axs = plt.subplots(1, 2, sharey=True, figsize=(12, 6))  # Adjusted figsize for better visibility\n",
    "\n",
    "# Plotting as bar plots\n",
    "datasets = [('QookA', tidy_data_qooka), ('CookDial', tidy_data_cookdial)]\n",
    "for i, (name, tidy_data) in enumerate(datasets):\n",
    "    bplot = sns.barplot(data=tidy_data, x='context_window', y='value', hue='query_rep', ax=axs[i], errorbar=('ci', 95), palette='viridis')\n",
    "    axs[i].set_title(f'{name}')\n",
    "    axs[i].set_xlabel('Context Window')\n",
    "    axs[i].set_ylabel('F1 Score')\n",
    "    axs[i].set_ylim(0, 0.8)  # Adjust y-axis limits if needed\n",
    "\n",
    "    # Remove the legend from each subplot\n",
    "    axs[i].get_legend().remove()\n",
    "\n",
    "# Create a single legend for the whole figure\n",
    "handles, labels = axs[0].get_legend_handles_labels()\n",
    "fig.legend(handles, labels, title='Query Representation', bbox_to_anchor=(1, .9), loc='upper left', borderaxespad=0.)\n",
    "\n",
    "# Adjust layout\n",
    "plt.tight_layout()  # Adjust the rect parameter to make space for the legend\n",
    "#plt.tight_layout(rect=[0, 0, 0.9, 1])  # Adjust the rect parameter to make space for the legend\n",
    "plt.savefig(f'figures/context_rep_amount.png', dpi=300, bbox_inches='tight')\n",
    "\n",
    "plt.show()\n"
   ]
  },
  {
   "cell_type": "markdown",
   "id": "d9def7cd",
   "metadata": {},
   "source": [
    "## Dataset Need Distribution Overview"
   ]
  },
  {
   "cell_type": "code",
   "execution_count": 48,
   "id": "684f6133",
   "metadata": {},
   "outputs": [
    {
     "data": {
      "text/plain": [
       "fact          50.264296\n",
       "competence    49.735704\n",
       "Name: level_0_query_need, dtype: float64"
      ]
     },
     "execution_count": 48,
     "metadata": {},
     "output_type": "execute_result"
    }
   ],
   "source": [
    "qooka_dataset = pd.read_csv(\"datasets/all_needs/qooka/queries/n_0/queries.csv\",\n",
    "                            delimiter=\";\")\n",
    "qooka_dataset['level_0_query_need'].value_counts(normalize=True)*100"
   ]
  },
  {
   "cell_type": "code",
   "execution_count": 49,
   "id": "74dd457b",
   "metadata": {},
   "outputs": [
    {
     "data": {
      "text/plain": [
       "preparation          35.031235\n",
       "ingredient           21.143681\n",
       "cooking_technique    14.704469\n",
       "equipment            11.965401\n",
       "time                  8.553580\n",
       "temperature           4.324844\n",
       "amount                3.940413\n",
       "knowledge             0.336377\n",
       "Name: level_1_query_need, dtype: float64"
      ]
     },
     "execution_count": 49,
     "metadata": {},
     "output_type": "execute_result"
    }
   ],
   "source": [
    "qooka_dataset['level_1_query_need'].value_counts(normalize=True)*100"
   ]
  },
  {
   "cell_type": "code",
   "execution_count": 52,
   "id": "890c2683",
   "metadata": {},
   "outputs": [
    {
     "data": {
      "text/plain": [
       "fact          1046\n",
       "competence    1035\n",
       "Name: level_0_query_need, dtype: int64"
      ]
     },
     "execution_count": 52,
     "metadata": {},
     "output_type": "execute_result"
    }
   ],
   "source": [
    "qooka_dataset['level_0_query_need'].value_counts()"
   ]
  },
  {
   "cell_type": "code",
   "execution_count": 50,
   "id": "f4d82fa9",
   "metadata": {},
   "outputs": [
    {
     "data": {
      "text/plain": [
       "competence    58.172147\n",
       "fact          29.545455\n",
       "other         12.282398\n",
       "Name: level_0_info_need, dtype: float64"
      ]
     },
     "execution_count": 50,
     "metadata": {},
     "output_type": "execute_result"
    }
   ],
   "source": [
    "cookdial_dataset = pd.read_csv(\"datasets/all_needs/cook_dial/queries/n_0/queries.csv\",\n",
    "                               delimiter=\";\")\n",
    "cookdial_dataset['level_0_info_need'] = cookdial_dataset['intent'].map(lambda x: 'competence' if x == 'preparation'\n",
    "                                                                          else 'other' if x == 'other'\n",
    "                                                                          else 'fact')\n",
    "cookdial_dataset['level_0_info_need'].value_counts(normalize=True)*100"
   ]
  },
  {
   "cell_type": "code",
   "execution_count": 35,
   "id": "29231c2f",
   "metadata": {},
   "outputs": [
    {
     "data": {
      "text/plain": [
       "preparation    58.172147\n",
       "ingredient     19.801741\n",
       "other          12.282398\n",
       "time            4.134429\n",
       "amount          4.134429\n",
       "temperature     0.749516\n",
       "equipment       0.725338\n",
       "Name: intent, dtype: float64"
      ]
     },
     "execution_count": 35,
     "metadata": {},
     "output_type": "execute_result"
    }
   ],
   "source": [
    "cookdial_dataset['intent'].value_counts(normalize=True)*100"
   ]
  },
  {
   "cell_type": "code",
   "execution_count": 53,
   "id": "5a4387d9",
   "metadata": {},
   "outputs": [
    {
     "data": {
      "text/plain": [
       "competence    2406\n",
       "fact          1222\n",
       "other          508\n",
       "Name: level_0_info_need, dtype: int64"
      ]
     },
     "execution_count": 53,
     "metadata": {},
     "output_type": "execute_result"
    }
   ],
   "source": [
    "cookdial_dataset['level_0_info_need'].value_counts()"
   ]
  },
  {
   "cell_type": "code",
   "execution_count": 54,
   "id": "b6ebb841",
   "metadata": {},
   "outputs": [
    {
     "data": {
      "text/plain": [
       "2081"
      ]
     },
     "execution_count": 54,
     "metadata": {},
     "output_type": "execute_result"
    }
   ],
   "source": [
    "len(qooka_dataset)"
   ]
  },
  {
   "cell_type": "code",
   "execution_count": 55,
   "id": "2e294775",
   "metadata": {},
   "outputs": [
    {
     "data": {
      "text/plain": [
       "4136"
      ]
     },
     "execution_count": 55,
     "metadata": {},
     "output_type": "execute_result"
    }
   ],
   "source": [
    "len(cookdial_dataset)"
   ]
  },
  {
   "cell_type": "markdown",
   "id": "3de5a235",
   "metadata": {},
   "source": [
    "## Determening best model using BART, monoT5 > UQA, Llama 2"
   ]
  },
  {
   "cell_type": "code",
   "execution_count": 715,
   "id": "1d4982e9",
   "metadata": {},
   "outputs": [],
   "source": [
    "fact_needs_n2_qooka_bart_prepend_document_metrics = create_metrics_table('fact_needs','qooka', 'document','prepend_context','n_2','bart')\n",
    "fact_needs_n2_qooka_t5_prepend_document_metrics = create_metrics_table('fact_needs','qooka', 'document','prepend_context','n_2','t5')\n",
    "fact_needs_n2_qooka_llama2_prepend_document_metrics = create_metrics_table('fact_needs','qooka', 'document','prepend_context','n_2','llama2')\n",
    "\n",
    "fact_needs_n2_qooka_fid_prepend_step_metrics = create_metrics_table('fact_needs','qooka', 'step','prepend_context','n_2','fid')\n",
    "fact_needs_n2_qooka_monoqa_prepend_step_metrics = create_metrics_table('fact_needs','qooka', 'step','prepend_context','n_2','monoqa')\n",
    "fact_needs_n2_qooka_monot5uqa_prepend_step_metrics = create_metrics_table('fact_needs','qooka', 'step','prepend_context','n_2','monot5uqa')\n",
    "\n",
    "fact_needs_n2_qooka_fid_prepend_node_metrics = create_metrics_table('fact_needs','qooka', 'node','prepend_context','n_2','fid')\n",
    "fact_needs_n2_qooka_monoqa_prepend_node_metrics = create_metrics_table('fact_needs','qooka', 'node','prepend_context','n_2','monoqa')\n",
    "fact_needs_n2_qooka_monot5uqa_prepend_node_metrics = create_metrics_table('fact_needs','qooka', 'node','prepend_context','n_2','monot5uqa')\n",
    "\n",
    "fact_needs_n2_cookdial_bart_prepend_document_metrics = create_metrics_table('fact_needs','cook_dial', 'document','prepend_context','n_2','bart')\n",
    "fact_needs_n2_cookdial_t5_prepend_document_metrics = create_metrics_table('fact_needs','cook_dial', 'document','prepend_context','n_2','t5')\n",
    "fact_needs_n2_cookdial_llama2_prepend_document_metrics = create_metrics_table('fact_needs','cook_dial', 'document','prepend_context','n_2','llama2')\n",
    "\n",
    "fact_needs_n2_cookdial_fid_prepend_step_metrics = create_metrics_table('fact_needs','cook_dial', 'step','prepend_context','n_2','fid')\n",
    "fact_needs_n2_cookdial_monoqa_prepend_step_metrics = create_metrics_table('fact_needs','cook_dial', 'step','prepend_context','n_2','monoqa')\n",
    "fact_needs_n2_cookdial_monot5uqa_prepend_step_metrics = create_metrics_table('fact_needs','cook_dial', 'step','prepend_context','n_2','monot5uqa')\n",
    "\n",
    "fact_needs_n2_cookdial_fid_prepend_node_metrics = create_metrics_table('fact_needs','cook_dial', 'node','prepend_context','n_2','fid')\n",
    "fact_needs_n2_cookdial_monoqa_prepend_node_metrics = create_metrics_table('fact_needs','cook_dial', 'node','prepend_context','n_2','monoqa')\n",
    "fact_needs_n2_cookdial_monot5uqa_prepend_node_metrics = create_metrics_table('fact_needs','cook_dial', 'node','prepend_context','n_2','monot5uqa')"
   ]
  },
  {
   "cell_type": "markdown",
   "id": "1b490b5c",
   "metadata": {},
   "source": [
    "### QookA"
   ]
  },
  {
   "cell_type": "markdown",
   "id": "bf83d71d",
   "metadata": {},
   "source": [
    "#### Document"
   ]
  },
  {
   "cell_type": "code",
   "execution_count": 688,
   "id": "1e3799fc",
   "metadata": {},
   "outputs": [
    {
     "name": "stdout",
     "output_type": "stream",
     "text": [
      "BART\n"
     ]
    },
    {
     "data": {
      "text/plain": [
       "test_qa_answer_f1     0.449208\n",
       "test_qa_bert_score    0.841840\n",
       "test_qa_em            0.325048\n",
       "test_qa_sas           0.493935\n",
       "dtype: float64"
      ]
     },
     "execution_count": 688,
     "metadata": {},
     "output_type": "execute_result"
    }
   ],
   "source": [
    "print(\"BART\")\n",
    "fact_needs_n2_qooka_bart_prepend_document_metrics.mean(numeric_only=True)"
   ]
  },
  {
   "cell_type": "code",
   "execution_count": 689,
   "id": "fd5201b7",
   "metadata": {},
   "outputs": [
    {
     "name": "stdout",
     "output_type": "stream",
     "text": [
      "T5\n"
     ]
    },
    {
     "data": {
      "text/plain": [
       "test_qa_answer_f1     0.549803\n",
       "test_qa_bert_score    0.865695\n",
       "test_qa_em            0.403442\n",
       "test_qa_sas           0.584576\n",
       "dtype: float64"
      ]
     },
     "execution_count": 689,
     "metadata": {},
     "output_type": "execute_result"
    }
   ],
   "source": [
    "print(\"T5\")\n",
    "fact_needs_n2_qooka_t5_prepend_document_metrics.mean(numeric_only=True)"
   ]
  },
  {
   "cell_type": "code",
   "execution_count": 704,
   "id": "615bc729",
   "metadata": {},
   "outputs": [
    {
     "name": "stdout",
     "output_type": "stream",
     "text": [
      "LLama 2\n"
     ]
    },
    {
     "data": {
      "text/plain": [
       "bertscore_testing    0.789804\n",
       "em_testing           0.237094\n",
       "f1_score_testing     0.452796\n",
       "sas_testing          0.554143\n",
       "dtype: float64"
      ]
     },
     "execution_count": 704,
     "metadata": {},
     "output_type": "execute_result"
    }
   ],
   "source": [
    "print(\"LLama 2\")\n",
    "fact_needs_n2_qooka_llama2_prepend_document_metrics.mean(numeric_only=True)"
   ]
  },
  {
   "cell_type": "markdown",
   "id": "8a5ba0aa",
   "metadata": {},
   "source": [
    "#### Step"
   ]
  },
  {
   "cell_type": "code",
   "execution_count": 690,
   "id": "1d5d8af5",
   "metadata": {},
   "outputs": [
    {
     "name": "stdout",
     "output_type": "stream",
     "text": [
      "FiD\n"
     ]
    },
    {
     "data": {
      "text/plain": [
       "test_qa_answer_f1     0.654914\n",
       "test_qa_bert_score    0.898999\n",
       "test_qa_em            0.544933\n",
       "test_qa_sas           0.676650\n",
       "dtype: float64"
      ]
     },
     "execution_count": 690,
     "metadata": {},
     "output_type": "execute_result"
    }
   ],
   "source": [
    "print(\"FiD\")\n",
    "fact_needs_n2_qooka_fid_prepend_step_metrics.mean(numeric_only=True)"
   ]
  },
  {
   "cell_type": "code",
   "execution_count": 691,
   "id": "2590b8e5",
   "metadata": {},
   "outputs": [
    {
     "name": "stdout",
     "output_type": "stream",
     "text": [
      "monoQA\n"
     ]
    },
    {
     "data": {
      "text/plain": [
       "test_qa_answer_f1     0.620069\n",
       "test_qa_bert_score    0.881308\n",
       "test_qa_em            0.479924\n",
       "test_qa_sas           0.645594\n",
       "dtype: float64"
      ]
     },
     "execution_count": 691,
     "metadata": {},
     "output_type": "execute_result"
    }
   ],
   "source": [
    "print(\"monoQA\")\n",
    "fact_needs_n2_qooka_monoqa_prepend_step_metrics.mean(numeric_only=True)"
   ]
  },
  {
   "cell_type": "code",
   "execution_count": 716,
   "id": "9dad41b5",
   "metadata": {},
   "outputs": [
    {
     "name": "stdout",
     "output_type": "stream",
     "text": [
      "monoT5UQA\n"
     ]
    },
    {
     "data": {
      "text/plain": [
       "test_qa_answer_f1     0.419365\n",
       "test_qa_bert_score    0.803975\n",
       "test_qa_em            0.259082\n",
       "test_qa_sas           0.464928\n",
       "dtype: float64"
      ]
     },
     "execution_count": 716,
     "metadata": {},
     "output_type": "execute_result"
    }
   ],
   "source": [
    "print(\"monoT5UQA\")\n",
    "fact_needs_n2_qooka_monot5uqa_prepend_step_metrics.mean(numeric_only=True)"
   ]
  },
  {
   "cell_type": "markdown",
   "id": "4835827b",
   "metadata": {},
   "source": [
    "#### Task"
   ]
  },
  {
   "cell_type": "code",
   "execution_count": 692,
   "id": "a3a7d559",
   "metadata": {},
   "outputs": [
    {
     "name": "stdout",
     "output_type": "stream",
     "text": [
      "FiD\n"
     ]
    },
    {
     "data": {
      "text/plain": [
       "test_qa_answer_f1     0.679863\n",
       "test_qa_bert_score    0.903290\n",
       "test_qa_em            0.564054\n",
       "test_qa_sas           0.700400\n",
       "dtype: float64"
      ]
     },
     "execution_count": 692,
     "metadata": {},
     "output_type": "execute_result"
    }
   ],
   "source": [
    "print(\"FiD\")\n",
    "\n",
    "fact_needs_n2_qooka_fid_prepend_node_metrics.mean(numeric_only=True)"
   ]
  },
  {
   "cell_type": "code",
   "execution_count": 693,
   "id": "3965b9c0",
   "metadata": {},
   "outputs": [
    {
     "name": "stdout",
     "output_type": "stream",
     "text": [
      "monoQA\n"
     ]
    },
    {
     "data": {
      "text/plain": [
       "test_qa_answer_f1     0.667438\n",
       "test_qa_bert_score    0.900748\n",
       "test_qa_em            0.542065\n",
       "test_qa_sas           0.685883\n",
       "dtype: float64"
      ]
     },
     "execution_count": 693,
     "metadata": {},
     "output_type": "execute_result"
    }
   ],
   "source": [
    "print(\"monoQA\")\n",
    "fact_needs_n2_qooka_monoqa_prepend_node_metrics.mean(numeric_only=True)"
   ]
  },
  {
   "cell_type": "code",
   "execution_count": 717,
   "id": "a1c71b07",
   "metadata": {},
   "outputs": [
    {
     "name": "stdout",
     "output_type": "stream",
     "text": [
      "monoT5 > UQA\n"
     ]
    },
    {
     "data": {
      "text/plain": [
       "test_qa_answer_f1     0.412383\n",
       "test_qa_bert_score    0.803672\n",
       "test_qa_em            0.276291\n",
       "test_qa_sas           0.456664\n",
       "dtype: float64"
      ]
     },
     "execution_count": 717,
     "metadata": {},
     "output_type": "execute_result"
    }
   ],
   "source": [
    "print(\"monoT5 > UQA\")\n",
    "fact_needs_n2_qooka_monot5uqa_prepend_node_metrics.mean(numeric_only=True)"
   ]
  },
  {
   "cell_type": "markdown",
   "id": "6fb1bcfe",
   "metadata": {},
   "source": [
    "### CookDial"
   ]
  },
  {
   "cell_type": "markdown",
   "id": "9bc0cee6",
   "metadata": {},
   "source": [
    "#### Document"
   ]
  },
  {
   "cell_type": "code",
   "execution_count": 705,
   "id": "76896836",
   "metadata": {},
   "outputs": [
    {
     "name": "stdout",
     "output_type": "stream",
     "text": [
      "BART\n"
     ]
    },
    {
     "data": {
      "text/plain": [
       "test_qa_answer_f1     0.684746\n",
       "test_qa_bert_score    0.901871\n",
       "test_qa_em            0.639935\n",
       "test_qa_sas           0.652215\n",
       "dtype: float64"
      ]
     },
     "execution_count": 705,
     "metadata": {},
     "output_type": "execute_result"
    }
   ],
   "source": [
    "print(\"BART\")\n",
    "fact_needs_n2_cookdial_bart_prepend_metrics.mean(numeric_only=True)\n"
   ]
  },
  {
   "cell_type": "code",
   "execution_count": 706,
   "id": "c5c61447",
   "metadata": {},
   "outputs": [
    {
     "name": "stdout",
     "output_type": "stream",
     "text": [
      "T5\n"
     ]
    },
    {
     "data": {
      "text/plain": [
       "test_qa_answer_f1     0.669190\n",
       "test_qa_bert_score    0.901164\n",
       "test_qa_em            0.617840\n",
       "test_qa_sas           0.636157\n",
       "dtype: float64"
      ]
     },
     "execution_count": 706,
     "metadata": {},
     "output_type": "execute_result"
    }
   ],
   "source": [
    "print(\"T5\")\n",
    "fact_needs_n2_cookdial_t5_prepend_metrics.mean(numeric_only=True)"
   ]
  },
  {
   "cell_type": "code",
   "execution_count": 708,
   "id": "19a4df25",
   "metadata": {},
   "outputs": [
    {
     "name": "stdout",
     "output_type": "stream",
     "text": [
      "Llama 2\n"
     ]
    },
    {
     "data": {
      "text/plain": [
       "bertscore_testing    0.710024\n",
       "em_testing           0.019640\n",
       "f1_score_testing     0.121085\n",
       "sas_testing          0.225394\n",
       "dtype: float64"
      ]
     },
     "execution_count": 708,
     "metadata": {},
     "output_type": "execute_result"
    }
   ],
   "source": [
    "print(\"Llama 2\")\n",
    "fact_needs_n2_cookdial_llama2_prepend_document_metrics.mean(numeric_only=True)"
   ]
  },
  {
   "cell_type": "markdown",
   "id": "b1f2d2b3",
   "metadata": {},
   "source": [
    "#### Step"
   ]
  },
  {
   "cell_type": "code",
   "execution_count": 709,
   "id": "91462bbb",
   "metadata": {},
   "outputs": [
    {
     "name": "stdout",
     "output_type": "stream",
     "text": [
      "MonoT5 > UQA\n"
     ]
    },
    {
     "data": {
      "text/plain": [
       "test_qa_answer_f1     0.144239\n",
       "test_qa_bert_score    0.718374\n",
       "test_qa_em            0.028642\n",
       "test_qa_sas           0.187973\n",
       "dtype: float64"
      ]
     },
     "execution_count": 709,
     "metadata": {},
     "output_type": "execute_result"
    }
   ],
   "source": [
    "print(\"MonoT5 > UQA\")\n",
    "fact_needs_n2_cookdial_monot5uqa_prepend_step_metrics.mean(numeric_only=True)"
   ]
  },
  {
   "cell_type": "code",
   "execution_count": 711,
   "id": "3e6d26c2",
   "metadata": {},
   "outputs": [
    {
     "name": "stdout",
     "output_type": "stream",
     "text": [
      "MonoQA\n"
     ]
    },
    {
     "data": {
      "text/plain": [
       "test_qa_answer_f1     0.539035\n",
       "test_qa_bert_score    0.867368\n",
       "test_qa_em            0.472177\n",
       "test_qa_sas           0.508915\n",
       "dtype: float64"
      ]
     },
     "execution_count": 711,
     "metadata": {},
     "output_type": "execute_result"
    }
   ],
   "source": [
    "print(\"MonoQA\")\n",
    "fact_needs_n2_cookdial_monoqa_prepend_step_metrics.mean(numeric_only=True)"
   ]
  },
  {
   "cell_type": "code",
   "execution_count": 712,
   "id": "17b3f2a6",
   "metadata": {},
   "outputs": [
    {
     "name": "stdout",
     "output_type": "stream",
     "text": [
      "FiD\n"
     ]
    },
    {
     "data": {
      "text/plain": [
       "test_qa_answer_f1     0.688228\n",
       "test_qa_bert_score    0.904058\n",
       "test_qa_em            0.640753\n",
       "test_qa_sas           0.654173\n",
       "dtype: float64"
      ]
     },
     "execution_count": 712,
     "metadata": {},
     "output_type": "execute_result"
    }
   ],
   "source": [
    "print(\"FiD\")\n",
    "fact_needs_n2_cookdial_fid_prepend_step_metrics.mean(numeric_only=True)"
   ]
  },
  {
   "cell_type": "markdown",
   "id": "d7832988",
   "metadata": {},
   "source": [
    "#### Task"
   ]
  },
  {
   "cell_type": "code",
   "execution_count": 718,
   "id": "2f26f8aa",
   "metadata": {},
   "outputs": [
    {
     "name": "stdout",
     "output_type": "stream",
     "text": [
      "MonoT5 > UQA\n"
     ]
    },
    {
     "data": {
      "text/plain": [
       "test_qa_answer_f1     0.187885\n",
       "test_qa_bert_score    0.739033\n",
       "test_qa_em            0.031097\n",
       "test_qa_sas           0.227289\n",
       "dtype: float64"
      ]
     },
     "execution_count": 718,
     "metadata": {},
     "output_type": "execute_result"
    }
   ],
   "source": [
    "print(\"MonoT5 > UQA\")\n",
    "fact_needs_n2_cookdial_monot5uqa_prepend_node_metrics.mean(numeric_only=True)"
   ]
  },
  {
   "cell_type": "code",
   "execution_count": 713,
   "id": "05d1b771",
   "metadata": {},
   "outputs": [
    {
     "name": "stdout",
     "output_type": "stream",
     "text": [
      "MonoQA\n"
     ]
    },
    {
     "data": {
      "text/plain": [
       "test_qa_answer_f1     0.669190\n",
       "test_qa_bert_score    0.901164\n",
       "test_qa_em            0.617840\n",
       "test_qa_sas           0.636157\n",
       "dtype: float64"
      ]
     },
     "execution_count": 713,
     "metadata": {},
     "output_type": "execute_result"
    }
   ],
   "source": [
    "print(\"MonoQA\")\n",
    "fact_needs_n2_cookdial_monoqa_prepend_node_metrics.mean(numeric_only=True)"
   ]
  },
  {
   "cell_type": "code",
   "execution_count": 714,
   "id": "23235361",
   "metadata": {},
   "outputs": [
    {
     "name": "stdout",
     "output_type": "stream",
     "text": [
      "FiD\n"
     ]
    },
    {
     "data": {
      "text/plain": [
       "test_qa_answer_f1     0.684746\n",
       "test_qa_bert_score    0.901871\n",
       "test_qa_em            0.639935\n",
       "test_qa_sas           0.652215\n",
       "dtype: float64"
      ]
     },
     "execution_count": 714,
     "metadata": {},
     "output_type": "execute_result"
    }
   ],
   "source": [
    "print(\"FiD\")\n",
    "fact_needs_n2_cookdial_fid_prepend_node_metrics.mean(numeric_only=True)"
   ]
  },
  {
   "cell_type": "code",
   "execution_count": null,
   "id": "0524af9e",
   "metadata": {},
   "outputs": [],
   "source": []
  }
 ],
 "metadata": {
  "kernelspec": {
   "display_name": "Python 3 (ipykernel)",
   "language": "python",
   "name": "python3"
  },
  "language_info": {
   "codemirror_mode": {
    "name": "ipython",
    "version": 3
   },
   "file_extension": ".py",
   "mimetype": "text/x-python",
   "name": "python",
   "nbconvert_exporter": "python",
   "pygments_lexer": "ipython3",
   "version": "3.9.18"
  }
 },
 "nbformat": 4,
 "nbformat_minor": 5
}
